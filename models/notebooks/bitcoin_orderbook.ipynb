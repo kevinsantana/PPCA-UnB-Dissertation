{
 "cells": [
  {
   "cell_type": "markdown",
   "id": "1bcaa180-6740-4bff-b167-107efff99b1b",
   "metadata": {},
   "source": [
    "## Data Acquisition"
   ]
  },
  {
   "cell_type": "code",
   "execution_count": null,
   "id": "a0011481-bdcd-4731-9c4b-a0287d17f31f",
   "metadata": {},
   "outputs": [],
   "source": [
    "import time\n",
    "from collections import deque\n",
    "from datetime import date, timedelta, datetime\n",
    "from concurrent.futures import ThreadPoolExecutor\n",
    "\n",
    "import requests\n",
    "from loguru import logger\n",
    "\n",
    "import pandas as pd"
   ]
  },
  {
   "cell_type": "code",
   "execution_count": null,
   "id": "2e188cca-ba76-4880-978e-acd65107950d",
   "metadata": {},
   "outputs": [],
   "source": [
    "api_v4_trades = \"https://api.mercadobitcoin.net/api/v4/{symbol}/orderbook\""
   ]
  },
  {
   "cell_type": "code",
   "execution_count": null,
   "id": "e65b1660-ad4a-47b4-b258-2d72933711fb",
   "metadata": {},
   "outputs": [],
   "source": [
    " # fetch most recent trades\n",
    "response_orderbook = requests.get(url=api_v4_trades.format(symbol=\"BTC-BRL\"))\n",
    "\n",
    "if response_orderbook.status_code != 200:\n",
    "    logger.error(f\"Error to fetch orderbook data: {response_orderbook.text}\")\n",
    "\n",
    "response_json = response_orderbook.json()\n",
    "\n",
    "orderbook = [{\"price\": data[0], \"volume\": data[1], \"type\": \"sell\"}  for data in response_json[\"asks\"]]\n",
    "orderbook.extend([{\"price\": data[0], \"volume\": data[1], \"type\": \"buy\"}  for data in response_json[\"bids\"]])"
   ]
  },
  {
   "cell_type": "code",
   "execution_count": null,
   "id": "f4666555-cf46-4982-a347-8daf47942322",
   "metadata": {},
   "outputs": [],
   "source": [
    "print(*orderbook)"
   ]
  },
  {
   "cell_type": "code",
   "execution_count": null,
   "id": "c28c7630-9bd8-4089-b616-ba2d5255ec54",
   "metadata": {},
   "outputs": [],
   "source": [
    "btc_orderbook_df = pd.DataFrame.from_dict(orderbook, orient='columns')"
   ]
  },
  {
   "cell_type": "code",
   "execution_count": null,
   "id": "1700a0d6-b410-4a87-ad61-775861ea9c91",
   "metadata": {},
   "outputs": [],
   "source": [
    "btc_orderbook_df.head()"
   ]
  },
  {
   "cell_type": "code",
   "execution_count": null,
   "id": "1786a748-b4e6-4142-9b64-a7724bc4d57e",
   "metadata": {},
   "outputs": [],
   "source": [
    "btc_orderbook_df.info()"
   ]
  },
  {
   "cell_type": "code",
   "execution_count": null,
   "id": "a3532dd9-f374-4b88-a8c3-8f353d395e0e",
   "metadata": {},
   "outputs": [],
   "source": [
    "btc_orderbook_df[\"price\"] = pd.to_numeric(btc_orderbook_df[\"price\"])\n",
    "btc_orderbook_df[\"volume\"] = pd.to_numeric(btc_orderbook_df[\"volume\"])"
   ]
  },
  {
   "cell_type": "code",
   "execution_count": null,
   "id": "eb372dfd-1976-4ac5-bc2e-55fcbf8972f3",
   "metadata": {},
   "outputs": [],
   "source": [
    "btc_orderbook_df.drop_duplicates()"
   ]
  },
  {
   "cell_type": "code",
   "execution_count": null,
   "id": "bf9fe35a-1270-408c-91ec-6e7acc60307f",
   "metadata": {},
   "outputs": [],
   "source": [
    "btc_orderbook_df.info()"
   ]
  },
  {
   "cell_type": "code",
   "execution_count": null,
   "id": "42db0d26-e262-4479-94cb-5ec7c40ccd93",
   "metadata": {},
   "outputs": [],
   "source": [
    "btc_orderbook_df.to_csv(\"btc_orderbook_df.csv\", sep='\\t', index=False)\n",
    "btc_orderbook_df.to_parquet(\"btc_orderbook_df.parquet\", engine=\"fastparquet\")"
   ]
  },
  {
   "cell_type": "markdown",
   "id": "ab99f97b-4e47-491d-96fb-3fa195eb8139",
   "metadata": {},
   "source": [
    "## Exploratory Data Analysis"
   ]
  },
  {
   "cell_type": "code",
   "execution_count": null,
   "id": "6eae9cd1-3105-4e5f-95bb-a82e13b2f167",
   "metadata": {},
   "outputs": [],
   "source": [
    "import numpy as np\n",
    "import pandas as pd\n",
    "import matplotlib.pyplot as plt\n",
    "import matplotlib as mpl\n",
    "import seaborn as sns\n",
    "from pycaret.clustering import *\n",
    "mpl.rcParams['figure.dpi'] = 300"
   ]
  },
  {
   "cell_type": "code",
   "execution_count": null,
   "id": "ec0f6dd8-56db-4c45-98fd-8b911d15211e",
   "metadata": {
    "jp-MarkdownHeadingCollapsed": true
   },
   "outputs": [],
   "source": [
    "btc_orderbook_df.hist(bins = 30, figsize = (12,10), grid = False)\n",
    "plt.show()"
   ]
  },
  {
   "cell_type": "code",
   "execution_count": null,
   "id": "abd5e06b-2383-4c01-88ef-d4bde6146cb8",
   "metadata": {},
   "outputs": [],
   "source": [
    "plt.figure(figsize=(10, 8))\n",
    "sns.heatmap(btc_orderbook_df.corr().round(decimals=2), annot=True)\n",
    "plt.show()"
   ]
  },
  {
   "cell_type": "code",
   "execution_count": null,
   "id": "c44cf033-7ecd-4c50-9480-600b746e0fe3",
   "metadata": {},
   "outputs": [],
   "source": [
    "btc_orderbook_df.columns[:2]"
   ]
  },
  {
   "cell_type": "code",
   "execution_count": null,
   "id": "a81e8752-b50a-44ce-a3d5-73ec14e9af82",
   "metadata": {},
   "outputs": [],
   "source": [
    "plot_kws = {'scatter_kws': {'s': 2}, 'line_kws': {'color': 'red'}}\n",
    "sns.pairplot(btc_orderbook_df, kind='reg', vars=btc_orderbook_df.columns[:2], plot_kws=plot_kws)\n",
    "plt.show()"
   ]
  },
  {
   "cell_type": "markdown",
   "id": "3fd1d591-7363-446e-83fa-a6c13d93fad8",
   "metadata": {},
   "source": [
    "## Model"
   ]
  },
  {
   "cell_type": "code",
   "execution_count": null,
   "id": "6f395d31-bb98-4c13-b5dd-91d713e78663",
   "metadata": {},
   "outputs": [],
   "source": [
    "cluster = setup(btc_orderbook_df, session_id=7652, index=False, normalize=True, ignore_features=[\"type\"], use_gpu=True)"
   ]
  },
  {
   "cell_type": "code",
   "execution_count": null,
   "id": "b6d3284d-dce8-43ae-acdf-345d7e3bc4a7",
   "metadata": {},
   "outputs": [],
   "source": [
    "kmeans = create_model('kmeans')"
   ]
  },
  {
   "cell_type": "code",
   "execution_count": null,
   "id": "fcb645e0-d001-4647-b552-44784652dceb",
   "metadata": {},
   "outputs": [],
   "source": [
    "evaluate_model(kmeans)"
   ]
  },
  {
   "cell_type": "code",
   "execution_count": null,
   "id": "cd729840-e737-4960-aec3-c36017992f45",
   "metadata": {},
   "outputs": [],
   "source": [
    "print(kmeans)"
   ]
  },
  {
   "cell_type": "code",
   "execution_count": null,
   "id": "39922b2d-e187-4e07-872e-6952ae02266c",
   "metadata": {},
   "outputs": [],
   "source": [
    "plot_model(kmeans, 'elbow')"
   ]
  },
  {
   "cell_type": "code",
   "execution_count": null,
   "id": "bb2946d3-01e4-4a11-9d9d-ad59ee5cbd38",
   "metadata": {},
   "outputs": [],
   "source": [
    "plot_model(kmeans)"
   ]
  },
  {
   "cell_type": "code",
   "execution_count": null,
   "id": "3c02e6d9-1454-4a2a-bbe1-8adc6ef5828c",
   "metadata": {},
   "outputs": [],
   "source": [
    "plot_model(kmeans, plot='silhouette')"
   ]
  },
  {
   "cell_type": "code",
   "execution_count": null,
   "id": "56043421-0dd3-4fd3-8fb8-bac33b01c6d4",
   "metadata": {},
   "outputs": [],
   "source": [
    "plot_model(kmeans, plot='distribution')"
   ]
  },
  {
   "cell_type": "code",
   "execution_count": null,
   "id": "1a201e73-6898-46dc-aba6-3c46debab698",
   "metadata": {},
   "outputs": [],
   "source": [
    "plot_model(kmeans, plot=\"distance\")"
   ]
  },
  {
   "cell_type": "code",
   "execution_count": null,
   "id": "83f1ca66-9e45-454e-98af-86c58d4f008d",
   "metadata": {},
   "outputs": [],
   "source": [
    "models()"
   ]
  },
  {
   "cell_type": "code",
   "execution_count": null,
   "id": "ded4feaf-ae43-4509-82fc-39fbb4972fd4",
   "metadata": {},
   "outputs": [],
   "source": [
    "model = create_model('dbscan', num_clusters=4)"
   ]
  },
  {
   "cell_type": "code",
   "execution_count": null,
   "id": "c9df4642-54b3-4a27-bbde-a6c8371760d2",
   "metadata": {},
   "outputs": [],
   "source": [
    "print(model)"
   ]
  },
  {
   "cell_type": "code",
   "execution_count": null,
   "id": "79e174ff-0833-4c1b-853a-ea173a1b377c",
   "metadata": {},
   "outputs": [],
   "source": [
    "plot_model(model)"
   ]
  },
  {
   "cell_type": "code",
   "execution_count": null,
   "id": "7d529f1d-ffa6-4057-82e3-836988c4fe2d",
   "metadata": {},
   "outputs": [],
   "source": [
    "plot_model(model, plot='distribution')"
   ]
  }
 ],
 "metadata": {
  "kernelspec": {
   "display_name": "Python 3 (ipykernel)",
   "language": "python",
   "name": "python3"
  },
  "language_info": {
   "codemirror_mode": {
    "name": "ipython",
    "version": 3
   },
   "file_extension": ".py",
   "mimetype": "text/x-python",
   "name": "python",
   "nbconvert_exporter": "python",
   "pygments_lexer": "ipython3",
   "version": "3.10.12"
  }
 },
 "nbformat": 4,
 "nbformat_minor": 5
}
