{
 "cells": [
  {
   "cell_type": "markdown",
   "id": "b22e6feb",
   "metadata": {},
   "source": [
    "## Data Acquisition"
   ]
  },
  {
   "cell_type": "code",
   "execution_count": 2,
   "id": "31f98ff2",
   "metadata": {},
   "outputs": [],
   "source": [
    "from os import listdir\n",
    "from os.path import isfile, join\n",
    "\n",
    "import pandas as pd"
   ]
  },
  {
   "cell_type": "code",
   "execution_count": 3,
   "id": "8f9a7dd0",
   "metadata": {},
   "outputs": [],
   "source": [
    "def merge_dataset(data_files: str = \"../datasets\", symbol: str = \"btc\"):\n",
    "    files = [f for f in listdir(data_files) if isfile(join(data_files, f)) and f.startswith(symbol) and f.endswith('.parquet')]\n",
    "    return pd.concat(\n",
    "        pd.read_parquet(join(data_files, f), engine='fastparquet') for f in files\n",
    "    )"
   ]
  },
  {
   "cell_type": "code",
   "execution_count": 4,
   "id": "7201fde5",
   "metadata": {},
   "outputs": [],
   "source": [
    "def prepare_dataset(data_files: str = \"../datasets\", symbol: str = \"btc\", datetime_index: bool = True):\n",
    "    df = merge_dataset(data_files=data_files, symbol=symbol)\n",
    "    \n",
    "    # timestamp to python datetime\n",
    "    if datetime_index:\n",
    "        df['date'] = pd.to_datetime(df['date'], unit='s')\n",
    "\n",
    "    df = df.set_index(['date'])\n",
    "    df.sort_index(inplace=True)\n",
    "\n",
    "    return df"
   ]
  },
  {
   "cell_type": "code",
   "execution_count": 4,
   "id": "3b678628",
   "metadata": {},
   "outputs": [],
   "source": [
    "btc_trades_df = prepare_dataset()"
   ]
  },
  {
   "cell_type": "code",
   "execution_count": 5,
   "id": "094842b1",
   "metadata": {},
   "outputs": [
    {
     "data": {
      "text/html": [
       "<div>\n",
       "<style scoped>\n",
       "    .dataframe tbody tr th:only-of-type {\n",
       "        vertical-align: middle;\n",
       "    }\n",
       "\n",
       "    .dataframe tbody tr th {\n",
       "        vertical-align: top;\n",
       "    }\n",
       "\n",
       "    .dataframe thead th {\n",
       "        text-align: right;\n",
       "    }\n",
       "</style>\n",
       "<table border=\"1\" class=\"dataframe\">\n",
       "  <thead>\n",
       "    <tr style=\"text-align: right;\">\n",
       "      <th></th>\n",
       "      <th>type</th>\n",
       "      <th>price</th>\n",
       "      <th>amount</th>\n",
       "    </tr>\n",
       "    <tr>\n",
       "      <th>date</th>\n",
       "      <th></th>\n",
       "      <th></th>\n",
       "      <th></th>\n",
       "    </tr>\n",
       "  </thead>\n",
       "  <tbody>\n",
       "    <tr>\n",
       "      <th>2013-06-12 08:39:21</th>\n",
       "      <td>buy</td>\n",
       "      <td>249.0</td>\n",
       "      <td>0.381000</td>\n",
       "    </tr>\n",
       "    <tr>\n",
       "      <th>2013-06-12 10:34:30</th>\n",
       "      <td>buy</td>\n",
       "      <td>249.0</td>\n",
       "      <td>0.020000</td>\n",
       "    </tr>\n",
       "    <tr>\n",
       "      <th>2013-06-12 16:16:07</th>\n",
       "      <td>buy</td>\n",
       "      <td>249.0</td>\n",
       "      <td>1.387382</td>\n",
       "    </tr>\n",
       "    <tr>\n",
       "      <th>2013-06-12 16:16:07</th>\n",
       "      <td>buy</td>\n",
       "      <td>249.0</td>\n",
       "      <td>3.564896</td>\n",
       "    </tr>\n",
       "    <tr>\n",
       "      <th>2013-06-12 16:43:47</th>\n",
       "      <td>buy</td>\n",
       "      <td>260.0</td>\n",
       "      <td>0.130480</td>\n",
       "    </tr>\n",
       "  </tbody>\n",
       "</table>\n",
       "</div>"
      ],
      "text/plain": [
       "                    type  price    amount\n",
       "date                                     \n",
       "2013-06-12 08:39:21  buy  249.0  0.381000\n",
       "2013-06-12 10:34:30  buy  249.0  0.020000\n",
       "2013-06-12 16:16:07  buy  249.0  1.387382\n",
       "2013-06-12 16:16:07  buy  249.0  3.564896\n",
       "2013-06-12 16:43:47  buy  260.0  0.130480"
      ]
     },
     "execution_count": 5,
     "metadata": {},
     "output_type": "execute_result"
    }
   ],
   "source": [
    "btc_trades_df.head()"
   ]
  },
  {
   "cell_type": "code",
   "execution_count": 6,
   "id": "ecc6872f",
   "metadata": {},
   "outputs": [
    {
     "data": {
      "text/html": [
       "<div>\n",
       "<style scoped>\n",
       "    .dataframe tbody tr th:only-of-type {\n",
       "        vertical-align: middle;\n",
       "    }\n",
       "\n",
       "    .dataframe tbody tr th {\n",
       "        vertical-align: top;\n",
       "    }\n",
       "\n",
       "    .dataframe thead th {\n",
       "        text-align: right;\n",
       "    }\n",
       "</style>\n",
       "<table border=\"1\" class=\"dataframe\">\n",
       "  <thead>\n",
       "    <tr style=\"text-align: right;\">\n",
       "      <th></th>\n",
       "      <th>type</th>\n",
       "      <th>price</th>\n",
       "      <th>amount</th>\n",
       "    </tr>\n",
       "    <tr>\n",
       "      <th>date</th>\n",
       "      <th></th>\n",
       "      <th></th>\n",
       "      <th></th>\n",
       "    </tr>\n",
       "  </thead>\n",
       "  <tbody>\n",
       "    <tr>\n",
       "      <th>2024-03-24 22:47:10</th>\n",
       "      <td>buy</td>\n",
       "      <td>336286.893944</td>\n",
       "      <td>0.000006</td>\n",
       "    </tr>\n",
       "    <tr>\n",
       "      <th>2024-03-24 22:47:18</th>\n",
       "      <td>buy</td>\n",
       "      <td>336347.116719</td>\n",
       "      <td>0.000004</td>\n",
       "    </tr>\n",
       "    <tr>\n",
       "      <th>2024-03-24 22:47:32</th>\n",
       "      <td>sell</td>\n",
       "      <td>336062.300849</td>\n",
       "      <td>0.000816</td>\n",
       "    </tr>\n",
       "    <tr>\n",
       "      <th>2024-03-24 22:47:42</th>\n",
       "      <td>sell</td>\n",
       "      <td>336062.300899</td>\n",
       "      <td>0.000191</td>\n",
       "    </tr>\n",
       "    <tr>\n",
       "      <th>2024-03-24 22:47:52</th>\n",
       "      <td>sell</td>\n",
       "      <td>335797.000000</td>\n",
       "      <td>0.000006</td>\n",
       "    </tr>\n",
       "  </tbody>\n",
       "</table>\n",
       "</div>"
      ],
      "text/plain": [
       "                     type          price    amount\n",
       "date                                              \n",
       "2024-03-24 22:47:10   buy  336286.893944  0.000006\n",
       "2024-03-24 22:47:18   buy  336347.116719  0.000004\n",
       "2024-03-24 22:47:32  sell  336062.300849  0.000816\n",
       "2024-03-24 22:47:42  sell  336062.300899  0.000191\n",
       "2024-03-24 22:47:52  sell  335797.000000  0.000006"
      ]
     },
     "execution_count": 6,
     "metadata": {},
     "output_type": "execute_result"
    }
   ],
   "source": [
    "btc_trades_df.tail()"
   ]
  },
  {
   "cell_type": "code",
   "execution_count": 7,
   "id": "64a3daeb",
   "metadata": {},
   "outputs": [
    {
     "name": "stdout",
     "output_type": "stream",
     "text": [
      "<class 'pandas.core.frame.DataFrame'>\n",
      "DatetimeIndex: 16529676 entries, 2013-06-12 08:39:21 to 2024-03-24 22:47:52\n",
      "Data columns (total 3 columns):\n",
      " #   Column  Dtype  \n",
      "---  ------  -----  \n",
      " 0   type    object \n",
      " 1   price   float64\n",
      " 2   amount  float64\n",
      "dtypes: float64(2), object(1)\n",
      "memory usage: 504.4+ MB\n"
     ]
    }
   ],
   "source": [
    "btc_trades_df.info()"
   ]
  },
  {
   "cell_type": "code",
   "execution_count": 8,
   "id": "c5c9586a",
   "metadata": {},
   "outputs": [
    {
     "data": {
      "text/html": [
       "<div>\n",
       "<style scoped>\n",
       "    .dataframe tbody tr th:only-of-type {\n",
       "        vertical-align: middle;\n",
       "    }\n",
       "\n",
       "    .dataframe tbody tr th {\n",
       "        vertical-align: top;\n",
       "    }\n",
       "\n",
       "    .dataframe thead th {\n",
       "        text-align: right;\n",
       "    }\n",
       "</style>\n",
       "<table border=\"1\" class=\"dataframe\">\n",
       "  <thead>\n",
       "    <tr style=\"text-align: right;\">\n",
       "      <th></th>\n",
       "      <th>price</th>\n",
       "      <th>amount</th>\n",
       "    </tr>\n",
       "  </thead>\n",
       "  <tbody>\n",
       "    <tr>\n",
       "      <th>count</th>\n",
       "      <td>1.652968e+07</td>\n",
       "      <td>1.652968e+07</td>\n",
       "    </tr>\n",
       "    <tr>\n",
       "      <th>mean</th>\n",
       "      <td>1.421893e+05</td>\n",
       "      <td>3.605958e-02</td>\n",
       "    </tr>\n",
       "    <tr>\n",
       "      <th>std</th>\n",
       "      <td>1.111363e+05</td>\n",
       "      <td>1.918438e-01</td>\n",
       "    </tr>\n",
       "    <tr>\n",
       "      <th>min</th>\n",
       "      <td>0.000000e+00</td>\n",
       "      <td>0.000000e+00</td>\n",
       "    </tr>\n",
       "    <tr>\n",
       "      <th>25%</th>\n",
       "      <td>3.781700e+04</td>\n",
       "      <td>7.283800e-04</td>\n",
       "    </tr>\n",
       "    <tr>\n",
       "      <th>50%</th>\n",
       "      <td>1.209170e+05</td>\n",
       "      <td>3.506680e-03</td>\n",
       "    </tr>\n",
       "    <tr>\n",
       "      <th>75%</th>\n",
       "      <td>2.319979e+05</td>\n",
       "      <td>1.746010e-02</td>\n",
       "    </tr>\n",
       "    <tr>\n",
       "      <th>max</th>\n",
       "      <td>3.800000e+05</td>\n",
       "      <td>6.600000e+01</td>\n",
       "    </tr>\n",
       "  </tbody>\n",
       "</table>\n",
       "</div>"
      ],
      "text/plain": [
       "              price        amount\n",
       "count  1.652968e+07  1.652968e+07\n",
       "mean   1.421893e+05  3.605958e-02\n",
       "std    1.111363e+05  1.918438e-01\n",
       "min    0.000000e+00  0.000000e+00\n",
       "25%    3.781700e+04  7.283800e-04\n",
       "50%    1.209170e+05  3.506680e-03\n",
       "75%    2.319979e+05  1.746010e-02\n",
       "max    3.800000e+05  6.600000e+01"
      ]
     },
     "execution_count": 8,
     "metadata": {},
     "output_type": "execute_result"
    }
   ],
   "source": [
    "btc_trades_df.describe()"
   ]
  },
  {
   "cell_type": "markdown",
   "id": "e3566900",
   "metadata": {},
   "source": [
    "## Exploratory Data Analysis"
   ]
  },
  {
   "cell_type": "code",
   "execution_count": 9,
   "id": "401452a7",
   "metadata": {},
   "outputs": [],
   "source": [
    "# TBD"
   ]
  },
  {
   "cell_type": "markdown",
   "id": "dfbdfb24",
   "metadata": {},
   "source": [
    "## Models"
   ]
  },
  {
   "cell_type": "markdown",
   "id": "0c0e4984",
   "metadata": {},
   "source": [
    "### Isolation Forest"
   ]
  },
  {
   "cell_type": "code",
   "execution_count": 10,
   "id": "8482a09d",
   "metadata": {},
   "outputs": [],
   "source": [
    "import numpy as np\n",
    "from sklearn.ensemble import IsolationForest\n",
    "import matplotlib.pyplot as plt"
   ]
  },
  {
   "cell_type": "code",
   "execution_count": 11,
   "id": "1d8c7342",
   "metadata": {},
   "outputs": [],
   "source": [
    "#initiate the model with 5% contamination\n",
    "\n",
    "model_year = IsolationForest(\n",
    "    n_estimators=1_000,\n",
    "    max_samples='auto',\n",
    "    contamination=float(0.05),\n",
    "    random_state=139,\n",
    "    n_jobs=-1\n",
    ")"
   ]
  },
  {
   "cell_type": "markdown",
   "id": "5be6151d",
   "metadata": {
    "jp-MarkdownHeadingCollapsed": true
   },
   "source": [
    "#### 1 year dataset"
   ]
  },
  {
   "cell_type": "code",
   "execution_count": 12,
   "id": "11e01a9d",
   "metadata": {},
   "outputs": [],
   "source": [
    "df_year = btc_trades_df.loc['2023-01-01':'2023-12-31'][['price', 'amount']]"
   ]
  },
  {
   "cell_type": "code",
   "execution_count": 13,
   "id": "f841355c",
   "metadata": {},
   "outputs": [
    {
     "data": {
      "text/html": [
       "<style>#sk-container-id-1 {\n",
       "  /* Definition of color scheme common for light and dark mode */\n",
       "  --sklearn-color-text: black;\n",
       "  --sklearn-color-line: gray;\n",
       "  /* Definition of color scheme for unfitted estimators */\n",
       "  --sklearn-color-unfitted-level-0: #fff5e6;\n",
       "  --sklearn-color-unfitted-level-1: #f6e4d2;\n",
       "  --sklearn-color-unfitted-level-2: #ffe0b3;\n",
       "  --sklearn-color-unfitted-level-3: chocolate;\n",
       "  /* Definition of color scheme for fitted estimators */\n",
       "  --sklearn-color-fitted-level-0: #f0f8ff;\n",
       "  --sklearn-color-fitted-level-1: #d4ebff;\n",
       "  --sklearn-color-fitted-level-2: #b3dbfd;\n",
       "  --sklearn-color-fitted-level-3: cornflowerblue;\n",
       "\n",
       "  /* Specific color for light theme */\n",
       "  --sklearn-color-text-on-default-background: var(--sg-text-color, var(--theme-code-foreground, var(--jp-content-font-color1, black)));\n",
       "  --sklearn-color-background: var(--sg-background-color, var(--theme-background, var(--jp-layout-color0, white)));\n",
       "  --sklearn-color-border-box: var(--sg-text-color, var(--theme-code-foreground, var(--jp-content-font-color1, black)));\n",
       "  --sklearn-color-icon: #696969;\n",
       "\n",
       "  @media (prefers-color-scheme: dark) {\n",
       "    /* Redefinition of color scheme for dark theme */\n",
       "    --sklearn-color-text-on-default-background: var(--sg-text-color, var(--theme-code-foreground, var(--jp-content-font-color1, white)));\n",
       "    --sklearn-color-background: var(--sg-background-color, var(--theme-background, var(--jp-layout-color0, #111)));\n",
       "    --sklearn-color-border-box: var(--sg-text-color, var(--theme-code-foreground, var(--jp-content-font-color1, white)));\n",
       "    --sklearn-color-icon: #878787;\n",
       "  }\n",
       "}\n",
       "\n",
       "#sk-container-id-1 {\n",
       "  color: var(--sklearn-color-text);\n",
       "}\n",
       "\n",
       "#sk-container-id-1 pre {\n",
       "  padding: 0;\n",
       "}\n",
       "\n",
       "#sk-container-id-1 input.sk-hidden--visually {\n",
       "  border: 0;\n",
       "  clip: rect(1px 1px 1px 1px);\n",
       "  clip: rect(1px, 1px, 1px, 1px);\n",
       "  height: 1px;\n",
       "  margin: -1px;\n",
       "  overflow: hidden;\n",
       "  padding: 0;\n",
       "  position: absolute;\n",
       "  width: 1px;\n",
       "}\n",
       "\n",
       "#sk-container-id-1 div.sk-dashed-wrapped {\n",
       "  border: 1px dashed var(--sklearn-color-line);\n",
       "  margin: 0 0.4em 0.5em 0.4em;\n",
       "  box-sizing: border-box;\n",
       "  padding-bottom: 0.4em;\n",
       "  background-color: var(--sklearn-color-background);\n",
       "}\n",
       "\n",
       "#sk-container-id-1 div.sk-container {\n",
       "  /* jupyter's `normalize.less` sets `[hidden] { display: none; }`\n",
       "     but bootstrap.min.css set `[hidden] { display: none !important; }`\n",
       "     so we also need the `!important` here to be able to override the\n",
       "     default hidden behavior on the sphinx rendered scikit-learn.org.\n",
       "     See: https://github.com/scikit-learn/scikit-learn/issues/21755 */\n",
       "  display: inline-block !important;\n",
       "  position: relative;\n",
       "}\n",
       "\n",
       "#sk-container-id-1 div.sk-text-repr-fallback {\n",
       "  display: none;\n",
       "}\n",
       "\n",
       "div.sk-parallel-item,\n",
       "div.sk-serial,\n",
       "div.sk-item {\n",
       "  /* draw centered vertical line to link estimators */\n",
       "  background-image: linear-gradient(var(--sklearn-color-text-on-default-background), var(--sklearn-color-text-on-default-background));\n",
       "  background-size: 2px 100%;\n",
       "  background-repeat: no-repeat;\n",
       "  background-position: center center;\n",
       "}\n",
       "\n",
       "/* Parallel-specific style estimator block */\n",
       "\n",
       "#sk-container-id-1 div.sk-parallel-item::after {\n",
       "  content: \"\";\n",
       "  width: 100%;\n",
       "  border-bottom: 2px solid var(--sklearn-color-text-on-default-background);\n",
       "  flex-grow: 1;\n",
       "}\n",
       "\n",
       "#sk-container-id-1 div.sk-parallel {\n",
       "  display: flex;\n",
       "  align-items: stretch;\n",
       "  justify-content: center;\n",
       "  background-color: var(--sklearn-color-background);\n",
       "  position: relative;\n",
       "}\n",
       "\n",
       "#sk-container-id-1 div.sk-parallel-item {\n",
       "  display: flex;\n",
       "  flex-direction: column;\n",
       "}\n",
       "\n",
       "#sk-container-id-1 div.sk-parallel-item:first-child::after {\n",
       "  align-self: flex-end;\n",
       "  width: 50%;\n",
       "}\n",
       "\n",
       "#sk-container-id-1 div.sk-parallel-item:last-child::after {\n",
       "  align-self: flex-start;\n",
       "  width: 50%;\n",
       "}\n",
       "\n",
       "#sk-container-id-1 div.sk-parallel-item:only-child::after {\n",
       "  width: 0;\n",
       "}\n",
       "\n",
       "/* Serial-specific style estimator block */\n",
       "\n",
       "#sk-container-id-1 div.sk-serial {\n",
       "  display: flex;\n",
       "  flex-direction: column;\n",
       "  align-items: center;\n",
       "  background-color: var(--sklearn-color-background);\n",
       "  padding-right: 1em;\n",
       "  padding-left: 1em;\n",
       "}\n",
       "\n",
       "\n",
       "/* Toggleable style: style used for estimator/Pipeline/ColumnTransformer box that is\n",
       "clickable and can be expanded/collapsed.\n",
       "- Pipeline and ColumnTransformer use this feature and define the default style\n",
       "- Estimators will overwrite some part of the style using the `sk-estimator` class\n",
       "*/\n",
       "\n",
       "/* Pipeline and ColumnTransformer style (default) */\n",
       "\n",
       "#sk-container-id-1 div.sk-toggleable {\n",
       "  /* Default theme specific background. It is overwritten whether we have a\n",
       "  specific estimator or a Pipeline/ColumnTransformer */\n",
       "  background-color: var(--sklearn-color-background);\n",
       "}\n",
       "\n",
       "/* Toggleable label */\n",
       "#sk-container-id-1 label.sk-toggleable__label {\n",
       "  cursor: pointer;\n",
       "  display: block;\n",
       "  width: 100%;\n",
       "  margin-bottom: 0;\n",
       "  padding: 0.5em;\n",
       "  box-sizing: border-box;\n",
       "  text-align: center;\n",
       "}\n",
       "\n",
       "#sk-container-id-1 label.sk-toggleable__label-arrow:before {\n",
       "  /* Arrow on the left of the label */\n",
       "  content: \"▸\";\n",
       "  float: left;\n",
       "  margin-right: 0.25em;\n",
       "  color: var(--sklearn-color-icon);\n",
       "}\n",
       "\n",
       "#sk-container-id-1 label.sk-toggleable__label-arrow:hover:before {\n",
       "  color: var(--sklearn-color-text);\n",
       "}\n",
       "\n",
       "/* Toggleable content - dropdown */\n",
       "\n",
       "#sk-container-id-1 div.sk-toggleable__content {\n",
       "  max-height: 0;\n",
       "  max-width: 0;\n",
       "  overflow: hidden;\n",
       "  text-align: left;\n",
       "  /* unfitted */\n",
       "  background-color: var(--sklearn-color-unfitted-level-0);\n",
       "}\n",
       "\n",
       "#sk-container-id-1 div.sk-toggleable__content.fitted {\n",
       "  /* fitted */\n",
       "  background-color: var(--sklearn-color-fitted-level-0);\n",
       "}\n",
       "\n",
       "#sk-container-id-1 div.sk-toggleable__content pre {\n",
       "  margin: 0.2em;\n",
       "  border-radius: 0.25em;\n",
       "  color: var(--sklearn-color-text);\n",
       "  /* unfitted */\n",
       "  background-color: var(--sklearn-color-unfitted-level-0);\n",
       "}\n",
       "\n",
       "#sk-container-id-1 div.sk-toggleable__content.fitted pre {\n",
       "  /* unfitted */\n",
       "  background-color: var(--sklearn-color-fitted-level-0);\n",
       "}\n",
       "\n",
       "#sk-container-id-1 input.sk-toggleable__control:checked~div.sk-toggleable__content {\n",
       "  /* Expand drop-down */\n",
       "  max-height: 200px;\n",
       "  max-width: 100%;\n",
       "  overflow: auto;\n",
       "}\n",
       "\n",
       "#sk-container-id-1 input.sk-toggleable__control:checked~label.sk-toggleable__label-arrow:before {\n",
       "  content: \"▾\";\n",
       "}\n",
       "\n",
       "/* Pipeline/ColumnTransformer-specific style */\n",
       "\n",
       "#sk-container-id-1 div.sk-label input.sk-toggleable__control:checked~label.sk-toggleable__label {\n",
       "  color: var(--sklearn-color-text);\n",
       "  background-color: var(--sklearn-color-unfitted-level-2);\n",
       "}\n",
       "\n",
       "#sk-container-id-1 div.sk-label.fitted input.sk-toggleable__control:checked~label.sk-toggleable__label {\n",
       "  background-color: var(--sklearn-color-fitted-level-2);\n",
       "}\n",
       "\n",
       "/* Estimator-specific style */\n",
       "\n",
       "/* Colorize estimator box */\n",
       "#sk-container-id-1 div.sk-estimator input.sk-toggleable__control:checked~label.sk-toggleable__label {\n",
       "  /* unfitted */\n",
       "  background-color: var(--sklearn-color-unfitted-level-2);\n",
       "}\n",
       "\n",
       "#sk-container-id-1 div.sk-estimator.fitted input.sk-toggleable__control:checked~label.sk-toggleable__label {\n",
       "  /* fitted */\n",
       "  background-color: var(--sklearn-color-fitted-level-2);\n",
       "}\n",
       "\n",
       "#sk-container-id-1 div.sk-label label.sk-toggleable__label,\n",
       "#sk-container-id-1 div.sk-label label {\n",
       "  /* The background is the default theme color */\n",
       "  color: var(--sklearn-color-text-on-default-background);\n",
       "}\n",
       "\n",
       "/* On hover, darken the color of the background */\n",
       "#sk-container-id-1 div.sk-label:hover label.sk-toggleable__label {\n",
       "  color: var(--sklearn-color-text);\n",
       "  background-color: var(--sklearn-color-unfitted-level-2);\n",
       "}\n",
       "\n",
       "/* Label box, darken color on hover, fitted */\n",
       "#sk-container-id-1 div.sk-label.fitted:hover label.sk-toggleable__label.fitted {\n",
       "  color: var(--sklearn-color-text);\n",
       "  background-color: var(--sklearn-color-fitted-level-2);\n",
       "}\n",
       "\n",
       "/* Estimator label */\n",
       "\n",
       "#sk-container-id-1 div.sk-label label {\n",
       "  font-family: monospace;\n",
       "  font-weight: bold;\n",
       "  display: inline-block;\n",
       "  line-height: 1.2em;\n",
       "}\n",
       "\n",
       "#sk-container-id-1 div.sk-label-container {\n",
       "  text-align: center;\n",
       "}\n",
       "\n",
       "/* Estimator-specific */\n",
       "#sk-container-id-1 div.sk-estimator {\n",
       "  font-family: monospace;\n",
       "  border: 1px dotted var(--sklearn-color-border-box);\n",
       "  border-radius: 0.25em;\n",
       "  box-sizing: border-box;\n",
       "  margin-bottom: 0.5em;\n",
       "  /* unfitted */\n",
       "  background-color: var(--sklearn-color-unfitted-level-0);\n",
       "}\n",
       "\n",
       "#sk-container-id-1 div.sk-estimator.fitted {\n",
       "  /* fitted */\n",
       "  background-color: var(--sklearn-color-fitted-level-0);\n",
       "}\n",
       "\n",
       "/* on hover */\n",
       "#sk-container-id-1 div.sk-estimator:hover {\n",
       "  /* unfitted */\n",
       "  background-color: var(--sklearn-color-unfitted-level-2);\n",
       "}\n",
       "\n",
       "#sk-container-id-1 div.sk-estimator.fitted:hover {\n",
       "  /* fitted */\n",
       "  background-color: var(--sklearn-color-fitted-level-2);\n",
       "}\n",
       "\n",
       "/* Specification for estimator info (e.g. \"i\" and \"?\") */\n",
       "\n",
       "/* Common style for \"i\" and \"?\" */\n",
       "\n",
       ".sk-estimator-doc-link,\n",
       "a:link.sk-estimator-doc-link,\n",
       "a:visited.sk-estimator-doc-link {\n",
       "  float: right;\n",
       "  font-size: smaller;\n",
       "  line-height: 1em;\n",
       "  font-family: monospace;\n",
       "  background-color: var(--sklearn-color-background);\n",
       "  border-radius: 1em;\n",
       "  height: 1em;\n",
       "  width: 1em;\n",
       "  text-decoration: none !important;\n",
       "  margin-left: 1ex;\n",
       "  /* unfitted */\n",
       "  border: var(--sklearn-color-unfitted-level-1) 1pt solid;\n",
       "  color: var(--sklearn-color-unfitted-level-1);\n",
       "}\n",
       "\n",
       ".sk-estimator-doc-link.fitted,\n",
       "a:link.sk-estimator-doc-link.fitted,\n",
       "a:visited.sk-estimator-doc-link.fitted {\n",
       "  /* fitted */\n",
       "  border: var(--sklearn-color-fitted-level-1) 1pt solid;\n",
       "  color: var(--sklearn-color-fitted-level-1);\n",
       "}\n",
       "\n",
       "/* On hover */\n",
       "div.sk-estimator:hover .sk-estimator-doc-link:hover,\n",
       ".sk-estimator-doc-link:hover,\n",
       "div.sk-label-container:hover .sk-estimator-doc-link:hover,\n",
       ".sk-estimator-doc-link:hover {\n",
       "  /* unfitted */\n",
       "  background-color: var(--sklearn-color-unfitted-level-3);\n",
       "  color: var(--sklearn-color-background);\n",
       "  text-decoration: none;\n",
       "}\n",
       "\n",
       "div.sk-estimator.fitted:hover .sk-estimator-doc-link.fitted:hover,\n",
       ".sk-estimator-doc-link.fitted:hover,\n",
       "div.sk-label-container:hover .sk-estimator-doc-link.fitted:hover,\n",
       ".sk-estimator-doc-link.fitted:hover {\n",
       "  /* fitted */\n",
       "  background-color: var(--sklearn-color-fitted-level-3);\n",
       "  color: var(--sklearn-color-background);\n",
       "  text-decoration: none;\n",
       "}\n",
       "\n",
       "/* Span, style for the box shown on hovering the info icon */\n",
       ".sk-estimator-doc-link span {\n",
       "  display: none;\n",
       "  z-index: 9999;\n",
       "  position: relative;\n",
       "  font-weight: normal;\n",
       "  right: .2ex;\n",
       "  padding: .5ex;\n",
       "  margin: .5ex;\n",
       "  width: min-content;\n",
       "  min-width: 20ex;\n",
       "  max-width: 50ex;\n",
       "  color: var(--sklearn-color-text);\n",
       "  box-shadow: 2pt 2pt 4pt #999;\n",
       "  /* unfitted */\n",
       "  background: var(--sklearn-color-unfitted-level-0);\n",
       "  border: .5pt solid var(--sklearn-color-unfitted-level-3);\n",
       "}\n",
       "\n",
       ".sk-estimator-doc-link.fitted span {\n",
       "  /* fitted */\n",
       "  background: var(--sklearn-color-fitted-level-0);\n",
       "  border: var(--sklearn-color-fitted-level-3);\n",
       "}\n",
       "\n",
       ".sk-estimator-doc-link:hover span {\n",
       "  display: block;\n",
       "}\n",
       "\n",
       "/* \"?\"-specific style due to the `<a>` HTML tag */\n",
       "\n",
       "#sk-container-id-1 a.estimator_doc_link {\n",
       "  float: right;\n",
       "  font-size: 1rem;\n",
       "  line-height: 1em;\n",
       "  font-family: monospace;\n",
       "  background-color: var(--sklearn-color-background);\n",
       "  border-radius: 1rem;\n",
       "  height: 1rem;\n",
       "  width: 1rem;\n",
       "  text-decoration: none;\n",
       "  /* unfitted */\n",
       "  color: var(--sklearn-color-unfitted-level-1);\n",
       "  border: var(--sklearn-color-unfitted-level-1) 1pt solid;\n",
       "}\n",
       "\n",
       "#sk-container-id-1 a.estimator_doc_link.fitted {\n",
       "  /* fitted */\n",
       "  border: var(--sklearn-color-fitted-level-1) 1pt solid;\n",
       "  color: var(--sklearn-color-fitted-level-1);\n",
       "}\n",
       "\n",
       "/* On hover */\n",
       "#sk-container-id-1 a.estimator_doc_link:hover {\n",
       "  /* unfitted */\n",
       "  background-color: var(--sklearn-color-unfitted-level-3);\n",
       "  color: var(--sklearn-color-background);\n",
       "  text-decoration: none;\n",
       "}\n",
       "\n",
       "#sk-container-id-1 a.estimator_doc_link.fitted:hover {\n",
       "  /* fitted */\n",
       "  background-color: var(--sklearn-color-fitted-level-3);\n",
       "}\n",
       "</style><div id=\"sk-container-id-1\" class=\"sk-top-container\"><div class=\"sk-text-repr-fallback\"><pre>IsolationForest(contamination=0.05, n_estimators=1000, n_jobs=-1,\n",
       "                random_state=139)</pre><b>In a Jupyter environment, please rerun this cell to show the HTML representation or trust the notebook. <br />On GitHub, the HTML representation is unable to render, please try loading this page with nbviewer.org.</b></div><div class=\"sk-container\" hidden><div class=\"sk-item\"><div class=\"sk-estimator fitted sk-toggleable\"><input class=\"sk-toggleable__control sk-hidden--visually\" id=\"sk-estimator-id-1\" type=\"checkbox\" checked><label for=\"sk-estimator-id-1\" class=\"sk-toggleable__label fitted sk-toggleable__label-arrow fitted\">&nbsp;&nbsp;IsolationForest<a class=\"sk-estimator-doc-link fitted\" rel=\"noreferrer\" target=\"_blank\" href=\"https://scikit-learn.org/1.5/modules/generated/sklearn.ensemble.IsolationForest.html\">?<span>Documentation for IsolationForest</span></a><span class=\"sk-estimator-doc-link fitted\">i<span>Fitted</span></span></label><div class=\"sk-toggleable__content fitted\"><pre>IsolationForest(contamination=0.05, n_estimators=1000, n_jobs=-1,\n",
       "                random_state=139)</pre></div> </div></div></div></div>"
      ],
      "text/plain": [
       "IsolationForest(contamination=0.05, n_estimators=1000, n_jobs=-1,\n",
       "                random_state=139)"
      ]
     },
     "execution_count": 13,
     "metadata": {},
     "output_type": "execute_result"
    }
   ],
   "source": [
    "model_year.fit(df_year)"
   ]
  },
  {
   "cell_type": "code",
   "execution_count": 14,
   "id": "c6c6c27e",
   "metadata": {},
   "outputs": [],
   "source": [
    "df_year['score'] = model_year.decision_function(df_year[['price', 'amount']])\n",
    "df_year['anomaly_value'] = model_year.predict(df_year[['price', 'amount']])"
   ]
  },
  {
   "cell_type": "code",
   "execution_count": 15,
   "id": "ffdf3fd3",
   "metadata": {},
   "outputs": [
    {
     "name": "stdout",
     "output_type": "stream",
     "text": [
      "anomaly_value\n",
      " 1    1218003\n",
      "-1      64106\n",
      "Name: count, dtype: int64\n"
     ]
    },
    {
     "data": {
      "text/plain": [
       "<Axes: xlabel='anomaly_value'>"
      ]
     },
     "execution_count": 15,
     "metadata": {},
     "output_type": "execute_result"
    },
    {
     "data": {
      "image/png": "[encoded data removed]",
      "text/plain": [
       "<Figure size 640x480 with 1 Axes>"
      ]
     },
     "metadata": {},
     "output_type": "display_data"
    }
   ],
   "source": [
    "# outliers\n",
    "outliers_year = df_year.loc[df_year['anomaly_value'] == -1]\n",
    "outlier_index = list(outliers_year.index)\n",
    "\n",
    "#datapoints classified -1 are anomalous\n",
    "print(df_year['anomaly_value'].value_counts())\n",
    "df_year['anomaly_value'].value_counts().plot(kind = 'bar')"
   ]
  },
  {
   "cell_type": "code",
   "execution_count": 16,
   "id": "476764b3",
   "metadata": {},
   "outputs": [
    {
     "data": {
      "text/html": [
       "<div>\n",
       "<style scoped>\n",
       "    .dataframe tbody tr th:only-of-type {\n",
       "        vertical-align: middle;\n",
       "    }\n",
       "\n",
       "    .dataframe tbody tr th {\n",
       "        vertical-align: top;\n",
       "    }\n",
       "\n",
       "    .dataframe thead th {\n",
       "        text-align: right;\n",
       "    }\n",
       "</style>\n",
       "<table border=\"1\" class=\"dataframe\">\n",
       "  <thead>\n",
       "    <tr style=\"text-align: right;\">\n",
       "      <th></th>\n",
       "      <th>price</th>\n",
       "      <th>amount</th>\n",
       "      <th>score</th>\n",
       "      <th>anomaly_value</th>\n",
       "    </tr>\n",
       "    <tr>\n",
       "      <th>date</th>\n",
       "      <th></th>\n",
       "      <th></th>\n",
       "      <th></th>\n",
       "      <th></th>\n",
       "    </tr>\n",
       "  </thead>\n",
       "  <tbody>\n",
       "    <tr>\n",
       "      <th>2023-01-01 00:07:22</th>\n",
       "      <td>87967.510750</td>\n",
       "      <td>0.014892</td>\n",
       "      <td>-0.024593</td>\n",
       "      <td>-1</td>\n",
       "    </tr>\n",
       "    <tr>\n",
       "      <th>2023-01-01 00:08:02</th>\n",
       "      <td>88198.421493</td>\n",
       "      <td>0.007374</td>\n",
       "      <td>-0.000723</td>\n",
       "      <td>-1</td>\n",
       "    </tr>\n",
       "    <tr>\n",
       "      <th>2023-01-01 00:10:51</th>\n",
       "      <td>88184.323920</td>\n",
       "      <td>0.008733</td>\n",
       "      <td>-0.006595</td>\n",
       "      <td>-1</td>\n",
       "    </tr>\n",
       "    <tr>\n",
       "      <th>2023-01-01 00:11:28</th>\n",
       "      <td>88181.242159</td>\n",
       "      <td>0.008982</td>\n",
       "      <td>-0.006868</td>\n",
       "      <td>-1</td>\n",
       "    </tr>\n",
       "    <tr>\n",
       "      <th>2023-01-01 01:22:32</th>\n",
       "      <td>87972.120050</td>\n",
       "      <td>0.546564</td>\n",
       "      <td>-0.216790</td>\n",
       "      <td>-1</td>\n",
       "    </tr>\n",
       "    <tr>\n",
       "      <th>...</th>\n",
       "      <td>...</td>\n",
       "      <td>...</td>\n",
       "      <td>...</td>\n",
       "      <td>...</td>\n",
       "    </tr>\n",
       "    <tr>\n",
       "      <th>2023-12-31 22:51:57</th>\n",
       "      <td>209260.000000</td>\n",
       "      <td>0.050840</td>\n",
       "      <td>-0.076820</td>\n",
       "      <td>-1</td>\n",
       "    </tr>\n",
       "    <tr>\n",
       "      <th>2023-12-31 22:52:01</th>\n",
       "      <td>208778.385756</td>\n",
       "      <td>0.044911</td>\n",
       "      <td>-0.069223</td>\n",
       "      <td>-1</td>\n",
       "    </tr>\n",
       "    <tr>\n",
       "      <th>2023-12-31 22:52:01</th>\n",
       "      <td>208748.701024</td>\n",
       "      <td>0.044913</td>\n",
       "      <td>-0.069223</td>\n",
       "      <td>-1</td>\n",
       "    </tr>\n",
       "    <tr>\n",
       "      <th>2023-12-31 22:52:01</th>\n",
       "      <td>208696.035409</td>\n",
       "      <td>0.026200</td>\n",
       "      <td>-0.035652</td>\n",
       "      <td>-1</td>\n",
       "    </tr>\n",
       "    <tr>\n",
       "      <th>2023-12-31 22:52:01</th>\n",
       "      <td>208423.000000</td>\n",
       "      <td>0.094071</td>\n",
       "      <td>-0.110636</td>\n",
       "      <td>-1</td>\n",
       "    </tr>\n",
       "  </tbody>\n",
       "</table>\n",
       "<p>64106 rows × 4 columns</p>\n",
       "</div>"
      ],
      "text/plain": [
       "                             price    amount     score  anomaly_value\n",
       "date                                                                 \n",
       "2023-01-01 00:07:22   87967.510750  0.014892 -0.024593             -1\n",
       "2023-01-01 00:08:02   88198.421493  0.007374 -0.000723             -1\n",
       "2023-01-01 00:10:51   88184.323920  0.008733 -0.006595             -1\n",
       "2023-01-01 00:11:28   88181.242159  0.008982 -0.006868             -1\n",
       "2023-01-01 01:22:32   87972.120050  0.546564 -0.216790             -1\n",
       "...                            ...       ...       ...            ...\n",
       "2023-12-31 22:51:57  209260.000000  0.050840 -0.076820             -1\n",
       "2023-12-31 22:52:01  208778.385756  0.044911 -0.069223             -1\n",
       "2023-12-31 22:52:01  208748.701024  0.044913 -0.069223             -1\n",
       "2023-12-31 22:52:01  208696.035409  0.026200 -0.035652             -1\n",
       "2023-12-31 22:52:01  208423.000000  0.094071 -0.110636             -1\n",
       "\n",
       "[64106 rows x 4 columns]"
      ]
     },
     "execution_count": 16,
     "metadata": {},
     "output_type": "execute_result"
    }
   ],
   "source": [
    "outliers_year"
   ]
  },
  {
   "cell_type": "code",
   "execution_count": 17,
   "id": "f3fefe1b",
   "metadata": {},
   "outputs": [
    {
     "data": {
      "text/plain": [
       "<matplotlib.legend.Legend at 0x382e6d4f0>"
      ]
     },
     "execution_count": 17,
     "metadata": {},
     "output_type": "execute_result"
    },
    {
     "data": {
      "image/png": "[encoded data removed]",
      "text/plain": [
       "<Figure size 3200x1600 with 1 Axes>"
      ]
     },
     "metadata": {},
     "output_type": "display_data"
    }
   ],
   "source": [
    "plt.figure(figsize = (32, 16))\n",
    "\n",
    "plt.plot(df_year[['price']], marker = '.')\n",
    "plt.plot(outliers_year[['price']], 'o', color = 'red', label = 'outlier')\n",
    "plt.title('Detection By Isolation Forest')\n",
    "\n",
    "#plt.grid()\n",
    "plt.xlabel('Date')\n",
    "plt.ylabel('Price')\n",
    "plt.legend()"
   ]
  },
  {
   "cell_type": "code",
   "execution_count": 18,
   "id": "20e8c2b2",
   "metadata": {},
   "outputs": [
    {
     "ename": "ModuleNotFoundError",
     "evalue": "No module named 'plotly'",
     "output_type": "error",
     "traceback": [
      "\u001b[0;31m---------------------------------------------------------------------------\u001b[0m",
      "\u001b[0;31mModuleNotFoundError\u001b[0m                       Traceback (most recent call last)",
      "Cell \u001b[0;32mIn[18], line 1\u001b[0m\n\u001b[0;32m----> 1\u001b[0m \u001b[38;5;28;01mimport\u001b[39;00m \u001b[38;5;21;01mplotly\u001b[39;00m\u001b[38;5;21;01m.\u001b[39;00m\u001b[38;5;21;01mexpress\u001b[39;00m \u001b[38;5;28;01mas\u001b[39;00m \u001b[38;5;21;01mpx\u001b[39;00m\n\u001b[1;32m      2\u001b[0m \u001b[38;5;28;01mimport\u001b[39;00m \u001b[38;5;21;01mplotly\u001b[39;00m\u001b[38;5;21;01m.\u001b[39;00m\u001b[38;5;21;01mgraph_objects\u001b[39;00m \u001b[38;5;28;01mas\u001b[39;00m \u001b[38;5;21;01mgo\u001b[39;00m\n",
      "\u001b[0;31mModuleNotFoundError\u001b[0m: No module named 'plotly'"
     ]
    }
   ],
   "source": [
    "import plotly.express as px\n",
    "import plotly.graph_objects as go"
   ]
  },
  {
   "cell_type": "code",
   "execution_count": null,
   "id": "fe4ac0a1",
   "metadata": {},
   "outputs": [],
   "source": [
    "# fig = px.line(df_year_2023, x=df_year_2023.index, y=\"price\")\n",
    "# fig.add_trace(go.Scatter(mode=\"markers\", x=outliers.index, y=outliers[\"price\"], name=\"outliers\"))"
   ]
  },
  {
   "cell_type": "markdown",
   "id": "1cd71f94",
   "metadata": {
    "jp-MarkdownHeadingCollapsed": true
   },
   "source": [
    "#### 1 month dataset"
   ]
  },
  {
   "cell_type": "code",
   "execution_count": null,
   "id": "bdd0da45",
   "metadata": {},
   "outputs": [],
   "source": [
    "df_month = btc_trades_df.loc['2024-01-01':'2024-01-31'][['price', 'amount']]"
   ]
  },
  {
   "cell_type": "code",
   "execution_count": null,
   "id": "bd7036de",
   "metadata": {},
   "outputs": [],
   "source": [
    "#initiate the model with 5% contamination\n",
    "\n",
    "model_month = IsolationForest(\n",
    "    n_estimators=1_000,\n",
    "    max_samples='auto',\n",
    "    contamination=float(0.05),\n",
    "    random_state=139,\n",
    "    n_jobs=-1\n",
    ")"
   ]
  },
  {
   "cell_type": "code",
   "execution_count": null,
   "id": "3257ef44",
   "metadata": {},
   "outputs": [],
   "source": [
    "model_month.fit(df_month)\n",
    "df_month['score'] = model_month.decision_function(df_month[['price', 'amount']])\n",
    "df_month['anomaly_value'] = model_month.predict(df_month[['price', 'amount']])"
   ]
  },
  {
   "cell_type": "code",
   "execution_count": null,
   "id": "dd75085a",
   "metadata": {},
   "outputs": [],
   "source": [
    "# outliers\n",
    "outliers_month = df_month.loc[df_month['anomaly_value'] == -1]\n",
    "outlier_index_month = list(outliers_month.index)\n",
    "\n",
    "#datapoints classified -1 are anomalous\n",
    "print(df_month['anomaly_value'].value_counts())\n",
    "df_month['anomaly_value'].value_counts().plot(kind = 'bar')"
   ]
  },
  {
   "cell_type": "code",
   "execution_count": null,
   "id": "5b69abce",
   "metadata": {},
   "outputs": [],
   "source": [
    "outliers_month"
   ]
  },
  {
   "cell_type": "code",
   "execution_count": null,
   "id": "4da1c23a",
   "metadata": {},
   "outputs": [],
   "source": [
    "plt.figure(figsize = (32, 16))\n",
    "\n",
    "plt.plot(df_month[['price']], marker = '.')\n",
    "plt.plot(outliers_month[['price']], 'o', color = 'red', label = 'outlier')\n",
    "plt.title('Detection By Isolation Forest')\n",
    "\n",
    "#plt.grid()\n",
    "plt.xlabel('Date')\n",
    "plt.ylabel('Price')\n",
    "plt.legend()"
   ]
  },
  {
   "cell_type": "markdown",
   "id": "702e9dac",
   "metadata": {
    "jp-MarkdownHeadingCollapsed": true
   },
   "source": [
    "#### 1 day dataset"
   ]
  },
  {
   "cell_type": "code",
   "execution_count": null,
   "id": "d67b3989",
   "metadata": {},
   "outputs": [],
   "source": [
    "df_day = btc_trades_df.loc['2024-03-24':'2024-03-24'][['price', 'amount']]"
   ]
  },
  {
   "cell_type": "code",
   "execution_count": null,
   "id": "6832db70",
   "metadata": {},
   "outputs": [],
   "source": [
    "df_day"
   ]
  },
  {
   "cell_type": "code",
   "execution_count": null,
   "id": "9d043175",
   "metadata": {},
   "outputs": [],
   "source": [
    "#initiate the model with 5% contamination\n",
    "\n",
    "model_day = IsolationForest(\n",
    "    n_estimators=1_000,\n",
    "    max_samples='auto',\n",
    "    contamination=float(0.05),\n",
    "    random_state=139,\n",
    "    n_jobs=-1\n",
    ")"
   ]
  },
  {
   "cell_type": "code",
   "execution_count": null,
   "id": "d8839af9",
   "metadata": {},
   "outputs": [],
   "source": [
    "model_day.fit(df_day)\n",
    "df_day['score'] = model_day.decision_function(df_day[['price', 'amount']])\n",
    "df_day['anomaly_value'] = model_day.predict(df_day[['price', 'amount']])"
   ]
  },
  {
   "cell_type": "code",
   "execution_count": null,
   "id": "9ba973d1",
   "metadata": {},
   "outputs": [],
   "source": [
    "# outliers\n",
    "outliers_day = df_day.loc[df_day['anomaly_value'] == -1]\n",
    "outlier_index_day = list(outliers_day.index)\n",
    "\n",
    "#datapoints classified -1 are anomalous\n",
    "print(df_day['anomaly_value'].value_counts())\n",
    "df_day['anomaly_value'].value_counts().plot(kind = 'bar')"
   ]
  },
  {
   "cell_type": "code",
   "execution_count": null,
   "id": "11353d4d",
   "metadata": {},
   "outputs": [],
   "source": [
    "outliers_day"
   ]
  },
  {
   "cell_type": "code",
   "execution_count": null,
   "id": "d0b8b8ee",
   "metadata": {},
   "outputs": [],
   "source": [
    "plt.figure(figsize = (32, 16))\n",
    "\n",
    "plt.plot(df_day[['price']], marker = '.')\n",
    "plt.plot(outliers_day[['price']], 'o', color = 'red', label = 'outlier')\n",
    "plt.title('Detection By Isolation Forest')\n",
    "\n",
    "#plt.grid()\n",
    "plt.xlabel('Date')\n",
    "plt.ylabel('Price')\n",
    "plt.legend()"
   ]
  },
  {
   "cell_type": "markdown",
   "id": "cdebd0bd",
   "metadata": {
    "jp-MarkdownHeadingCollapsed": true
   },
   "source": [
    "#### 1 hour dataset"
   ]
  },
  {
   "cell_type": "code",
   "execution_count": null,
   "id": "afd14cbe",
   "metadata": {},
   "outputs": [],
   "source": [
    "df_hour = btc_trades_df.loc['2024-03-24 17:00:00':'2024-03-24 17:59:59'][['price', 'amount']]"
   ]
  },
  {
   "cell_type": "code",
   "execution_count": null,
   "id": "1b7914fe",
   "metadata": {},
   "outputs": [],
   "source": [
    "df_hour"
   ]
  },
  {
   "cell_type": "code",
   "execution_count": null,
   "id": "8a546b8a",
   "metadata": {},
   "outputs": [],
   "source": [
    "#initiate the model with 1% contamination\n",
    "\n",
    "model_hour = IsolationForest(\n",
    "    n_estimators=1_000,\n",
    "    max_samples='auto',\n",
    "    contamination=float(0.01),\n",
    "    random_state=139,\n",
    "    n_jobs=-1\n",
    ")"
   ]
  },
  {
   "cell_type": "code",
   "execution_count": null,
   "id": "a94b8124",
   "metadata": {},
   "outputs": [],
   "source": [
    "model_hour.fit(df_hour)\n",
    "df_hour['score'] = model_hour.decision_function(df_hour[['price', 'amount']])\n",
    "df_hour['anomaly_value'] = model_hour.predict(df_hour[['price', 'amount']])"
   ]
  },
  {
   "cell_type": "code",
   "execution_count": null,
   "id": "54d9e940",
   "metadata": {},
   "outputs": [],
   "source": [
    "# outliers\n",
    "outliers_hour = df_hour.loc[df_hour['anomaly_value'] == -1]\n",
    "outlier_index_h = list(outliers_hour.index)\n",
    "\n",
    "#datapoints classified -1 are anomalous\n",
    "print(df_hour['anomaly_value'].value_counts())\n",
    "df_hour['anomaly_value'].value_counts().plot(kind = 'bar')"
   ]
  },
  {
   "cell_type": "code",
   "execution_count": null,
   "id": "ff9183d7",
   "metadata": {},
   "outputs": [],
   "source": [
    "outliers_hour"
   ]
  },
  {
   "cell_type": "code",
   "execution_count": null,
   "id": "5449dcfc",
   "metadata": {},
   "outputs": [],
   "source": [
    "plt.figure(figsize = (16, 8))\n",
    "\n",
    "plt.plot(df_hour[['price']], marker = '.')\n",
    "plt.plot(outliers_hour[['price']], 'o', color = 'red', label = 'outlier')\n",
    "plt.title('Isolation Forest - Day')\n",
    "\n",
    "#plt.grid()\n",
    "plt.xlabel('Date')\n",
    "plt.ylabel('Price')\n",
    "plt.legend()"
   ]
  },
  {
   "cell_type": "markdown",
   "id": "d4915bee-cf99-4a84-9d3f-d9e48eeb0b35",
   "metadata": {},
   "source": [
    "### Energy-based Flow Classifier (EFC)"
   ]
  },
  {
   "cell_type": "code",
   "execution_count": 5,
   "id": "999acdba-28e4-43e0-a7a5-717ee2db3af7",
   "metadata": {},
   "outputs": [],
   "source": [
    "# EFC requires discretized data as input\n"
   ]
  },
  {
   "cell_type": "code",
   "execution_count": 6,
   "id": "42dd8b49-234d-4236-9b64-0081d18c625a",
   "metadata": {},
   "outputs": [
    {
     "name": "stdout",
     "output_type": "stream",
     "text": [
      "Single-class results\n",
      "[[  7  36]\n",
      " [  0 145]]\n"
     ]
    },
    {
     "name": "stderr",
     "output_type": "stream",
     "text": [
      "/Users/kevinaraujo/repos/dissertation/PPCA-UnB-Dissertation/models/notebooks/efc/generic_discretize.py:24: FutureWarning: A value is trying to be set on a copy of a DataFrame or Series through chained assignment using an inplace method.\n",
      "The behavior will change in pandas 3.0. This inplace method will never work because the intermediate object on which we are setting values always behaves as a copy.\n",
      "\n",
      "For example, when doing 'df[col].method(value, inplace=True)', try using 'df.method({col: value}, inplace=True)' or df[col] = df[col].method(value) instead, to perform the operation inplace on the original object.\n",
      "\n",
      "\n",
      "  data.iloc[:,feature].fillna(len(intervals[feature]), inplace=True)\n",
      "/Users/kevinaraujo/repos/dissertation/PPCA-UnB-Dissertation/models/notebooks/efc/generic_discretize.py:24: FutureWarning: A value is trying to be set on a copy of a DataFrame or Series through chained assignment using an inplace method.\n",
      "The behavior will change in pandas 3.0. This inplace method will never work because the intermediate object on which we are setting values always behaves as a copy.\n",
      "\n",
      "For example, when doing 'df[col].method(value, inplace=True)', try using 'df.method({col: value}, inplace=True)' or df[col] = df[col].method(value) instead, to perform the operation inplace on the original object.\n",
      "\n",
      "\n",
      "  data.iloc[:,feature].fillna(len(intervals[feature]), inplace=True)\n",
      "/Users/kevinaraujo/repos/dissertation/PPCA-UnB-Dissertation/models/notebooks/efc/generic_discretize.py:24: FutureWarning: A value is trying to be set on a copy of a DataFrame or Series through chained assignment using an inplace method.\n",
      "The behavior will change in pandas 3.0. This inplace method will never work because the intermediate object on which we are setting values always behaves as a copy.\n",
      "\n",
      "For example, when doing 'df[col].method(value, inplace=True)', try using 'df.method({col: value}, inplace=True)' or df[col] = df[col].method(value) instead, to perform the operation inplace on the original object.\n",
      "\n",
      "\n",
      "  data.iloc[:,feature].fillna(len(intervals[feature]), inplace=True)\n",
      "/Users/kevinaraujo/repos/dissertation/PPCA-UnB-Dissertation/models/notebooks/efc/generic_discretize.py:24: FutureWarning: A value is trying to be set on a copy of a DataFrame or Series through chained assignment using an inplace method.\n",
      "The behavior will change in pandas 3.0. This inplace method will never work because the intermediate object on which we are setting values always behaves as a copy.\n",
      "\n",
      "For example, when doing 'df[col].method(value, inplace=True)', try using 'df.method({col: value}, inplace=True)' or df[col] = df[col].method(value) instead, to perform the operation inplace on the original object.\n",
      "\n",
      "\n",
      "  data.iloc[:,feature].fillna(len(intervals[feature]), inplace=True)\n"
     ]
    },
    {
     "name": "stdout",
     "output_type": "stream",
     "text": [
      "Multi-class results\n",
      "[[ 0  0 11]\n",
      " [ 0  0 48]\n",
      " [ 0  0  0]]\n"
     ]
    }
   ],
   "source": [
    "%run efc/usage_example.py"
   ]
  },
  {
   "cell_type": "code",
   "execution_count": 7,
   "id": "e471ff55-8717-4258-8e36-a101f954965c",
   "metadata": {},
   "outputs": [],
   "source": [
    "from efc.classification_functions import OneClassFit, OneClassPredict, MultiClassFit, MultiClassPredict"
   ]
  },
  {
   "cell_type": "code",
   "execution_count": 8,
   "id": "9822cc88-5bdc-4534-86f8-a38e7bfa57f3",
   "metadata": {},
   "outputs": [],
   "source": [
    "btc_trades_df_efc = prepare_dataset()"
   ]
  },
  {
   "cell_type": "code",
   "execution_count": 9,
   "id": "7d025a28-4b2a-4249-8a78-7ce229cd3cc7",
   "metadata": {},
   "outputs": [],
   "source": [
    "df_day_efc = btc_trades_df_efc.loc['2024-03-24':'2024-03-24'][['price', 'amount']]"
   ]
  },
  {
   "cell_type": "code",
   "execution_count": 10,
   "id": "749defe9-eb2b-415e-80eb-0d02dca2702d",
   "metadata": {},
   "outputs": [
    {
     "data": {
      "text/html": [
       "<div>\n",
       "<style scoped>\n",
       "    .dataframe tbody tr th:only-of-type {\n",
       "        vertical-align: middle;\n",
       "    }\n",
       "\n",
       "    .dataframe tbody tr th {\n",
       "        vertical-align: top;\n",
       "    }\n",
       "\n",
       "    .dataframe thead th {\n",
       "        text-align: right;\n",
       "    }\n",
       "</style>\n",
       "<table border=\"1\" class=\"dataframe\">\n",
       "  <thead>\n",
       "    <tr style=\"text-align: right;\">\n",
       "      <th></th>\n",
       "      <th>price</th>\n",
       "      <th>amount</th>\n",
       "    </tr>\n",
       "    <tr>\n",
       "      <th>date</th>\n",
       "      <th></th>\n",
       "      <th></th>\n",
       "    </tr>\n",
       "  </thead>\n",
       "  <tbody>\n",
       "    <tr>\n",
       "      <th>2024-03-24 00:00:36</th>\n",
       "      <td>323071.042641</td>\n",
       "      <td>0.000006</td>\n",
       "    </tr>\n",
       "    <tr>\n",
       "      <th>2024-03-24 00:01:17</th>\n",
       "      <td>323000.000212</td>\n",
       "      <td>0.001144</td>\n",
       "    </tr>\n",
       "    <tr>\n",
       "      <th>2024-03-24 00:02:43</th>\n",
       "      <td>323071.040000</td>\n",
       "      <td>0.000315</td>\n",
       "    </tr>\n",
       "    <tr>\n",
       "      <th>2024-03-24 00:02:43</th>\n",
       "      <td>323000.000050</td>\n",
       "      <td>0.030853</td>\n",
       "    </tr>\n",
       "    <tr>\n",
       "      <th>2024-03-24 00:02:58</th>\n",
       "      <td>323361.175712</td>\n",
       "      <td>0.000010</td>\n",
       "    </tr>\n",
       "    <tr>\n",
       "      <th>...</th>\n",
       "      <td>...</td>\n",
       "      <td>...</td>\n",
       "    </tr>\n",
       "    <tr>\n",
       "      <th>2024-03-24 22:47:10</th>\n",
       "      <td>336286.893944</td>\n",
       "      <td>0.000006</td>\n",
       "    </tr>\n",
       "    <tr>\n",
       "      <th>2024-03-24 22:47:18</th>\n",
       "      <td>336347.116719</td>\n",
       "      <td>0.000004</td>\n",
       "    </tr>\n",
       "    <tr>\n",
       "      <th>2024-03-24 22:47:32</th>\n",
       "      <td>336062.300849</td>\n",
       "      <td>0.000816</td>\n",
       "    </tr>\n",
       "    <tr>\n",
       "      <th>2024-03-24 22:47:42</th>\n",
       "      <td>336062.300899</td>\n",
       "      <td>0.000191</td>\n",
       "    </tr>\n",
       "    <tr>\n",
       "      <th>2024-03-24 22:47:52</th>\n",
       "      <td>335797.000000</td>\n",
       "      <td>0.000006</td>\n",
       "    </tr>\n",
       "  </tbody>\n",
       "</table>\n",
       "<p>3656 rows × 2 columns</p>\n",
       "</div>"
      ],
      "text/plain": [
       "                             price    amount\n",
       "date                                        \n",
       "2024-03-24 00:00:36  323071.042641  0.000006\n",
       "2024-03-24 00:01:17  323000.000212  0.001144\n",
       "2024-03-24 00:02:43  323071.040000  0.000315\n",
       "2024-03-24 00:02:43  323000.000050  0.030853\n",
       "2024-03-24 00:02:58  323361.175712  0.000010\n",
       "...                            ...       ...\n",
       "2024-03-24 22:47:10  336286.893944  0.000006\n",
       "2024-03-24 22:47:18  336347.116719  0.000004\n",
       "2024-03-24 22:47:32  336062.300849  0.000816\n",
       "2024-03-24 22:47:42  336062.300899  0.000191\n",
       "2024-03-24 22:47:52  335797.000000  0.000006\n",
       "\n",
       "[3656 rows x 2 columns]"
      ]
     },
     "execution_count": 10,
     "metadata": {},
     "output_type": "execute_result"
    }
   ],
   "source": [
    "df_day_efc"
   ]
  },
  {
   "cell_type": "code",
   "execution_count": 11,
   "id": "47df8e84-74e3-49be-b5e1-590fd7a6b292",
   "metadata": {},
   "outputs": [],
   "source": [
    "# EFC's hyperparameters\n",
    "Q = df_day_efc.values.max()\n",
    "LAMBDA = 0.5 # pseudocount parameter"
   ]
  },
  {
   "cell_type": "code",
   "execution_count": 13,
   "id": "4d7217b4-482a-4533-9710-e081550b2c35",
   "metadata": {},
   "outputs": [],
   "source": [
    "btc_trades_df_efc_np = df_day_efc[['price']].to_numpy(dtype=np.int64)"
   ]
  },
  {
   "cell_type": "code",
   "execution_count": 15,
   "id": "5cbb9eff-054d-4c39-8295-eeb4397c2814",
   "metadata": {},
   "outputs": [
    {
     "data": {
      "text/plain": [
       "array([[323071],\n",
       "       [323000],\n",
       "       [323071],\n",
       "       [323000],\n",
       "       [323361],\n",
       "       [323000],\n",
       "       [323093],\n",
       "       [323890],\n",
       "       [323816],\n",
       "       [323912]])"
      ]
     },
     "execution_count": 15,
     "metadata": {},
     "output_type": "execute_result"
    }
   ],
   "source": [
    "btc_trades_df_efc_np[0:10]"
   ]
  },
  {
   "cell_type": "code",
   "execution_count": null,
   "id": "71a696d0-5b2c-47de-bf2c-129263ac84f7",
   "metadata": {},
   "outputs": [],
   "source": [
    "# train model\n",
    "\n",
    "coupling, h_i, cutoff, _, _  = OneClassFit(btc_trades_df_efc_np, Q, LAMBDA)"
   ]
  },
  {
   "cell_type": "code",
   "execution_count": null,
   "id": "e4806fc0-e628-4347-9bc2-bb78167c2bb9",
   "metadata": {},
   "outputs": [],
   "source": []
  }
 ],
 "metadata": {
  "kernelspec": {
   "display_name": "masters",
   "language": "python",
   "name": "masters"
  },
  "language_info": {
   "codemirror_mode": {
    "name": "ipython",
    "version": 3
   },
   "file_extension": ".py",
   "mimetype": "text/x-python",
   "name": "python",
   "nbconvert_exporter": "python",
   "pygments_lexer": "ipython3",
   "version": "3.12.1"
  }
 },
 "nbformat": 4,
 "nbformat_minor": 5
}
