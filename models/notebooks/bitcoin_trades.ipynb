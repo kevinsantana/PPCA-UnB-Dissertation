{
 "cells": [
  {
   "cell_type": "markdown",
   "id": "1bcaa180-6740-4bff-b167-107efff99b1b",
   "metadata": {},
   "source": [
    "## Data Acquisition"
   ]
  },
  {
   "cell_type": "code",
   "execution_count": null,
   "id": "a0011481-bdcd-4731-9c4b-a0287d17f31f",
   "metadata": {},
   "outputs": [],
   "source": [
    "import time\n",
    "from collections import deque\n",
    "from datetime import date, timedelta, datetime\n",
    "from concurrent.futures import ThreadPoolExecutor\n",
    "\n",
    "import requests\n",
    "from loguru import logger\n",
    "\n",
    "import pandas as pd"
   ]
  },
  {
   "cell_type": "code",
   "execution_count": null,
   "id": "2e188cca-ba76-4880-978e-acd65107950d",
   "metadata": {},
   "outputs": [],
   "source": [
    "api_v4_trades = \"https://api.mercadobitcoin.net/api/v4/{symbol}/trades\"\n",
    "trades = deque()"
   ]
  },
  {
   "cell_type": "code",
   "execution_count": null,
   "id": "e65b1660-ad4a-47b4-b258-2d72933711fb",
   "metadata": {},
   "outputs": [],
   "source": [
    " # fetch most recent trades\n",
    "response_trades = requests.get(url=api_v4_trades.format(symbol=\"BTC-BRL\"))\n",
    "\n",
    "if response_trades.status_code != 200:\n",
    "    extra = {\"error\": response_trades}\n",
    "    logger.bind(**extra).error(\"Error to fetch initial trade data\")\n",
    "\n",
    "trades.extend(response_trades.json())\n",
    "\n",
    "initial_trade = trades[0][\"tid\"]\n",
    "next_trades = initial_trade - 1000\n",
    "\n",
    "logger.info(f\"Initial trade: {initial_trade}\")"
   ]
  },
  {
   "cell_type": "code",
   "execution_count": null,
   "id": "10edfc22-bbd6-478d-a41c-5603dfc88c9d",
   "metadata": {},
   "outputs": [],
   "source": [
    "def fetch_trades(payload):\n",
    "    response_trades = requests.get(url=api_v4_trades.format(symbol=\"BTC-BRL\"), params=payload)\n",
    "    # logger.info(f\"URL: {response_trades.url}\")\n",
    "\n",
    "    if response_trades.status_code != 200:\n",
    "        logger.error(f\"Error to fetch initial trade data: {response_trades.text}\")\n",
    "\n",
    "    return response_trades.json()"
   ]
  },
  {
   "cell_type": "code",
   "execution_count": null,
   "id": "cf2c0dab-52a6-424e-8cee-6c2b7398fc05",
   "metadata": {},
   "outputs": [],
   "source": [
    "while next_trades > 0:\n",
    "    with ThreadPoolExecutor() as executor:\n",
    "        # time.sleep(1)\n",
    "        future = executor.submit(fetch_trades, {\"since\": next_trades})\n",
    "        future_result = future.result()\n",
    "        trades.extendleft(reversed(future_result))\n",
    "        next_trades -= 1000\n",
    "\n",
    "        if future_result[-1]['date'] < 1696118349:\n",
    "            logger.info(\"Done!\")\n",
    "            break\n"
   ]
  },
  {
   "cell_type": "code",
   "execution_count": null,
   "id": "f4666555-cf46-4982-a347-8daf47942322",
   "metadata": {},
   "outputs": [],
   "source": [
    "print(trades[0])"
   ]
  },
  {
   "cell_type": "code",
   "execution_count": null,
   "id": "c28c7630-9bd8-4089-b616-ba2d5255ec54",
   "metadata": {},
   "outputs": [],
   "source": [
    "columns = [\"tid\", \"date\", \"type\", \"price\", \"amount\"]\n",
    "\n",
    "btc_trades_df = pd.DataFrame(trades, columns=[c for c in columns])\n",
    "btc_trades_df.set_index('tid', inplace=True)\n",
    "\n",
    "btc_trades_df['price'] = pd.to_numeric(btc_trades_df['price'])\n",
    "btc_trades_df['amount'] = pd.to_numeric(btc_trades_df['amount'])"
   ]
  },
  {
   "cell_type": "code",
   "execution_count": null,
   "id": "eb372dfd-1976-4ac5-bc2e-55fcbf8972f3",
   "metadata": {},
   "outputs": [],
   "source": [
    "btc_trades_df.drop_duplicates()"
   ]
  },
  {
   "cell_type": "code",
   "execution_count": null,
   "id": "bf9fe35a-1270-408c-91ec-6e7acc60307f",
   "metadata": {},
   "outputs": [],
   "source": [
    "btc_trades_df.info()"
   ]
  },
  {
   "cell_type": "code",
   "execution_count": null,
   "id": "4579197c-4ad7-4adf-9fe5-14eb8bb78c9a",
   "metadata": {},
   "outputs": [],
   "source": [
    "btc_trades_df.head()"
   ]
  },
  {
   "cell_type": "code",
   "execution_count": null,
   "id": "42db0d26-e262-4479-94cb-5ec7c40ccd93",
   "metadata": {},
   "outputs": [],
   "source": [
    "btc_trades_df.to_csv(\"btc_trades_df.csv\", sep='\\t', index=False)\n",
    "btc_trades_df.to_parquet(\"btc_trades_df.parquet\", engine=\"fastparquet\")"
   ]
  },
  {
   "cell_type": "markdown",
   "id": "ab99f97b-4e47-491d-96fb-3fa195eb8139",
   "metadata": {},
   "source": [
    "## Exploratory Data Analysis"
   ]
  },
  {
   "cell_type": "code",
   "execution_count": null,
   "id": "6eae9cd1-3105-4e5f-95bb-a82e13b2f167",
   "metadata": {},
   "outputs": [],
   "source": [
    "import numpy as np\n",
    "import pandas as pd\n",
    "import matplotlib.pyplot as plt\n",
    "import matplotlib as mpl\n",
    "import seaborn as sns\n",
    "from pycaret.clustering import *\n",
    "mpl.rcParams['figure.dpi'] = 300"
   ]
  },
  {
   "cell_type": "code",
   "execution_count": null,
   "id": "ec0f6dd8-56db-4c45-98fd-8b911d15211e",
   "metadata": {
    "jp-MarkdownHeadingCollapsed": true
   },
   "outputs": [],
   "source": [
    "btc_trades_df.hist(bins = 30, figsize = (12,10), grid = False)\n",
    "plt.show()"
   ]
  },
  {
   "cell_type": "code",
   "execution_count": null,
   "id": "abd5e06b-2383-4c01-88ef-d4bde6146cb8",
   "metadata": {},
   "outputs": [],
   "source": [
    "plt.figure(figsize=(10, 8))\n",
    "sns.heatmap(btc_trades_df.corr().round(decimals=2), annot=True)\n",
    "plt.show()"
   ]
  },
  {
   "cell_type": "code",
   "execution_count": null,
   "id": "a81e8752-b50a-44ce-a3d5-73ec14e9af82",
   "metadata": {},
   "outputs": [],
   "source": [
    "# plot_kws = {'scatter_kws': {'s': 2}, 'line_kws': {'color': 'red'}}\n",
    "# sns.pairplot(btc_trades_df, kind='reg', vars=btc_trades_df['price'], plot_kws=plot_kws)\n",
    "# plt.show()"
   ]
  },
  {
   "cell_type": "markdown",
   "id": "3fd1d591-7363-446e-83fa-a6c13d93fad8",
   "metadata": {},
   "source": [
    "## Model"
   ]
  },
  {
   "cell_type": "code",
   "execution_count": null,
   "id": "6f395d31-bb98-4c13-b5dd-91d713e78663",
   "metadata": {},
   "outputs": [],
   "source": [
    "cluster = setup(btc_trades_df, session_id=7652, index=False, normalize=True, ignore_features=[\"tid\", \"date\"], use_gpu=True)"
   ]
  },
  {
   "cell_type": "code",
   "execution_count": null,
   "id": "b6d3284d-dce8-43ae-acdf-345d7e3bc4a7",
   "metadata": {},
   "outputs": [],
   "source": [
    "kmeans = create_model('kmeans')"
   ]
  },
  {
   "cell_type": "code",
   "execution_count": null,
   "id": "39922b2d-e187-4e07-872e-6952ae02266c",
   "metadata": {},
   "outputs": [],
   "source": [
    "plot_model(kmeans, 'elbow')"
   ]
  },
  {
   "cell_type": "code",
   "execution_count": null,
   "id": "bb2946d3-01e4-4a11-9d9d-ad59ee5cbd38",
   "metadata": {},
   "outputs": [],
   "source": [
    "plot_model(kmeans)"
   ]
  },
  {
   "cell_type": "code",
   "execution_count": null,
   "id": "3c02e6d9-1454-4a2a-bbe1-8adc6ef5828c",
   "metadata": {},
   "outputs": [],
   "source": [
    "plot_model(kmeans, plot='silhouette')"
   ]
  },
  {
   "cell_type": "code",
   "execution_count": null,
   "id": "56043421-0dd3-4fd3-8fb8-bac33b01c6d4",
   "metadata": {},
   "outputs": [],
   "source": [
    "plot_model(kmeans, plot='distribution')"
   ]
  }
 ],
 "metadata": {
  "kernelspec": {
   "display_name": "Python 3 (ipykernel)",
   "language": "python",
   "name": "python3"
  },
  "language_info": {
   "codemirror_mode": {
    "name": "ipython",
    "version": 3
   },
   "file_extension": ".py",
   "mimetype": "text/x-python",
   "name": "python",
   "nbconvert_exporter": "python",
   "pygments_lexer": "ipython3",
   "version": "3.11.7"
  }
 },
 "nbformat": 4,
 "nbformat_minor": 5
}
