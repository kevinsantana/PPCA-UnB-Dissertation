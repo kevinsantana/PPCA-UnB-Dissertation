{
 "cells": [
  {
   "cell_type": "markdown",
   "id": "c652b32d-e96f-4034-b7fd-76bf725503fc",
   "metadata": {},
   "source": [
    "# Unbalanced Dataset Techniques"
   ]
  },
  {
   "cell_type": "code",
   "execution_count": 1,
   "id": "c5869d42-8d74-4f0a-b075-0af35c99b63f",
   "metadata": {},
   "outputs": [],
   "source": [
    "import pandas as pd"
   ]
  },
  {
   "cell_type": "code",
   "execution_count": 2,
   "id": "5ff54b7d-9ed3-4ca5-a8ee-6fca2a6fe2bf",
   "metadata": {},
   "outputs": [],
   "source": [
    "from constants import METRICS_COLUMNS, SIZES_COLUMNS, LABELS_CM"
   ]
  },
  {
   "cell_type": "code",
   "execution_count": 3,
   "id": "d1be089d-1940-4e60-bc37-69ddd369f802",
   "metadata": {},
   "outputs": [],
   "source": [
    "from unbalanced_techniques import efc_baseline, equally_distributing_correlating, smote, random_resampling"
   ]
  },
  {
   "cell_type": "code",
   "execution_count": 4,
   "id": "4285231d-767f-49db-9b48-ab9faad8ecc8",
   "metadata": {},
   "outputs": [],
   "source": [
    "FIG_FOLDER = \"results/efc/experiment-x-4/{technique}\""
   ]
  },
  {
   "cell_type": "code",
   "execution_count": 5,
   "id": "fb0e884c-eb09-42a6-9dfb-521da5961932",
   "metadata": {},
   "outputs": [],
   "source": [
    "FIG_NAME = \"{figure}\""
   ]
  },
  {
   "cell_type": "code",
   "execution_count": 6,
   "id": "ee23d6ae-e901-4daa-927d-1e3f3c55022e",
   "metadata": {},
   "outputs": [],
   "source": [
    "LABELS_CM.append(\"Technique\")"
   ]
  },
  {
   "cell_type": "markdown",
   "id": "4bab72e7-1f36-4e0e-a7d3-5cbffe3aa459",
   "metadata": {},
   "source": [
    "## Baseline: Unsupervised Elliptic Data Set With EFC"
   ]
  },
  {
   "cell_type": "code",
   "execution_count": 7,
   "id": "691186f1-5e67-41c4-9ad3-41e94834e700",
   "metadata": {},
   "outputs": [
    {
     "name": "stderr",
     "output_type": "stream",
     "text": [
      "/Users/kevinaraujo/repos/dissertation/PPCA-UnB-Dissertation/models/notebooks/efc/shared_functions.py:80: FutureWarning: Downcasting behavior in `replace` is deprecated and will be removed in a future version. To retain the old behavior, explicitly call `result.infer_objects(copy=False)`. To opt-in to the future behavior, set `pd.set_option('future.no_silent_downcasting', True)`\n",
      "  df_classes.replace({\"class\": {\"1\": 1, \"2\": 0, \"unknown\": 2}}, inplace=True)\n"
     ]
    },
    {
     "data": {
      "image/png": "[encoded data removed]",
      "text/plain": [
       "<Figure size 640x480 with 1 Axes>"
      ]
     },
     "metadata": {},
     "output_type": "display_data"
    }
   ],
   "source": [
    "sizes_1, metric_dict_1, confusion_matrix_1 = efc_baseline(\n",
    "    technique=\"Unbalanced Dataset\",\n",
    "    fig_folder=FIG_FOLDER.format(technique='1_unbalaced_dataset_efc_baseline'),\n",
    "    fig_name=FIG_NAME.format(figure='1_unbalanced_dataset')\n",
    ")"
   ]
  },
  {
   "cell_type": "code",
   "execution_count": 8,
   "id": "2781c703-4d4f-4123-bd86-d04d4e2e2956",
   "metadata": {},
   "outputs": [],
   "source": [
    "df_sizes = pd.DataFrame(data=sizes_1, columns=SIZES_COLUMNS, index=[0])"
   ]
  },
  {
   "cell_type": "code",
   "execution_count": 9,
   "id": "96261598-178d-4b02-a742-a96d057d545b",
   "metadata": {},
   "outputs": [
    {
     "data": {
      "text/html": [
       "<div>\n",
       "<style scoped>\n",
       "    .dataframe tbody tr th:only-of-type {\n",
       "        vertical-align: middle;\n",
       "    }\n",
       "\n",
       "    .dataframe tbody tr th {\n",
       "        vertical-align: top;\n",
       "    }\n",
       "\n",
       "    .dataframe thead th {\n",
       "        text-align: right;\n",
       "    }\n",
       "</style>\n",
       "<table border=\"1\" class=\"dataframe\">\n",
       "  <thead>\n",
       "    <tr style=\"text-align: right;\">\n",
       "      <th></th>\n",
       "      <th>Technique</th>\n",
       "      <th>X Size</th>\n",
       "      <th>y Size</th>\n",
       "      <th>X_train Size</th>\n",
       "      <th>X_test Size</th>\n",
       "      <th>y_train Size</th>\n",
       "      <th>y_test Size</th>\n",
       "      <th>y_train Malicious Size</th>\n",
       "      <th>y_train Bening Size</th>\n",
       "      <th>y_test Malicious Size</th>\n",
       "      <th>y_test Bening Size</th>\n",
       "    </tr>\n",
       "  </thead>\n",
       "  <tbody>\n",
       "    <tr>\n",
       "      <th>0</th>\n",
       "      <td>Unbalanced Dataset</td>\n",
       "      <td>46564</td>\n",
       "      <td>46564</td>\n",
       "      <td>29894</td>\n",
       "      <td>16670</td>\n",
       "      <td>29894</td>\n",
       "      <td>16670</td>\n",
       "      <td>3462</td>\n",
       "      <td>26432</td>\n",
       "      <td>1083</td>\n",
       "      <td>15587</td>\n",
       "    </tr>\n",
       "  </tbody>\n",
       "</table>\n",
       "</div>"
      ],
      "text/plain": [
       "            Technique  X Size  y Size  X_train Size  X_test Size  \\\n",
       "0  Unbalanced Dataset   46564   46564         29894        16670   \n",
       "\n",
       "   y_train Size  y_test Size  y_train Malicious Size  y_train Bening Size  \\\n",
       "0         29894        16670                    3462                26432   \n",
       "\n",
       "   y_test Malicious Size  y_test Bening Size  \n",
       "0                   1083               15587  "
      ]
     },
     "execution_count": 9,
     "metadata": {},
     "output_type": "execute_result"
    }
   ],
   "source": [
    "df_sizes"
   ]
  },
  {
   "cell_type": "code",
   "execution_count": 10,
   "id": "e32e3997-7c18-4f4b-8470-a3c1f066595b",
   "metadata": {},
   "outputs": [],
   "source": [
    "df_efc_metrics = pd.DataFrame(data=metric_dict_1, columns=METRICS_COLUMNS, index=[0])"
   ]
  },
  {
   "cell_type": "code",
   "execution_count": 11,
   "id": "eff9d521-737e-4fa3-a86b-67e726016b7f",
   "metadata": {},
   "outputs": [
    {
     "data": {
      "text/html": [
       "<div>\n",
       "<style scoped>\n",
       "    .dataframe tbody tr th:only-of-type {\n",
       "        vertical-align: middle;\n",
       "    }\n",
       "\n",
       "    .dataframe tbody tr th {\n",
       "        vertical-align: top;\n",
       "    }\n",
       "\n",
       "    .dataframe thead th {\n",
       "        text-align: right;\n",
       "    }\n",
       "</style>\n",
       "<table border=\"1\" class=\"dataframe\">\n",
       "  <thead>\n",
       "    <tr style=\"text-align: right;\">\n",
       "      <th></th>\n",
       "      <th>Technique</th>\n",
       "      <th>accuracy</th>\n",
       "      <th>f1</th>\n",
       "      <th>f1_micro</th>\n",
       "      <th>f1_macro</th>\n",
       "      <th>precision</th>\n",
       "      <th>recall</th>\n",
       "    </tr>\n",
       "  </thead>\n",
       "  <tbody>\n",
       "    <tr>\n",
       "      <th>0</th>\n",
       "      <td>Unbalanced Dataset</td>\n",
       "      <td>0.907978</td>\n",
       "      <td>0.891453</td>\n",
       "      <td>0.907978</td>\n",
       "      <td>0.487943</td>\n",
       "      <td>0.876073</td>\n",
       "      <td>0.907978</td>\n",
       "    </tr>\n",
       "  </tbody>\n",
       "</table>\n",
       "</div>"
      ],
      "text/plain": [
       "            Technique  accuracy        f1  f1_micro  f1_macro  precision  \\\n",
       "0  Unbalanced Dataset  0.907978  0.891453  0.907978  0.487943   0.876073   \n",
       "\n",
       "     recall  \n",
       "0  0.907978  "
      ]
     },
     "execution_count": 11,
     "metadata": {},
     "output_type": "execute_result"
    }
   ],
   "source": [
    "df_efc_metrics"
   ]
  },
  {
   "cell_type": "code",
   "execution_count": 12,
   "id": "067f0fe2-8efa-47b1-bf03-9e08b2450f39",
   "metadata": {},
   "outputs": [
    {
     "data": {
      "text/plain": [
       "{'Technique': 'Unbalanced Dataset',\n",
       " 'True Negative': 19,\n",
       " 'False positive': 1064,\n",
       " 'False Negative': 470,\n",
       " 'True Positive': 15117}"
      ]
     },
     "execution_count": 12,
     "metadata": {},
     "output_type": "execute_result"
    }
   ],
   "source": [
    "confusion_matrix_1"
   ]
  },
  {
   "cell_type": "code",
   "execution_count": 13,
   "id": "4cd28ea4-4284-4fae-a1de-b48171bad730",
   "metadata": {},
   "outputs": [],
   "source": [
    "df_efc_confusion_matrix = pd.DataFrame(data=confusion_matrix_1, columns=LABELS_CM, index=[0])"
   ]
  },
  {
   "cell_type": "code",
   "execution_count": 14,
   "id": "57b00892-fde5-4cd0-807e-923ef4dea014",
   "metadata": {},
   "outputs": [
    {
     "data": {
      "text/html": [
       "<div>\n",
       "<style scoped>\n",
       "    .dataframe tbody tr th:only-of-type {\n",
       "        vertical-align: middle;\n",
       "    }\n",
       "\n",
       "    .dataframe tbody tr th {\n",
       "        vertical-align: top;\n",
       "    }\n",
       "\n",
       "    .dataframe thead th {\n",
       "        text-align: right;\n",
       "    }\n",
       "</style>\n",
       "<table border=\"1\" class=\"dataframe\">\n",
       "  <thead>\n",
       "    <tr style=\"text-align: right;\">\n",
       "      <th></th>\n",
       "      <th>True Negative</th>\n",
       "      <th>False positive</th>\n",
       "      <th>False Negative</th>\n",
       "      <th>True Positive</th>\n",
       "      <th>Technique</th>\n",
       "    </tr>\n",
       "  </thead>\n",
       "  <tbody>\n",
       "    <tr>\n",
       "      <th>0</th>\n",
       "      <td>19</td>\n",
       "      <td>1064</td>\n",
       "      <td>470</td>\n",
       "      <td>15117</td>\n",
       "      <td>Unbalanced Dataset</td>\n",
       "    </tr>\n",
       "  </tbody>\n",
       "</table>\n",
       "</div>"
      ],
      "text/plain": [
       "   True Negative  False positive  False Negative  True Positive  \\\n",
       "0             19            1064             470          15117   \n",
       "\n",
       "            Technique  \n",
       "0  Unbalanced Dataset  "
      ]
     },
     "execution_count": 14,
     "metadata": {},
     "output_type": "execute_result"
    }
   ],
   "source": [
    "df_efc_confusion_matrix"
   ]
  },
  {
   "cell_type": "code",
   "execution_count": null,
   "id": "0d03f766-c85c-427b-9138-78d41020793b",
   "metadata": {},
   "outputs": [],
   "source": []
  },
  {
   "cell_type": "markdown",
   "id": "d29512c6-6661-4cdb-8c00-0f07a6aeb9eb",
   "metadata": {},
   "source": [
    "## Techniques"
   ]
  },
  {
   "cell_type": "markdown",
   "id": "77c0084f-8522-4322-871e-871287b0e2c0",
   "metadata": {},
   "source": [
    "### Balanced Dataset (Equally Distributed Classes)"
   ]
  },
  {
   "cell_type": "code",
   "execution_count": 15,
   "id": "3cd7d937-56b9-4b64-9bc1-47186335fe29",
   "metadata": {},
   "outputs": [
    {
     "name": "stderr",
     "output_type": "stream",
     "text": [
      "/Users/kevinaraujo/repos/dissertation/PPCA-UnB-Dissertation/models/notebooks/efc/shared_functions.py:80: FutureWarning: Downcasting behavior in `replace` is deprecated and will be removed in a future version. To retain the old behavior, explicitly call `result.infer_objects(copy=False)`. To opt-in to the future behavior, set `pd.set_option('future.no_silent_downcasting', True)`\n",
      "  df_classes.replace({\"class\": {\"1\": 1, \"2\": 0, \"unknown\": 2}}, inplace=True)\n"
     ]
    },
    {
     "name": "stdout",
     "output_type": "stream",
     "text": [
      "Distribution of the Classes in the subsample dataset\n",
      "class\n",
      "1    0.5\n",
      "0    0.5\n",
      "Name: count, dtype: float64\n"
     ]
    },
    {
     "name": "stderr",
     "output_type": "stream",
     "text": [
      "/Users/kevinaraujo/repos/dissertation/PPCA-UnB-Dissertation/models/notebooks/efc/unbalanced_techniques.py:47: FutureWarning: \n",
      "\n",
      "Passing `palette` without assigning `hue` is deprecated and will be removed in v0.14.0. Assign the `x` variable to `hue` and set `legend=False` for the same effect.\n",
      "\n",
      "  sns.countplot(x='class', data=new_df, palette=['red', 'blue'])\n"
     ]
    },
    {
     "data": {
      "image/png": "[encoded data removed]",
      "text/plain": [
       "<Figure size 640x480 with 1 Axes>"
      ]
     },
     "metadata": {},
     "output_type": "display_data"
    },
    {
     "data": {
      "image/png": "[encoded data removed]",
      "text/plain": [
       "<Figure size 640x480 with 1 Axes>"
      ]
     },
     "metadata": {},
     "output_type": "display_data"
    }
   ],
   "source": [
    "sizes_2, metric_dict_2, confusion_matrix_2 = equally_distributing_correlating(\n",
    "    technique=\"Balanced Dataset (Equally Distributed Classes)\",\n",
    "    fig_folder=FIG_FOLDER.format(technique='2_equally_distributed_classes'),\n",
    "    fig_name=FIG_NAME.format(figure='2_balaced_dataset')\n",
    ")"
   ]
  },
  {
   "cell_type": "code",
   "execution_count": 16,
   "id": "4e48690b-6545-4a34-9b1b-d5cf39d9452d",
   "metadata": {},
   "outputs": [],
   "source": [
    "df_sizes.loc[1] = sizes_2"
   ]
  },
  {
   "cell_type": "code",
   "execution_count": 17,
   "id": "7882ba6d-807b-4a38-9eb1-abd7cad87a38",
   "metadata": {},
   "outputs": [
    {
     "data": {
      "text/html": [
       "<div>\n",
       "<style scoped>\n",
       "    .dataframe tbody tr th:only-of-type {\n",
       "        vertical-align: middle;\n",
       "    }\n",
       "\n",
       "    .dataframe tbody tr th {\n",
       "        vertical-align: top;\n",
       "    }\n",
       "\n",
       "    .dataframe thead th {\n",
       "        text-align: right;\n",
       "    }\n",
       "</style>\n",
       "<table border=\"1\" class=\"dataframe\">\n",
       "  <thead>\n",
       "    <tr style=\"text-align: right;\">\n",
       "      <th></th>\n",
       "      <th>Technique</th>\n",
       "      <th>X Size</th>\n",
       "      <th>y Size</th>\n",
       "      <th>X_train Size</th>\n",
       "      <th>X_test Size</th>\n",
       "      <th>y_train Size</th>\n",
       "      <th>y_test Size</th>\n",
       "      <th>y_train Malicious Size</th>\n",
       "      <th>y_train Bening Size</th>\n",
       "      <th>y_test Malicious Size</th>\n",
       "      <th>y_test Bening Size</th>\n",
       "    </tr>\n",
       "  </thead>\n",
       "  <tbody>\n",
       "    <tr>\n",
       "      <th>0</th>\n",
       "      <td>Unbalanced Dataset</td>\n",
       "      <td>46564</td>\n",
       "      <td>46564</td>\n",
       "      <td>29894</td>\n",
       "      <td>16670</td>\n",
       "      <td>29894</td>\n",
       "      <td>16670</td>\n",
       "      <td>3462</td>\n",
       "      <td>26432</td>\n",
       "      <td>1083</td>\n",
       "      <td>15587</td>\n",
       "    </tr>\n",
       "    <tr>\n",
       "      <th>1</th>\n",
       "      <td>Balanced Dataset (Equally Distributed Classes)</td>\n",
       "      <td>9090</td>\n",
       "      <td>9090</td>\n",
       "      <td>6363</td>\n",
       "      <td>2727</td>\n",
       "      <td>6363</td>\n",
       "      <td>2727</td>\n",
       "      <td>3182</td>\n",
       "      <td>3181</td>\n",
       "      <td>1363</td>\n",
       "      <td>1364</td>\n",
       "    </tr>\n",
       "  </tbody>\n",
       "</table>\n",
       "</div>"
      ],
      "text/plain": [
       "                                        Technique  X Size  y Size  \\\n",
       "0                              Unbalanced Dataset   46564   46564   \n",
       "1  Balanced Dataset (Equally Distributed Classes)    9090    9090   \n",
       "\n",
       "   X_train Size  X_test Size  y_train Size  y_test Size  \\\n",
       "0         29894        16670         29894        16670   \n",
       "1          6363         2727          6363         2727   \n",
       "\n",
       "   y_train Malicious Size  y_train Bening Size  y_test Malicious Size  \\\n",
       "0                    3462                26432                   1083   \n",
       "1                    3182                 3181                   1363   \n",
       "\n",
       "   y_test Bening Size  \n",
       "0               15587  \n",
       "1                1364  "
      ]
     },
     "execution_count": 17,
     "metadata": {},
     "output_type": "execute_result"
    }
   ],
   "source": [
    "df_sizes"
   ]
  },
  {
   "cell_type": "code",
   "execution_count": 18,
   "id": "995e329b-72fa-4440-bebe-4f7b33ff21a3",
   "metadata": {},
   "outputs": [],
   "source": [
    "df_efc_metrics.loc[1] = metric_dict_2"
   ]
  },
  {
   "cell_type": "code",
   "execution_count": 19,
   "id": "f04fd0ed-543c-48ff-b84c-8d700689d124",
   "metadata": {},
   "outputs": [
    {
     "data": {
      "text/html": [
       "<div>\n",
       "<style scoped>\n",
       "    .dataframe tbody tr th:only-of-type {\n",
       "        vertical-align: middle;\n",
       "    }\n",
       "\n",
       "    .dataframe tbody tr th {\n",
       "        vertical-align: top;\n",
       "    }\n",
       "\n",
       "    .dataframe thead th {\n",
       "        text-align: right;\n",
       "    }\n",
       "</style>\n",
       "<table border=\"1\" class=\"dataframe\">\n",
       "  <thead>\n",
       "    <tr style=\"text-align: right;\">\n",
       "      <th></th>\n",
       "      <th>Technique</th>\n",
       "      <th>accuracy</th>\n",
       "      <th>f1</th>\n",
       "      <th>f1_micro</th>\n",
       "      <th>f1_macro</th>\n",
       "      <th>precision</th>\n",
       "      <th>recall</th>\n",
       "    </tr>\n",
       "  </thead>\n",
       "  <tbody>\n",
       "    <tr>\n",
       "      <th>0</th>\n",
       "      <td>Unbalanced Dataset</td>\n",
       "      <td>0.907978</td>\n",
       "      <td>0.891453</td>\n",
       "      <td>0.907978</td>\n",
       "      <td>0.487943</td>\n",
       "      <td>0.876073</td>\n",
       "      <td>0.907978</td>\n",
       "    </tr>\n",
       "    <tr>\n",
       "      <th>1</th>\n",
       "      <td>Balanced Dataset (Equally Distributed Classes)</td>\n",
       "      <td>0.675468</td>\n",
       "      <td>0.644026</td>\n",
       "      <td>0.675468</td>\n",
       "      <td>0.644065</td>\n",
       "      <td>0.771573</td>\n",
       "      <td>0.675468</td>\n",
       "    </tr>\n",
       "  </tbody>\n",
       "</table>\n",
       "</div>"
      ],
      "text/plain": [
       "                                        Technique  accuracy        f1  \\\n",
       "0                              Unbalanced Dataset  0.907978  0.891453   \n",
       "1  Balanced Dataset (Equally Distributed Classes)  0.675468  0.644026   \n",
       "\n",
       "   f1_micro  f1_macro  precision    recall  \n",
       "0  0.907978  0.487943   0.876073  0.907978  \n",
       "1  0.675468  0.644065   0.771573  0.675468  "
      ]
     },
     "execution_count": 19,
     "metadata": {},
     "output_type": "execute_result"
    }
   ],
   "source": [
    "df_efc_metrics"
   ]
  },
  {
   "cell_type": "code",
   "execution_count": 20,
   "id": "a5f5f571-86e8-47fc-894b-629a0b34782a",
   "metadata": {},
   "outputs": [
    {
     "data": {
      "text/plain": [
       "{'Technique': 'Balanced Dataset (Equally Distributed Classes)',\n",
       " 'True Negative': 1326,\n",
       " 'False positive': 37,\n",
       " 'False Negative': 848,\n",
       " 'True Positive': 516}"
      ]
     },
     "execution_count": 20,
     "metadata": {},
     "output_type": "execute_result"
    }
   ],
   "source": [
    "confusion_matrix_2"
   ]
  },
  {
   "cell_type": "code",
   "execution_count": 21,
   "id": "48346b45-83e1-45f6-ada7-c08288c82930",
   "metadata": {},
   "outputs": [],
   "source": [
    "df_efc_confusion_matrix.loc[1] = confusion_matrix_2"
   ]
  },
  {
   "cell_type": "code",
   "execution_count": 22,
   "id": "51feb34d-69d9-417c-9f12-5a6cf4a53a92",
   "metadata": {},
   "outputs": [
    {
     "data": {
      "text/html": [
       "<div>\n",
       "<style scoped>\n",
       "    .dataframe tbody tr th:only-of-type {\n",
       "        vertical-align: middle;\n",
       "    }\n",
       "\n",
       "    .dataframe tbody tr th {\n",
       "        vertical-align: top;\n",
       "    }\n",
       "\n",
       "    .dataframe thead th {\n",
       "        text-align: right;\n",
       "    }\n",
       "</style>\n",
       "<table border=\"1\" class=\"dataframe\">\n",
       "  <thead>\n",
       "    <tr style=\"text-align: right;\">\n",
       "      <th></th>\n",
       "      <th>True Negative</th>\n",
       "      <th>False positive</th>\n",
       "      <th>False Negative</th>\n",
       "      <th>True Positive</th>\n",
       "      <th>Technique</th>\n",
       "    </tr>\n",
       "  </thead>\n",
       "  <tbody>\n",
       "    <tr>\n",
       "      <th>0</th>\n",
       "      <td>19</td>\n",
       "      <td>1064</td>\n",
       "      <td>470</td>\n",
       "      <td>15117</td>\n",
       "      <td>Unbalanced Dataset</td>\n",
       "    </tr>\n",
       "    <tr>\n",
       "      <th>1</th>\n",
       "      <td>1326</td>\n",
       "      <td>37</td>\n",
       "      <td>848</td>\n",
       "      <td>516</td>\n",
       "      <td>Balanced Dataset (Equally Distributed Classes)</td>\n",
       "    </tr>\n",
       "  </tbody>\n",
       "</table>\n",
       "</div>"
      ],
      "text/plain": [
       "   True Negative  False positive  False Negative  True Positive  \\\n",
       "0             19            1064             470          15117   \n",
       "1           1326              37             848            516   \n",
       "\n",
       "                                        Technique  \n",
       "0                              Unbalanced Dataset  \n",
       "1  Balanced Dataset (Equally Distributed Classes)  "
      ]
     },
     "execution_count": 22,
     "metadata": {},
     "output_type": "execute_result"
    }
   ],
   "source": [
    "df_efc_confusion_matrix"
   ]
  },
  {
   "cell_type": "markdown",
   "id": "e8a27561-ebb2-451b-bad9-1a3852345bda",
   "metadata": {},
   "source": [
    "### SMOTE"
   ]
  },
  {
   "cell_type": "code",
   "execution_count": 23,
   "id": "20448cea-f169-4aff-9ba3-0f9b1ac58e6f",
   "metadata": {},
   "outputs": [
    {
     "name": "stderr",
     "output_type": "stream",
     "text": [
      "/Users/kevinaraujo/repos/dissertation/PPCA-UnB-Dissertation/models/notebooks/efc/shared_functions.py:80: FutureWarning: Downcasting behavior in `replace` is deprecated and will be removed in a future version. To retain the old behavior, explicitly call `result.infer_objects(copy=False)`. To opt-in to the future behavior, set `pd.set_option('future.no_silent_downcasting', True)`\n",
      "  df_classes.replace({\"class\": {\"1\": 1, \"2\": 0, \"unknown\": 2}}, inplace=True)\n",
      "/Users/kevinaraujo/.pyenv/versions/masters/lib/python3.12/site-packages/imblearn/over_sampling/_smote/base.py:370: FutureWarning: The parameter `n_jobs` has been deprecated in 0.10 and will be removed in 0.12. You can pass an nearest neighbors estimator where `n_jobs` is already set instead.\n",
      "  warnings.warn(\n"
     ]
    },
    {
     "data": {
      "image/png": "[encoded data removed]",
      "text/plain": [
       "<Figure size 640x480 with 1 Axes>"
      ]
     },
     "metadata": {},
     "output_type": "display_data"
    }
   ],
   "source": [
    "sizes_3, metric_dict_3, confusion_matrix_3 = smote(\n",
    "    technique=\"Smote\",\n",
    "    fig_folder=FIG_FOLDER.format(technique='3_smote_minority'),\n",
    "    fig_name=FIG_NAME.format(figure='3_smote_minority')\n",
    ")"
   ]
  },
  {
   "cell_type": "code",
   "execution_count": 24,
   "id": "3d7620bd-ced3-4a45-b4c2-70a86f50fad6",
   "metadata": {},
   "outputs": [],
   "source": [
    "df_sizes.loc[2] = sizes_3"
   ]
  },
  {
   "cell_type": "code",
   "execution_count": 25,
   "id": "72753b3f-79fa-45ff-a7d8-bc8aabe0091d",
   "metadata": {},
   "outputs": [
    {
     "data": {
      "text/html": [
       "<div>\n",
       "<style scoped>\n",
       "    .dataframe tbody tr th:only-of-type {\n",
       "        vertical-align: middle;\n",
       "    }\n",
       "\n",
       "    .dataframe tbody tr th {\n",
       "        vertical-align: top;\n",
       "    }\n",
       "\n",
       "    .dataframe thead th {\n",
       "        text-align: right;\n",
       "    }\n",
       "</style>\n",
       "<table border=\"1\" class=\"dataframe\">\n",
       "  <thead>\n",
       "    <tr style=\"text-align: right;\">\n",
       "      <th></th>\n",
       "      <th>Technique</th>\n",
       "      <th>X Size</th>\n",
       "      <th>y Size</th>\n",
       "      <th>X_train Size</th>\n",
       "      <th>X_test Size</th>\n",
       "      <th>y_train Size</th>\n",
       "      <th>y_test Size</th>\n",
       "      <th>y_train Malicious Size</th>\n",
       "      <th>y_train Bening Size</th>\n",
       "      <th>y_test Malicious Size</th>\n",
       "      <th>y_test Bening Size</th>\n",
       "    </tr>\n",
       "  </thead>\n",
       "  <tbody>\n",
       "    <tr>\n",
       "      <th>0</th>\n",
       "      <td>Unbalanced Dataset</td>\n",
       "      <td>46564</td>\n",
       "      <td>46564</td>\n",
       "      <td>29894</td>\n",
       "      <td>16670</td>\n",
       "      <td>29894</td>\n",
       "      <td>16670</td>\n",
       "      <td>3462</td>\n",
       "      <td>26432</td>\n",
       "      <td>1083</td>\n",
       "      <td>15587</td>\n",
       "    </tr>\n",
       "    <tr>\n",
       "      <th>1</th>\n",
       "      <td>Balanced Dataset (Equally Distributed Classes)</td>\n",
       "      <td>9090</td>\n",
       "      <td>9090</td>\n",
       "      <td>6363</td>\n",
       "      <td>2727</td>\n",
       "      <td>6363</td>\n",
       "      <td>2727</td>\n",
       "      <td>3182</td>\n",
       "      <td>3181</td>\n",
       "      <td>1363</td>\n",
       "      <td>1364</td>\n",
       "    </tr>\n",
       "    <tr>\n",
       "      <th>2</th>\n",
       "      <td>Smote</td>\n",
       "      <td>84038</td>\n",
       "      <td>84038</td>\n",
       "      <td>58826</td>\n",
       "      <td>25212</td>\n",
       "      <td>58826</td>\n",
       "      <td>25212</td>\n",
       "      <td>29413</td>\n",
       "      <td>29413</td>\n",
       "      <td>12606</td>\n",
       "      <td>12606</td>\n",
       "    </tr>\n",
       "  </tbody>\n",
       "</table>\n",
       "</div>"
      ],
      "text/plain": [
       "                                        Technique  X Size  y Size  \\\n",
       "0                              Unbalanced Dataset   46564   46564   \n",
       "1  Balanced Dataset (Equally Distributed Classes)    9090    9090   \n",
       "2                                           Smote   84038   84038   \n",
       "\n",
       "   X_train Size  X_test Size  y_train Size  y_test Size  \\\n",
       "0         29894        16670         29894        16670   \n",
       "1          6363         2727          6363         2727   \n",
       "2         58826        25212         58826        25212   \n",
       "\n",
       "   y_train Malicious Size  y_train Bening Size  y_test Malicious Size  \\\n",
       "0                    3462                26432                   1083   \n",
       "1                    3182                 3181                   1363   \n",
       "2                   29413                29413                  12606   \n",
       "\n",
       "   y_test Bening Size  \n",
       "0               15587  \n",
       "1                1364  \n",
       "2               12606  "
      ]
     },
     "execution_count": 25,
     "metadata": {},
     "output_type": "execute_result"
    }
   ],
   "source": [
    "df_sizes"
   ]
  },
  {
   "cell_type": "code",
   "execution_count": 26,
   "id": "718974ea-8f5a-4985-a1fe-4bb960d008b0",
   "metadata": {},
   "outputs": [],
   "source": [
    "df_efc_metrics.loc[2] = metric_dict_3"
   ]
  },
  {
   "cell_type": "code",
   "execution_count": 27,
   "id": "f89a7537-04d6-4d7d-8395-99062940634e",
   "metadata": {},
   "outputs": [
    {
     "data": {
      "text/html": [
       "<div>\n",
       "<style scoped>\n",
       "    .dataframe tbody tr th:only-of-type {\n",
       "        vertical-align: middle;\n",
       "    }\n",
       "\n",
       "    .dataframe tbody tr th {\n",
       "        vertical-align: top;\n",
       "    }\n",
       "\n",
       "    .dataframe thead th {\n",
       "        text-align: right;\n",
       "    }\n",
       "</style>\n",
       "<table border=\"1\" class=\"dataframe\">\n",
       "  <thead>\n",
       "    <tr style=\"text-align: right;\">\n",
       "      <th></th>\n",
       "      <th>Technique</th>\n",
       "      <th>accuracy</th>\n",
       "      <th>f1</th>\n",
       "      <th>f1_micro</th>\n",
       "      <th>f1_macro</th>\n",
       "      <th>precision</th>\n",
       "      <th>recall</th>\n",
       "    </tr>\n",
       "  </thead>\n",
       "  <tbody>\n",
       "    <tr>\n",
       "      <th>0</th>\n",
       "      <td>Unbalanced Dataset</td>\n",
       "      <td>0.907978</td>\n",
       "      <td>0.891453</td>\n",
       "      <td>0.907978</td>\n",
       "      <td>0.487943</td>\n",
       "      <td>0.876073</td>\n",
       "      <td>0.907978</td>\n",
       "    </tr>\n",
       "    <tr>\n",
       "      <th>1</th>\n",
       "      <td>Balanced Dataset (Equally Distributed Classes)</td>\n",
       "      <td>0.675468</td>\n",
       "      <td>0.644026</td>\n",
       "      <td>0.675468</td>\n",
       "      <td>0.644065</td>\n",
       "      <td>0.771573</td>\n",
       "      <td>0.675468</td>\n",
       "    </tr>\n",
       "    <tr>\n",
       "      <th>2</th>\n",
       "      <td>Smote</td>\n",
       "      <td>0.908575</td>\n",
       "      <td>0.908352</td>\n",
       "      <td>0.908575</td>\n",
       "      <td>0.908352</td>\n",
       "      <td>0.912600</td>\n",
       "      <td>0.908575</td>\n",
       "    </tr>\n",
       "  </tbody>\n",
       "</table>\n",
       "</div>"
      ],
      "text/plain": [
       "                                        Technique  accuracy        f1  \\\n",
       "0                              Unbalanced Dataset  0.907978  0.891453   \n",
       "1  Balanced Dataset (Equally Distributed Classes)  0.675468  0.644026   \n",
       "2                                           Smote  0.908575  0.908352   \n",
       "\n",
       "   f1_micro  f1_macro  precision    recall  \n",
       "0  0.907978  0.487943   0.876073  0.907978  \n",
       "1  0.675468  0.644065   0.771573  0.675468  \n",
       "2  0.908575  0.908352   0.912600  0.908575  "
      ]
     },
     "execution_count": 27,
     "metadata": {},
     "output_type": "execute_result"
    }
   ],
   "source": [
    "df_efc_metrics"
   ]
  },
  {
   "cell_type": "code",
   "execution_count": 28,
   "id": "6c8aee5e-8bc1-4d06-b724-76ac9407e9f0",
   "metadata": {},
   "outputs": [],
   "source": [
    "df_efc_confusion_matrix.loc[2] = confusion_matrix_3"
   ]
  },
  {
   "cell_type": "code",
   "execution_count": 29,
   "id": "c5111d25-f355-4e30-870a-583b3d698347",
   "metadata": {},
   "outputs": [
    {
     "data": {
      "text/html": [
       "<div>\n",
       "<style scoped>\n",
       "    .dataframe tbody tr th:only-of-type {\n",
       "        vertical-align: middle;\n",
       "    }\n",
       "\n",
       "    .dataframe tbody tr th {\n",
       "        vertical-align: top;\n",
       "    }\n",
       "\n",
       "    .dataframe thead th {\n",
       "        text-align: right;\n",
       "    }\n",
       "</style>\n",
       "<table border=\"1\" class=\"dataframe\">\n",
       "  <thead>\n",
       "    <tr style=\"text-align: right;\">\n",
       "      <th></th>\n",
       "      <th>True Negative</th>\n",
       "      <th>False positive</th>\n",
       "      <th>False Negative</th>\n",
       "      <th>True Positive</th>\n",
       "      <th>Technique</th>\n",
       "    </tr>\n",
       "  </thead>\n",
       "  <tbody>\n",
       "    <tr>\n",
       "      <th>0</th>\n",
       "      <td>19</td>\n",
       "      <td>1064</td>\n",
       "      <td>470</td>\n",
       "      <td>15117</td>\n",
       "      <td>Unbalanced Dataset</td>\n",
       "    </tr>\n",
       "    <tr>\n",
       "      <th>1</th>\n",
       "      <td>1326</td>\n",
       "      <td>37</td>\n",
       "      <td>848</td>\n",
       "      <td>516</td>\n",
       "      <td>Balanced Dataset (Equally Distributed Classes)</td>\n",
       "    </tr>\n",
       "    <tr>\n",
       "      <th>2</th>\n",
       "      <td>12076</td>\n",
       "      <td>530</td>\n",
       "      <td>1775</td>\n",
       "      <td>10831</td>\n",
       "      <td>Smote</td>\n",
       "    </tr>\n",
       "  </tbody>\n",
       "</table>\n",
       "</div>"
      ],
      "text/plain": [
       "   True Negative  False positive  False Negative  True Positive  \\\n",
       "0             19            1064             470          15117   \n",
       "1           1326              37             848            516   \n",
       "2          12076             530            1775          10831   \n",
       "\n",
       "                                        Technique  \n",
       "0                              Unbalanced Dataset  \n",
       "1  Balanced Dataset (Equally Distributed Classes)  \n",
       "2                                           Smote  "
      ]
     },
     "execution_count": 29,
     "metadata": {},
     "output_type": "execute_result"
    }
   ],
   "source": [
    "df_efc_confusion_matrix"
   ]
  },
  {
   "cell_type": "markdown",
   "id": "23118beb-bc39-41d5-872e-fe2bda4fe25a",
   "metadata": {},
   "source": [
    "### Random Resampling Imbalanced Datasets"
   ]
  },
  {
   "cell_type": "markdown",
   "id": "d3d12802-429c-4950-b545-2ad7618e6a38",
   "metadata": {},
   "source": [
    "#### Random Oversampling"
   ]
  },
  {
   "cell_type": "markdown",
   "id": "382940c0-8001-4322-b59e-e5842e8ece43",
   "metadata": {},
   "source": [
    "The random oversampling may increase the likelihood of occurring overfitting, since it makes exact copies of the minority class examples. Let's say every data point from the minority class is copied 6 times before making the splits. If we did a 3-fold validation, each fold has (on average) 2 copies of each point! In this way a classifier might construct rules that are apparently accurate, but actually cover one replicated example."
   ]
  },
  {
   "cell_type": "markdown",
   "id": "7f49592f-f879-4433-9c94-d7aafd895bcc",
   "metadata": {},
   "source": [
    "##### Imbalanced-Learn Pipeline"
   ]
  },
  {
   "cell_type": "markdown",
   "id": "aae3ac8b-4311-450e-9292-efd065f57b20",
   "metadata": {},
   "source": [
    "The purpose of the pipeline is to assemble several steps that can be cross-validated together while setting different parameters.\n",
    "\n",
    "During the cross-validation process we should split into training and validation segments. Then, on each segment, we should:\n",
    "\n",
    "1.    Oversample the minority class.\n",
    "2.    Train the classifier on the training segment.\n",
    "3.    Validate the classifier on the remaining segment."
   ]
  },
  {
   "cell_type": "code",
   "execution_count": 30,
   "id": "5ebd76ed-2227-4df7-bdad-9ce1f32275e1",
   "metadata": {},
   "outputs": [
    {
     "name": "stderr",
     "output_type": "stream",
     "text": [
      "/Users/kevinaraujo/repos/dissertation/PPCA-UnB-Dissertation/models/notebooks/efc/shared_functions.py:80: FutureWarning: Downcasting behavior in `replace` is deprecated and will be removed in a future version. To retain the old behavior, explicitly call `result.infer_objects(copy=False)`. To opt-in to the future behavior, set `pd.set_option('future.no_silent_downcasting', True)`\n",
      "  df_classes.replace({\"class\": {\"1\": 1, \"2\": 0, \"unknown\": 2}}, inplace=True)\n"
     ]
    },
    {
     "name": "stdout",
     "output_type": "stream",
     "text": [
      "Genuine: 26432 / 50.0 % of the dataset\n",
      "Frauds: 26432 / 50.0 % of the dataset\n"
     ]
    }
   ],
   "source": [
    "sizes_4, metric_dict_4, confusion_matrix_4 = random_resampling(\n",
    "    technique=\"Random Oversampling\",\n",
    "    fig_folder=FIG_FOLDER.format(technique='4_random_resampling'),\n",
    "    fig_name=FIG_NAME.format(figure='4_1_random_oversampling'),\n",
    "    resampling=\"RandomOverSampler\",\n",
    ")"
   ]
  },
  {
   "cell_type": "code",
   "execution_count": 31,
   "id": "61553404-024c-495e-84d0-92eb95ed08ac",
   "metadata": {},
   "outputs": [],
   "source": [
    "df_sizes.loc[3] = sizes_4"
   ]
  },
  {
   "cell_type": "code",
   "execution_count": 32,
   "id": "c0266041-2a45-4472-a840-65203256b89d",
   "metadata": {},
   "outputs": [
    {
     "data": {
      "text/html": [
       "<div>\n",
       "<style scoped>\n",
       "    .dataframe tbody tr th:only-of-type {\n",
       "        vertical-align: middle;\n",
       "    }\n",
       "\n",
       "    .dataframe tbody tr th {\n",
       "        vertical-align: top;\n",
       "    }\n",
       "\n",
       "    .dataframe thead th {\n",
       "        text-align: right;\n",
       "    }\n",
       "</style>\n",
       "<table border=\"1\" class=\"dataframe\">\n",
       "  <thead>\n",
       "    <tr style=\"text-align: right;\">\n",
       "      <th></th>\n",
       "      <th>Technique</th>\n",
       "      <th>X Size</th>\n",
       "      <th>y Size</th>\n",
       "      <th>X_train Size</th>\n",
       "      <th>X_test Size</th>\n",
       "      <th>y_train Size</th>\n",
       "      <th>y_test Size</th>\n",
       "      <th>y_train Malicious Size</th>\n",
       "      <th>y_train Bening Size</th>\n",
       "      <th>y_test Malicious Size</th>\n",
       "      <th>y_test Bening Size</th>\n",
       "    </tr>\n",
       "  </thead>\n",
       "  <tbody>\n",
       "    <tr>\n",
       "      <th>0</th>\n",
       "      <td>Unbalanced Dataset</td>\n",
       "      <td>46564</td>\n",
       "      <td>46564</td>\n",
       "      <td>29894</td>\n",
       "      <td>16670</td>\n",
       "      <td>29894</td>\n",
       "      <td>16670</td>\n",
       "      <td>3462</td>\n",
       "      <td>26432</td>\n",
       "      <td>1083</td>\n",
       "      <td>15587</td>\n",
       "    </tr>\n",
       "    <tr>\n",
       "      <th>1</th>\n",
       "      <td>Balanced Dataset (Equally Distributed Classes)</td>\n",
       "      <td>9090</td>\n",
       "      <td>9090</td>\n",
       "      <td>6363</td>\n",
       "      <td>2727</td>\n",
       "      <td>6363</td>\n",
       "      <td>2727</td>\n",
       "      <td>3182</td>\n",
       "      <td>3181</td>\n",
       "      <td>1363</td>\n",
       "      <td>1364</td>\n",
       "    </tr>\n",
       "    <tr>\n",
       "      <th>2</th>\n",
       "      <td>Smote</td>\n",
       "      <td>84038</td>\n",
       "      <td>84038</td>\n",
       "      <td>58826</td>\n",
       "      <td>25212</td>\n",
       "      <td>58826</td>\n",
       "      <td>25212</td>\n",
       "      <td>29413</td>\n",
       "      <td>29413</td>\n",
       "      <td>12606</td>\n",
       "      <td>12606</td>\n",
       "    </tr>\n",
       "    <tr>\n",
       "      <th>3</th>\n",
       "      <td>Random Oversampling</td>\n",
       "      <td>69534</td>\n",
       "      <td>69534</td>\n",
       "      <td>52864</td>\n",
       "      <td>16670</td>\n",
       "      <td>52864</td>\n",
       "      <td>16670</td>\n",
       "      <td>26432</td>\n",
       "      <td>26432</td>\n",
       "      <td>1083</td>\n",
       "      <td>15587</td>\n",
       "    </tr>\n",
       "  </tbody>\n",
       "</table>\n",
       "</div>"
      ],
      "text/plain": [
       "                                        Technique  X Size  y Size  \\\n",
       "0                              Unbalanced Dataset   46564   46564   \n",
       "1  Balanced Dataset (Equally Distributed Classes)    9090    9090   \n",
       "2                                           Smote   84038   84038   \n",
       "3                             Random Oversampling   69534   69534   \n",
       "\n",
       "   X_train Size  X_test Size  y_train Size  y_test Size  \\\n",
       "0         29894        16670         29894        16670   \n",
       "1          6363         2727          6363         2727   \n",
       "2         58826        25212         58826        25212   \n",
       "3         52864        16670         52864        16670   \n",
       "\n",
       "   y_train Malicious Size  y_train Bening Size  y_test Malicious Size  \\\n",
       "0                    3462                26432                   1083   \n",
       "1                    3182                 3181                   1363   \n",
       "2                   29413                29413                  12606   \n",
       "3                   26432                26432                   1083   \n",
       "\n",
       "   y_test Bening Size  \n",
       "0               15587  \n",
       "1                1364  \n",
       "2               12606  \n",
       "3               15587  "
      ]
     },
     "execution_count": 32,
     "metadata": {},
     "output_type": "execute_result"
    }
   ],
   "source": [
    "df_sizes"
   ]
  },
  {
   "cell_type": "code",
   "execution_count": 33,
   "id": "1e0f6132-fe73-4e33-aeb5-620151d34aa6",
   "metadata": {},
   "outputs": [],
   "source": [
    "df_efc_metrics.loc[3] = metric_dict_4"
   ]
  },
  {
   "cell_type": "code",
   "execution_count": 34,
   "id": "0ee40fc4-90a1-423c-9c84-ec3e19dc4bb9",
   "metadata": {},
   "outputs": [
    {
     "data": {
      "text/html": [
       "<div>\n",
       "<style scoped>\n",
       "    .dataframe tbody tr th:only-of-type {\n",
       "        vertical-align: middle;\n",
       "    }\n",
       "\n",
       "    .dataframe tbody tr th {\n",
       "        vertical-align: top;\n",
       "    }\n",
       "\n",
       "    .dataframe thead th {\n",
       "        text-align: right;\n",
       "    }\n",
       "</style>\n",
       "<table border=\"1\" class=\"dataframe\">\n",
       "  <thead>\n",
       "    <tr style=\"text-align: right;\">\n",
       "      <th></th>\n",
       "      <th>Technique</th>\n",
       "      <th>accuracy</th>\n",
       "      <th>f1</th>\n",
       "      <th>f1_micro</th>\n",
       "      <th>f1_macro</th>\n",
       "      <th>precision</th>\n",
       "      <th>recall</th>\n",
       "    </tr>\n",
       "  </thead>\n",
       "  <tbody>\n",
       "    <tr>\n",
       "      <th>0</th>\n",
       "      <td>Unbalanced Dataset</td>\n",
       "      <td>0.907978</td>\n",
       "      <td>0.891453</td>\n",
       "      <td>0.907978</td>\n",
       "      <td>0.487943</td>\n",
       "      <td>0.876073</td>\n",
       "      <td>0.907978</td>\n",
       "    </tr>\n",
       "    <tr>\n",
       "      <th>1</th>\n",
       "      <td>Balanced Dataset (Equally Distributed Classes)</td>\n",
       "      <td>0.675468</td>\n",
       "      <td>0.644026</td>\n",
       "      <td>0.675468</td>\n",
       "      <td>0.644065</td>\n",
       "      <td>0.771573</td>\n",
       "      <td>0.675468</td>\n",
       "    </tr>\n",
       "    <tr>\n",
       "      <th>2</th>\n",
       "      <td>Smote</td>\n",
       "      <td>0.908575</td>\n",
       "      <td>0.908352</td>\n",
       "      <td>0.908575</td>\n",
       "      <td>0.908352</td>\n",
       "      <td>0.912600</td>\n",
       "      <td>0.908575</td>\n",
       "    </tr>\n",
       "    <tr>\n",
       "      <th>3</th>\n",
       "      <td>Random Oversampling</td>\n",
       "      <td>0.927594</td>\n",
       "      <td>0.906509</td>\n",
       "      <td>0.927594</td>\n",
       "      <td>0.533104</td>\n",
       "      <td>0.894525</td>\n",
       "      <td>0.927594</td>\n",
       "    </tr>\n",
       "  </tbody>\n",
       "</table>\n",
       "</div>"
      ],
      "text/plain": [
       "                                        Technique  accuracy        f1  \\\n",
       "0                              Unbalanced Dataset  0.907978  0.891453   \n",
       "1  Balanced Dataset (Equally Distributed Classes)  0.675468  0.644026   \n",
       "2                                           Smote  0.908575  0.908352   \n",
       "3                             Random Oversampling  0.927594  0.906509   \n",
       "\n",
       "   f1_micro  f1_macro  precision    recall  \n",
       "0  0.907978  0.487943   0.876073  0.907978  \n",
       "1  0.675468  0.644065   0.771573  0.675468  \n",
       "2  0.908575  0.908352   0.912600  0.908575  \n",
       "3  0.927594  0.533104   0.894525  0.927594  "
      ]
     },
     "execution_count": 34,
     "metadata": {},
     "output_type": "execute_result"
    }
   ],
   "source": [
    "df_efc_metrics"
   ]
  },
  {
   "cell_type": "code",
   "execution_count": 35,
   "id": "12b4035c-01d5-4d5e-b269-08e6c3c44403",
   "metadata": {},
   "outputs": [],
   "source": [
    "df_efc_confusion_matrix.loc[3] = confusion_matrix_4"
   ]
  },
  {
   "cell_type": "code",
   "execution_count": 36,
   "id": "cfdf4787-e742-4fee-9f9a-8cf28fde7c7b",
   "metadata": {},
   "outputs": [
    {
     "data": {
      "text/html": [
       "<div>\n",
       "<style scoped>\n",
       "    .dataframe tbody tr th:only-of-type {\n",
       "        vertical-align: middle;\n",
       "    }\n",
       "\n",
       "    .dataframe tbody tr th {\n",
       "        vertical-align: top;\n",
       "    }\n",
       "\n",
       "    .dataframe thead th {\n",
       "        text-align: right;\n",
       "    }\n",
       "</style>\n",
       "<table border=\"1\" class=\"dataframe\">\n",
       "  <thead>\n",
       "    <tr style=\"text-align: right;\">\n",
       "      <th></th>\n",
       "      <th>True Negative</th>\n",
       "      <th>False positive</th>\n",
       "      <th>False Negative</th>\n",
       "      <th>True Positive</th>\n",
       "      <th>Technique</th>\n",
       "    </tr>\n",
       "  </thead>\n",
       "  <tbody>\n",
       "    <tr>\n",
       "      <th>0</th>\n",
       "      <td>19</td>\n",
       "      <td>1064</td>\n",
       "      <td>470</td>\n",
       "      <td>15117</td>\n",
       "      <td>Unbalanced Dataset</td>\n",
       "    </tr>\n",
       "    <tr>\n",
       "      <th>1</th>\n",
       "      <td>1326</td>\n",
       "      <td>37</td>\n",
       "      <td>848</td>\n",
       "      <td>516</td>\n",
       "      <td>Balanced Dataset (Equally Distributed Classes)</td>\n",
       "    </tr>\n",
       "    <tr>\n",
       "      <th>2</th>\n",
       "      <td>12076</td>\n",
       "      <td>530</td>\n",
       "      <td>1775</td>\n",
       "      <td>10831</td>\n",
       "      <td>Smote</td>\n",
       "    </tr>\n",
       "    <tr>\n",
       "      <th>3</th>\n",
       "      <td>70</td>\n",
       "      <td>1013</td>\n",
       "      <td>194</td>\n",
       "      <td>15393</td>\n",
       "      <td>Random Oversampling</td>\n",
       "    </tr>\n",
       "  </tbody>\n",
       "</table>\n",
       "</div>"
      ],
      "text/plain": [
       "   True Negative  False positive  False Negative  True Positive  \\\n",
       "0             19            1064             470          15117   \n",
       "1           1326              37             848            516   \n",
       "2          12076             530            1775          10831   \n",
       "3             70            1013             194          15393   \n",
       "\n",
       "                                        Technique  \n",
       "0                              Unbalanced Dataset  \n",
       "1  Balanced Dataset (Equally Distributed Classes)  \n",
       "2                                           Smote  \n",
       "3                             Random Oversampling  "
      ]
     },
     "execution_count": 36,
     "metadata": {},
     "output_type": "execute_result"
    }
   ],
   "source": [
    "df_efc_confusion_matrix"
   ]
  },
  {
   "cell_type": "code",
   "execution_count": 37,
   "id": "44396b5a-22f4-495c-b041-96f406d024f2",
   "metadata": {},
   "outputs": [
    {
     "name": "stderr",
     "output_type": "stream",
     "text": [
      "/Users/kevinaraujo/repos/dissertation/PPCA-UnB-Dissertation/models/notebooks/efc/shared_functions.py:80: FutureWarning: Downcasting behavior in `replace` is deprecated and will be removed in a future version. To retain the old behavior, explicitly call `result.infer_objects(copy=False)`. To opt-in to the future behavior, set `pd.set_option('future.no_silent_downcasting', True)`\n",
      "  df_classes.replace({\"class\": {\"1\": 1, \"2\": 0, \"unknown\": 2}}, inplace=True)\n"
     ]
    },
    {
     "name": "stdout",
     "output_type": "stream",
     "text": [
      "Genuine: 3462 / 50.0 % of the dataset\n",
      "Frauds: 3462 / 50.0 % of the dataset\n"
     ]
    }
   ],
   "source": [
    "sizes_5, metric_dict_5, confusion_matrix_5 = random_resampling(\n",
    "    technique=\"Random Undersampling\",\n",
    "    fig_folder=FIG_FOLDER.format(technique='4_random_resampling'),\n",
    "    fig_name=FIG_NAME.format(figure='4_2_random_undersampling'),\n",
    "    resampling=\"RandomUnderSampler\",\n",
    ")"
   ]
  },
  {
   "cell_type": "code",
   "execution_count": 38,
   "id": "20952263-2ae3-4727-9b30-3c3042969e22",
   "metadata": {},
   "outputs": [],
   "source": [
    "df_sizes.loc[4] = sizes_5"
   ]
  },
  {
   "cell_type": "code",
   "execution_count": 39,
   "id": "e5c44b6d-dc7d-44c8-88e0-3ed153286590",
   "metadata": {},
   "outputs": [
    {
     "data": {
      "text/html": [
       "<div>\n",
       "<style scoped>\n",
       "    .dataframe tbody tr th:only-of-type {\n",
       "        vertical-align: middle;\n",
       "    }\n",
       "\n",
       "    .dataframe tbody tr th {\n",
       "        vertical-align: top;\n",
       "    }\n",
       "\n",
       "    .dataframe thead th {\n",
       "        text-align: right;\n",
       "    }\n",
       "</style>\n",
       "<table border=\"1\" class=\"dataframe\">\n",
       "  <thead>\n",
       "    <tr style=\"text-align: right;\">\n",
       "      <th></th>\n",
       "      <th>Technique</th>\n",
       "      <th>X Size</th>\n",
       "      <th>y Size</th>\n",
       "      <th>X_train Size</th>\n",
       "      <th>X_test Size</th>\n",
       "      <th>y_train Size</th>\n",
       "      <th>y_test Size</th>\n",
       "      <th>y_train Malicious Size</th>\n",
       "      <th>y_train Bening Size</th>\n",
       "      <th>y_test Malicious Size</th>\n",
       "      <th>y_test Bening Size</th>\n",
       "    </tr>\n",
       "  </thead>\n",
       "  <tbody>\n",
       "    <tr>\n",
       "      <th>0</th>\n",
       "      <td>Unbalanced Dataset</td>\n",
       "      <td>46564</td>\n",
       "      <td>46564</td>\n",
       "      <td>29894</td>\n",
       "      <td>16670</td>\n",
       "      <td>29894</td>\n",
       "      <td>16670</td>\n",
       "      <td>3462</td>\n",
       "      <td>26432</td>\n",
       "      <td>1083</td>\n",
       "      <td>15587</td>\n",
       "    </tr>\n",
       "    <tr>\n",
       "      <th>1</th>\n",
       "      <td>Balanced Dataset (Equally Distributed Classes)</td>\n",
       "      <td>9090</td>\n",
       "      <td>9090</td>\n",
       "      <td>6363</td>\n",
       "      <td>2727</td>\n",
       "      <td>6363</td>\n",
       "      <td>2727</td>\n",
       "      <td>3182</td>\n",
       "      <td>3181</td>\n",
       "      <td>1363</td>\n",
       "      <td>1364</td>\n",
       "    </tr>\n",
       "    <tr>\n",
       "      <th>2</th>\n",
       "      <td>Smote</td>\n",
       "      <td>84038</td>\n",
       "      <td>84038</td>\n",
       "      <td>58826</td>\n",
       "      <td>25212</td>\n",
       "      <td>58826</td>\n",
       "      <td>25212</td>\n",
       "      <td>29413</td>\n",
       "      <td>29413</td>\n",
       "      <td>12606</td>\n",
       "      <td>12606</td>\n",
       "    </tr>\n",
       "    <tr>\n",
       "      <th>3</th>\n",
       "      <td>Random Oversampling</td>\n",
       "      <td>69534</td>\n",
       "      <td>69534</td>\n",
       "      <td>52864</td>\n",
       "      <td>16670</td>\n",
       "      <td>52864</td>\n",
       "      <td>16670</td>\n",
       "      <td>26432</td>\n",
       "      <td>26432</td>\n",
       "      <td>1083</td>\n",
       "      <td>15587</td>\n",
       "    </tr>\n",
       "    <tr>\n",
       "      <th>4</th>\n",
       "      <td>Random Undersampling</td>\n",
       "      <td>23594</td>\n",
       "      <td>23594</td>\n",
       "      <td>6924</td>\n",
       "      <td>16670</td>\n",
       "      <td>6924</td>\n",
       "      <td>16670</td>\n",
       "      <td>3462</td>\n",
       "      <td>3462</td>\n",
       "      <td>1083</td>\n",
       "      <td>15587</td>\n",
       "    </tr>\n",
       "  </tbody>\n",
       "</table>\n",
       "</div>"
      ],
      "text/plain": [
       "                                        Technique  X Size  y Size  \\\n",
       "0                              Unbalanced Dataset   46564   46564   \n",
       "1  Balanced Dataset (Equally Distributed Classes)    9090    9090   \n",
       "2                                           Smote   84038   84038   \n",
       "3                             Random Oversampling   69534   69534   \n",
       "4                            Random Undersampling   23594   23594   \n",
       "\n",
       "   X_train Size  X_test Size  y_train Size  y_test Size  \\\n",
       "0         29894        16670         29894        16670   \n",
       "1          6363         2727          6363         2727   \n",
       "2         58826        25212         58826        25212   \n",
       "3         52864        16670         52864        16670   \n",
       "4          6924        16670          6924        16670   \n",
       "\n",
       "   y_train Malicious Size  y_train Bening Size  y_test Malicious Size  \\\n",
       "0                    3462                26432                   1083   \n",
       "1                    3182                 3181                   1363   \n",
       "2                   29413                29413                  12606   \n",
       "3                   26432                26432                   1083   \n",
       "4                    3462                 3462                   1083   \n",
       "\n",
       "   y_test Bening Size  \n",
       "0               15587  \n",
       "1                1364  \n",
       "2               12606  \n",
       "3               15587  \n",
       "4               15587  "
      ]
     },
     "execution_count": 39,
     "metadata": {},
     "output_type": "execute_result"
    }
   ],
   "source": [
    "df_sizes"
   ]
  },
  {
   "cell_type": "code",
   "execution_count": 40,
   "id": "a4ee9773-e198-4922-8699-391a2bb39833",
   "metadata": {},
   "outputs": [],
   "source": [
    "df_efc_metrics.loc[4] = metric_dict_5"
   ]
  },
  {
   "cell_type": "code",
   "execution_count": 41,
   "id": "2bff7e45-c62c-4fe4-8957-57ffe264a3c4",
   "metadata": {},
   "outputs": [
    {
     "data": {
      "text/html": [
       "<div>\n",
       "<style scoped>\n",
       "    .dataframe tbody tr th:only-of-type {\n",
       "        vertical-align: middle;\n",
       "    }\n",
       "\n",
       "    .dataframe tbody tr th {\n",
       "        vertical-align: top;\n",
       "    }\n",
       "\n",
       "    .dataframe thead th {\n",
       "        text-align: right;\n",
       "    }\n",
       "</style>\n",
       "<table border=\"1\" class=\"dataframe\">\n",
       "  <thead>\n",
       "    <tr style=\"text-align: right;\">\n",
       "      <th></th>\n",
       "      <th>Technique</th>\n",
       "      <th>accuracy</th>\n",
       "      <th>f1</th>\n",
       "      <th>f1_micro</th>\n",
       "      <th>f1_macro</th>\n",
       "      <th>precision</th>\n",
       "      <th>recall</th>\n",
       "    </tr>\n",
       "  </thead>\n",
       "  <tbody>\n",
       "    <tr>\n",
       "      <th>0</th>\n",
       "      <td>Unbalanced Dataset</td>\n",
       "      <td>0.907978</td>\n",
       "      <td>0.891453</td>\n",
       "      <td>0.907978</td>\n",
       "      <td>0.487943</td>\n",
       "      <td>0.876073</td>\n",
       "      <td>0.907978</td>\n",
       "    </tr>\n",
       "    <tr>\n",
       "      <th>1</th>\n",
       "      <td>Balanced Dataset (Equally Distributed Classes)</td>\n",
       "      <td>0.675468</td>\n",
       "      <td>0.644026</td>\n",
       "      <td>0.675468</td>\n",
       "      <td>0.644065</td>\n",
       "      <td>0.771573</td>\n",
       "      <td>0.675468</td>\n",
       "    </tr>\n",
       "    <tr>\n",
       "      <th>2</th>\n",
       "      <td>Smote</td>\n",
       "      <td>0.908575</td>\n",
       "      <td>0.908352</td>\n",
       "      <td>0.908575</td>\n",
       "      <td>0.908352</td>\n",
       "      <td>0.912600</td>\n",
       "      <td>0.908575</td>\n",
       "    </tr>\n",
       "    <tr>\n",
       "      <th>3</th>\n",
       "      <td>Random Oversampling</td>\n",
       "      <td>0.927594</td>\n",
       "      <td>0.906509</td>\n",
       "      <td>0.927594</td>\n",
       "      <td>0.533104</td>\n",
       "      <td>0.894525</td>\n",
       "      <td>0.927594</td>\n",
       "    </tr>\n",
       "    <tr>\n",
       "      <th>4</th>\n",
       "      <td>Random Undersampling</td>\n",
       "      <td>0.867546</td>\n",
       "      <td>0.890289</td>\n",
       "      <td>0.867546</td>\n",
       "      <td>0.651955</td>\n",
       "      <td>0.925580</td>\n",
       "      <td>0.867546</td>\n",
       "    </tr>\n",
       "  </tbody>\n",
       "</table>\n",
       "</div>"
      ],
      "text/plain": [
       "                                        Technique  accuracy        f1  \\\n",
       "0                              Unbalanced Dataset  0.907978  0.891453   \n",
       "1  Balanced Dataset (Equally Distributed Classes)  0.675468  0.644026   \n",
       "2                                           Smote  0.908575  0.908352   \n",
       "3                             Random Oversampling  0.927594  0.906509   \n",
       "4                            Random Undersampling  0.867546  0.890289   \n",
       "\n",
       "   f1_micro  f1_macro  precision    recall  \n",
       "0  0.907978  0.487943   0.876073  0.907978  \n",
       "1  0.675468  0.644065   0.771573  0.675468  \n",
       "2  0.908575  0.908352   0.912600  0.908575  \n",
       "3  0.927594  0.533104   0.894525  0.927594  \n",
       "4  0.867546  0.651955   0.925580  0.867546  "
      ]
     },
     "execution_count": 41,
     "metadata": {},
     "output_type": "execute_result"
    }
   ],
   "source": [
    "df_efc_metrics"
   ]
  },
  {
   "cell_type": "code",
   "execution_count": 42,
   "id": "edc0f6b3-f6ff-4775-85b2-692273b28f28",
   "metadata": {},
   "outputs": [],
   "source": [
    "df_efc_confusion_matrix.loc[4] = confusion_matrix_5"
   ]
  },
  {
   "cell_type": "code",
   "execution_count": 43,
   "id": "51b24e1b-352d-4f31-9e9b-47f0beb9f0a4",
   "metadata": {},
   "outputs": [
    {
     "data": {
      "text/html": [
       "<div>\n",
       "<style scoped>\n",
       "    .dataframe tbody tr th:only-of-type {\n",
       "        vertical-align: middle;\n",
       "    }\n",
       "\n",
       "    .dataframe tbody tr th {\n",
       "        vertical-align: top;\n",
       "    }\n",
       "\n",
       "    .dataframe thead th {\n",
       "        text-align: right;\n",
       "    }\n",
       "</style>\n",
       "<table border=\"1\" class=\"dataframe\">\n",
       "  <thead>\n",
       "    <tr style=\"text-align: right;\">\n",
       "      <th></th>\n",
       "      <th>True Negative</th>\n",
       "      <th>False positive</th>\n",
       "      <th>False Negative</th>\n",
       "      <th>True Positive</th>\n",
       "      <th>Technique</th>\n",
       "    </tr>\n",
       "  </thead>\n",
       "  <tbody>\n",
       "    <tr>\n",
       "      <th>0</th>\n",
       "      <td>19</td>\n",
       "      <td>1064</td>\n",
       "      <td>470</td>\n",
       "      <td>15117</td>\n",
       "      <td>Unbalanced Dataset</td>\n",
       "    </tr>\n",
       "    <tr>\n",
       "      <th>1</th>\n",
       "      <td>1326</td>\n",
       "      <td>37</td>\n",
       "      <td>848</td>\n",
       "      <td>516</td>\n",
       "      <td>Balanced Dataset (Equally Distributed Classes)</td>\n",
       "    </tr>\n",
       "    <tr>\n",
       "      <th>2</th>\n",
       "      <td>12076</td>\n",
       "      <td>530</td>\n",
       "      <td>1775</td>\n",
       "      <td>10831</td>\n",
       "      <td>Smote</td>\n",
       "    </tr>\n",
       "    <tr>\n",
       "      <th>3</th>\n",
       "      <td>70</td>\n",
       "      <td>1013</td>\n",
       "      <td>194</td>\n",
       "      <td>15393</td>\n",
       "      <td>Random Oversampling</td>\n",
       "    </tr>\n",
       "    <tr>\n",
       "      <th>4</th>\n",
       "      <td>671</td>\n",
       "      <td>412</td>\n",
       "      <td>1796</td>\n",
       "      <td>13791</td>\n",
       "      <td>Random Undersampling</td>\n",
       "    </tr>\n",
       "  </tbody>\n",
       "</table>\n",
       "</div>"
      ],
      "text/plain": [
       "   True Negative  False positive  False Negative  True Positive  \\\n",
       "0             19            1064             470          15117   \n",
       "1           1326              37             848            516   \n",
       "2          12076             530            1775          10831   \n",
       "3             70            1013             194          15393   \n",
       "4            671             412            1796          13791   \n",
       "\n",
       "                                        Technique  \n",
       "0                              Unbalanced Dataset  \n",
       "1  Balanced Dataset (Equally Distributed Classes)  \n",
       "2                                           Smote  \n",
       "3                             Random Oversampling  \n",
       "4                            Random Undersampling  "
      ]
     },
     "execution_count": 43,
     "metadata": {},
     "output_type": "execute_result"
    }
   ],
   "source": [
    "df_efc_confusion_matrix"
   ]
  },
  {
   "cell_type": "markdown",
   "id": "2e3b872e-04ee-4cda-bf52-31014fab14a1",
   "metadata": {},
   "source": [
    "### save results to a csv file"
   ]
  },
  {
   "cell_type": "code",
   "execution_count": 47,
   "id": "fa9824dd-e49c-4d4d-b0b2-a949162f1840",
   "metadata": {},
   "outputs": [],
   "source": [
    "FIG_FOLDER = \"results/efc/experiment-x-4\""
   ]
  },
  {
   "cell_type": "code",
   "execution_count": 48,
   "id": "d476e4e0-8ae8-4b58-b470-0408a54946ba",
   "metadata": {},
   "outputs": [],
   "source": [
    "file_name = f'{FIG_FOLDER}/df_sizes.csv'"
   ]
  },
  {
   "cell_type": "code",
   "execution_count": 49,
   "id": "d059a8a6-383e-4783-bf7e-824646c360f1",
   "metadata": {},
   "outputs": [],
   "source": [
    "df_sizes.to_csv(file_name, sep=',', encoding='utf-8', index=False, header=True)"
   ]
  },
  {
   "cell_type": "code",
   "execution_count": 50,
   "id": "9daac433-7a25-4fcb-a69a-79ce4f7c96b5",
   "metadata": {},
   "outputs": [],
   "source": [
    "file_name = f'{FIG_FOLDER}/df_efc_metrics.csv'"
   ]
  },
  {
   "cell_type": "code",
   "execution_count": 51,
   "id": "f4543326-4b79-4cf7-a968-98da046103be",
   "metadata": {},
   "outputs": [],
   "source": [
    "df_efc_metrics.to_csv(file_name, sep=',', encoding='utf-8', index=False, header=True)"
   ]
  },
  {
   "cell_type": "code",
   "execution_count": 52,
   "id": "1b2fa9da-a88a-4a52-aac8-530a7ce06183",
   "metadata": {},
   "outputs": [],
   "source": [
    "file_name = f'{FIG_FOLDER}/df_efc_confusion_matrix.csv'"
   ]
  },
  {
   "cell_type": "code",
   "execution_count": 53,
   "id": "07b8b7aa-84cb-453b-824a-a257b0e2c04f",
   "metadata": {},
   "outputs": [],
   "source": [
    "df_efc_confusion_matrix.to_csv(file_name, sep=',', encoding='utf-8', index=False, header=True)"
   ]
  },
  {
   "cell_type": "code",
   "execution_count": null,
   "id": "bad08b83-4472-41fd-88b5-9a17290f0fd1",
   "metadata": {},
   "outputs": [],
   "source": []
  }
 ],
 "metadata": {
  "kernelspec": {
   "display_name": "masters",
   "language": "python",
   "name": "masters"
  },
  "language_info": {
   "codemirror_mode": {
    "name": "ipython",
    "version": 3
   },
   "file_extension": ".py",
   "mimetype": "text/x-python",
   "name": "python",
   "nbconvert_exporter": "python",
   "pygments_lexer": "ipython3",
   "version": "3.12.1"
  }
 },
 "nbformat": 4,
 "nbformat_minor": 5
}
