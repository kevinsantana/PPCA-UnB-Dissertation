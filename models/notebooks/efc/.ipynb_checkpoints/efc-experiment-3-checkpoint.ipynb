{
 "cells": [
  {
   "cell_type": "markdown",
   "id": "cdd45186-69eb-4bc3-b59d-56e9922af610",
   "metadata": {},
   "source": [
    "# Experiment 3\n",
    "Including Only Labeled Samples"
   ]
  },
  {
   "cell_type": "markdown",
   "id": "a0a1d17c-a45d-4b4e-9dfd-7fab71f1be2b",
   "metadata": {},
   "source": [
    "## Dataset"
   ]
  },
  {
   "cell_type": "code",
   "execution_count": 1,
   "id": "80d22744-bc5a-466c-a32b-d176977c7760",
   "metadata": {},
   "outputs": [],
   "source": [
    "import os\n",
    "import sys\n",
    "\n",
    "import numpy as np\n",
    "import pandas as pd\n",
    "from matplotlib import pyplot as plt"
   ]
  },
  {
   "cell_type": "code",
   "execution_count": 2,
   "id": "461532d1-6828-47c3-b1ff-71274174f093",
   "metadata": {},
   "outputs": [],
   "source": [
    "ROOT_DIR = os.getcwd()\n",
    "sys.path.insert(0, ROOT_DIR)"
   ]
  },
  {
   "cell_type": "code",
   "execution_count": 3,
   "id": "783403a3-173d-4154-991e-605bd11b0e6f",
   "metadata": {},
   "outputs": [],
   "source": [
    "def combine_dataframes(df_classes, df_features, only_labeled=True):\n",
    "    df_combined = pd.merge(\n",
    "        df_features, df_classes, left_on=\"id\", right_on=\"txId\", how=\"left\"\n",
    "    )\n",
    "    if only_labeled == True:\n",
    "        df_combined = df_combined[df_combined[\"class\"] != 2].reset_index(drop=True)\n",
    "    df_combined.drop(columns=[\"txId\"], inplace=True)\n",
    "    return df_combined"
   ]
  },
  {
   "cell_type": "code",
   "execution_count": 4,
   "id": "abf10c84-1efd-480f-a41e-50c545ad4cf0",
   "metadata": {},
   "outputs": [],
   "source": [
    "def rename_classes(df_classes):\n",
    "    df_classes.replace({\"class\": {\"1\": 1, \"2\": 0, \"unknown\": 2}}, inplace=True)\n",
    "    return df_classes"
   ]
  },
  {
   "cell_type": "code",
   "execution_count": 5,
   "id": "51ce166f-b25f-43ab-bca8-a240318eff9b",
   "metadata": {},
   "outputs": [],
   "source": [
    "def rename_features(df_features):\n",
    "    df_features.columns = (\n",
    "        [\"id\", \"time_step\"]\n",
    "        + [f\"trans_feat_{i}\" for i in range(93)]\n",
    "        + [f\"agg_feat_{i}\" for i in range(72)]\n",
    "    )\n",
    "    return df_features"
   ]
  },
  {
   "cell_type": "code",
   "execution_count": 6,
   "id": "89a88f37-83f1-4dbe-ba5c-6917effe3156",
   "metadata": {},
   "outputs": [],
   "source": [
    "def import_elliptic_data_from_csvs():\n",
    "    df_classes = pd.read_csv(\n",
    "        os.path.join(ROOT_DIR, \"datasets/elliptic/elliptic_txs_classes.csv\")\n",
    "    )\n",
    "    df_edges = pd.read_csv(\n",
    "        os.path.join(ROOT_DIR, \"datasets/elliptic/elliptic_txs_edgelist.csv\")\n",
    "    )\n",
    "    df_features = pd.read_csv(\n",
    "        os.path.join(ROOT_DIR, \"datasets/elliptic/elliptic_txs_features.csv\"),\n",
    "        header=None,\n",
    "    )\n",
    "    return df_classes, df_edges, df_features"
   ]
  },
  {
   "cell_type": "code",
   "execution_count": 7,
   "id": "08bd3032-6e8b-4a70-b8c0-0231969684ca",
   "metadata": {},
   "outputs": [],
   "source": [
    "def setup_train_test_idx(\n",
    "    X, last_train_time_step, last_time_step, aggregated_timestamp_column=\"time_step\"\n",
    "):\n",
    "    \"\"\"The aggregated_time_step_column needs to be a column with integer values, such as year, month or day\"\"\"\n",
    "\n",
    "    split_timesteps = {}\n",
    "\n",
    "    split_timesteps[\"train\"] = list(range(last_train_time_step + 1))\n",
    "    split_timesteps[\"test\"] = list(range(last_train_time_step + 1, last_time_step + 1))\n",
    "\n",
    "    train_test_idx = {}\n",
    "    train_test_idx[\"train\"] = X[\n",
    "        X[aggregated_timestamp_column].isin(split_timesteps[\"train\"])\n",
    "    ].index\n",
    "    train_test_idx[\"test\"] = X[\n",
    "        X[aggregated_timestamp_column].isin(split_timesteps[\"test\"])\n",
    "    ].index\n",
    "\n",
    "    return train_test_idx"
   ]
  },
  {
   "cell_type": "code",
   "execution_count": 8,
   "id": "02154010-03b3-4e62-8c85-04c8bc5321e5",
   "metadata": {},
   "outputs": [],
   "source": [
    "def train_test_split(X, y, train_test_idx):\n",
    "    X_train_df = X.loc[train_test_idx[\"train\"]]\n",
    "    X_test_df = X.loc[train_test_idx[\"test\"]]\n",
    "\n",
    "    y_train = y.loc[train_test_idx[\"train\"]]\n",
    "    y_test = y.loc[train_test_idx[\"test\"]]\n",
    "\n",
    "    return X_train_df, X_test_df, y_train, y_test"
   ]
  },
  {
   "cell_type": "code",
   "execution_count": 9,
   "id": "dc4770d2-3e75-4933-851f-3ec1dd3eb855",
   "metadata": {},
   "outputs": [],
   "source": [
    "def load_elliptic_data(only_labeled=True, drop_node_id=True):\n",
    "    df_classes, df_edges, df_features = import_elliptic_data_from_csvs()\n",
    "    df_features = rename_features(df_features)\n",
    "    df_classes = rename_classes(df_classes)\n",
    "    df_combined = combine_dataframes(df_classes, df_features, only_labeled)\n",
    "\n",
    "    if drop_node_id == True:\n",
    "        X = df_combined.drop(columns=[\"id\", \"class\"])\n",
    "    else:\n",
    "        X = df_combined.drop(columns=\"class\")\n",
    "\n",
    "    y = df_combined[\"class\"]\n",
    "\n",
    "    return X, y"
   ]
  },
  {
   "cell_type": "code",
   "execution_count": 10,
   "id": "9b185fd4-8527-4e79-9757-117f7d273dd8",
   "metadata": {},
   "outputs": [],
   "source": [
    "def run_elliptic_preprocessing_pipeline(\n",
    "    last_train_time_step, last_time_step, only_labeled=True, drop_node_id=True\n",
    "):\n",
    "    X, y = load_elliptic_data(only_labeled, drop_node_id)\n",
    "    train_test_idx = setup_train_test_idx(X, last_train_time_step, last_time_step)\n",
    "    X_train_df, X_test_df, y_train, y_test = train_test_split(X, y, train_test_idx)\n",
    "\n",
    "    return X_train_df, X_test_df, y_train, y_test"
   ]
  },
  {
   "cell_type": "markdown",
   "id": "e5ae03f7-f859-4ba8-8db8-570a25407b7f",
   "metadata": {},
   "source": [
    "## EFC"
   ]
  },
  {
   "cell_type": "code",
   "execution_count": 11,
   "id": "04f2839e-f2e8-4a4f-b201-7f97fff10146",
   "metadata": {},
   "outputs": [],
   "source": [
    "from efc import EnergyBasedFlowClassifier"
   ]
  },
  {
   "cell_type": "code",
   "execution_count": 12,
   "id": "0d318056-1293-4875-a4a6-78ff78dd2c79",
   "metadata": {},
   "outputs": [],
   "source": [
    "# Elliptic data set timestep\n",
    "last_time_step = 49\n",
    "last_train_time_step = 34\n",
    "only_labeled = True"
   ]
  },
  {
   "cell_type": "code",
   "execution_count": 13,
   "id": "ee95d93f-8627-495a-bfcd-0e266594e173",
   "metadata": {},
   "outputs": [
    {
     "name": "stderr",
     "output_type": "stream",
     "text": [
      "/var/folders/8b/c9dvlw851kx2vf3r7gc5gbbh0000gn/T/ipykernel_57958/3533226547.py:2: FutureWarning: Downcasting behavior in `replace` is deprecated and will be removed in a future version. To retain the old behavior, explicitly call `result.infer_objects(copy=False)`. To opt-in to the future behavior, set `pd.set_option('future.no_silent_downcasting', True)`\n",
      "  df_classes.replace({\"class\": {\"1\": 1, \"2\": 0, \"unknown\": 2}}, inplace=True)\n"
     ]
    }
   ],
   "source": [
    "X_train_df, X_test_df, y_train, y_test = run_elliptic_preprocessing_pipeline(\n",
    "    last_train_time_step=last_train_time_step,\n",
    "    last_time_step=last_time_step,\n",
    "    only_labeled=only_labeled,\n",
    ")"
   ]
  },
  {
   "cell_type": "code",
   "execution_count": 83,
   "id": "39753877-a04a-43df-b45b-a346431c999c",
   "metadata": {},
   "outputs": [
    {
     "data": {
      "text/html": [
       "<div>\n",
       "<style scoped>\n",
       "    .dataframe tbody tr th:only-of-type {\n",
       "        vertical-align: middle;\n",
       "    }\n",
       "\n",
       "    .dataframe tbody tr th {\n",
       "        vertical-align: top;\n",
       "    }\n",
       "\n",
       "    .dataframe thead th {\n",
       "        text-align: right;\n",
       "    }\n",
       "</style>\n",
       "<table border=\"1\" class=\"dataframe\">\n",
       "  <thead>\n",
       "    <tr style=\"text-align: right;\">\n",
       "      <th></th>\n",
       "      <th>time_step</th>\n",
       "      <th>trans_feat_0</th>\n",
       "      <th>trans_feat_1</th>\n",
       "      <th>trans_feat_2</th>\n",
       "      <th>trans_feat_3</th>\n",
       "      <th>trans_feat_4</th>\n",
       "      <th>trans_feat_5</th>\n",
       "      <th>trans_feat_6</th>\n",
       "      <th>trans_feat_7</th>\n",
       "      <th>trans_feat_8</th>\n",
       "      <th>...</th>\n",
       "      <th>agg_feat_62</th>\n",
       "      <th>agg_feat_63</th>\n",
       "      <th>agg_feat_64</th>\n",
       "      <th>agg_feat_65</th>\n",
       "      <th>agg_feat_66</th>\n",
       "      <th>agg_feat_67</th>\n",
       "      <th>agg_feat_68</th>\n",
       "      <th>agg_feat_69</th>\n",
       "      <th>agg_feat_70</th>\n",
       "      <th>agg_feat_71</th>\n",
       "    </tr>\n",
       "  </thead>\n",
       "  <tbody>\n",
       "    <tr>\n",
       "      <th>0</th>\n",
       "      <td>1</td>\n",
       "      <td>0.163054</td>\n",
       "      <td>1.963790</td>\n",
       "      <td>-0.646376</td>\n",
       "      <td>12.409294</td>\n",
       "      <td>-0.063725</td>\n",
       "      <td>9.782742</td>\n",
       "      <td>12.414558</td>\n",
       "      <td>-0.163645</td>\n",
       "      <td>-0.115831</td>\n",
       "      <td>...</td>\n",
       "      <td>-0.577099</td>\n",
       "      <td>-0.613614</td>\n",
       "      <td>0.241128</td>\n",
       "      <td>0.241406</td>\n",
       "      <td>1.072793</td>\n",
       "      <td>0.085530</td>\n",
       "      <td>-0.131155</td>\n",
       "      <td>0.677799</td>\n",
       "      <td>-0.120613</td>\n",
       "      <td>-0.119792</td>\n",
       "    </tr>\n",
       "    <tr>\n",
       "      <th>1</th>\n",
       "      <td>1</td>\n",
       "      <td>-0.005027</td>\n",
       "      <td>0.578941</td>\n",
       "      <td>-0.091383</td>\n",
       "      <td>4.380281</td>\n",
       "      <td>-0.063725</td>\n",
       "      <td>4.667146</td>\n",
       "      <td>0.851305</td>\n",
       "      <td>-0.163645</td>\n",
       "      <td>-0.144554</td>\n",
       "      <td>...</td>\n",
       "      <td>-0.577099</td>\n",
       "      <td>-0.613614</td>\n",
       "      <td>0.241128</td>\n",
       "      <td>0.241406</td>\n",
       "      <td>0.604120</td>\n",
       "      <td>0.008632</td>\n",
       "      <td>-0.131155</td>\n",
       "      <td>0.333211</td>\n",
       "      <td>-0.120613</td>\n",
       "      <td>-0.119792</td>\n",
       "    </tr>\n",
       "    <tr>\n",
       "      <th>2</th>\n",
       "      <td>1</td>\n",
       "      <td>-0.147852</td>\n",
       "      <td>-0.184668</td>\n",
       "      <td>-1.201369</td>\n",
       "      <td>-0.121970</td>\n",
       "      <td>-0.043875</td>\n",
       "      <td>-0.113002</td>\n",
       "      <td>-0.061584</td>\n",
       "      <td>-0.137933</td>\n",
       "      <td>-0.144108</td>\n",
       "      <td>...</td>\n",
       "      <td>-0.577099</td>\n",
       "      <td>-0.613614</td>\n",
       "      <td>0.241128</td>\n",
       "      <td>0.241406</td>\n",
       "      <td>0.018279</td>\n",
       "      <td>-0.087490</td>\n",
       "      <td>-0.131155</td>\n",
       "      <td>-0.097524</td>\n",
       "      <td>-0.120613</td>\n",
       "      <td>-0.119792</td>\n",
       "    </tr>\n",
       "    <tr>\n",
       "      <th>3</th>\n",
       "      <td>1</td>\n",
       "      <td>-0.151357</td>\n",
       "      <td>-0.184668</td>\n",
       "      <td>-1.201369</td>\n",
       "      <td>-0.121970</td>\n",
       "      <td>-0.043875</td>\n",
       "      <td>-0.113002</td>\n",
       "      <td>-0.061584</td>\n",
       "      <td>-0.141519</td>\n",
       "      <td>-0.147643</td>\n",
       "      <td>...</td>\n",
       "      <td>-0.539735</td>\n",
       "      <td>-0.582077</td>\n",
       "      <td>-0.979074</td>\n",
       "      <td>-0.978556</td>\n",
       "      <td>0.018279</td>\n",
       "      <td>-0.087490</td>\n",
       "      <td>-0.131155</td>\n",
       "      <td>-0.097524</td>\n",
       "      <td>-0.120613</td>\n",
       "      <td>-0.119792</td>\n",
       "    </tr>\n",
       "    <tr>\n",
       "      <th>4</th>\n",
       "      <td>1</td>\n",
       "      <td>-0.172306</td>\n",
       "      <td>-0.184668</td>\n",
       "      <td>-1.201369</td>\n",
       "      <td>0.028105</td>\n",
       "      <td>-0.043875</td>\n",
       "      <td>-0.029140</td>\n",
       "      <td>0.242712</td>\n",
       "      <td>-0.163640</td>\n",
       "      <td>-0.169115</td>\n",
       "      <td>...</td>\n",
       "      <td>-0.577099</td>\n",
       "      <td>-0.600999</td>\n",
       "      <td>0.241128</td>\n",
       "      <td>0.241406</td>\n",
       "      <td>0.018279</td>\n",
       "      <td>-0.068266</td>\n",
       "      <td>-0.084674</td>\n",
       "      <td>-0.054450</td>\n",
       "      <td>-1.760926</td>\n",
       "      <td>-1.760984</td>\n",
       "    </tr>\n",
       "    <tr>\n",
       "      <th>...</th>\n",
       "      <td>...</td>\n",
       "      <td>...</td>\n",
       "      <td>...</td>\n",
       "      <td>...</td>\n",
       "      <td>...</td>\n",
       "      <td>...</td>\n",
       "      <td>...</td>\n",
       "      <td>...</td>\n",
       "      <td>...</td>\n",
       "      <td>...</td>\n",
       "      <td>...</td>\n",
       "      <td>...</td>\n",
       "      <td>...</td>\n",
       "      <td>...</td>\n",
       "      <td>...</td>\n",
       "      <td>...</td>\n",
       "      <td>...</td>\n",
       "      <td>...</td>\n",
       "      <td>...</td>\n",
       "      <td>...</td>\n",
       "      <td>...</td>\n",
       "    </tr>\n",
       "    <tr>\n",
       "      <th>29889</th>\n",
       "      <td>34</td>\n",
       "      <td>-0.172968</td>\n",
       "      <td>-0.071395</td>\n",
       "      <td>0.463609</td>\n",
       "      <td>-0.121970</td>\n",
       "      <td>-0.043875</td>\n",
       "      <td>-0.113002</td>\n",
       "      <td>-0.061584</td>\n",
       "      <td>-0.163627</td>\n",
       "      <td>-0.169442</td>\n",
       "      <td>...</td>\n",
       "      <td>0.170195</td>\n",
       "      <td>1.266002</td>\n",
       "      <td>1.461330</td>\n",
       "      <td>1.461369</td>\n",
       "      <td>-0.098889</td>\n",
       "      <td>-0.106715</td>\n",
       "      <td>-0.131155</td>\n",
       "      <td>-0.183671</td>\n",
       "      <td>-0.120613</td>\n",
       "      <td>-0.119792</td>\n",
       "    </tr>\n",
       "    <tr>\n",
       "      <th>29890</th>\n",
       "      <td>34</td>\n",
       "      <td>-0.172924</td>\n",
       "      <td>-0.107411</td>\n",
       "      <td>1.018602</td>\n",
       "      <td>-0.121970</td>\n",
       "      <td>-0.063725</td>\n",
       "      <td>-0.113002</td>\n",
       "      <td>-0.061584</td>\n",
       "      <td>-0.163583</td>\n",
       "      <td>-0.169398</td>\n",
       "      <td>...</td>\n",
       "      <td>-0.577099</td>\n",
       "      <td>0.534340</td>\n",
       "      <td>0.241128</td>\n",
       "      <td>0.241406</td>\n",
       "      <td>-0.098889</td>\n",
       "      <td>-0.106715</td>\n",
       "      <td>-0.131155</td>\n",
       "      <td>-0.183671</td>\n",
       "      <td>-0.120613</td>\n",
       "      <td>-0.119792</td>\n",
       "    </tr>\n",
       "    <tr>\n",
       "      <th>29891</th>\n",
       "      <td>34</td>\n",
       "      <td>-0.172897</td>\n",
       "      <td>-0.070152</td>\n",
       "      <td>0.463609</td>\n",
       "      <td>-0.121970</td>\n",
       "      <td>-0.043875</td>\n",
       "      <td>-0.113002</td>\n",
       "      <td>-0.061584</td>\n",
       "      <td>-0.163555</td>\n",
       "      <td>-0.169371</td>\n",
       "      <td>...</td>\n",
       "      <td>-0.039047</td>\n",
       "      <td>-0.146863</td>\n",
       "      <td>1.461330</td>\n",
       "      <td>1.461369</td>\n",
       "      <td>0.018279</td>\n",
       "      <td>-0.087490</td>\n",
       "      <td>-0.131155</td>\n",
       "      <td>-0.097524</td>\n",
       "      <td>-0.120613</td>\n",
       "      <td>-0.119792</td>\n",
       "    </tr>\n",
       "    <tr>\n",
       "      <th>29892</th>\n",
       "      <td>34</td>\n",
       "      <td>-0.155367</td>\n",
       "      <td>-0.081852</td>\n",
       "      <td>0.463609</td>\n",
       "      <td>-0.121970</td>\n",
       "      <td>-0.043875</td>\n",
       "      <td>-0.113002</td>\n",
       "      <td>-0.061584</td>\n",
       "      <td>-0.145619</td>\n",
       "      <td>-0.151686</td>\n",
       "      <td>...</td>\n",
       "      <td>-0.577099</td>\n",
       "      <td>-0.613614</td>\n",
       "      <td>0.241128</td>\n",
       "      <td>0.241406</td>\n",
       "      <td>0.018279</td>\n",
       "      <td>-0.087490</td>\n",
       "      <td>-0.131155</td>\n",
       "      <td>-0.097524</td>\n",
       "      <td>-0.120613</td>\n",
       "      <td>-0.119792</td>\n",
       "    </tr>\n",
       "    <tr>\n",
       "      <th>29893</th>\n",
       "      <td>34</td>\n",
       "      <td>-0.172981</td>\n",
       "      <td>-0.070152</td>\n",
       "      <td>0.463609</td>\n",
       "      <td>-0.121970</td>\n",
       "      <td>-0.043875</td>\n",
       "      <td>-0.113002</td>\n",
       "      <td>-0.061584</td>\n",
       "      <td>-0.163641</td>\n",
       "      <td>-0.169455</td>\n",
       "      <td>...</td>\n",
       "      <td>-0.577099</td>\n",
       "      <td>0.635259</td>\n",
       "      <td>0.241128</td>\n",
       "      <td>0.241406</td>\n",
       "      <td>-0.098889</td>\n",
       "      <td>-0.106715</td>\n",
       "      <td>-0.131155</td>\n",
       "      <td>-0.183671</td>\n",
       "      <td>-0.120613</td>\n",
       "      <td>-0.119792</td>\n",
       "    </tr>\n",
       "  </tbody>\n",
       "</table>\n",
       "<p>29894 rows × 166 columns</p>\n",
       "</div>"
      ],
      "text/plain": [
       "       time_step  trans_feat_0  trans_feat_1  trans_feat_2  trans_feat_3  \\\n",
       "0              1      0.163054      1.963790     -0.646376     12.409294   \n",
       "1              1     -0.005027      0.578941     -0.091383      4.380281   \n",
       "2              1     -0.147852     -0.184668     -1.201369     -0.121970   \n",
       "3              1     -0.151357     -0.184668     -1.201369     -0.121970   \n",
       "4              1     -0.172306     -0.184668     -1.201369      0.028105   \n",
       "...          ...           ...           ...           ...           ...   \n",
       "29889         34     -0.172968     -0.071395      0.463609     -0.121970   \n",
       "29890         34     -0.172924     -0.107411      1.018602     -0.121970   \n",
       "29891         34     -0.172897     -0.070152      0.463609     -0.121970   \n",
       "29892         34     -0.155367     -0.081852      0.463609     -0.121970   \n",
       "29893         34     -0.172981     -0.070152      0.463609     -0.121970   \n",
       "\n",
       "       trans_feat_4  trans_feat_5  trans_feat_6  trans_feat_7  trans_feat_8  \\\n",
       "0         -0.063725      9.782742     12.414558     -0.163645     -0.115831   \n",
       "1         -0.063725      4.667146      0.851305     -0.163645     -0.144554   \n",
       "2         -0.043875     -0.113002     -0.061584     -0.137933     -0.144108   \n",
       "3         -0.043875     -0.113002     -0.061584     -0.141519     -0.147643   \n",
       "4         -0.043875     -0.029140      0.242712     -0.163640     -0.169115   \n",
       "...             ...           ...           ...           ...           ...   \n",
       "29889     -0.043875     -0.113002     -0.061584     -0.163627     -0.169442   \n",
       "29890     -0.063725     -0.113002     -0.061584     -0.163583     -0.169398   \n",
       "29891     -0.043875     -0.113002     -0.061584     -0.163555     -0.169371   \n",
       "29892     -0.043875     -0.113002     -0.061584     -0.145619     -0.151686   \n",
       "29893     -0.043875     -0.113002     -0.061584     -0.163641     -0.169455   \n",
       "\n",
       "       ...  agg_feat_62  agg_feat_63  agg_feat_64  agg_feat_65  agg_feat_66  \\\n",
       "0      ...    -0.577099    -0.613614     0.241128     0.241406     1.072793   \n",
       "1      ...    -0.577099    -0.613614     0.241128     0.241406     0.604120   \n",
       "2      ...    -0.577099    -0.613614     0.241128     0.241406     0.018279   \n",
       "3      ...    -0.539735    -0.582077    -0.979074    -0.978556     0.018279   \n",
       "4      ...    -0.577099    -0.600999     0.241128     0.241406     0.018279   \n",
       "...    ...          ...          ...          ...          ...          ...   \n",
       "29889  ...     0.170195     1.266002     1.461330     1.461369    -0.098889   \n",
       "29890  ...    -0.577099     0.534340     0.241128     0.241406    -0.098889   \n",
       "29891  ...    -0.039047    -0.146863     1.461330     1.461369     0.018279   \n",
       "29892  ...    -0.577099    -0.613614     0.241128     0.241406     0.018279   \n",
       "29893  ...    -0.577099     0.635259     0.241128     0.241406    -0.098889   \n",
       "\n",
       "       agg_feat_67  agg_feat_68  agg_feat_69  agg_feat_70  agg_feat_71  \n",
       "0         0.085530    -0.131155     0.677799    -0.120613    -0.119792  \n",
       "1         0.008632    -0.131155     0.333211    -0.120613    -0.119792  \n",
       "2        -0.087490    -0.131155    -0.097524    -0.120613    -0.119792  \n",
       "3        -0.087490    -0.131155    -0.097524    -0.120613    -0.119792  \n",
       "4        -0.068266    -0.084674    -0.054450    -1.760926    -1.760984  \n",
       "...            ...          ...          ...          ...          ...  \n",
       "29889    -0.106715    -0.131155    -0.183671    -0.120613    -0.119792  \n",
       "29890    -0.106715    -0.131155    -0.183671    -0.120613    -0.119792  \n",
       "29891    -0.087490    -0.131155    -0.097524    -0.120613    -0.119792  \n",
       "29892    -0.087490    -0.131155    -0.097524    -0.120613    -0.119792  \n",
       "29893    -0.106715    -0.131155    -0.183671    -0.120613    -0.119792  \n",
       "\n",
       "[29894 rows x 166 columns]"
      ]
     },
     "execution_count": 83,
     "metadata": {},
     "output_type": "execute_result"
    }
   ],
   "source": [
    "X_train_df"
   ]
  },
  {
   "cell_type": "code",
   "execution_count": 89,
   "id": "ec2f591f-520e-4917-b9bd-bc4493ebf848",
   "metadata": {},
   "outputs": [],
   "source": [
    "X_train_df.drop(columns=[f\"agg_feat_{i}\" for i in range(72)], axis=1, inplace=True)"
   ]
  },
  {
   "cell_type": "code",
   "execution_count": null,
   "id": "c1ea7f33-5f0d-4754-bff2-966010b6b1be",
   "metadata": {},
   "outputs": [],
   "source": [
    "X_test_df.drop(columns=[f\"agg_feat_{i}\" for i in range(72)], axis=1, inplace=True)"
   ]
  },
  {
   "cell_type": "code",
   "execution_count": null,
   "id": "44757fbf-bf12-46da-ba5d-0b37be2114a9",
   "metadata": {},
   "outputs": [],
   "source": [
    "y_train.drop(columns=[f\"agg_feat_{i}\" for i in range(72)], axis=1, inplace=True),, y_test"
   ]
  },
  {
   "cell_type": "code",
   "execution_count": null,
   "id": "96dfbe31-6970-444e-96f6-7adcaccb5e88",
   "metadata": {},
   "outputs": [],
   "source": []
  },
  {
   "cell_type": "code",
   "execution_count": 14,
   "id": "888fb717-601f-4ad1-afd2-2c936fa83a77",
   "metadata": {},
   "outputs": [],
   "source": [
    "results_efc = 'results/efc/experiment-3'"
   ]
  },
  {
   "cell_type": "code",
   "execution_count": 15,
   "id": "90545abd-7c3b-4a7c-81b6-9e3f798f567f",
   "metadata": {},
   "outputs": [],
   "source": [
    "sizes = {\n",
    "    \"X Size\": len(X_train_df) + len(X_test_df),\n",
    "    \"y Size\": len(y_train) + len(y_test),\n",
    "    \"X_train Size\": len(X_train_df),\n",
    "    \"X_test Size\": len(X_test_df),\n",
    "    \"y_train Size\": len(y_train),\n",
    "    \"y_test Size\": len(y_test),\n",
    "    \"y_train Malicious Size\": len(np.where(y_train == 1)[0]),\n",
    "    \"y_train Bening Size\": len(np.where(y_train == 0)[0]),\n",
    "    \"y_test Malicious Size\": len(np.where(y_test == 1)[0]),\n",
    "    \"y_test Bening Size\": len(np.where(y_test == 0)[0]),\n",
    "}"
   ]
  },
  {
   "cell_type": "code",
   "execution_count": 16,
   "id": "df0ded4c-93d8-48af-b4cd-c452944697aa",
   "metadata": {},
   "outputs": [],
   "source": [
    "df_sizes = pd.DataFrame(data=sizes, index=[0])"
   ]
  },
  {
   "cell_type": "code",
   "execution_count": 17,
   "id": "0535fcc8-438a-4ef4-848c-af43f2875f21",
   "metadata": {},
   "outputs": [
    {
     "data": {
      "text/html": [
       "<div>\n",
       "<style scoped>\n",
       "    .dataframe tbody tr th:only-of-type {\n",
       "        vertical-align: middle;\n",
       "    }\n",
       "\n",
       "    .dataframe tbody tr th {\n",
       "        vertical-align: top;\n",
       "    }\n",
       "\n",
       "    .dataframe thead th {\n",
       "        text-align: right;\n",
       "    }\n",
       "</style>\n",
       "<table border=\"1\" class=\"dataframe\">\n",
       "  <thead>\n",
       "    <tr style=\"text-align: right;\">\n",
       "      <th></th>\n",
       "      <th>X Size</th>\n",
       "      <th>y Size</th>\n",
       "      <th>X_train Size</th>\n",
       "      <th>X_test Size</th>\n",
       "      <th>y_train Size</th>\n",
       "      <th>y_test Size</th>\n",
       "      <th>y_train Malicious Size</th>\n",
       "      <th>y_train Bening Size</th>\n",
       "      <th>y_test Malicious Size</th>\n",
       "      <th>y_test Bening Size</th>\n",
       "    </tr>\n",
       "  </thead>\n",
       "  <tbody>\n",
       "    <tr>\n",
       "      <th>0</th>\n",
       "      <td>46564</td>\n",
       "      <td>46564</td>\n",
       "      <td>29894</td>\n",
       "      <td>16670</td>\n",
       "      <td>29894</td>\n",
       "      <td>16670</td>\n",
       "      <td>3462</td>\n",
       "      <td>26432</td>\n",
       "      <td>1083</td>\n",
       "      <td>15587</td>\n",
       "    </tr>\n",
       "  </tbody>\n",
       "</table>\n",
       "</div>"
      ],
      "text/plain": [
       "   X Size  y Size  X_train Size  X_test Size  y_train Size  y_test Size  \\\n",
       "0   46564   46564         29894        16670         29894        16670   \n",
       "\n",
       "   y_train Malicious Size  y_train Bening Size  y_test Malicious Size  \\\n",
       "0                    3462                26432                   1083   \n",
       "\n",
       "   y_test Bening Size  \n",
       "0               15587  "
      ]
     },
     "execution_count": 17,
     "metadata": {},
     "output_type": "execute_result"
    }
   ],
   "source": [
    "df_sizes"
   ]
  },
  {
   "cell_type": "code",
   "execution_count": 64,
   "id": "bd53f3d4-40ae-4cc2-9825-49bb4ff98e1c",
   "metadata": {},
   "outputs": [],
   "source": [
    "clf = EnergyBasedFlowClassifier(n_bins=20, cutoff_quantile=0.5)"
   ]
  },
  {
   "cell_type": "code",
   "execution_count": 65,
   "id": "16ba86c2-8bf6-48c2-b650-72a8be81e3d4",
   "metadata": {},
   "outputs": [
    {
     "data": {
      "text/html": [
       "<style>#sk-container-id-4 {\n",
       "  /* Definition of color scheme common for light and dark mode */\n",
       "  --sklearn-color-text: black;\n",
       "  --sklearn-color-line: gray;\n",
       "  /* Definition of color scheme for unfitted estimators */\n",
       "  --sklearn-color-unfitted-level-0: #fff5e6;\n",
       "  --sklearn-color-unfitted-level-1: #f6e4d2;\n",
       "  --sklearn-color-unfitted-level-2: #ffe0b3;\n",
       "  --sklearn-color-unfitted-level-3: chocolate;\n",
       "  /* Definition of color scheme for fitted estimators */\n",
       "  --sklearn-color-fitted-level-0: #f0f8ff;\n",
       "  --sklearn-color-fitted-level-1: #d4ebff;\n",
       "  --sklearn-color-fitted-level-2: #b3dbfd;\n",
       "  --sklearn-color-fitted-level-3: cornflowerblue;\n",
       "\n",
       "  /* Specific color for light theme */\n",
       "  --sklearn-color-text-on-default-background: var(--sg-text-color, var(--theme-code-foreground, var(--jp-content-font-color1, black)));\n",
       "  --sklearn-color-background: var(--sg-background-color, var(--theme-background, var(--jp-layout-color0, white)));\n",
       "  --sklearn-color-border-box: var(--sg-text-color, var(--theme-code-foreground, var(--jp-content-font-color1, black)));\n",
       "  --sklearn-color-icon: #696969;\n",
       "\n",
       "  @media (prefers-color-scheme: dark) {\n",
       "    /* Redefinition of color scheme for dark theme */\n",
       "    --sklearn-color-text-on-default-background: var(--sg-text-color, var(--theme-code-foreground, var(--jp-content-font-color1, white)));\n",
       "    --sklearn-color-background: var(--sg-background-color, var(--theme-background, var(--jp-layout-color0, #111)));\n",
       "    --sklearn-color-border-box: var(--sg-text-color, var(--theme-code-foreground, var(--jp-content-font-color1, white)));\n",
       "    --sklearn-color-icon: #878787;\n",
       "  }\n",
       "}\n",
       "\n",
       "#sk-container-id-4 {\n",
       "  color: var(--sklearn-color-text);\n",
       "}\n",
       "\n",
       "#sk-container-id-4 pre {\n",
       "  padding: 0;\n",
       "}\n",
       "\n",
       "#sk-container-id-4 input.sk-hidden--visually {\n",
       "  border: 0;\n",
       "  clip: rect(1px 1px 1px 1px);\n",
       "  clip: rect(1px, 1px, 1px, 1px);\n",
       "  height: 1px;\n",
       "  margin: -1px;\n",
       "  overflow: hidden;\n",
       "  padding: 0;\n",
       "  position: absolute;\n",
       "  width: 1px;\n",
       "}\n",
       "\n",
       "#sk-container-id-4 div.sk-dashed-wrapped {\n",
       "  border: 1px dashed var(--sklearn-color-line);\n",
       "  margin: 0 0.4em 0.5em 0.4em;\n",
       "  box-sizing: border-box;\n",
       "  padding-bottom: 0.4em;\n",
       "  background-color: var(--sklearn-color-background);\n",
       "}\n",
       "\n",
       "#sk-container-id-4 div.sk-container {\n",
       "  /* jupyter's `normalize.less` sets `[hidden] { display: none; }`\n",
       "     but bootstrap.min.css set `[hidden] { display: none !important; }`\n",
       "     so we also need the `!important` here to be able to override the\n",
       "     default hidden behavior on the sphinx rendered scikit-learn.org.\n",
       "     See: https://github.com/scikit-learn/scikit-learn/issues/21755 */\n",
       "  display: inline-block !important;\n",
       "  position: relative;\n",
       "}\n",
       "\n",
       "#sk-container-id-4 div.sk-text-repr-fallback {\n",
       "  display: none;\n",
       "}\n",
       "\n",
       "div.sk-parallel-item,\n",
       "div.sk-serial,\n",
       "div.sk-item {\n",
       "  /* draw centered vertical line to link estimators */\n",
       "  background-image: linear-gradient(var(--sklearn-color-text-on-default-background), var(--sklearn-color-text-on-default-background));\n",
       "  background-size: 2px 100%;\n",
       "  background-repeat: no-repeat;\n",
       "  background-position: center center;\n",
       "}\n",
       "\n",
       "/* Parallel-specific style estimator block */\n",
       "\n",
       "#sk-container-id-4 div.sk-parallel-item::after {\n",
       "  content: \"\";\n",
       "  width: 100%;\n",
       "  border-bottom: 2px solid var(--sklearn-color-text-on-default-background);\n",
       "  flex-grow: 1;\n",
       "}\n",
       "\n",
       "#sk-container-id-4 div.sk-parallel {\n",
       "  display: flex;\n",
       "  align-items: stretch;\n",
       "  justify-content: center;\n",
       "  background-color: var(--sklearn-color-background);\n",
       "  position: relative;\n",
       "}\n",
       "\n",
       "#sk-container-id-4 div.sk-parallel-item {\n",
       "  display: flex;\n",
       "  flex-direction: column;\n",
       "}\n",
       "\n",
       "#sk-container-id-4 div.sk-parallel-item:first-child::after {\n",
       "  align-self: flex-end;\n",
       "  width: 50%;\n",
       "}\n",
       "\n",
       "#sk-container-id-4 div.sk-parallel-item:last-child::after {\n",
       "  align-self: flex-start;\n",
       "  width: 50%;\n",
       "}\n",
       "\n",
       "#sk-container-id-4 div.sk-parallel-item:only-child::after {\n",
       "  width: 0;\n",
       "}\n",
       "\n",
       "/* Serial-specific style estimator block */\n",
       "\n",
       "#sk-container-id-4 div.sk-serial {\n",
       "  display: flex;\n",
       "  flex-direction: column;\n",
       "  align-items: center;\n",
       "  background-color: var(--sklearn-color-background);\n",
       "  padding-right: 1em;\n",
       "  padding-left: 1em;\n",
       "}\n",
       "\n",
       "\n",
       "/* Toggleable style: style used for estimator/Pipeline/ColumnTransformer box that is\n",
       "clickable and can be expanded/collapsed.\n",
       "- Pipeline and ColumnTransformer use this feature and define the default style\n",
       "- Estimators will overwrite some part of the style using the `sk-estimator` class\n",
       "*/\n",
       "\n",
       "/* Pipeline and ColumnTransformer style (default) */\n",
       "\n",
       "#sk-container-id-4 div.sk-toggleable {\n",
       "  /* Default theme specific background. It is overwritten whether we have a\n",
       "  specific estimator or a Pipeline/ColumnTransformer */\n",
       "  background-color: var(--sklearn-color-background);\n",
       "}\n",
       "\n",
       "/* Toggleable label */\n",
       "#sk-container-id-4 label.sk-toggleable__label {\n",
       "  cursor: pointer;\n",
       "  display: block;\n",
       "  width: 100%;\n",
       "  margin-bottom: 0;\n",
       "  padding: 0.5em;\n",
       "  box-sizing: border-box;\n",
       "  text-align: center;\n",
       "}\n",
       "\n",
       "#sk-container-id-4 label.sk-toggleable__label-arrow:before {\n",
       "  /* Arrow on the left of the label */\n",
       "  content: \"▸\";\n",
       "  float: left;\n",
       "  margin-right: 0.25em;\n",
       "  color: var(--sklearn-color-icon);\n",
       "}\n",
       "\n",
       "#sk-container-id-4 label.sk-toggleable__label-arrow:hover:before {\n",
       "  color: var(--sklearn-color-text);\n",
       "}\n",
       "\n",
       "/* Toggleable content - dropdown */\n",
       "\n",
       "#sk-container-id-4 div.sk-toggleable__content {\n",
       "  max-height: 0;\n",
       "  max-width: 0;\n",
       "  overflow: hidden;\n",
       "  text-align: left;\n",
       "  /* unfitted */\n",
       "  background-color: var(--sklearn-color-unfitted-level-0);\n",
       "}\n",
       "\n",
       "#sk-container-id-4 div.sk-toggleable__content.fitted {\n",
       "  /* fitted */\n",
       "  background-color: var(--sklearn-color-fitted-level-0);\n",
       "}\n",
       "\n",
       "#sk-container-id-4 div.sk-toggleable__content pre {\n",
       "  margin: 0.2em;\n",
       "  border-radius: 0.25em;\n",
       "  color: var(--sklearn-color-text);\n",
       "  /* unfitted */\n",
       "  background-color: var(--sklearn-color-unfitted-level-0);\n",
       "}\n",
       "\n",
       "#sk-container-id-4 div.sk-toggleable__content.fitted pre {\n",
       "  /* unfitted */\n",
       "  background-color: var(--sklearn-color-fitted-level-0);\n",
       "}\n",
       "\n",
       "#sk-container-id-4 input.sk-toggleable__control:checked~div.sk-toggleable__content {\n",
       "  /* Expand drop-down */\n",
       "  max-height: 200px;\n",
       "  max-width: 100%;\n",
       "  overflow: auto;\n",
       "}\n",
       "\n",
       "#sk-container-id-4 input.sk-toggleable__control:checked~label.sk-toggleable__label-arrow:before {\n",
       "  content: \"▾\";\n",
       "}\n",
       "\n",
       "/* Pipeline/ColumnTransformer-specific style */\n",
       "\n",
       "#sk-container-id-4 div.sk-label input.sk-toggleable__control:checked~label.sk-toggleable__label {\n",
       "  color: var(--sklearn-color-text);\n",
       "  background-color: var(--sklearn-color-unfitted-level-2);\n",
       "}\n",
       "\n",
       "#sk-container-id-4 div.sk-label.fitted input.sk-toggleable__control:checked~label.sk-toggleable__label {\n",
       "  background-color: var(--sklearn-color-fitted-level-2);\n",
       "}\n",
       "\n",
       "/* Estimator-specific style */\n",
       "\n",
       "/* Colorize estimator box */\n",
       "#sk-container-id-4 div.sk-estimator input.sk-toggleable__control:checked~label.sk-toggleable__label {\n",
       "  /* unfitted */\n",
       "  background-color: var(--sklearn-color-unfitted-level-2);\n",
       "}\n",
       "\n",
       "#sk-container-id-4 div.sk-estimator.fitted input.sk-toggleable__control:checked~label.sk-toggleable__label {\n",
       "  /* fitted */\n",
       "  background-color: var(--sklearn-color-fitted-level-2);\n",
       "}\n",
       "\n",
       "#sk-container-id-4 div.sk-label label.sk-toggleable__label,\n",
       "#sk-container-id-4 div.sk-label label {\n",
       "  /* The background is the default theme color */\n",
       "  color: var(--sklearn-color-text-on-default-background);\n",
       "}\n",
       "\n",
       "/* On hover, darken the color of the background */\n",
       "#sk-container-id-4 div.sk-label:hover label.sk-toggleable__label {\n",
       "  color: var(--sklearn-color-text);\n",
       "  background-color: var(--sklearn-color-unfitted-level-2);\n",
       "}\n",
       "\n",
       "/* Label box, darken color on hover, fitted */\n",
       "#sk-container-id-4 div.sk-label.fitted:hover label.sk-toggleable__label.fitted {\n",
       "  color: var(--sklearn-color-text);\n",
       "  background-color: var(--sklearn-color-fitted-level-2);\n",
       "}\n",
       "\n",
       "/* Estimator label */\n",
       "\n",
       "#sk-container-id-4 div.sk-label label {\n",
       "  font-family: monospace;\n",
       "  font-weight: bold;\n",
       "  display: inline-block;\n",
       "  line-height: 1.2em;\n",
       "}\n",
       "\n",
       "#sk-container-id-4 div.sk-label-container {\n",
       "  text-align: center;\n",
       "}\n",
       "\n",
       "/* Estimator-specific */\n",
       "#sk-container-id-4 div.sk-estimator {\n",
       "  font-family: monospace;\n",
       "  border: 1px dotted var(--sklearn-color-border-box);\n",
       "  border-radius: 0.25em;\n",
       "  box-sizing: border-box;\n",
       "  margin-bottom: 0.5em;\n",
       "  /* unfitted */\n",
       "  background-color: var(--sklearn-color-unfitted-level-0);\n",
       "}\n",
       "\n",
       "#sk-container-id-4 div.sk-estimator.fitted {\n",
       "  /* fitted */\n",
       "  background-color: var(--sklearn-color-fitted-level-0);\n",
       "}\n",
       "\n",
       "/* on hover */\n",
       "#sk-container-id-4 div.sk-estimator:hover {\n",
       "  /* unfitted */\n",
       "  background-color: var(--sklearn-color-unfitted-level-2);\n",
       "}\n",
       "\n",
       "#sk-container-id-4 div.sk-estimator.fitted:hover {\n",
       "  /* fitted */\n",
       "  background-color: var(--sklearn-color-fitted-level-2);\n",
       "}\n",
       "\n",
       "/* Specification for estimator info (e.g. \"i\" and \"?\") */\n",
       "\n",
       "/* Common style for \"i\" and \"?\" */\n",
       "\n",
       ".sk-estimator-doc-link,\n",
       "a:link.sk-estimator-doc-link,\n",
       "a:visited.sk-estimator-doc-link {\n",
       "  float: right;\n",
       "  font-size: smaller;\n",
       "  line-height: 1em;\n",
       "  font-family: monospace;\n",
       "  background-color: var(--sklearn-color-background);\n",
       "  border-radius: 1em;\n",
       "  height: 1em;\n",
       "  width: 1em;\n",
       "  text-decoration: none !important;\n",
       "  margin-left: 1ex;\n",
       "  /* unfitted */\n",
       "  border: var(--sklearn-color-unfitted-level-1) 1pt solid;\n",
       "  color: var(--sklearn-color-unfitted-level-1);\n",
       "}\n",
       "\n",
       ".sk-estimator-doc-link.fitted,\n",
       "a:link.sk-estimator-doc-link.fitted,\n",
       "a:visited.sk-estimator-doc-link.fitted {\n",
       "  /* fitted */\n",
       "  border: var(--sklearn-color-fitted-level-1) 1pt solid;\n",
       "  color: var(--sklearn-color-fitted-level-1);\n",
       "}\n",
       "\n",
       "/* On hover */\n",
       "div.sk-estimator:hover .sk-estimator-doc-link:hover,\n",
       ".sk-estimator-doc-link:hover,\n",
       "div.sk-label-container:hover .sk-estimator-doc-link:hover,\n",
       ".sk-estimator-doc-link:hover {\n",
       "  /* unfitted */\n",
       "  background-color: var(--sklearn-color-unfitted-level-3);\n",
       "  color: var(--sklearn-color-background);\n",
       "  text-decoration: none;\n",
       "}\n",
       "\n",
       "div.sk-estimator.fitted:hover .sk-estimator-doc-link.fitted:hover,\n",
       ".sk-estimator-doc-link.fitted:hover,\n",
       "div.sk-label-container:hover .sk-estimator-doc-link.fitted:hover,\n",
       ".sk-estimator-doc-link.fitted:hover {\n",
       "  /* fitted */\n",
       "  background-color: var(--sklearn-color-fitted-level-3);\n",
       "  color: var(--sklearn-color-background);\n",
       "  text-decoration: none;\n",
       "}\n",
       "\n",
       "/* Span, style for the box shown on hovering the info icon */\n",
       ".sk-estimator-doc-link span {\n",
       "  display: none;\n",
       "  z-index: 9999;\n",
       "  position: relative;\n",
       "  font-weight: normal;\n",
       "  right: .2ex;\n",
       "  padding: .5ex;\n",
       "  margin: .5ex;\n",
       "  width: min-content;\n",
       "  min-width: 20ex;\n",
       "  max-width: 50ex;\n",
       "  color: var(--sklearn-color-text);\n",
       "  box-shadow: 2pt 2pt 4pt #999;\n",
       "  /* unfitted */\n",
       "  background: var(--sklearn-color-unfitted-level-0);\n",
       "  border: .5pt solid var(--sklearn-color-unfitted-level-3);\n",
       "}\n",
       "\n",
       ".sk-estimator-doc-link.fitted span {\n",
       "  /* fitted */\n",
       "  background: var(--sklearn-color-fitted-level-0);\n",
       "  border: var(--sklearn-color-fitted-level-3);\n",
       "}\n",
       "\n",
       ".sk-estimator-doc-link:hover span {\n",
       "  display: block;\n",
       "}\n",
       "\n",
       "/* \"?\"-specific style due to the `<a>` HTML tag */\n",
       "\n",
       "#sk-container-id-4 a.estimator_doc_link {\n",
       "  float: right;\n",
       "  font-size: 1rem;\n",
       "  line-height: 1em;\n",
       "  font-family: monospace;\n",
       "  background-color: var(--sklearn-color-background);\n",
       "  border-radius: 1rem;\n",
       "  height: 1rem;\n",
       "  width: 1rem;\n",
       "  text-decoration: none;\n",
       "  /* unfitted */\n",
       "  color: var(--sklearn-color-unfitted-level-1);\n",
       "  border: var(--sklearn-color-unfitted-level-1) 1pt solid;\n",
       "}\n",
       "\n",
       "#sk-container-id-4 a.estimator_doc_link.fitted {\n",
       "  /* fitted */\n",
       "  border: var(--sklearn-color-fitted-level-1) 1pt solid;\n",
       "  color: var(--sklearn-color-fitted-level-1);\n",
       "}\n",
       "\n",
       "/* On hover */\n",
       "#sk-container-id-4 a.estimator_doc_link:hover {\n",
       "  /* unfitted */\n",
       "  background-color: var(--sklearn-color-unfitted-level-3);\n",
       "  color: var(--sklearn-color-background);\n",
       "  text-decoration: none;\n",
       "}\n",
       "\n",
       "#sk-container-id-4 a.estimator_doc_link.fitted:hover {\n",
       "  /* fitted */\n",
       "  background-color: var(--sklearn-color-fitted-level-3);\n",
       "}\n",
       "</style><div id=\"sk-container-id-4\" class=\"sk-top-container\"><div class=\"sk-text-repr-fallback\"><pre>EnergyBasedFlowClassifier(cutoff_quantile=0.5, n_bins=20)</pre><b>In a Jupyter environment, please rerun this cell to show the HTML representation or trust the notebook. <br />On GitHub, the HTML representation is unable to render, please try loading this page with nbviewer.org.</b></div><div class=\"sk-container\" hidden><div class=\"sk-item\"><div class=\"sk-estimator fitted sk-toggleable\"><input class=\"sk-toggleable__control sk-hidden--visually\" id=\"sk-estimator-id-4\" type=\"checkbox\" checked><label for=\"sk-estimator-id-4\" class=\"sk-toggleable__label fitted sk-toggleable__label-arrow fitted\">&nbsp;EnergyBasedFlowClassifier<span class=\"sk-estimator-doc-link fitted\">i<span>Fitted</span></span></label><div class=\"sk-toggleable__content fitted\"><pre>EnergyBasedFlowClassifier(cutoff_quantile=0.5, n_bins=20)</pre></div> </div></div></div></div>"
      ],
      "text/plain": [
       "EnergyBasedFlowClassifier(cutoff_quantile=0.5, n_bins=20)"
      ]
     },
     "execution_count": 65,
     "metadata": {},
     "output_type": "execute_result"
    }
   ],
   "source": [
    "clf.fit(X_train_df, y_train)"
   ]
  },
  {
   "cell_type": "code",
   "execution_count": 68,
   "id": "de1d5b4d-8fdb-4e77-b5bc-037a8671e7c5",
   "metadata": {},
   "outputs": [],
   "source": [
    "y_pred, y_energies = clf.predict(X_test_df, return_energies=True)"
   ]
  },
  {
   "cell_type": "code",
   "execution_count": 69,
   "id": "6ff2b530-ef29-446d-ba0b-1991b0b984dd",
   "metadata": {},
   "outputs": [
    {
     "data": {
      "image/png": "[encoded data removed]",
      "text/plain": [
       "<Figure size 640x480 with 1 Axes>"
      ]
     },
     "metadata": {},
     "output_type": "display_data"
    }
   ],
   "source": [
    "# ploting energies\n",
    "benign = np.where(y_test == 0)[0]\n",
    "malicious = np.where(y_test == 1)[0]\n",
    "\n",
    "benign_energies = y_energies[benign]\n",
    "malicious_energies = y_energies[malicious]\n",
    "cutoff = clf.estimators_[0].cutoff_\n",
    "\n",
    "bins = np.histogram(y_energies, bins=60)[1]\n",
    "\n",
    "plt.hist(\n",
    "    malicious_energies,\n",
    "    bins,\n",
    "    facecolor=\"#006680\",\n",
    "    alpha=0.7,\n",
    "    ec=\"white\",\n",
    "    linewidth=0.3,\n",
    "    label=\"malicious\",\n",
    ")\n",
    "plt.hist(\n",
    "    benign_energies,\n",
    "    bins,\n",
    "    facecolor=\"#b3b3b3\",\n",
    "    alpha=0.7,\n",
    "    ec=\"white\",\n",
    "    linewidth=0.3,\n",
    "    label=\"benign\",\n",
    ")\n",
    "plt.axvline(cutoff, color=\"r\", linestyle=\"dashed\", linewidth=1)\n",
    "plt.legend()\n",
    "\n",
    "plt.xlabel(\"Energy\", fontsize=12)\n",
    "plt.ylabel(\"Density\", fontsize=12)\n",
    "plt.savefig(f'{results_efc}/1_labeled_samples.png')"
   ]
  },
  {
   "cell_type": "code",
   "execution_count": 70,
   "id": "fb1ab6eb-5ec5-4790-a2b0-3fe452ac018c",
   "metadata": {},
   "outputs": [],
   "source": [
    "from sklearn.metrics import (\n",
    "    f1_score,\n",
    "    accuracy_score,\n",
    "    precision_score,\n",
    "    recall_score,\n",
    "    roc_auc_score,\n",
    "    confusion_matrix\n",
    ")"
   ]
  },
  {
   "cell_type": "code",
   "execution_count": 71,
   "id": "c6b75fca-7b90-478e-955e-4bf1deb50cba",
   "metadata": {},
   "outputs": [],
   "source": [
    "def calculate_model_score(y_true, y_pred):\n",
    "    metric_dict = {\n",
    "        \"accuracy\": accuracy_score(y_true, y_pred),\n",
    "        \"f1\": f1_score(y_true, y_pred, average=\"weighted\"),\n",
    "        \"f1_micro\": f1_score(y_true, y_pred, average=\"micro\"),\n",
    "        \"f1_macro\": f1_score(y_true, y_pred, average=\"macro\"),\n",
    "        \"precision\": precision_score(y_true, y_pred, average=\"weighted\"),\n",
    "        \"recall\": recall_score(y_true, y_pred, average=\"weighted\"),\n",
    "    }\n",
    "    return metric_dict"
   ]
  },
  {
   "cell_type": "code",
   "execution_count": 72,
   "id": "50821098-ac64-4247-96ee-8edfd3242315",
   "metadata": {},
   "outputs": [],
   "source": [
    "model_score = calculate_model_score(y_true=y_test.values, y_pred=y_pred)"
   ]
  },
  {
   "cell_type": "code",
   "execution_count": 73,
   "id": "357ec9cd-f114-4c82-8878-7cf4d6166702",
   "metadata": {},
   "outputs": [
    {
     "data": {
      "text/plain": [
       "{'accuracy': 0.6479904019196161,\n",
       " 'f1': np.float64(0.7365913408845631),\n",
       " 'f1_micro': np.float64(0.6479904019196161),\n",
       " 'f1_macro': np.float64(0.42633831849258064),\n",
       " 'precision': np.float64(0.8672631188048106),\n",
       " 'recall': np.float64(0.6479904019196161)}"
      ]
     },
     "execution_count": 73,
     "metadata": {},
     "output_type": "execute_result"
    }
   ],
   "source": [
    "model_score"
   ]
  },
  {
   "cell_type": "code",
   "execution_count": 26,
   "id": "fe08ac38-9de9-4c9c-b407-aef4930003c5",
   "metadata": {},
   "outputs": [],
   "source": [
    "df_efc_metrics = pd.DataFrame(data=model_score, index=[0])"
   ]
  },
  {
   "cell_type": "code",
   "execution_count": 27,
   "id": "f0e393a2-37f0-44eb-b9eb-51fa0bd11a07",
   "metadata": {},
   "outputs": [
    {
     "data": {
      "text/html": [
       "<div>\n",
       "<style scoped>\n",
       "    .dataframe tbody tr th:only-of-type {\n",
       "        vertical-align: middle;\n",
       "    }\n",
       "\n",
       "    .dataframe tbody tr th {\n",
       "        vertical-align: top;\n",
       "    }\n",
       "\n",
       "    .dataframe thead th {\n",
       "        text-align: right;\n",
       "    }\n",
       "</style>\n",
       "<table border=\"1\" class=\"dataframe\">\n",
       "  <thead>\n",
       "    <tr style=\"text-align: right;\">\n",
       "      <th></th>\n",
       "      <th>accuracy</th>\n",
       "      <th>f1</th>\n",
       "      <th>f1_micro</th>\n",
       "      <th>f1_macro</th>\n",
       "      <th>precision</th>\n",
       "      <th>recall</th>\n",
       "    </tr>\n",
       "  </thead>\n",
       "  <tbody>\n",
       "    <tr>\n",
       "      <th>0</th>\n",
       "      <td>0.932034</td>\n",
       "      <td>0.902364</td>\n",
       "      <td>0.932034</td>\n",
       "      <td>0.484167</td>\n",
       "      <td>0.876608</td>\n",
       "      <td>0.932034</td>\n",
       "    </tr>\n",
       "  </tbody>\n",
       "</table>\n",
       "</div>"
      ],
      "text/plain": [
       "   accuracy        f1  f1_micro  f1_macro  precision    recall\n",
       "0  0.932034  0.902364  0.932034  0.484167   0.876608  0.932034"
      ]
     },
     "execution_count": 27,
     "metadata": {},
     "output_type": "execute_result"
    }
   ],
   "source": [
    "df_efc_metrics"
   ]
  },
  {
   "cell_type": "code",
   "execution_count": 28,
   "id": "63ed3979-4cfe-4026-b8b1-157c95d27774",
   "metadata": {},
   "outputs": [],
   "source": [
    "labels_cm = [\"True Negative\", \"False positive\", \"False Negative\", \"True Positive\"]"
   ]
  },
  {
   "cell_type": "code",
   "execution_count": 29,
   "id": "5966be89-4098-468a-800c-5101c8e1f48e",
   "metadata": {},
   "outputs": [],
   "source": [
    "cm = confusion_matrix(y_test, y_pred, labels=[1, 0])"
   ]
  },
  {
   "cell_type": "code",
   "execution_count": 30,
   "id": "3165974d-ed08-4b2b-b743-5ba5ec8a5c4b",
   "metadata": {},
   "outputs": [],
   "source": [
    "cm = np.reshape(cm, -1).tolist()"
   ]
  },
  {
   "cell_type": "code",
   "execution_count": 31,
   "id": "9e57ba36-68af-4b5c-8dae-ec730f4ce95d",
   "metadata": {},
   "outputs": [
    {
     "data": {
      "text/plain": [
       "[2, 1081, 52, 15535]"
      ]
     },
     "execution_count": 31,
     "metadata": {},
     "output_type": "execute_result"
    }
   ],
   "source": [
    "cm"
   ]
  },
  {
   "cell_type": "code",
   "execution_count": 32,
   "id": "8301bdd8-a558-43a0-a90d-9c316fa2bbce",
   "metadata": {},
   "outputs": [],
   "source": [
    "confusion_matrix = {'Technique': 'All labeled samples'} | {label: val for val, label in zip(cm, labels_cm)}"
   ]
  },
  {
   "cell_type": "code",
   "execution_count": 33,
   "id": "e3f5a2c7-ba2b-4d5e-9631-52cd53b25572",
   "metadata": {},
   "outputs": [
    {
     "data": {
      "text/plain": [
       "{'Technique': 'All labeled samples',\n",
       " 'True Negative': 2,\n",
       " 'False positive': 1081,\n",
       " 'False Negative': 52,\n",
       " 'True Positive': 15535}"
      ]
     },
     "execution_count": 33,
     "metadata": {},
     "output_type": "execute_result"
    }
   ],
   "source": [
    "confusion_matrix"
   ]
  },
  {
   "cell_type": "markdown",
   "id": "2581724a-e78a-4b30-bbc7-d6977087cc63",
   "metadata": {},
   "source": [
    "### Investigating f1_macro"
   ]
  },
  {
   "cell_type": "code",
   "execution_count": 34,
   "id": "13114e40-1343-42da-bdc1-3848360afa4a",
   "metadata": {},
   "outputs": [],
   "source": [
    "f1_weighted = f1_score(y_true=y_test.values, y_pred=y_pred, average=\"weighted\")"
   ]
  },
  {
   "cell_type": "code",
   "execution_count": 35,
   "id": "86265f4d-2ecf-467b-8702-b3c246ad0811",
   "metadata": {},
   "outputs": [
    {
     "data": {
      "text/plain": [
       "np.float64(0.9023642297215495)"
      ]
     },
     "execution_count": 35,
     "metadata": {},
     "output_type": "execute_result"
    }
   ],
   "source": [
    "f1_weighted"
   ]
  },
  {
   "cell_type": "code",
   "execution_count": 36,
   "id": "a0f956d6-dd6b-4a80-9207-8badc221775c",
   "metadata": {},
   "outputs": [],
   "source": [
    "f1_micro = f1_score(y_true=y_test.values, y_pred=y_pred, average=\"micro\")"
   ]
  },
  {
   "cell_type": "code",
   "execution_count": 37,
   "id": "1ab8c988-9068-48e8-8469-a0a2213c6a6d",
   "metadata": {},
   "outputs": [
    {
     "data": {
      "text/plain": [
       "np.float64(0.9320335932813437)"
      ]
     },
     "execution_count": 37,
     "metadata": {},
     "output_type": "execute_result"
    }
   ],
   "source": [
    "f1_micro"
   ]
  },
  {
   "cell_type": "code",
   "execution_count": 38,
   "id": "7c252e78-fbff-4fa2-b559-d3a6dee6ded1",
   "metadata": {},
   "outputs": [],
   "source": [
    "f1_macro = f1_score(y_true=y_test.values, y_pred=y_pred, average=\"macro\")"
   ]
  },
  {
   "cell_type": "code",
   "execution_count": 39,
   "id": "216ee20c-b473-42ff-abfd-46ee26fab6f8",
   "metadata": {},
   "outputs": [
    {
     "data": {
      "text/plain": [
       "np.float64(0.4841674862120687)"
      ]
     },
     "execution_count": 39,
     "metadata": {},
     "output_type": "execute_result"
    }
   ],
   "source": [
    "f1_macro"
   ]
  },
  {
   "cell_type": "code",
   "execution_count": 40,
   "id": "71beb653-afc8-44b9-b158-5a051a3bd0d7",
   "metadata": {},
   "outputs": [],
   "source": [
    "f1_pos_label = f1_score(y_true=y_test.values, y_pred=y_pred, pos_label=0)"
   ]
  },
  {
   "cell_type": "code",
   "execution_count": 41,
   "id": "da19125c-fa9d-4a46-88ea-eb4f4080230e",
   "metadata": {},
   "outputs": [
    {
     "data": {
      "text/plain": [
       "np.float64(0.9648169425208831)"
      ]
     },
     "execution_count": 41,
     "metadata": {},
     "output_type": "execute_result"
    }
   ],
   "source": [
    "f1_pos_label"
   ]
  },
  {
   "cell_type": "code",
   "execution_count": 42,
   "id": "754f4f4a-aea8-455e-a980-aca3c3445d00",
   "metadata": {},
   "outputs": [],
   "source": [
    "malicious_test = np.where(y_test == 1)[0]"
   ]
  },
  {
   "cell_type": "code",
   "execution_count": 43,
   "id": "f75282cc-869e-444d-a208-ac16a90e872d",
   "metadata": {},
   "outputs": [
    {
     "data": {
      "text/plain": [
       "1083"
      ]
     },
     "execution_count": 43,
     "metadata": {},
     "output_type": "execute_result"
    }
   ],
   "source": [
    "len(malicious_test)"
   ]
  },
  {
   "cell_type": "code",
   "execution_count": 44,
   "id": "76b7f508-6968-457a-99d7-08c651a8152b",
   "metadata": {},
   "outputs": [],
   "source": [
    "malicious_pred = np.where(y_pred == 1)[0]"
   ]
  },
  {
   "cell_type": "code",
   "execution_count": 45,
   "id": "fda1ca41-278d-4cc4-99b9-e9635ed562b6",
   "metadata": {},
   "outputs": [
    {
     "data": {
      "text/plain": [
       "54"
      ]
     },
     "execution_count": 45,
     "metadata": {},
     "output_type": "execute_result"
    }
   ],
   "source": [
    "len(malicious_pred)"
   ]
  },
  {
   "cell_type": "code",
   "execution_count": 46,
   "id": "75ff8616-3063-4edd-b638-e6cf6d3d5d9d",
   "metadata": {},
   "outputs": [],
   "source": [
    "benign_test = np.where(y_test == 0)[0]"
   ]
  },
  {
   "cell_type": "code",
   "execution_count": 47,
   "id": "6d62bd8c-8647-470a-8dff-78cdf4686e55",
   "metadata": {},
   "outputs": [
    {
     "data": {
      "text/plain": [
       "15587"
      ]
     },
     "execution_count": 47,
     "metadata": {},
     "output_type": "execute_result"
    }
   ],
   "source": [
    "len(benign_test)"
   ]
  },
  {
   "cell_type": "code",
   "execution_count": 48,
   "id": "52b00e57-27b0-42c1-afdc-3eef9f5da529",
   "metadata": {},
   "outputs": [],
   "source": [
    "benign_pred = np.where(y_pred == 0)[0]"
   ]
  },
  {
   "cell_type": "code",
   "execution_count": 49,
   "id": "760f520d-999a-4354-9b60-cc4a54a82767",
   "metadata": {},
   "outputs": [
    {
     "data": {
      "text/plain": [
       "16616"
      ]
     },
     "execution_count": 49,
     "metadata": {},
     "output_type": "execute_result"
    }
   ],
   "source": [
    "len(benign_pred)"
   ]
  },
  {
   "cell_type": "code",
   "execution_count": null,
   "id": "a4516d87-bd36-47fc-8a09-bd3e48038a92",
   "metadata": {},
   "outputs": [],
   "source": []
  }
 ],
 "metadata": {
  "kernelspec": {
   "display_name": "masters",
   "language": "python",
   "name": "masters"
  },
  "language_info": {
   "codemirror_mode": {
    "name": "ipython",
    "version": 3
   },
   "file_extension": ".py",
   "mimetype": "text/x-python",
   "name": "python",
   "nbconvert_exporter": "python",
   "pygments_lexer": "ipython3",
   "version": "3.12.1"
  }
 },
 "nbformat": 4,
 "nbformat_minor": 5
}
