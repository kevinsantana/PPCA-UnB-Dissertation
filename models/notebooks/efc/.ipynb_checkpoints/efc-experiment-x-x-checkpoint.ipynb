{
 "cells": [
  {
   "cell_type": "markdown",
   "id": "8b7886f7-5576-49ad-af73-2d42316ff248",
   "metadata": {},
   "source": [
    "# Experiment x-1\n",
    "All Samples, including labeled and non-labeled samples"
   ]
  },
  {
   "cell_type": "markdown",
   "id": "f62e62d6-1e86-4b7e-a91c-d1e7edfda99b",
   "metadata": {},
   "source": [
    "## Dataset"
   ]
  },
  {
   "cell_type": "code",
   "execution_count": 1,
   "id": "59bf2075-883f-48cf-97a8-853a079c5786",
   "metadata": {},
   "outputs": [],
   "source": [
    "import os\n",
    "import sys\n",
    "\n",
    "import numpy as np\n",
    "import pandas as pd\n",
    "from matplotlib import pyplot as plt"
   ]
  },
  {
   "cell_type": "code",
   "execution_count": 2,
   "id": "248e2dc8-891e-401e-8964-73f34fce281b",
   "metadata": {},
   "outputs": [],
   "source": [
    "ROOT_DIR = os.getcwd()\n",
    "sys.path.insert(0, ROOT_DIR)"
   ]
  },
  {
   "cell_type": "code",
   "execution_count": 3,
   "id": "1ba40635-06e9-44be-b7ae-86704803ebf0",
   "metadata": {},
   "outputs": [],
   "source": [
    "def train_test_split(X, y, train_test_idx):\n",
    "    X_train_df = X.loc[train_test_idx[\"train\"]]\n",
    "    X_test_df = X.loc[train_test_idx[\"test\"]]\n",
    "\n",
    "    y_train = y.loc[train_test_idx[\"train\"]]\n",
    "    y_test = y.loc[train_test_idx[\"test\"]]\n",
    "\n",
    "    return X_train_df, X_test_df, y_train, y_test"
   ]
  },
  {
   "cell_type": "code",
   "execution_count": 4,
   "id": "d54a7c33-72c5-4c59-86df-9d22bb289127",
   "metadata": {},
   "outputs": [],
   "source": [
    "def setup_train_test_idx(\n",
    "    X, last_train_time_step, last_time_step, aggregated_timestamp_column=\"time_step\"\n",
    "):\n",
    "    \"\"\"The aggregated_time_step_column needs to be a column with integer values, such as year, month or day\"\"\"\n",
    "\n",
    "    split_timesteps = {}\n",
    "\n",
    "    split_timesteps[\"train\"] = list(range(last_train_time_step + 1))\n",
    "    split_timesteps[\"test\"] = list(range(last_train_time_step + 1, last_time_step + 1))\n",
    "\n",
    "    train_test_idx = {}\n",
    "    train_test_idx[\"train\"] = X[\n",
    "        X[aggregated_timestamp_column].isin(split_timesteps[\"train\"])\n",
    "    ].index\n",
    "    train_test_idx[\"test\"] = X[\n",
    "        X[aggregated_timestamp_column].isin(split_timesteps[\"test\"])\n",
    "    ].index\n",
    "\n",
    "    return train_test_idx"
   ]
  },
  {
   "cell_type": "code",
   "execution_count": 5,
   "id": "de3194ea-aee3-45b0-bafa-0f1ecea921b7",
   "metadata": {},
   "outputs": [],
   "source": [
    "def combine_dataframes(df_classes, df_features, only_labeled=True):\n",
    "    df_combined = pd.merge(\n",
    "        df_features, df_classes, left_on=\"id\", right_on=\"txId\", how=\"left\"\n",
    "    )\n",
    "    if only_labeled == True:\n",
    "        df_combined = df_combined[df_combined[\"class\"] != 2].reset_index(drop=True)\n",
    "    df_combined.drop(columns=[\"txId\"], inplace=True)\n",
    "    return df_combined"
   ]
  },
  {
   "cell_type": "code",
   "execution_count": 6,
   "id": "6b8ee4bc-6a20-452a-95c6-c58d1981c1b2",
   "metadata": {},
   "outputs": [],
   "source": [
    "def rename_classes(df_classes):\n",
    "    df_classes.replace({\"class\": {\"1\": 1, \"2\": 0, \"unknown\": 2}}, inplace=True)\n",
    "    return df_classes"
   ]
  },
  {
   "cell_type": "code",
   "execution_count": 7,
   "id": "e3c378db-029c-40de-90f9-ecc5d07572d9",
   "metadata": {},
   "outputs": [],
   "source": [
    "def rename_features(df_features):\n",
    "    df_features.columns = (\n",
    "        [\"id\", \"time_step\"]\n",
    "        + [f\"trans_feat_{i}\" for i in range(93)]\n",
    "        + [f\"agg_feat_{i}\" for i in range(72)]\n",
    "    )\n",
    "    return df_features"
   ]
  },
  {
   "cell_type": "code",
   "execution_count": 8,
   "id": "e178d2f1-3c8c-48ea-8382-7d654e83710a",
   "metadata": {},
   "outputs": [],
   "source": [
    "def import_elliptic_data_from_csvs():\n",
    "    df_classes = pd.read_csv(\n",
    "        os.path.join(ROOT_DIR, \"datasets/elliptic/elliptic_txs_classes.csv\")\n",
    "    )\n",
    "    df_edges = pd.read_csv(\n",
    "        os.path.join(ROOT_DIR, \"datasets/elliptic/elliptic_txs_edgelist.csv\")\n",
    "    )\n",
    "    df_features = pd.read_csv(\n",
    "        os.path.join(ROOT_DIR, \"datasets/elliptic/elliptic_txs_features.csv\"),\n",
    "        header=None,\n",
    "    )\n",
    "    return df_classes, df_edges, df_features"
   ]
  },
  {
   "cell_type": "code",
   "execution_count": 9,
   "id": "7d39f5e0-4991-4a02-8a55-024839fa1bc9",
   "metadata": {},
   "outputs": [],
   "source": [
    "def load_elliptic_data(only_labeled=True, drop_node_id=True):\n",
    "    df_classes, df_edges, df_features = import_elliptic_data_from_csvs()\n",
    "    df_features = rename_features(df_features)\n",
    "    df_classes = rename_classes(df_classes)\n",
    "    df_combined = combine_dataframes(df_classes, df_features, only_labeled)\n",
    "\n",
    "    if drop_node_id == True:\n",
    "        X = df_combined.drop(columns=[\"id\", \"class\"])\n",
    "    else:\n",
    "        X = df_combined.drop(columns=\"class\")\n",
    "\n",
    "    y = df_combined[\"class\"]\n",
    "\n",
    "    return X, y"
   ]
  },
  {
   "cell_type": "code",
   "execution_count": 10,
   "id": "69296582-12eb-4289-b644-00d62c85beaf",
   "metadata": {},
   "outputs": [],
   "source": [
    "def run_elliptic_preprocessing_pipeline(\n",
    "    last_train_time_step, last_time_step, only_labeled=True, drop_node_id=True\n",
    "):\n",
    "    print(f'run_elliptic_preprocessing_pipeline {only_labeled}')\n",
    "    X, y = load_elliptic_data(only_labeled, drop_node_id)\n",
    "    train_test_idx = setup_train_test_idx(X, last_train_time_step, last_time_step)\n",
    "    X_train_df, X_test_df, y_train, y_test = train_test_split(X, y, train_test_idx)\n",
    "\n",
    "    return X_train_df, X_test_df, y_train, y_test"
   ]
  },
  {
   "cell_type": "markdown",
   "id": "14e9d81f-0899-4d75-9da9-1fa19ee620d6",
   "metadata": {},
   "source": [
    "### All Samples"
   ]
  },
  {
   "cell_type": "code",
   "execution_count": null,
   "id": "e5aa74e5-e008-40a8-862e-010e7065d011",
   "metadata": {},
   "outputs": [],
   "source": [
    "# Elliptic data set timestep\n",
    "last_time_step = 49\n",
    "last_train_time_step = 34\n",
    "only_labeled = False"
   ]
  },
  {
   "cell_type": "code",
   "execution_count": null,
   "id": "1edf9cf4-4fca-4b46-9c5b-1419fabd4a76",
   "metadata": {},
   "outputs": [],
   "source": [
    "X_train_df, X_test_df, y_train, y_test = run_elliptic_preprocessing_pipeline(\n",
    "    last_train_time_step=last_train_time_step,\n",
    "    last_time_step=last_time_step,\n",
    "    only_labeled=only_labeled,\n",
    ")"
   ]
  },
  {
   "cell_type": "code",
   "execution_count": null,
   "id": "988c40d6-1614-4169-80dc-af515c59c9c2",
   "metadata": {},
   "outputs": [],
   "source": [
    "X_train_df"
   ]
  },
  {
   "cell_type": "code",
   "execution_count": null,
   "id": "017e254e-4baa-4763-b547-cec654daee88",
   "metadata": {},
   "outputs": [],
   "source": [
    "sizes = {\n",
    "    \"X Size\": len(X_train_df) + len(X_test_df),\n",
    "    \"y Size\": len(y_train) + len(y_test),\n",
    "    \"X_train Size\": len(X_train_df),\n",
    "    \"X_test Size\": len(X_test_df),\n",
    "    \"y_train Size\": len(y_train),\n",
    "    \"y_test Size\": len(y_test),\n",
    "    \"y_train Malicious Size\": len(np.where(y_train == 1)[0]),\n",
    "    \"y_train Bening Size\": len(np.where(y_train == 0)[0]),\n",
    "    \"y_test Malicious Size\": len(np.where(y_test == 1)[0]),\n",
    "    \"y_test Bening Size\": len(np.where(y_test == 0)[0]),\n",
    "}"
   ]
  },
  {
   "cell_type": "code",
   "execution_count": null,
   "id": "c6bc7562-1206-4b00-8d60-f9e63cd818cd",
   "metadata": {},
   "outputs": [],
   "source": [
    "sizes"
   ]
  },
  {
   "cell_type": "code",
   "execution_count": null,
   "id": "156cdeca-6681-4e14-9470-7e5537a69239",
   "metadata": {},
   "outputs": [],
   "source": [
    "df_sizes = pd.DataFrame(data=sizes, index=[0])"
   ]
  },
  {
   "cell_type": "code",
   "execution_count": null,
   "id": "9db74171-a41d-485c-9b2f-cda5166e4b74",
   "metadata": {},
   "outputs": [],
   "source": [
    "df_sizes"
   ]
  },
  {
   "cell_type": "code",
   "execution_count": null,
   "id": "35fe2e02-27ad-436a-806e-7218adb24456",
   "metadata": {},
   "outputs": [],
   "source": [
    "clf = EnergyBasedFlowClassifier(n_bins=10, cutoff_quantile=0.95)"
   ]
  },
  {
   "cell_type": "code",
   "execution_count": null,
   "id": "36217a39-b8c2-4ce9-be51-20f008d25892",
   "metadata": {},
   "outputs": [],
   "source": [
    "clf.fit(X_train_df, y_train, base_class=0)"
   ]
  },
  {
   "cell_type": "code",
   "execution_count": null,
   "id": "4544c478-55ed-4297-a503-1a0aa7ce17ff",
   "metadata": {},
   "outputs": [],
   "source": [
    "y_pred, y_energies = clf.predict(X_test_df, return_energies=True)"
   ]
  },
  {
   "cell_type": "code",
   "execution_count": null,
   "id": "063b7b9f-7cab-43fb-a8fc-41b3e3cb3f49",
   "metadata": {},
   "outputs": [],
   "source": [
    "# ploting energies\n",
    "benign = np.where(y_test == 0)[0]\n",
    "malicious = np.where(y_test == 1)[0]\n",
    "\n",
    "benign_energies = y_energies[benign]\n",
    "malicious_energies = y_energies[malicious]\n",
    "cutoff = clf.estimators_[0].cutoff_\n",
    "\n",
    "bins = np.histogram(y_energies, bins=60)[1]\n",
    "\n",
    "plt.hist(\n",
    "    malicious_energies,\n",
    "    bins,\n",
    "    facecolor=\"#006680\",\n",
    "    alpha=0.7,\n",
    "    ec=\"white\",\n",
    "    linewidth=0.3,\n",
    "    label=\"malicious\",\n",
    ")\n",
    "plt.hist(\n",
    "    benign_energies,\n",
    "    bins,\n",
    "    facecolor=\"#b3b3b3\",\n",
    "    alpha=0.7,\n",
    "    ec=\"white\",\n",
    "    linewidth=0.3,\n",
    "    label=\"benign\",\n",
    ")\n",
    "plt.axvline(cutoff, color=\"r\", linestyle=\"dashed\", linewidth=1)\n",
    "plt.legend()\n",
    "\n",
    "plt.xlabel(\"Energy\", fontsize=12)\n",
    "plt.ylabel(\"Density\", fontsize=12)\n",
    "\n",
    "plt.show()"
   ]
  },
  {
   "cell_type": "code",
   "execution_count": null,
   "id": "94cb5f74-72ae-41ca-8b55-11b9f0b5679d",
   "metadata": {},
   "outputs": [],
   "source": [
    "model_score_1 = calculate_model_score(y_true=y_test.values, y_pred=y_pred)"
   ]
  },
  {
   "cell_type": "code",
   "execution_count": null,
   "id": "371961b2-e528-4bfb-a121-fe3d06900300",
   "metadata": {},
   "outputs": [],
   "source": [
    "model_score_1"
   ]
  },
  {
   "cell_type": "code",
   "execution_count": null,
   "id": "43e913e4-6936-4c4d-8ec0-dcac80813cc4",
   "metadata": {},
   "outputs": [],
   "source": [
    "df_efc_metrics.loc[1] = model_score_1"
   ]
  },
  {
   "cell_type": "code",
   "execution_count": null,
   "id": "619b868e-8d4a-4a22-a8d9-7bad066e0a52",
   "metadata": {},
   "outputs": [],
   "source": [
    "df_efc_metrics"
   ]
  },
  {
   "cell_type": "markdown",
   "id": "2a6b814e-7804-4174-bef2-83118dacce61",
   "metadata": {},
   "source": [
    "### Only Benign Samples"
   ]
  },
  {
   "cell_type": "code",
   "execution_count": 102,
   "id": "bbedb0a3-7c20-4d93-8ebb-96d0a957bc56",
   "metadata": {},
   "outputs": [
    {
     "name": "stdout",
     "output_type": "stream",
     "text": [
      "run_elliptic_preprocessing_pipeline True\n",
      "load_elliptic_data True\n"
     ]
    },
    {
     "name": "stderr",
     "output_type": "stream",
     "text": [
      "/var/folders/8b/c9dvlw851kx2vf3r7gc5gbbh0000gn/T/ipykernel_47144/3533226547.py:2: FutureWarning: Downcasting behavior in `replace` is deprecated and will be removed in a future version. To retain the old behavior, explicitly call `result.infer_objects(copy=False)`. To opt-in to the future behavior, set `pd.set_option('future.no_silent_downcasting', True)`\n",
      "  df_classes.replace({\"class\": {\"1\": 1, \"2\": 0, \"unknown\": 2}}, inplace=True)\n"
     ]
    }
   ],
   "source": [
    "only_labeled = True\n",
    "\n",
    "X_train_df, X_test_df, y_train, y_test = run_elliptic_preprocessing_pipeline(\n",
    "    last_train_time_step=last_train_time_step,\n",
    "    last_time_step=last_time_step,\n",
    "    only_labeled=only_labeled,\n",
    ")"
   ]
  },
  {
   "cell_type": "code",
   "execution_count": 119,
   "id": "a8031c4d-9351-4cd7-9b5a-4d3f34682d31",
   "metadata": {},
   "outputs": [],
   "source": [
    "idx_abnormal = np.where(y_train == 1)[0]  # find abnormal samples indexes in the training set"
   ]
  },
  {
   "cell_type": "code",
   "execution_count": 120,
   "id": "ee084079-874c-4386-a4c3-a7fe0fdb7a07",
   "metadata": {},
   "outputs": [],
   "source": [
    "X_train_df.drop(idx_abnormal, axis=0, inplace=True)  # remove abnormal samples from training (EFC trains with only benign instances)"
   ]
  },
  {
   "cell_type": "code",
   "execution_count": 105,
   "id": "a7299d4b-cc0a-46b4-82db-33d37320c1ef",
   "metadata": {},
   "outputs": [],
   "source": [
    "y_train.drop(idx_abnormal, axis=0, inplace=True)  # remove the corresponding abonrmal training targets"
   ]
  },
  {
   "cell_type": "code",
   "execution_count": 106,
   "id": "373cd0be-1819-409d-84d6-3c778dd9852e",
   "metadata": {},
   "outputs": [],
   "source": [
    "sizes = {\n",
    "    \"X Size\": len(X_train_df) + len(X_test_df),\n",
    "    \"y Size\": len(y_train) + len(y_test),\n",
    "    \"X_train Size\": len(X_train_df),\n",
    "    \"X_test Size\": len(X_test_df),\n",
    "    \"y_train Size\": len(y_train),\n",
    "    \"y_test Size\": len(y_test),\n",
    "    \"y_train Malicious Size\": len(np.where(y_train == 1)[0]),\n",
    "    \"y_train Bening Size\": len(np.where(y_train == 0)[0]),\n",
    "    \"y_test Malicious Size\": len(np.where(y_test == 1)[0]),\n",
    "    \"y_test Bening Size\": len(np.where(y_test == 0)[0]),\n",
    "}"
   ]
  },
  {
   "cell_type": "code",
   "execution_count": 107,
   "id": "6caa02f4-13d3-4f34-8247-38b2a957f643",
   "metadata": {},
   "outputs": [],
   "source": [
    "df_sizes_1 = pd.DataFrame(data=sizes, index=[0])"
   ]
  },
  {
   "cell_type": "code",
   "execution_count": 108,
   "id": "754e1482-6e2e-4e20-ae34-5791602f54dd",
   "metadata": {},
   "outputs": [
    {
     "data": {
      "text/html": [
       "<div>\n",
       "<style scoped>\n",
       "    .dataframe tbody tr th:only-of-type {\n",
       "        vertical-align: middle;\n",
       "    }\n",
       "\n",
       "    .dataframe tbody tr th {\n",
       "        vertical-align: top;\n",
       "    }\n",
       "\n",
       "    .dataframe thead th {\n",
       "        text-align: right;\n",
       "    }\n",
       "</style>\n",
       "<table border=\"1\" class=\"dataframe\">\n",
       "  <thead>\n",
       "    <tr style=\"text-align: right;\">\n",
       "      <th></th>\n",
       "      <th>X Size</th>\n",
       "      <th>y Size</th>\n",
       "      <th>X_train Size</th>\n",
       "      <th>X_test Size</th>\n",
       "      <th>y_train Size</th>\n",
       "      <th>y_test Size</th>\n",
       "      <th>y_train Malicious Size</th>\n",
       "      <th>y_train Bening Size</th>\n",
       "      <th>y_test Malicious Size</th>\n",
       "      <th>y_test Bening Size</th>\n",
       "    </tr>\n",
       "  </thead>\n",
       "  <tbody>\n",
       "    <tr>\n",
       "      <th>0</th>\n",
       "      <td>43102</td>\n",
       "      <td>43102</td>\n",
       "      <td>26432</td>\n",
       "      <td>16670</td>\n",
       "      <td>26432</td>\n",
       "      <td>16670</td>\n",
       "      <td>0</td>\n",
       "      <td>26432</td>\n",
       "      <td>1083</td>\n",
       "      <td>15587</td>\n",
       "    </tr>\n",
       "  </tbody>\n",
       "</table>\n",
       "</div>"
      ],
      "text/plain": [
       "   X Size  y Size  X_train Size  X_test Size  y_train Size  y_test Size  \\\n",
       "0   43102   43102         26432        16670         26432        16670   \n",
       "\n",
       "   y_train Malicious Size  y_train Bening Size  y_test Malicious Size  \\\n",
       "0                       0                26432                   1083   \n",
       "\n",
       "   y_test Bening Size  \n",
       "0               15587  "
      ]
     },
     "execution_count": 108,
     "metadata": {},
     "output_type": "execute_result"
    }
   ],
   "source": [
    "df_sizes_1"
   ]
  },
  {
   "cell_type": "code",
   "execution_count": 109,
   "id": "8c92c1d1-02be-4073-b322-c5e7fdb6b251",
   "metadata": {},
   "outputs": [],
   "source": [
    "clf = EnergyBasedFlowClassifier(n_bins=10, cutoff_quantile=0.95)"
   ]
  },
  {
   "cell_type": "code",
   "execution_count": 110,
   "id": "0cb77670-7d3c-4b6a-b0fa-cc213cf159e3",
   "metadata": {},
   "outputs": [
    {
     "data": {
      "text/html": [
       "<style>#sk-container-id-3 {\n",
       "  /* Definition of color scheme common for light and dark mode */\n",
       "  --sklearn-color-text: black;\n",
       "  --sklearn-color-line: gray;\n",
       "  /* Definition of color scheme for unfitted estimators */\n",
       "  --sklearn-color-unfitted-level-0: #fff5e6;\n",
       "  --sklearn-color-unfitted-level-1: #f6e4d2;\n",
       "  --sklearn-color-unfitted-level-2: #ffe0b3;\n",
       "  --sklearn-color-unfitted-level-3: chocolate;\n",
       "  /* Definition of color scheme for fitted estimators */\n",
       "  --sklearn-color-fitted-level-0: #f0f8ff;\n",
       "  --sklearn-color-fitted-level-1: #d4ebff;\n",
       "  --sklearn-color-fitted-level-2: #b3dbfd;\n",
       "  --sklearn-color-fitted-level-3: cornflowerblue;\n",
       "\n",
       "  /* Specific color for light theme */\n",
       "  --sklearn-color-text-on-default-background: var(--sg-text-color, var(--theme-code-foreground, var(--jp-content-font-color1, black)));\n",
       "  --sklearn-color-background: var(--sg-background-color, var(--theme-background, var(--jp-layout-color0, white)));\n",
       "  --sklearn-color-border-box: var(--sg-text-color, var(--theme-code-foreground, var(--jp-content-font-color1, black)));\n",
       "  --sklearn-color-icon: #696969;\n",
       "\n",
       "  @media (prefers-color-scheme: dark) {\n",
       "    /* Redefinition of color scheme for dark theme */\n",
       "    --sklearn-color-text-on-default-background: var(--sg-text-color, var(--theme-code-foreground, var(--jp-content-font-color1, white)));\n",
       "    --sklearn-color-background: var(--sg-background-color, var(--theme-background, var(--jp-layout-color0, #111)));\n",
       "    --sklearn-color-border-box: var(--sg-text-color, var(--theme-code-foreground, var(--jp-content-font-color1, white)));\n",
       "    --sklearn-color-icon: #878787;\n",
       "  }\n",
       "}\n",
       "\n",
       "#sk-container-id-3 {\n",
       "  color: var(--sklearn-color-text);\n",
       "}\n",
       "\n",
       "#sk-container-id-3 pre {\n",
       "  padding: 0;\n",
       "}\n",
       "\n",
       "#sk-container-id-3 input.sk-hidden--visually {\n",
       "  border: 0;\n",
       "  clip: rect(1px 1px 1px 1px);\n",
       "  clip: rect(1px, 1px, 1px, 1px);\n",
       "  height: 1px;\n",
       "  margin: -1px;\n",
       "  overflow: hidden;\n",
       "  padding: 0;\n",
       "  position: absolute;\n",
       "  width: 1px;\n",
       "}\n",
       "\n",
       "#sk-container-id-3 div.sk-dashed-wrapped {\n",
       "  border: 1px dashed var(--sklearn-color-line);\n",
       "  margin: 0 0.4em 0.5em 0.4em;\n",
       "  box-sizing: border-box;\n",
       "  padding-bottom: 0.4em;\n",
       "  background-color: var(--sklearn-color-background);\n",
       "}\n",
       "\n",
       "#sk-container-id-3 div.sk-container {\n",
       "  /* jupyter's `normalize.less` sets `[hidden] { display: none; }`\n",
       "     but bootstrap.min.css set `[hidden] { display: none !important; }`\n",
       "     so we also need the `!important` here to be able to override the\n",
       "     default hidden behavior on the sphinx rendered scikit-learn.org.\n",
       "     See: https://github.com/scikit-learn/scikit-learn/issues/21755 */\n",
       "  display: inline-block !important;\n",
       "  position: relative;\n",
       "}\n",
       "\n",
       "#sk-container-id-3 div.sk-text-repr-fallback {\n",
       "  display: none;\n",
       "}\n",
       "\n",
       "div.sk-parallel-item,\n",
       "div.sk-serial,\n",
       "div.sk-item {\n",
       "  /* draw centered vertical line to link estimators */\n",
       "  background-image: linear-gradient(var(--sklearn-color-text-on-default-background), var(--sklearn-color-text-on-default-background));\n",
       "  background-size: 2px 100%;\n",
       "  background-repeat: no-repeat;\n",
       "  background-position: center center;\n",
       "}\n",
       "\n",
       "/* Parallel-specific style estimator block */\n",
       "\n",
       "#sk-container-id-3 div.sk-parallel-item::after {\n",
       "  content: \"\";\n",
       "  width: 100%;\n",
       "  border-bottom: 2px solid var(--sklearn-color-text-on-default-background);\n",
       "  flex-grow: 1;\n",
       "}\n",
       "\n",
       "#sk-container-id-3 div.sk-parallel {\n",
       "  display: flex;\n",
       "  align-items: stretch;\n",
       "  justify-content: center;\n",
       "  background-color: var(--sklearn-color-background);\n",
       "  position: relative;\n",
       "}\n",
       "\n",
       "#sk-container-id-3 div.sk-parallel-item {\n",
       "  display: flex;\n",
       "  flex-direction: column;\n",
       "}\n",
       "\n",
       "#sk-container-id-3 div.sk-parallel-item:first-child::after {\n",
       "  align-self: flex-end;\n",
       "  width: 50%;\n",
       "}\n",
       "\n",
       "#sk-container-id-3 div.sk-parallel-item:last-child::after {\n",
       "  align-self: flex-start;\n",
       "  width: 50%;\n",
       "}\n",
       "\n",
       "#sk-container-id-3 div.sk-parallel-item:only-child::after {\n",
       "  width: 0;\n",
       "}\n",
       "\n",
       "/* Serial-specific style estimator block */\n",
       "\n",
       "#sk-container-id-3 div.sk-serial {\n",
       "  display: flex;\n",
       "  flex-direction: column;\n",
       "  align-items: center;\n",
       "  background-color: var(--sklearn-color-background);\n",
       "  padding-right: 1em;\n",
       "  padding-left: 1em;\n",
       "}\n",
       "\n",
       "\n",
       "/* Toggleable style: style used for estimator/Pipeline/ColumnTransformer box that is\n",
       "clickable and can be expanded/collapsed.\n",
       "- Pipeline and ColumnTransformer use this feature and define the default style\n",
       "- Estimators will overwrite some part of the style using the `sk-estimator` class\n",
       "*/\n",
       "\n",
       "/* Pipeline and ColumnTransformer style (default) */\n",
       "\n",
       "#sk-container-id-3 div.sk-toggleable {\n",
       "  /* Default theme specific background. It is overwritten whether we have a\n",
       "  specific estimator or a Pipeline/ColumnTransformer */\n",
       "  background-color: var(--sklearn-color-background);\n",
       "}\n",
       "\n",
       "/* Toggleable label */\n",
       "#sk-container-id-3 label.sk-toggleable__label {\n",
       "  cursor: pointer;\n",
       "  display: block;\n",
       "  width: 100%;\n",
       "  margin-bottom: 0;\n",
       "  padding: 0.5em;\n",
       "  box-sizing: border-box;\n",
       "  text-align: center;\n",
       "}\n",
       "\n",
       "#sk-container-id-3 label.sk-toggleable__label-arrow:before {\n",
       "  /* Arrow on the left of the label */\n",
       "  content: \"▸\";\n",
       "  float: left;\n",
       "  margin-right: 0.25em;\n",
       "  color: var(--sklearn-color-icon);\n",
       "}\n",
       "\n",
       "#sk-container-id-3 label.sk-toggleable__label-arrow:hover:before {\n",
       "  color: var(--sklearn-color-text);\n",
       "}\n",
       "\n",
       "/* Toggleable content - dropdown */\n",
       "\n",
       "#sk-container-id-3 div.sk-toggleable__content {\n",
       "  max-height: 0;\n",
       "  max-width: 0;\n",
       "  overflow: hidden;\n",
       "  text-align: left;\n",
       "  /* unfitted */\n",
       "  background-color: var(--sklearn-color-unfitted-level-0);\n",
       "}\n",
       "\n",
       "#sk-container-id-3 div.sk-toggleable__content.fitted {\n",
       "  /* fitted */\n",
       "  background-color: var(--sklearn-color-fitted-level-0);\n",
       "}\n",
       "\n",
       "#sk-container-id-3 div.sk-toggleable__content pre {\n",
       "  margin: 0.2em;\n",
       "  border-radius: 0.25em;\n",
       "  color: var(--sklearn-color-text);\n",
       "  /* unfitted */\n",
       "  background-color: var(--sklearn-color-unfitted-level-0);\n",
       "}\n",
       "\n",
       "#sk-container-id-3 div.sk-toggleable__content.fitted pre {\n",
       "  /* unfitted */\n",
       "  background-color: var(--sklearn-color-fitted-level-0);\n",
       "}\n",
       "\n",
       "#sk-container-id-3 input.sk-toggleable__control:checked~div.sk-toggleable__content {\n",
       "  /* Expand drop-down */\n",
       "  max-height: 200px;\n",
       "  max-width: 100%;\n",
       "  overflow: auto;\n",
       "}\n",
       "\n",
       "#sk-container-id-3 input.sk-toggleable__control:checked~label.sk-toggleable__label-arrow:before {\n",
       "  content: \"▾\";\n",
       "}\n",
       "\n",
       "/* Pipeline/ColumnTransformer-specific style */\n",
       "\n",
       "#sk-container-id-3 div.sk-label input.sk-toggleable__control:checked~label.sk-toggleable__label {\n",
       "  color: var(--sklearn-color-text);\n",
       "  background-color: var(--sklearn-color-unfitted-level-2);\n",
       "}\n",
       "\n",
       "#sk-container-id-3 div.sk-label.fitted input.sk-toggleable__control:checked~label.sk-toggleable__label {\n",
       "  background-color: var(--sklearn-color-fitted-level-2);\n",
       "}\n",
       "\n",
       "/* Estimator-specific style */\n",
       "\n",
       "/* Colorize estimator box */\n",
       "#sk-container-id-3 div.sk-estimator input.sk-toggleable__control:checked~label.sk-toggleable__label {\n",
       "  /* unfitted */\n",
       "  background-color: var(--sklearn-color-unfitted-level-2);\n",
       "}\n",
       "\n",
       "#sk-container-id-3 div.sk-estimator.fitted input.sk-toggleable__control:checked~label.sk-toggleable__label {\n",
       "  /* fitted */\n",
       "  background-color: var(--sklearn-color-fitted-level-2);\n",
       "}\n",
       "\n",
       "#sk-container-id-3 div.sk-label label.sk-toggleable__label,\n",
       "#sk-container-id-3 div.sk-label label {\n",
       "  /* The background is the default theme color */\n",
       "  color: var(--sklearn-color-text-on-default-background);\n",
       "}\n",
       "\n",
       "/* On hover, darken the color of the background */\n",
       "#sk-container-id-3 div.sk-label:hover label.sk-toggleable__label {\n",
       "  color: var(--sklearn-color-text);\n",
       "  background-color: var(--sklearn-color-unfitted-level-2);\n",
       "}\n",
       "\n",
       "/* Label box, darken color on hover, fitted */\n",
       "#sk-container-id-3 div.sk-label.fitted:hover label.sk-toggleable__label.fitted {\n",
       "  color: var(--sklearn-color-text);\n",
       "  background-color: var(--sklearn-color-fitted-level-2);\n",
       "}\n",
       "\n",
       "/* Estimator label */\n",
       "\n",
       "#sk-container-id-3 div.sk-label label {\n",
       "  font-family: monospace;\n",
       "  font-weight: bold;\n",
       "  display: inline-block;\n",
       "  line-height: 1.2em;\n",
       "}\n",
       "\n",
       "#sk-container-id-3 div.sk-label-container {\n",
       "  text-align: center;\n",
       "}\n",
       "\n",
       "/* Estimator-specific */\n",
       "#sk-container-id-3 div.sk-estimator {\n",
       "  font-family: monospace;\n",
       "  border: 1px dotted var(--sklearn-color-border-box);\n",
       "  border-radius: 0.25em;\n",
       "  box-sizing: border-box;\n",
       "  margin-bottom: 0.5em;\n",
       "  /* unfitted */\n",
       "  background-color: var(--sklearn-color-unfitted-level-0);\n",
       "}\n",
       "\n",
       "#sk-container-id-3 div.sk-estimator.fitted {\n",
       "  /* fitted */\n",
       "  background-color: var(--sklearn-color-fitted-level-0);\n",
       "}\n",
       "\n",
       "/* on hover */\n",
       "#sk-container-id-3 div.sk-estimator:hover {\n",
       "  /* unfitted */\n",
       "  background-color: var(--sklearn-color-unfitted-level-2);\n",
       "}\n",
       "\n",
       "#sk-container-id-3 div.sk-estimator.fitted:hover {\n",
       "  /* fitted */\n",
       "  background-color: var(--sklearn-color-fitted-level-2);\n",
       "}\n",
       "\n",
       "/* Specification for estimator info (e.g. \"i\" and \"?\") */\n",
       "\n",
       "/* Common style for \"i\" and \"?\" */\n",
       "\n",
       ".sk-estimator-doc-link,\n",
       "a:link.sk-estimator-doc-link,\n",
       "a:visited.sk-estimator-doc-link {\n",
       "  float: right;\n",
       "  font-size: smaller;\n",
       "  line-height: 1em;\n",
       "  font-family: monospace;\n",
       "  background-color: var(--sklearn-color-background);\n",
       "  border-radius: 1em;\n",
       "  height: 1em;\n",
       "  width: 1em;\n",
       "  text-decoration: none !important;\n",
       "  margin-left: 1ex;\n",
       "  /* unfitted */\n",
       "  border: var(--sklearn-color-unfitted-level-1) 1pt solid;\n",
       "  color: var(--sklearn-color-unfitted-level-1);\n",
       "}\n",
       "\n",
       ".sk-estimator-doc-link.fitted,\n",
       "a:link.sk-estimator-doc-link.fitted,\n",
       "a:visited.sk-estimator-doc-link.fitted {\n",
       "  /* fitted */\n",
       "  border: var(--sklearn-color-fitted-level-1) 1pt solid;\n",
       "  color: var(--sklearn-color-fitted-level-1);\n",
       "}\n",
       "\n",
       "/* On hover */\n",
       "div.sk-estimator:hover .sk-estimator-doc-link:hover,\n",
       ".sk-estimator-doc-link:hover,\n",
       "div.sk-label-container:hover .sk-estimator-doc-link:hover,\n",
       ".sk-estimator-doc-link:hover {\n",
       "  /* unfitted */\n",
       "  background-color: var(--sklearn-color-unfitted-level-3);\n",
       "  color: var(--sklearn-color-background);\n",
       "  text-decoration: none;\n",
       "}\n",
       "\n",
       "div.sk-estimator.fitted:hover .sk-estimator-doc-link.fitted:hover,\n",
       ".sk-estimator-doc-link.fitted:hover,\n",
       "div.sk-label-container:hover .sk-estimator-doc-link.fitted:hover,\n",
       ".sk-estimator-doc-link.fitted:hover {\n",
       "  /* fitted */\n",
       "  background-color: var(--sklearn-color-fitted-level-3);\n",
       "  color: var(--sklearn-color-background);\n",
       "  text-decoration: none;\n",
       "}\n",
       "\n",
       "/* Span, style for the box shown on hovering the info icon */\n",
       ".sk-estimator-doc-link span {\n",
       "  display: none;\n",
       "  z-index: 9999;\n",
       "  position: relative;\n",
       "  font-weight: normal;\n",
       "  right: .2ex;\n",
       "  padding: .5ex;\n",
       "  margin: .5ex;\n",
       "  width: min-content;\n",
       "  min-width: 20ex;\n",
       "  max-width: 50ex;\n",
       "  color: var(--sklearn-color-text);\n",
       "  box-shadow: 2pt 2pt 4pt #999;\n",
       "  /* unfitted */\n",
       "  background: var(--sklearn-color-unfitted-level-0);\n",
       "  border: .5pt solid var(--sklearn-color-unfitted-level-3);\n",
       "}\n",
       "\n",
       ".sk-estimator-doc-link.fitted span {\n",
       "  /* fitted */\n",
       "  background: var(--sklearn-color-fitted-level-0);\n",
       "  border: var(--sklearn-color-fitted-level-3);\n",
       "}\n",
       "\n",
       ".sk-estimator-doc-link:hover span {\n",
       "  display: block;\n",
       "}\n",
       "\n",
       "/* \"?\"-specific style due to the `<a>` HTML tag */\n",
       "\n",
       "#sk-container-id-3 a.estimator_doc_link {\n",
       "  float: right;\n",
       "  font-size: 1rem;\n",
       "  line-height: 1em;\n",
       "  font-family: monospace;\n",
       "  background-color: var(--sklearn-color-background);\n",
       "  border-radius: 1rem;\n",
       "  height: 1rem;\n",
       "  width: 1rem;\n",
       "  text-decoration: none;\n",
       "  /* unfitted */\n",
       "  color: var(--sklearn-color-unfitted-level-1);\n",
       "  border: var(--sklearn-color-unfitted-level-1) 1pt solid;\n",
       "}\n",
       "\n",
       "#sk-container-id-3 a.estimator_doc_link.fitted {\n",
       "  /* fitted */\n",
       "  border: var(--sklearn-color-fitted-level-1) 1pt solid;\n",
       "  color: var(--sklearn-color-fitted-level-1);\n",
       "}\n",
       "\n",
       "/* On hover */\n",
       "#sk-container-id-3 a.estimator_doc_link:hover {\n",
       "  /* unfitted */\n",
       "  background-color: var(--sklearn-color-unfitted-level-3);\n",
       "  color: var(--sklearn-color-background);\n",
       "  text-decoration: none;\n",
       "}\n",
       "\n",
       "#sk-container-id-3 a.estimator_doc_link.fitted:hover {\n",
       "  /* fitted */\n",
       "  background-color: var(--sklearn-color-fitted-level-3);\n",
       "}\n",
       "</style><div id=\"sk-container-id-3\" class=\"sk-top-container\"><div class=\"sk-text-repr-fallback\"><pre>EnergyBasedFlowClassifier(n_bins=10)</pre><b>In a Jupyter environment, please rerun this cell to show the HTML representation or trust the notebook. <br />On GitHub, the HTML representation is unable to render, please try loading this page with nbviewer.org.</b></div><div class=\"sk-container\" hidden><div class=\"sk-item\"><div class=\"sk-estimator fitted sk-toggleable\"><input class=\"sk-toggleable__control sk-hidden--visually\" id=\"sk-estimator-id-3\" type=\"checkbox\" checked><label for=\"sk-estimator-id-3\" class=\"sk-toggleable__label fitted sk-toggleable__label-arrow fitted\">&nbsp;EnergyBasedFlowClassifier<span class=\"sk-estimator-doc-link fitted\">i<span>Fitted</span></span></label><div class=\"sk-toggleable__content fitted\"><pre>EnergyBasedFlowClassifier(n_bins=10)</pre></div> </div></div></div></div>"
      ],
      "text/plain": [
       "EnergyBasedFlowClassifier(n_bins=10)"
      ]
     },
     "execution_count": 110,
     "metadata": {},
     "output_type": "execute_result"
    }
   ],
   "source": [
    "clf.fit(X_train_df, y_train, base_class=0)"
   ]
  },
  {
   "cell_type": "code",
   "execution_count": 111,
   "id": "27d6e182-308e-4f17-a058-db95b928916e",
   "metadata": {},
   "outputs": [],
   "source": [
    "y_pred, y_energies = clf.predict(X_test_df, return_energies=True)"
   ]
  },
  {
   "cell_type": "code",
   "execution_count": 112,
   "id": "6d636495-6f93-42c9-80d5-0300f7ba9f91",
   "metadata": {},
   "outputs": [
    {
     "data": {
      "image/png": "[encoded data removed]",
      "text/plain": [
       "<Figure size 640x480 with 1 Axes>"
      ]
     },
     "metadata": {},
     "output_type": "display_data"
    }
   ],
   "source": [
    "# ploting energies\n",
    "benign = np.where(y_test == 0)[0]\n",
    "malicious = np.where(y_test == 1)[0]\n",
    "\n",
    "benign_energies = y_energies[benign]\n",
    "malicious_energies = y_energies[malicious]\n",
    "cutoff = clf.estimators_[0].cutoff_\n",
    "\n",
    "bins = np.histogram(y_energies, bins=60)[1]\n",
    "\n",
    "plt.hist(\n",
    "    malicious_energies,\n",
    "    bins,\n",
    "    facecolor=\"#006680\",\n",
    "    alpha=0.7,\n",
    "    ec=\"white\",\n",
    "    linewidth=0.3,\n",
    "    label=\"malicious\",\n",
    ")\n",
    "plt.hist(\n",
    "    benign_energies,\n",
    "    bins,\n",
    "    facecolor=\"#b3b3b3\",\n",
    "    alpha=0.7,\n",
    "    ec=\"white\",\n",
    "    linewidth=0.3,\n",
    "    label=\"benign\",\n",
    ")\n",
    "plt.axvline(cutoff, color=\"r\", linestyle=\"dashed\", linewidth=1)\n",
    "plt.legend()\n",
    "\n",
    "plt.xlabel(\"Energy\", fontsize=12)\n",
    "plt.ylabel(\"Density\", fontsize=12)\n",
    "\n",
    "plt.show()"
   ]
  },
  {
   "cell_type": "code",
   "execution_count": 113,
   "id": "8c6352bd-732d-4890-8850-aef40fb3dc5f",
   "metadata": {},
   "outputs": [
    {
     "name": "stderr",
     "output_type": "stream",
     "text": [
      "/Users/kevinaraujo/.pyenv/versions/masters/lib/python3.12/site-packages/sklearn/metrics/_classification.py:1517: UndefinedMetricWarning: Precision is ill-defined and being set to 0.0 in labels with no predicted samples. Use `zero_division` parameter to control this behavior.\n",
      "  _warn_prf(average, modifier, f\"{metric.capitalize()} is\", len(result))\n"
     ]
    }
   ],
   "source": [
    "model_score_2 = calculate_model_score(y_true=y_test.values, y_pred=y_pred)"
   ]
  },
  {
   "cell_type": "code",
   "execution_count": 114,
   "id": "e419db56-bcec-47e6-b95d-fb9a42743699",
   "metadata": {},
   "outputs": [
    {
     "data": {
      "text/plain": [
       "{'accuracy': 0.9350329934013197,\n",
       " 'f1': np.float64(0.9036400947482017),\n",
       " 'f1_micro': np.float64(0.9350329934013197),\n",
       " 'f1_macro': np.float64(0.4832129460272189),\n",
       " 'precision': np.float64(0.8742866987490324),\n",
       " 'recall': np.float64(0.9350329934013197)}"
      ]
     },
     "execution_count": 114,
     "metadata": {},
     "output_type": "execute_result"
    }
   ],
   "source": [
    "model_score_2"
   ]
  },
  {
   "cell_type": "code",
   "execution_count": 115,
   "id": "02042aff-75e2-495c-8d80-6b11d4b1e9fe",
   "metadata": {},
   "outputs": [],
   "source": [
    "df_efc_metrics_1 = pd.DataFrame(data=model_score_2, index=[0])"
   ]
  },
  {
   "cell_type": "code",
   "execution_count": 116,
   "id": "f12f6854-df90-48e2-b707-8e026262068c",
   "metadata": {},
   "outputs": [
    {
     "data": {
      "text/html": [
       "<div>\n",
       "<style scoped>\n",
       "    .dataframe tbody tr th:only-of-type {\n",
       "        vertical-align: middle;\n",
       "    }\n",
       "\n",
       "    .dataframe tbody tr th {\n",
       "        vertical-align: top;\n",
       "    }\n",
       "\n",
       "    .dataframe thead th {\n",
       "        text-align: right;\n",
       "    }\n",
       "</style>\n",
       "<table border=\"1\" class=\"dataframe\">\n",
       "  <thead>\n",
       "    <tr style=\"text-align: right;\">\n",
       "      <th></th>\n",
       "      <th>accuracy</th>\n",
       "      <th>f1</th>\n",
       "      <th>f1_micro</th>\n",
       "      <th>f1_macro</th>\n",
       "      <th>precision</th>\n",
       "      <th>recall</th>\n",
       "    </tr>\n",
       "  </thead>\n",
       "  <tbody>\n",
       "    <tr>\n",
       "      <th>0</th>\n",
       "      <td>0.935033</td>\n",
       "      <td>0.90364</td>\n",
       "      <td>0.935033</td>\n",
       "      <td>0.483213</td>\n",
       "      <td>0.874287</td>\n",
       "      <td>0.935033</td>\n",
       "    </tr>\n",
       "  </tbody>\n",
       "</table>\n",
       "</div>"
      ],
      "text/plain": [
       "   accuracy       f1  f1_micro  f1_macro  precision    recall\n",
       "0  0.935033  0.90364  0.935033  0.483213   0.874287  0.935033"
      ]
     },
     "execution_count": 116,
     "metadata": {},
     "output_type": "execute_result"
    }
   ],
   "source": [
    "df_efc_metrics_1"
   ]
  },
  {
   "cell_type": "code",
   "execution_count": null,
   "id": "9a3d5f78-2335-4f0f-aa81-2c0af4d77f00",
   "metadata": {},
   "outputs": [],
   "source": []
  },
  {
   "cell_type": "markdown",
   "id": "29c244c6-510c-44d3-b63a-fbd99493b0c1",
   "metadata": {},
   "source": [
    "### All Samples"
   ]
  },
  {
   "cell_type": "code",
   "execution_count": 62,
   "id": "4aa8434f-8b10-413e-90ec-b9499b34edc7",
   "metadata": {},
   "outputs": [
    {
     "name": "stdout",
     "output_type": "stream",
     "text": [
      "run_elliptic_preprocessing_pipeline True\n",
      "load_elliptic_data True\n"
     ]
    },
    {
     "name": "stderr",
     "output_type": "stream",
     "text": [
      "/var/folders/8b/c9dvlw851kx2vf3r7gc5gbbh0000gn/T/ipykernel_47144/3533226547.py:2: FutureWarning: Downcasting behavior in `replace` is deprecated and will be removed in a future version. To retain the old behavior, explicitly call `result.infer_objects(copy=False)`. To opt-in to the future behavior, set `pd.set_option('future.no_silent_downcasting', True)`\n",
      "  df_classes.replace({\"class\": {\"1\": 1, \"2\": 0, \"unknown\": 2}}, inplace=True)\n"
     ]
    }
   ],
   "source": [
    "only_labeled = True\n",
    "\n",
    "X_train_df, X_test_df, y_train, y_test = run_elliptic_preprocessing_pipeline(\n",
    "    last_train_time_step=last_train_time_step,\n",
    "    last_time_step=last_time_step,\n",
    "    only_labeled=only_labeled,\n",
    ")"
   ]
  },
  {
   "cell_type": "code",
   "execution_count": 63,
   "id": "5397fe32-0280-4c42-b9f1-d484297b0760",
   "metadata": {},
   "outputs": [],
   "source": [
    "results_efc = 'results/efc'"
   ]
  },
  {
   "cell_type": "code",
   "execution_count": 64,
   "id": "0d1f1789-3dd9-4dad-ab7a-395c195dcbd4",
   "metadata": {},
   "outputs": [],
   "source": [
    "sizes = {\n",
    "    \"X Size\": len(X_train_df) + len(X_test_df),\n",
    "    \"y Size\": len(y_train) + len(y_test),\n",
    "    \"X_train Size\": len(X_train_df),\n",
    "    \"X_test Size\": len(X_test_df),\n",
    "    \"y_train Size\": len(y_train),\n",
    "    \"y_test Size\": len(y_test),\n",
    "    \"y_train Malicious Size\": len(np.where(y_train == 1)[0]),\n",
    "    \"y_train Bening Size\": len(np.where(y_train == 0)[0]),\n",
    "    \"y_test Malicious Size\": len(np.where(y_test == 1)[0]),\n",
    "    \"y_test Bening Size\": len(np.where(y_test == 0)[0]),\n",
    "}"
   ]
  },
  {
   "cell_type": "code",
   "execution_count": 65,
   "id": "8af810d5-2e2b-44b5-8787-5ccb9db2e185",
   "metadata": {},
   "outputs": [],
   "source": [
    "df_sizes_1 = pd.DataFrame(data=sizes, index=[0])"
   ]
  },
  {
   "cell_type": "code",
   "execution_count": 66,
   "id": "275fbf24-bdd6-471f-a2a3-f2de671ad2cb",
   "metadata": {},
   "outputs": [
    {
     "data": {
      "text/html": [
       "<div>\n",
       "<style scoped>\n",
       "    .dataframe tbody tr th:only-of-type {\n",
       "        vertical-align: middle;\n",
       "    }\n",
       "\n",
       "    .dataframe tbody tr th {\n",
       "        vertical-align: top;\n",
       "    }\n",
       "\n",
       "    .dataframe thead th {\n",
       "        text-align: right;\n",
       "    }\n",
       "</style>\n",
       "<table border=\"1\" class=\"dataframe\">\n",
       "  <thead>\n",
       "    <tr style=\"text-align: right;\">\n",
       "      <th></th>\n",
       "      <th>X Size</th>\n",
       "      <th>y Size</th>\n",
       "      <th>X_train Size</th>\n",
       "      <th>X_test Size</th>\n",
       "      <th>y_train Size</th>\n",
       "      <th>y_test Size</th>\n",
       "      <th>y_train Malicious Size</th>\n",
       "      <th>y_train Bening Size</th>\n",
       "      <th>y_test Malicious Size</th>\n",
       "      <th>y_test Bening Size</th>\n",
       "    </tr>\n",
       "  </thead>\n",
       "  <tbody>\n",
       "    <tr>\n",
       "      <th>0</th>\n",
       "      <td>46564</td>\n",
       "      <td>46564</td>\n",
       "      <td>29894</td>\n",
       "      <td>16670</td>\n",
       "      <td>29894</td>\n",
       "      <td>16670</td>\n",
       "      <td>3462</td>\n",
       "      <td>26432</td>\n",
       "      <td>1083</td>\n",
       "      <td>15587</td>\n",
       "    </tr>\n",
       "  </tbody>\n",
       "</table>\n",
       "</div>"
      ],
      "text/plain": [
       "   X Size  y Size  X_train Size  X_test Size  y_train Size  y_test Size  \\\n",
       "0   46564   46564         29894        16670         29894        16670   \n",
       "\n",
       "   y_train Malicious Size  y_train Bening Size  y_test Malicious Size  \\\n",
       "0                    3462                26432                   1083   \n",
       "\n",
       "   y_test Bening Size  \n",
       "0               15587  "
      ]
     },
     "execution_count": 66,
     "metadata": {},
     "output_type": "execute_result"
    }
   ],
   "source": [
    "df_sizes_1"
   ]
  },
  {
   "cell_type": "code",
   "execution_count": 67,
   "id": "7b4db1e9-6245-48e1-bb5c-fa25d15c6550",
   "metadata": {},
   "outputs": [],
   "source": [
    "clf = EnergyBasedFlowClassifier(n_bins=10, cutoff_quantile=0.95)"
   ]
  },
  {
   "cell_type": "code",
   "execution_count": 68,
   "id": "96292c71-1d6a-4434-9a3c-1dfd4aab1a24",
   "metadata": {},
   "outputs": [
    {
     "data": {
      "text/html": [
       "<style>#sk-container-id-2 {\n",
       "  /* Definition of color scheme common for light and dark mode */\n",
       "  --sklearn-color-text: black;\n",
       "  --sklearn-color-line: gray;\n",
       "  /* Definition of color scheme for unfitted estimators */\n",
       "  --sklearn-color-unfitted-level-0: #fff5e6;\n",
       "  --sklearn-color-unfitted-level-1: #f6e4d2;\n",
       "  --sklearn-color-unfitted-level-2: #ffe0b3;\n",
       "  --sklearn-color-unfitted-level-3: chocolate;\n",
       "  /* Definition of color scheme for fitted estimators */\n",
       "  --sklearn-color-fitted-level-0: #f0f8ff;\n",
       "  --sklearn-color-fitted-level-1: #d4ebff;\n",
       "  --sklearn-color-fitted-level-2: #b3dbfd;\n",
       "  --sklearn-color-fitted-level-3: cornflowerblue;\n",
       "\n",
       "  /* Specific color for light theme */\n",
       "  --sklearn-color-text-on-default-background: var(--sg-text-color, var(--theme-code-foreground, var(--jp-content-font-color1, black)));\n",
       "  --sklearn-color-background: var(--sg-background-color, var(--theme-background, var(--jp-layout-color0, white)));\n",
       "  --sklearn-color-border-box: var(--sg-text-color, var(--theme-code-foreground, var(--jp-content-font-color1, black)));\n",
       "  --sklearn-color-icon: #696969;\n",
       "\n",
       "  @media (prefers-color-scheme: dark) {\n",
       "    /* Redefinition of color scheme for dark theme */\n",
       "    --sklearn-color-text-on-default-background: var(--sg-text-color, var(--theme-code-foreground, var(--jp-content-font-color1, white)));\n",
       "    --sklearn-color-background: var(--sg-background-color, var(--theme-background, var(--jp-layout-color0, #111)));\n",
       "    --sklearn-color-border-box: var(--sg-text-color, var(--theme-code-foreground, var(--jp-content-font-color1, white)));\n",
       "    --sklearn-color-icon: #878787;\n",
       "  }\n",
       "}\n",
       "\n",
       "#sk-container-id-2 {\n",
       "  color: var(--sklearn-color-text);\n",
       "}\n",
       "\n",
       "#sk-container-id-2 pre {\n",
       "  padding: 0;\n",
       "}\n",
       "\n",
       "#sk-container-id-2 input.sk-hidden--visually {\n",
       "  border: 0;\n",
       "  clip: rect(1px 1px 1px 1px);\n",
       "  clip: rect(1px, 1px, 1px, 1px);\n",
       "  height: 1px;\n",
       "  margin: -1px;\n",
       "  overflow: hidden;\n",
       "  padding: 0;\n",
       "  position: absolute;\n",
       "  width: 1px;\n",
       "}\n",
       "\n",
       "#sk-container-id-2 div.sk-dashed-wrapped {\n",
       "  border: 1px dashed var(--sklearn-color-line);\n",
       "  margin: 0 0.4em 0.5em 0.4em;\n",
       "  box-sizing: border-box;\n",
       "  padding-bottom: 0.4em;\n",
       "  background-color: var(--sklearn-color-background);\n",
       "}\n",
       "\n",
       "#sk-container-id-2 div.sk-container {\n",
       "  /* jupyter's `normalize.less` sets `[hidden] { display: none; }`\n",
       "     but bootstrap.min.css set `[hidden] { display: none !important; }`\n",
       "     so we also need the `!important` here to be able to override the\n",
       "     default hidden behavior on the sphinx rendered scikit-learn.org.\n",
       "     See: https://github.com/scikit-learn/scikit-learn/issues/21755 */\n",
       "  display: inline-block !important;\n",
       "  position: relative;\n",
       "}\n",
       "\n",
       "#sk-container-id-2 div.sk-text-repr-fallback {\n",
       "  display: none;\n",
       "}\n",
       "\n",
       "div.sk-parallel-item,\n",
       "div.sk-serial,\n",
       "div.sk-item {\n",
       "  /* draw centered vertical line to link estimators */\n",
       "  background-image: linear-gradient(var(--sklearn-color-text-on-default-background), var(--sklearn-color-text-on-default-background));\n",
       "  background-size: 2px 100%;\n",
       "  background-repeat: no-repeat;\n",
       "  background-position: center center;\n",
       "}\n",
       "\n",
       "/* Parallel-specific style estimator block */\n",
       "\n",
       "#sk-container-id-2 div.sk-parallel-item::after {\n",
       "  content: \"\";\n",
       "  width: 100%;\n",
       "  border-bottom: 2px solid var(--sklearn-color-text-on-default-background);\n",
       "  flex-grow: 1;\n",
       "}\n",
       "\n",
       "#sk-container-id-2 div.sk-parallel {\n",
       "  display: flex;\n",
       "  align-items: stretch;\n",
       "  justify-content: center;\n",
       "  background-color: var(--sklearn-color-background);\n",
       "  position: relative;\n",
       "}\n",
       "\n",
       "#sk-container-id-2 div.sk-parallel-item {\n",
       "  display: flex;\n",
       "  flex-direction: column;\n",
       "}\n",
       "\n",
       "#sk-container-id-2 div.sk-parallel-item:first-child::after {\n",
       "  align-self: flex-end;\n",
       "  width: 50%;\n",
       "}\n",
       "\n",
       "#sk-container-id-2 div.sk-parallel-item:last-child::after {\n",
       "  align-self: flex-start;\n",
       "  width: 50%;\n",
       "}\n",
       "\n",
       "#sk-container-id-2 div.sk-parallel-item:only-child::after {\n",
       "  width: 0;\n",
       "}\n",
       "\n",
       "/* Serial-specific style estimator block */\n",
       "\n",
       "#sk-container-id-2 div.sk-serial {\n",
       "  display: flex;\n",
       "  flex-direction: column;\n",
       "  align-items: center;\n",
       "  background-color: var(--sklearn-color-background);\n",
       "  padding-right: 1em;\n",
       "  padding-left: 1em;\n",
       "}\n",
       "\n",
       "\n",
       "/* Toggleable style: style used for estimator/Pipeline/ColumnTransformer box that is\n",
       "clickable and can be expanded/collapsed.\n",
       "- Pipeline and ColumnTransformer use this feature and define the default style\n",
       "- Estimators will overwrite some part of the style using the `sk-estimator` class\n",
       "*/\n",
       "\n",
       "/* Pipeline and ColumnTransformer style (default) */\n",
       "\n",
       "#sk-container-id-2 div.sk-toggleable {\n",
       "  /* Default theme specific background. It is overwritten whether we have a\n",
       "  specific estimator or a Pipeline/ColumnTransformer */\n",
       "  background-color: var(--sklearn-color-background);\n",
       "}\n",
       "\n",
       "/* Toggleable label */\n",
       "#sk-container-id-2 label.sk-toggleable__label {\n",
       "  cursor: pointer;\n",
       "  display: block;\n",
       "  width: 100%;\n",
       "  margin-bottom: 0;\n",
       "  padding: 0.5em;\n",
       "  box-sizing: border-box;\n",
       "  text-align: center;\n",
       "}\n",
       "\n",
       "#sk-container-id-2 label.sk-toggleable__label-arrow:before {\n",
       "  /* Arrow on the left of the label */\n",
       "  content: \"▸\";\n",
       "  float: left;\n",
       "  margin-right: 0.25em;\n",
       "  color: var(--sklearn-color-icon);\n",
       "}\n",
       "\n",
       "#sk-container-id-2 label.sk-toggleable__label-arrow:hover:before {\n",
       "  color: var(--sklearn-color-text);\n",
       "}\n",
       "\n",
       "/* Toggleable content - dropdown */\n",
       "\n",
       "#sk-container-id-2 div.sk-toggleable__content {\n",
       "  max-height: 0;\n",
       "  max-width: 0;\n",
       "  overflow: hidden;\n",
       "  text-align: left;\n",
       "  /* unfitted */\n",
       "  background-color: var(--sklearn-color-unfitted-level-0);\n",
       "}\n",
       "\n",
       "#sk-container-id-2 div.sk-toggleable__content.fitted {\n",
       "  /* fitted */\n",
       "  background-color: var(--sklearn-color-fitted-level-0);\n",
       "}\n",
       "\n",
       "#sk-container-id-2 div.sk-toggleable__content pre {\n",
       "  margin: 0.2em;\n",
       "  border-radius: 0.25em;\n",
       "  color: var(--sklearn-color-text);\n",
       "  /* unfitted */\n",
       "  background-color: var(--sklearn-color-unfitted-level-0);\n",
       "}\n",
       "\n",
       "#sk-container-id-2 div.sk-toggleable__content.fitted pre {\n",
       "  /* unfitted */\n",
       "  background-color: var(--sklearn-color-fitted-level-0);\n",
       "}\n",
       "\n",
       "#sk-container-id-2 input.sk-toggleable__control:checked~div.sk-toggleable__content {\n",
       "  /* Expand drop-down */\n",
       "  max-height: 200px;\n",
       "  max-width: 100%;\n",
       "  overflow: auto;\n",
       "}\n",
       "\n",
       "#sk-container-id-2 input.sk-toggleable__control:checked~label.sk-toggleable__label-arrow:before {\n",
       "  content: \"▾\";\n",
       "}\n",
       "\n",
       "/* Pipeline/ColumnTransformer-specific style */\n",
       "\n",
       "#sk-container-id-2 div.sk-label input.sk-toggleable__control:checked~label.sk-toggleable__label {\n",
       "  color: var(--sklearn-color-text);\n",
       "  background-color: var(--sklearn-color-unfitted-level-2);\n",
       "}\n",
       "\n",
       "#sk-container-id-2 div.sk-label.fitted input.sk-toggleable__control:checked~label.sk-toggleable__label {\n",
       "  background-color: var(--sklearn-color-fitted-level-2);\n",
       "}\n",
       "\n",
       "/* Estimator-specific style */\n",
       "\n",
       "/* Colorize estimator box */\n",
       "#sk-container-id-2 div.sk-estimator input.sk-toggleable__control:checked~label.sk-toggleable__label {\n",
       "  /* unfitted */\n",
       "  background-color: var(--sklearn-color-unfitted-level-2);\n",
       "}\n",
       "\n",
       "#sk-container-id-2 div.sk-estimator.fitted input.sk-toggleable__control:checked~label.sk-toggleable__label {\n",
       "  /* fitted */\n",
       "  background-color: var(--sklearn-color-fitted-level-2);\n",
       "}\n",
       "\n",
       "#sk-container-id-2 div.sk-label label.sk-toggleable__label,\n",
       "#sk-container-id-2 div.sk-label label {\n",
       "  /* The background is the default theme color */\n",
       "  color: var(--sklearn-color-text-on-default-background);\n",
       "}\n",
       "\n",
       "/* On hover, darken the color of the background */\n",
       "#sk-container-id-2 div.sk-label:hover label.sk-toggleable__label {\n",
       "  color: var(--sklearn-color-text);\n",
       "  background-color: var(--sklearn-color-unfitted-level-2);\n",
       "}\n",
       "\n",
       "/* Label box, darken color on hover, fitted */\n",
       "#sk-container-id-2 div.sk-label.fitted:hover label.sk-toggleable__label.fitted {\n",
       "  color: var(--sklearn-color-text);\n",
       "  background-color: var(--sklearn-color-fitted-level-2);\n",
       "}\n",
       "\n",
       "/* Estimator label */\n",
       "\n",
       "#sk-container-id-2 div.sk-label label {\n",
       "  font-family: monospace;\n",
       "  font-weight: bold;\n",
       "  display: inline-block;\n",
       "  line-height: 1.2em;\n",
       "}\n",
       "\n",
       "#sk-container-id-2 div.sk-label-container {\n",
       "  text-align: center;\n",
       "}\n",
       "\n",
       "/* Estimator-specific */\n",
       "#sk-container-id-2 div.sk-estimator {\n",
       "  font-family: monospace;\n",
       "  border: 1px dotted var(--sklearn-color-border-box);\n",
       "  border-radius: 0.25em;\n",
       "  box-sizing: border-box;\n",
       "  margin-bottom: 0.5em;\n",
       "  /* unfitted */\n",
       "  background-color: var(--sklearn-color-unfitted-level-0);\n",
       "}\n",
       "\n",
       "#sk-container-id-2 div.sk-estimator.fitted {\n",
       "  /* fitted */\n",
       "  background-color: var(--sklearn-color-fitted-level-0);\n",
       "}\n",
       "\n",
       "/* on hover */\n",
       "#sk-container-id-2 div.sk-estimator:hover {\n",
       "  /* unfitted */\n",
       "  background-color: var(--sklearn-color-unfitted-level-2);\n",
       "}\n",
       "\n",
       "#sk-container-id-2 div.sk-estimator.fitted:hover {\n",
       "  /* fitted */\n",
       "  background-color: var(--sklearn-color-fitted-level-2);\n",
       "}\n",
       "\n",
       "/* Specification for estimator info (e.g. \"i\" and \"?\") */\n",
       "\n",
       "/* Common style for \"i\" and \"?\" */\n",
       "\n",
       ".sk-estimator-doc-link,\n",
       "a:link.sk-estimator-doc-link,\n",
       "a:visited.sk-estimator-doc-link {\n",
       "  float: right;\n",
       "  font-size: smaller;\n",
       "  line-height: 1em;\n",
       "  font-family: monospace;\n",
       "  background-color: var(--sklearn-color-background);\n",
       "  border-radius: 1em;\n",
       "  height: 1em;\n",
       "  width: 1em;\n",
       "  text-decoration: none !important;\n",
       "  margin-left: 1ex;\n",
       "  /* unfitted */\n",
       "  border: var(--sklearn-color-unfitted-level-1) 1pt solid;\n",
       "  color: var(--sklearn-color-unfitted-level-1);\n",
       "}\n",
       "\n",
       ".sk-estimator-doc-link.fitted,\n",
       "a:link.sk-estimator-doc-link.fitted,\n",
       "a:visited.sk-estimator-doc-link.fitted {\n",
       "  /* fitted */\n",
       "  border: var(--sklearn-color-fitted-level-1) 1pt solid;\n",
       "  color: var(--sklearn-color-fitted-level-1);\n",
       "}\n",
       "\n",
       "/* On hover */\n",
       "div.sk-estimator:hover .sk-estimator-doc-link:hover,\n",
       ".sk-estimator-doc-link:hover,\n",
       "div.sk-label-container:hover .sk-estimator-doc-link:hover,\n",
       ".sk-estimator-doc-link:hover {\n",
       "  /* unfitted */\n",
       "  background-color: var(--sklearn-color-unfitted-level-3);\n",
       "  color: var(--sklearn-color-background);\n",
       "  text-decoration: none;\n",
       "}\n",
       "\n",
       "div.sk-estimator.fitted:hover .sk-estimator-doc-link.fitted:hover,\n",
       ".sk-estimator-doc-link.fitted:hover,\n",
       "div.sk-label-container:hover .sk-estimator-doc-link.fitted:hover,\n",
       ".sk-estimator-doc-link.fitted:hover {\n",
       "  /* fitted */\n",
       "  background-color: var(--sklearn-color-fitted-level-3);\n",
       "  color: var(--sklearn-color-background);\n",
       "  text-decoration: none;\n",
       "}\n",
       "\n",
       "/* Span, style for the box shown on hovering the info icon */\n",
       ".sk-estimator-doc-link span {\n",
       "  display: none;\n",
       "  z-index: 9999;\n",
       "  position: relative;\n",
       "  font-weight: normal;\n",
       "  right: .2ex;\n",
       "  padding: .5ex;\n",
       "  margin: .5ex;\n",
       "  width: min-content;\n",
       "  min-width: 20ex;\n",
       "  max-width: 50ex;\n",
       "  color: var(--sklearn-color-text);\n",
       "  box-shadow: 2pt 2pt 4pt #999;\n",
       "  /* unfitted */\n",
       "  background: var(--sklearn-color-unfitted-level-0);\n",
       "  border: .5pt solid var(--sklearn-color-unfitted-level-3);\n",
       "}\n",
       "\n",
       ".sk-estimator-doc-link.fitted span {\n",
       "  /* fitted */\n",
       "  background: var(--sklearn-color-fitted-level-0);\n",
       "  border: var(--sklearn-color-fitted-level-3);\n",
       "}\n",
       "\n",
       ".sk-estimator-doc-link:hover span {\n",
       "  display: block;\n",
       "}\n",
       "\n",
       "/* \"?\"-specific style due to the `<a>` HTML tag */\n",
       "\n",
       "#sk-container-id-2 a.estimator_doc_link {\n",
       "  float: right;\n",
       "  font-size: 1rem;\n",
       "  line-height: 1em;\n",
       "  font-family: monospace;\n",
       "  background-color: var(--sklearn-color-background);\n",
       "  border-radius: 1rem;\n",
       "  height: 1rem;\n",
       "  width: 1rem;\n",
       "  text-decoration: none;\n",
       "  /* unfitted */\n",
       "  color: var(--sklearn-color-unfitted-level-1);\n",
       "  border: var(--sklearn-color-unfitted-level-1) 1pt solid;\n",
       "}\n",
       "\n",
       "#sk-container-id-2 a.estimator_doc_link.fitted {\n",
       "  /* fitted */\n",
       "  border: var(--sklearn-color-fitted-level-1) 1pt solid;\n",
       "  color: var(--sklearn-color-fitted-level-1);\n",
       "}\n",
       "\n",
       "/* On hover */\n",
       "#sk-container-id-2 a.estimator_doc_link:hover {\n",
       "  /* unfitted */\n",
       "  background-color: var(--sklearn-color-unfitted-level-3);\n",
       "  color: var(--sklearn-color-background);\n",
       "  text-decoration: none;\n",
       "}\n",
       "\n",
       "#sk-container-id-2 a.estimator_doc_link.fitted:hover {\n",
       "  /* fitted */\n",
       "  background-color: var(--sklearn-color-fitted-level-3);\n",
       "}\n",
       "</style><div id=\"sk-container-id-2\" class=\"sk-top-container\"><div class=\"sk-text-repr-fallback\"><pre>EnergyBasedFlowClassifier(n_bins=10)</pre><b>In a Jupyter environment, please rerun this cell to show the HTML representation or trust the notebook. <br />On GitHub, the HTML representation is unable to render, please try loading this page with nbviewer.org.</b></div><div class=\"sk-container\" hidden><div class=\"sk-item\"><div class=\"sk-estimator fitted sk-toggleable\"><input class=\"sk-toggleable__control sk-hidden--visually\" id=\"sk-estimator-id-2\" type=\"checkbox\" checked><label for=\"sk-estimator-id-2\" class=\"sk-toggleable__label fitted sk-toggleable__label-arrow fitted\">&nbsp;EnergyBasedFlowClassifier<span class=\"sk-estimator-doc-link fitted\">i<span>Fitted</span></span></label><div class=\"sk-toggleable__content fitted\"><pre>EnergyBasedFlowClassifier(n_bins=10)</pre></div> </div></div></div></div>"
      ],
      "text/plain": [
       "EnergyBasedFlowClassifier(n_bins=10)"
      ]
     },
     "execution_count": 68,
     "metadata": {},
     "output_type": "execute_result"
    }
   ],
   "source": [
    "clf.fit(X_train_df, y_train, base_class=0)"
   ]
  },
  {
   "cell_type": "code",
   "execution_count": 69,
   "id": "db456a74-879e-4dcf-bf7c-45d5ecbb2920",
   "metadata": {},
   "outputs": [],
   "source": [
    "y_pred, y_energies = clf.predict(X_test_df, return_energies=True)"
   ]
  },
  {
   "cell_type": "code",
   "execution_count": 70,
   "id": "4d1e1773-3e66-40c1-8294-593c8e5e4f59",
   "metadata": {},
   "outputs": [
    {
     "data": {
      "image/png": "[encoded data removed]",
      "text/plain": [
       "<Figure size 640x480 with 1 Axes>"
      ]
     },
     "metadata": {},
     "output_type": "display_data"
    }
   ],
   "source": [
    "# ploting energies\n",
    "benign = np.where(y_test == 0)[0]\n",
    "malicious = np.where(y_test == 1)[0]\n",
    "\n",
    "benign_energies = y_energies[benign]\n",
    "malicious_energies = y_energies[malicious]\n",
    "cutoff = clf.estimators_[0].cutoff_\n",
    "\n",
    "bins = np.histogram(y_energies, bins=60)[1]\n",
    "\n",
    "plt.hist(\n",
    "    malicious_energies,\n",
    "    bins,\n",
    "    facecolor=\"#006680\",\n",
    "    alpha=0.7,\n",
    "    ec=\"white\",\n",
    "    linewidth=0.3,\n",
    "    label=\"malicious\",\n",
    ")\n",
    "plt.hist(\n",
    "    benign_energies,\n",
    "    bins,\n",
    "    facecolor=\"#b3b3b3\",\n",
    "    alpha=0.7,\n",
    "    ec=\"white\",\n",
    "    linewidth=0.3,\n",
    "    label=\"benign\",\n",
    ")\n",
    "plt.axvline(cutoff, color=\"r\", linestyle=\"dashed\", linewidth=1)\n",
    "plt.legend()\n",
    "\n",
    "plt.xlabel(\"Energy\", fontsize=12)\n",
    "plt.ylabel(\"Density\", fontsize=12)\n",
    "plt.savefig(f'{results_efc}/experiment_2/1_labeled_samples.png')"
   ]
  },
  {
   "cell_type": "code",
   "execution_count": 71,
   "id": "5a61bab1-bb0c-4a9a-8dc6-7967b3d22040",
   "metadata": {},
   "outputs": [],
   "source": [
    "model_score_3 = calculate_model_score(y_true=y_test.values, y_pred=y_pred)"
   ]
  },
  {
   "cell_type": "code",
   "execution_count": 72,
   "id": "5ada3d25-78d2-4fbb-b297-442b87720936",
   "metadata": {},
   "outputs": [],
   "source": [
    "df_efc_metrics_1 = pd.DataFrame(data=model_score_3, index=[0])"
   ]
  },
  {
   "cell_type": "code",
   "execution_count": 73,
   "id": "ad37fc64-de62-4c83-afa0-1695a17f54a9",
   "metadata": {},
   "outputs": [
    {
     "data": {
      "text/html": [
       "<div>\n",
       "<style scoped>\n",
       "    .dataframe tbody tr th:only-of-type {\n",
       "        vertical-align: middle;\n",
       "    }\n",
       "\n",
       "    .dataframe tbody tr th {\n",
       "        vertical-align: top;\n",
       "    }\n",
       "\n",
       "    .dataframe thead th {\n",
       "        text-align: right;\n",
       "    }\n",
       "</style>\n",
       "<table border=\"1\" class=\"dataframe\">\n",
       "  <thead>\n",
       "    <tr style=\"text-align: right;\">\n",
       "      <th></th>\n",
       "      <th>accuracy</th>\n",
       "      <th>f1</th>\n",
       "      <th>f1_micro</th>\n",
       "      <th>f1_macro</th>\n",
       "      <th>precision</th>\n",
       "      <th>recall</th>\n",
       "    </tr>\n",
       "  </thead>\n",
       "  <tbody>\n",
       "    <tr>\n",
       "      <th>0</th>\n",
       "      <td>0.932034</td>\n",
       "      <td>0.902364</td>\n",
       "      <td>0.932034</td>\n",
       "      <td>0.484167</td>\n",
       "      <td>0.876608</td>\n",
       "      <td>0.932034</td>\n",
       "    </tr>\n",
       "  </tbody>\n",
       "</table>\n",
       "</div>"
      ],
      "text/plain": [
       "   accuracy        f1  f1_micro  f1_macro  precision    recall\n",
       "0  0.932034  0.902364  0.932034  0.484167   0.876608  0.932034"
      ]
     },
     "execution_count": 73,
     "metadata": {},
     "output_type": "execute_result"
    }
   ],
   "source": [
    "df_efc_metrics_1"
   ]
  },
  {
   "cell_type": "markdown",
   "id": "32312df4-561f-4796-af3f-1e482e9038c0",
   "metadata": {
    "jp-MarkdownHeadingCollapsed": true
   },
   "source": [
    "### Network Packages Flow"
   ]
  },
  {
   "cell_type": "code",
   "execution_count": null,
   "id": "b48151ce-2866-4f99-87f0-43e5845f3233",
   "metadata": {},
   "outputs": [],
   "source": [
    "from sklearn.model_selection import train_test_split"
   ]
  },
  {
   "cell_type": "code",
   "execution_count": null,
   "id": "4276270c-0404-4c27-946a-325232d5d79f",
   "metadata": {},
   "outputs": [],
   "source": [
    "data = pd.read_csv('./cleaned_file.csv')"
   ]
  },
  {
   "cell_type": "code",
   "execution_count": null,
   "id": "fb7e2a47-f934-49aa-9810-021ddf2d1016",
   "metadata": {},
   "outputs": [],
   "source": [
    "data"
   ]
  },
  {
   "cell_type": "code",
   "execution_count": null,
   "id": "4c17fe96-ea57-4162-8d2d-32ed25f0d161",
   "metadata": {},
   "outputs": [],
   "source": [
    "# Select features and target variable\n",
    "X = data.drop(['hash','malicious'], axis=1)\n",
    "y = data['malicious']\n",
    "#z = data['hash']\n",
    "#z_list = z.values.tolist()\n",
    "y_list = y.values.tolist()"
   ]
  },
  {
   "cell_type": "code",
   "execution_count": null,
   "id": "d663fc08-7f45-4294-b58b-9bf5e3c7e8ad",
   "metadata": {},
   "outputs": [],
   "source": [
    "# spliting train and test sets\n",
    "X_train, X_test, y_train, y_test = train_test_split(\n",
    "    X, y, random_state=139, stratify=y, shuffle=True, test_size=0.3\n",
    ")"
   ]
  },
  {
   "cell_type": "code",
   "execution_count": null,
   "id": "95d73307-9202-4aab-81b3-f6cf4430e463",
   "metadata": {},
   "outputs": [],
   "source": [
    "clf = EnergyBasedFlowClassifier(n_bins=30, cutoff_quantile=0.95)"
   ]
  },
  {
   "cell_type": "code",
   "execution_count": null,
   "id": "af0d9069-940c-442f-9cbc-ab4277f6655f",
   "metadata": {},
   "outputs": [],
   "source": [
    "clf.fit(X_train, y_train, base_class=1)"
   ]
  },
  {
   "cell_type": "code",
   "execution_count": null,
   "id": "6c70b355-53a0-45c9-828b-6fe6a8093e24",
   "metadata": {},
   "outputs": [],
   "source": [
    "y_pred, y_energies = clf.predict(X_test, return_energies=True)"
   ]
  },
  {
   "cell_type": "code",
   "execution_count": null,
   "id": "0fcfe44b-0aed-4b37-9ba3-e4d7a4017186",
   "metadata": {},
   "outputs": [],
   "source": [
    "# ploting energies\n",
    "benign = np.where(y_test == 0)[0]\n",
    "malicious = np.where(y_test == 1)[0]\n",
    "\n",
    "benign_energies = y_energies[benign]\n",
    "malicious_energies = y_energies[malicious]\n",
    "cutoff = clf.estimators_[0].cutoff_\n",
    "\n",
    "bins = np.histogram(y_energies, bins=60)[1]\n",
    "\n",
    "plt.hist(\n",
    "    malicious_energies,\n",
    "    bins,\n",
    "    facecolor=\"#006680\",\n",
    "    alpha=0.7,\n",
    "    ec=\"white\",\n",
    "    linewidth=0.3,\n",
    "    label=\"malicious\",\n",
    ")\n",
    "plt.hist(\n",
    "    benign_energies,\n",
    "    bins,\n",
    "    facecolor=\"#b3b3b3\",\n",
    "    alpha=0.7,\n",
    "    ec=\"white\",\n",
    "    linewidth=0.3,\n",
    "    label=\"benign\",\n",
    ")\n",
    "plt.axvline(cutoff, color=\"r\", linestyle=\"dashed\", linewidth=1)\n",
    "plt.legend()\n",
    "\n",
    "plt.xlabel(\"Energy\", fontsize=12)\n",
    "plt.ylabel(\"Density\", fontsize=12)\n",
    "\n",
    "plt.show()"
   ]
  },
  {
   "cell_type": "code",
   "execution_count": null,
   "id": "8a13fc9a-c397-44da-a147-f00ab34ec20e",
   "metadata": {},
   "outputs": [],
   "source": [
    "metrics = calculate_model_score(y_true=y_test, y_pred=y_pred)"
   ]
  },
  {
   "cell_type": "code",
   "execution_count": null,
   "id": "6ed5d6b6-8471-4d5f-b552-7b9f87bf14d2",
   "metadata": {},
   "outputs": [],
   "source": [
    "metrics"
   ]
  },
  {
   "cell_type": "code",
   "execution_count": null,
   "id": "fbe36c7d-fe76-4d87-8847-6cbcbdc35772",
   "metadata": {},
   "outputs": [],
   "source": []
  },
  {
   "cell_type": "code",
   "execution_count": null,
   "id": "92b0193c-48fa-4da5-b41a-57268c90b430",
   "metadata": {},
   "outputs": [],
   "source": []
  },
  {
   "cell_type": "code",
   "execution_count": null,
   "id": "50cc4bb5-f26e-4fb5-9e53-ac5ddfd10b76",
   "metadata": {},
   "outputs": [],
   "source": [
    "# Select features and target variable\n",
    "X = data.drop(['hash','malicious'], axis=1)\n",
    "y = data['malicious']\n",
    "#z = data['hash']\n",
    "#z_list = z.values.tolist()\n",
    "y_list = y.values.tolist()"
   ]
  },
  {
   "cell_type": "code",
   "execution_count": null,
   "id": "7dc2119f-080f-4894-8508-5c79e04f11e7",
   "metadata": {},
   "outputs": [],
   "source": [
    "X_train, X_test, y_train, y_test = train_test_split(\n",
    "    X, y, random_state=139, stratify=y, shuffle=True, test_size=0.3\n",
    ")"
   ]
  },
  {
   "cell_type": "code",
   "execution_count": null,
   "id": "e1d0d60a-2536-4cc1-b719-c5e855410403",
   "metadata": {},
   "outputs": [],
   "source": [
    "idx_abnormal = np.where(y_train == 1.0)[0]  # find abnormal samples indexes in the training set"
   ]
  },
  {
   "cell_type": "code",
   "execution_count": null,
   "id": "9342dae9-655e-44f6-b3eb-34526f0a4b01",
   "metadata": {},
   "outputs": [],
   "source": [
    "idx_abnormal"
   ]
  },
  {
   "cell_type": "code",
   "execution_count": null,
   "id": "20da6034-2292-49af-872b-ce8e1e55b007",
   "metadata": {},
   "outputs": [],
   "source": [
    "X_train.drop(idx_abnormal, axis=0, inplace=True)  # remove abnormal samples from training (EFC trains with only benign instances)"
   ]
  },
  {
   "cell_type": "code",
   "execution_count": null,
   "id": "f803904e-34b3-4d60-ad34-b0f9c81df6bd",
   "metadata": {},
   "outputs": [],
   "source": [
    "y_train.drop(idx_abnormal, axis=0, inplace=True)  # remove the corresponding abonrmal training targets"
   ]
  },
  {
   "cell_type": "code",
   "execution_count": null,
   "id": "6d9b50cb-acd6-4fda-8ea2-6e2b7addc751",
   "metadata": {},
   "outputs": [],
   "source": [
    "y_train"
   ]
  },
  {
   "cell_type": "code",
   "execution_count": null,
   "id": "e2656c14-9f23-4069-99ac-a4e7a714329f",
   "metadata": {},
   "outputs": [],
   "source": [
    "clf = EnergyBasedFlowClassifier(n_bins=10, cutoff_quantile=0.95)"
   ]
  },
  {
   "cell_type": "code",
   "execution_count": null,
   "id": "9375d6bb-5d8a-4c46-a2bf-4835933b0c86",
   "metadata": {},
   "outputs": [],
   "source": [
    "clf.fit(X_train, y_train, base_class=1)"
   ]
  },
  {
   "cell_type": "code",
   "execution_count": null,
   "id": "0f3aaf94-867b-4bce-bdb5-f259552b10a3",
   "metadata": {},
   "outputs": [],
   "source": [
    "y_pred, y_energies = clf.predict(X_test, return_energies=True)"
   ]
  },
  {
   "cell_type": "code",
   "execution_count": null,
   "id": "89da6ce1-3edd-48c5-ae76-33b49bc88ea3",
   "metadata": {},
   "outputs": [],
   "source": [
    "# ploting energies\n",
    "benign = np.where(y_test == 0)[0]\n",
    "malicious = np.where(y_test == 1)[0]\n",
    "\n",
    "benign_energies = y_energies[benign]\n",
    "malicious_energies = y_energies[malicious]\n",
    "cutoff = clf.estimators_[0].cutoff_\n",
    "\n",
    "bins = np.histogram(y_energies, bins=60)[1]\n",
    "\n",
    "plt.hist(\n",
    "    malicious_energies,\n",
    "    bins,\n",
    "    facecolor=\"#006680\",\n",
    "    alpha=0.7,\n",
    "    ec=\"white\",\n",
    "    linewidth=0.3,\n",
    "    label=\"malicious\",\n",
    ")\n",
    "plt.hist(\n",
    "    benign_energies,\n",
    "    bins,\n",
    "    facecolor=\"#b3b3b3\",\n",
    "    alpha=0.7,\n",
    "    ec=\"white\",\n",
    "    linewidth=0.3,\n",
    "    label=\"benign\",\n",
    ")\n",
    "plt.axvline(cutoff, color=\"r\", linestyle=\"dashed\", linewidth=1)\n",
    "plt.legend()\n",
    "\n",
    "plt.xlabel(\"Energy\", fontsize=12)\n",
    "plt.ylabel(\"Density\", fontsize=12)\n",
    "\n",
    "plt.show()"
   ]
  },
  {
   "cell_type": "code",
   "execution_count": null,
   "id": "6d268caa-64c1-44c5-a4d2-be84d4495456",
   "metadata": {},
   "outputs": [],
   "source": [
    "metrics = calculate_model_score(y_true=y_test, y_pred=y_pred)"
   ]
  },
  {
   "cell_type": "code",
   "execution_count": null,
   "id": "c2d0378b-21f7-482e-b7fd-55fe0ef5e2b5",
   "metadata": {},
   "outputs": [],
   "source": [
    "metrics"
   ]
  },
  {
   "cell_type": "markdown",
   "id": "0d70659c-14cd-4151-8a80-d2f5389369ba",
   "metadata": {},
   "source": [
    "### Investigating f1_macro"
   ]
  },
  {
   "cell_type": "code",
   "execution_count": 75,
   "id": "2cfa4ef4-097e-4f21-81d6-00d93013dc05",
   "metadata": {},
   "outputs": [],
   "source": [
    "f1_macro_weighted = f1_score(y_true=y_test.values, y_pred=y_pred, average=\"weighted\")"
   ]
  },
  {
   "cell_type": "code",
   "execution_count": 76,
   "id": "ad976f87-5066-42e7-b476-97b6ca4e9bc7",
   "metadata": {},
   "outputs": [
    {
     "data": {
      "text/plain": [
       "np.float64(0.9023642297215495)"
      ]
     },
     "execution_count": 76,
     "metadata": {},
     "output_type": "execute_result"
    }
   ],
   "source": [
    "f1_macro_weighted"
   ]
  },
  {
   "cell_type": "code",
   "execution_count": 77,
   "id": "ffb6364e-25a2-4b6e-83f3-156d6b654ad4",
   "metadata": {},
   "outputs": [],
   "source": [
    "f1_micro = f1_score(y_true=y_test.values, y_pred=y_pred, average=\"micro\")"
   ]
  },
  {
   "cell_type": "code",
   "execution_count": 78,
   "id": "9e7be848-a7ad-4960-8bef-beb087eb80ac",
   "metadata": {},
   "outputs": [
    {
     "data": {
      "text/plain": [
       "np.float64(0.9320335932813437)"
      ]
     },
     "execution_count": 78,
     "metadata": {},
     "output_type": "execute_result"
    }
   ],
   "source": [
    "f1_micro"
   ]
  },
  {
   "cell_type": "code",
   "execution_count": 79,
   "id": "713da02c-b3fd-489c-9388-2983aeff4694",
   "metadata": {},
   "outputs": [],
   "source": [
    "f1_macro = f1_score(y_true=y_test.values, y_pred=y_pred, average=\"macro\")"
   ]
  },
  {
   "cell_type": "code",
   "execution_count": 80,
   "id": "534c9a66-873d-4ecf-b832-25d955d6c136",
   "metadata": {},
   "outputs": [
    {
     "data": {
      "text/plain": [
       "np.float64(0.4841674862120687)"
      ]
     },
     "execution_count": 80,
     "metadata": {},
     "output_type": "execute_result"
    }
   ],
   "source": [
    "f1_macro"
   ]
  },
  {
   "cell_type": "code",
   "execution_count": 81,
   "id": "ed0380a5-9be9-48b6-a3b3-1f28a63275b9",
   "metadata": {},
   "outputs": [],
   "source": [
    "from sklearn.metrics import (\n",
    "    confusion_matrix,\n",
    "    accuracy_score,\n",
    "    precision_score,\n",
    "    recall_score,\n",
    "    f1_score\n",
    ")"
   ]
  },
  {
   "cell_type": "code",
   "execution_count": 82,
   "id": "44fe30db-e4d5-496c-af1e-ff8c34ed077e",
   "metadata": {},
   "outputs": [],
   "source": [
    "labels_cm = [\"True Negative\", \"False positive\", \"False Negative\", \"True Positive\"]"
   ]
  },
  {
   "cell_type": "code",
   "execution_count": 83,
   "id": "e25a97b8-64ce-4ef6-8875-370681ed5c2c",
   "metadata": {},
   "outputs": [],
   "source": [
    "cm = confusion_matrix(y_test, y_pred, labels=[1, 0])"
   ]
  },
  {
   "cell_type": "code",
   "execution_count": 84,
   "id": "5318920b-57ca-4340-a91c-d3e5b18a710a",
   "metadata": {},
   "outputs": [],
   "source": [
    "cm = np.reshape(cm, -1).tolist()"
   ]
  },
  {
   "cell_type": "code",
   "execution_count": 85,
   "id": "742e7264-065b-41c0-bf55-e85406716287",
   "metadata": {},
   "outputs": [
    {
     "data": {
      "text/plain": [
       "[2, 1081, 52, 15535]"
      ]
     },
     "execution_count": 85,
     "metadata": {},
     "output_type": "execute_result"
    }
   ],
   "source": [
    "cm"
   ]
  },
  {
   "cell_type": "code",
   "execution_count": 86,
   "id": "c2826ba7-f176-43d3-98dd-6a6e50874cfb",
   "metadata": {},
   "outputs": [],
   "source": [
    "confusion_matrix_1 = {'Technique': 'All labeled samples'} | {label: val for val, label in zip(cm, labels_cm)}"
   ]
  },
  {
   "cell_type": "code",
   "execution_count": 87,
   "id": "c9536f21-8063-43c2-9deb-68952ccfe5c9",
   "metadata": {},
   "outputs": [
    {
     "data": {
      "text/plain": [
       "{'Technique': 'All labeled samples',\n",
       " 'True Negative': 2,\n",
       " 'False positive': 1081,\n",
       " 'False Negative': 52,\n",
       " 'True Positive': 15535}"
      ]
     },
     "execution_count": 87,
     "metadata": {},
     "output_type": "execute_result"
    }
   ],
   "source": [
    "confusion_matrix_1"
   ]
  },
  {
   "cell_type": "code",
   "execution_count": 139,
   "id": "2013ee70-f4df-4a93-8e80-401f8d6611e3",
   "metadata": {},
   "outputs": [],
   "source": [
    "f1_pos_label = f1_score(y_true=y_test.values, y_pred=y_pred, pos_label=0)"
   ]
  },
  {
   "cell_type": "code",
   "execution_count": 140,
   "id": "b987ab27-5ffb-48ef-8198-74327bb7a5ee",
   "metadata": {},
   "outputs": [
    {
     "data": {
      "text/plain": [
       "np.float64(0.9664258920544379)"
      ]
     },
     "execution_count": 140,
     "metadata": {},
     "output_type": "execute_result"
    }
   ],
   "source": [
    "f1_pos_label"
   ]
  },
  {
   "cell_type": "code",
   "execution_count": 90,
   "id": "9b73b2ea-aa4c-43f8-9fa0-0696e4046e91",
   "metadata": {},
   "outputs": [],
   "source": [
    "precision = precision_score(y_test.values, y_pred)\n",
    "recall = recall_score(y_test.values, y_pred)\n",
    "f1score = f1_score(y_pred, y_test.values)"
   ]
  },
  {
   "cell_type": "code",
   "execution_count": 91,
   "id": "49353900-7c79-4f07-9b34-d1eccc40205b",
   "metadata": {},
   "outputs": [
    {
     "name": "stdout",
     "output_type": "stream",
     "text": [
      "Precision = 0.037037037037037035\n",
      "Recall = 0.0018467220683287165\n",
      "F1 Score = 0.003518029903254178\n"
     ]
    }
   ],
   "source": [
    "print(f\"Precision = {precision}\")\n",
    "print(f\"Recall = {recall}\")\n",
    "print(f\"F1 Score = {f1score}\")"
   ]
  },
  {
   "cell_type": "code",
   "execution_count": 92,
   "id": "de8c8a09-e351-486d-8ddf-4b06e4b9bf26",
   "metadata": {},
   "outputs": [],
   "source": [
    "malicious_test = np.where(y_test == 1)[0]"
   ]
  },
  {
   "cell_type": "code",
   "execution_count": 95,
   "id": "37a25f03-98c2-4e16-aef0-6734cbf2d595",
   "metadata": {},
   "outputs": [
    {
     "data": {
      "text/plain": [
       "1083"
      ]
     },
     "execution_count": 95,
     "metadata": {},
     "output_type": "execute_result"
    }
   ],
   "source": [
    "len(malicious_test)"
   ]
  },
  {
   "cell_type": "code",
   "execution_count": 93,
   "id": "71bf5e48-32e3-4979-8211-485d6921d991",
   "metadata": {},
   "outputs": [],
   "source": [
    "malicious_pred = np.where(y_pred == 1)[0]"
   ]
  },
  {
   "cell_type": "code",
   "execution_count": 96,
   "id": "feafa229-3a04-47ca-ab20-da9ae9a8e50e",
   "metadata": {},
   "outputs": [
    {
     "data": {
      "text/plain": [
       "54"
      ]
     },
     "execution_count": 96,
     "metadata": {},
     "output_type": "execute_result"
    }
   ],
   "source": [
    "len(malicious_pred)"
   ]
  },
  {
   "cell_type": "code",
   "execution_count": 97,
   "id": "0b775df4-541c-457b-a759-7bc268eee728",
   "metadata": {},
   "outputs": [],
   "source": [
    "benign_test = np.where(y_test == 0)[0]"
   ]
  },
  {
   "cell_type": "code",
   "execution_count": 99,
   "id": "e1dfd3b3-e30e-4d2b-b853-955a98fbe6fc",
   "metadata": {},
   "outputs": [
    {
     "data": {
      "text/plain": [
       "15587"
      ]
     },
     "execution_count": 99,
     "metadata": {},
     "output_type": "execute_result"
    }
   ],
   "source": [
    "len(benign_test)"
   ]
  },
  {
   "cell_type": "code",
   "execution_count": 100,
   "id": "234abba8-12e5-4bcf-b917-6d6a96a475fc",
   "metadata": {},
   "outputs": [],
   "source": [
    "benign_pred = np.where(y_pred == 0)[0]"
   ]
  },
  {
   "cell_type": "code",
   "execution_count": 101,
   "id": "8b0cd5ce-2ca1-4c87-a863-bdbcaa8c103a",
   "metadata": {},
   "outputs": [
    {
     "data": {
      "text/plain": [
       "16616"
      ]
     },
     "execution_count": 101,
     "metadata": {},
     "output_type": "execute_result"
    }
   ],
   "source": [
    "len(benign_pred)"
   ]
  },
  {
   "cell_type": "code",
   "execution_count": 121,
   "id": "879edc67-06da-4a7d-9236-9d1a1131aa74",
   "metadata": {},
   "outputs": [],
   "source": [
    "def pfbeta(labels, predictions, beta):\n",
    "    y_true_count = 0\n",
    "    ctp = 0\n",
    "    cfp = 0\n",
    "\n",
    "    for idx in range(len(labels)):\n",
    "        prediction = min(max(predictions[idx], 0), 1)\n",
    "        if (labels[idx]):\n",
    "            y_true_count += 1\n",
    "            ctp += prediction\n",
    "        else:\n",
    "            cfp += prediction\n",
    "\n",
    "    beta_squared = beta * beta\n",
    "    c_precision = ctp / (ctp + cfp)\n",
    "    c_recall = ctp / y_true_count\n",
    "    if (c_precision > 0 and c_recall > 0):\n",
    "        result = (1 + beta_squared) * (c_precision * c_recall) / (beta_squared * c_precision + c_recall)\n",
    "        return result\n",
    "    else:\n",
    "        return 0"
   ]
  },
  {
   "cell_type": "code",
   "execution_count": 129,
   "id": "1b005a2a-522a-4042-83f8-207d5fac9379",
   "metadata": {},
   "outputs": [
    {
     "data": {
      "text/plain": [
       "array([0, 0, 0, ..., 1, 0, 1])"
      ]
     },
     "execution_count": 129,
     "metadata": {},
     "output_type": "execute_result"
    }
   ],
   "source": [
    "y_test.values"
   ]
  },
  {
   "cell_type": "code",
   "execution_count": 132,
   "id": "0e4606ac-dfdd-402f-8134-2d8c33ecae14",
   "metadata": {},
   "outputs": [
    {
     "data": {
      "text/plain": [
       "array([0, 0, 0, ..., 0, 0, 0])"
      ]
     },
     "execution_count": 132,
     "metadata": {},
     "output_type": "execute_result"
    }
   ],
   "source": [
    "y_pred"
   ]
  },
  {
   "cell_type": "code",
   "execution_count": 136,
   "id": "17f4781b-6b19-4552-9cd7-664479708656",
   "metadata": {},
   "outputs": [
    {
     "data": {
      "text/plain": [
       "[BaseEFC(max_bin=np.int64(10))]"
      ]
     },
     "execution_count": 136,
     "metadata": {},
     "output_type": "execute_result"
    }
   ],
   "source": [
    "clf.estimators_"
   ]
  },
  {
   "cell_type": "code",
   "execution_count": 134,
   "id": "21045796-1057-49e1-8f29-ae90e39c88a7",
   "metadata": {},
   "outputs": [
    {
     "data": {
      "text/plain": [
       "np.float64(1760.4638370517835)"
      ]
     },
     "execution_count": 134,
     "metadata": {},
     "output_type": "execute_result"
    }
   ],
   "source": []
  },
  {
   "cell_type": "code",
   "execution_count": 127,
   "id": "fc72dc2d-f40b-42e6-8d22-654b04216405",
   "metadata": {},
   "outputs": [
    {
     "name": "stderr",
     "output_type": "stream",
     "text": [
      "/var/folders/8b/c9dvlw851kx2vf3r7gc5gbbh0000gn/T/ipykernel_47144/2062793374.py:15: RuntimeWarning: invalid value encountered in scalar divide\n",
      "  c_precision = ctp / (ctp + cfp)\n"
     ]
    }
   ],
   "source": [
    "pfbeta_val = pfbeta(labels=y_test.values, predictions=y_pred, beta=0.5)"
   ]
  },
  {
   "cell_type": "code",
   "execution_count": 128,
   "id": "191f62e7-3533-45c9-abf0-983fd87f1620",
   "metadata": {},
   "outputs": [
    {
     "data": {
      "text/plain": [
       "0"
      ]
     },
     "execution_count": 128,
     "metadata": {},
     "output_type": "execute_result"
    }
   ],
   "source": [
    "pfbeta_val"
   ]
  },
  {
   "cell_type": "code",
   "execution_count": null,
   "id": "8e6ec759-d70d-426e-bfaa-76fee8a180fa",
   "metadata": {},
   "outputs": [],
   "source": []
  },
  {
   "cell_type": "code",
   "execution_count": null,
   "id": "4b2f80e2-950e-4deb-b80a-27523de54e32",
   "metadata": {},
   "outputs": [],
   "source": []
  }
 ],
 "metadata": {
  "kernelspec": {
   "display_name": "masters",
   "language": "python",
   "name": "masters"
  },
  "language_info": {
   "codemirror_mode": {
    "name": "ipython",
    "version": 3
   },
   "file_extension": ".py",
   "mimetype": "text/x-python",
   "name": "python",
   "nbconvert_exporter": "python",
   "pygments_lexer": "ipython3",
   "version": "3.12.1"
  }
 },
 "nbformat": 4,
 "nbformat_minor": 5
}
