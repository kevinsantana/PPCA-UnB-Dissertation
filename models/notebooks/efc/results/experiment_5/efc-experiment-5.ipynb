{
 "cells": [
  {
   "cell_type": "markdown",
   "id": "a387d47a-610d-448b-bf96-5a22b2e6ea44",
   "metadata": {},
   "source": [
    "# Experiment 5\n",
    "Feature Selection With Balanced Dataset"
   ]
  },
  {
   "cell_type": "code",
   "execution_count": 17,
   "id": "c465e0b4-6f6a-428c-a398-920331aeeb9b",
   "metadata": {},
   "outputs": [],
   "source": [
    "import pandas as pd"
   ]
  },
  {
   "cell_type": "code",
   "execution_count": 18,
   "id": "faef7bc3-db2f-4c6d-b366-503e2df03002",
   "metadata": {},
   "outputs": [],
   "source": [
    "# solve the `ImportError: attempted relative import with no known parent package` error when making relative importings inside a jupyter notebook\n",
    "import sys\n",
    "import os\n",
    "\n",
    "current_dir = os.path.dirname(os.path.abspath(\"__file__\")) #this variable returns the current path\n",
    "parent_dir = os.path.dirname(os.path.dirname(current_dir)) # this variable returns the path /efc/\n",
    "sys.path.append(parent_dir)"
   ]
  },
  {
   "cell_type": "code",
   "execution_count": 19,
   "id": "5c4b1b3b-8ee4-4c52-847a-cdc5c957e2d5",
   "metadata": {},
   "outputs": [],
   "source": [
    "from constants import METRICS_COLUMNS, SIZES_COLUMNS, LABELS_CM"
   ]
  },
  {
   "cell_type": "code",
   "execution_count": 20,
   "id": "8f22453f-0940-4d15-905b-7ff343937382",
   "metadata": {},
   "outputs": [
    {
     "ename": "ModuleNotFoundError",
     "evalue": "No module named 'experiment_3'",
     "output_type": "error",
     "traceback": [
      "\u001b[0;31m---------------------------------------------------------------------------\u001b[0m",
      "\u001b[0;31mModuleNotFoundError\u001b[0m                       Traceback (most recent call last)",
      "Cell \u001b[0;32mIn[20], line 1\u001b[0m\n\u001b[0;32m----> 1\u001b[0m \u001b[38;5;28;01mfrom\u001b[39;00m \u001b[38;5;21;01mfeature_selection_with_balanced_datasets\u001b[39;00m \u001b[38;5;28;01mimport\u001b[39;00m smote_with_feature_selection\n",
      "File \u001b[0;32m~/repos/dissertation/PPCA-UnB-Dissertation/models/notebooks/efc/results/experiment_5/feature_selection_with_balanced_datasets.py:1\u001b[0m\n\u001b[0;32m----> 1\u001b[0m \u001b[38;5;28;01mfrom\u001b[39;00m \u001b[38;5;21;01mexperiment_3\u001b[39;00m\u001b[38;5;21;01m.\u001b[39;00m\u001b[38;5;21;01munbalanced_techniques\u001b[39;00m \u001b[38;5;28;01mimport\u001b[39;00m smote\n\u001b[1;32m      2\u001b[0m \u001b[38;5;28;01mfrom\u001b[39;00m \u001b[38;5;21;01mexperiment_4\u001b[39;00m\u001b[38;5;21;01m.\u001b[39;00m\u001b[38;5;21;01mfeature_selection_selectkbest_f_classif\u001b[39;00m \u001b[38;5;28;01mimport\u001b[39;00m make_feature_selection_with_k_best\n\u001b[1;32m      3\u001b[0m \u001b[38;5;28;01mfrom\u001b[39;00m \u001b[38;5;21;01mcommon\u001b[39;00m\u001b[38;5;21;01m.\u001b[39;00m\u001b[38;5;21;01mshared_functions\u001b[39;00m \u001b[38;5;28;01mimport\u001b[39;00m train_test_from_splitted\n",
      "\u001b[0;31mModuleNotFoundError\u001b[0m: No module named 'experiment_3'"
     ]
    }
   ],
   "source": [
    "from feature_selection_with_balanced_datasets import smote_with_feature_selection"
   ]
  },
  {
   "cell_type": "code",
   "execution_count": null,
   "id": "885436ba-504f-4277-a939-fa3090672613",
   "metadata": {},
   "outputs": [],
   "source": [
    "FIG_FOLDER = \"results/experiment-5/1_smote\""
   ]
  },
  {
   "cell_type": "code",
   "execution_count": null,
   "id": "2b213a40-643f-4972-bb7b-5e968c838d61",
   "metadata": {},
   "outputs": [],
   "source": [
    "FIG_NAME = \"{technique}_{k_size}\""
   ]
  },
  {
   "cell_type": "code",
   "execution_count": null,
   "id": "60e0f1c0-56eb-4bba-9df2-d2d96585d9d5",
   "metadata": {},
   "outputs": [],
   "source": [
    "LABELS_CM.append(\"Technique\")"
   ]
  },
  {
   "cell_type": "markdown",
   "id": "875a0408-bf2c-4a0e-8927-10fd6d189cf1",
   "metadata": {},
   "source": [
    "## SMOTE With Feature Selection k = 10"
   ]
  },
  {
   "cell_type": "code",
   "execution_count": null,
   "id": "d5159bac-2223-4070-a525-6e44121c2abe",
   "metadata": {},
   "outputs": [],
   "source": [
    "k_10 = 10"
   ]
  },
  {
   "cell_type": "code",
   "execution_count": null,
   "id": "0f58c700-b015-4185-aa93-dcf57b90af22",
   "metadata": {},
   "outputs": [],
   "source": [
    "FIG_NAME_k_10 = FIG_NAME.format(technique=\"1_smote_with_feature_selection_score_function_f_classif_k\", k_size=k_10)"
   ]
  },
  {
   "cell_type": "code",
   "execution_count": null,
   "id": "0c04a9e7-5c17-4b89-93b3-b2371cd00a58",
   "metadata": {},
   "outputs": [],
   "source": [
    "sizes_k_10, model_score_k_10, confusion_matrix_values_k_10 = smote_with_feature_selection(\n",
    "    technique=\"SMOTE With Feature Selection k=10\",\n",
    "    fig_folder=FIG_FOLDER,\n",
    "    fig_name=FIG_NAME_k_10,\n",
    "    k=k,\n",
    "    only_labeled=True\n",
    ")"
   ]
  },
  {
   "cell_type": "code",
   "execution_count": null,
   "id": "f05af2ba-0288-4882-b8b3-30b484885bd7",
   "metadata": {},
   "outputs": [],
   "source": []
  },
  {
   "cell_type": "code",
   "execution_count": null,
   "id": "6a538ee7-9329-493c-9cf5-660098d0631f",
   "metadata": {},
   "outputs": [],
   "source": []
  }
 ],
 "metadata": {
  "kernelspec": {
   "display_name": "masters",
   "language": "python",
   "name": "masters"
  },
  "language_info": {
   "codemirror_mode": {
    "name": "ipython",
    "version": 3
   },
   "file_extension": ".py",
   "mimetype": "text/x-python",
   "name": "python",
   "nbconvert_exporter": "python",
   "pygments_lexer": "ipython3",
   "version": "3.12.1"
  }
 },
 "nbformat": 4,
 "nbformat_minor": 5
}
