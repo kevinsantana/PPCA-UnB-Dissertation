{
 "cells": [
  {
   "cell_type": "markdown",
   "id": "c456127a-593d-485a-9718-576991edaaa5",
   "metadata": {},
   "source": [
    "# Experiment 4\n",
    "Applying feature selection to elliptic dataset"
   ]
  },
  {
   "cell_type": "code",
   "execution_count": null,
   "id": "2e26b4da-4b01-447b-8ec5-1c108ecedbeb",
   "metadata": {},
   "outputs": [],
   "source": [
    "import pandas as pd"
   ]
  },
  {
   "cell_type": "code",
   "execution_count": null,
   "id": "c1fae2c0-e67e-48ca-8572-6d9295781d59",
   "metadata": {},
   "outputs": [],
   "source": [
    "# solve the `ImportError: attempted relative import with no known parent package` error when making relative importings inside a jupyter notebook\n",
    "import sys\n",
    "import os\n",
    "\n",
    "current_dir = os.path.dirname(os.path.abspath(\"__file__\")) #this variable returns the current path\n",
    "parent_dir = os.path.dirname(os.path.dirname(current_dir)) # this variable returns the path /efc/\n",
    "sys.path.append(parent_dir)"
   ]
  },
  {
   "cell_type": "code",
   "execution_count": null,
   "id": "56a6cac4-94fc-4059-bac3-ac6943eb0286",
   "metadata": {},
   "outputs": [],
   "source": [
    "from results.experiment_4.experiment import main"
   ]
  },
  {
   "cell_type": "markdown",
   "id": "140d1beb-47c6-4fb9-b342-8d1dde67735a",
   "metadata": {},
   "source": [
    "## Decreasing Features\n",
    "The original dataset contains 167 features, making EFC not learning well the anomolous class. We want to decrease the number of features in an atempt to improve EFC learning on malicious class."
   ]
  },
  {
   "cell_type": "markdown",
   "id": "b82fcbbd-6739-4180-9759-f7b12ada6f92",
   "metadata": {},
   "source": [
    "### Feature selection with sklearn - Full Features"
   ]
  },
  {
   "cell_type": "code",
   "execution_count": null,
   "id": "34ede55c-1f28-4867-acfe-464c849cd4c3",
   "metadata": {},
   "outputs": [],
   "source": [
    "df_efc_sizes, df_efc_metrics, df_efc_confusion_matrix = main(\n",
    "    technique=\"Feature Selection, Increasing Value of k={k_size}\",\n",
    "    fig_name=\"{technique}\"\n",
    ")"
   ]
  },
  {
   "cell_type": "code",
   "execution_count": null,
   "id": "211da215-77a3-4b91-b473-02f1cf30668f",
   "metadata": {},
   "outputs": [],
   "source": [
    "df_efc_sizes"
   ]
  },
  {
   "cell_type": "code",
   "execution_count": null,
   "id": "5cdde000-81e0-40e3-b7c3-b494b9ab8768",
   "metadata": {},
   "outputs": [],
   "source": [
    "df_efc_metrics"
   ]
  },
  {
   "cell_type": "code",
   "execution_count": null,
   "id": "6f43d267-db8f-4d19-8eda-28cff1af379c",
   "metadata": {},
   "outputs": [],
   "source": [
    "df_efc_confusion_matrix"
   ]
  },
  {
   "cell_type": "markdown",
   "id": "2eb80791-1816-41de-9560-5d7424a5c645",
   "metadata": {},
   "source": [
    "### Feature selection with sklearn - Excluding Aggregate Features"
   ]
  },
  {
   "cell_type": "code",
   "execution_count": null,
   "id": "88ca5d88-3eee-42fb-9d74-0afe6c893326",
   "metadata": {},
   "outputs": [],
   "source": [
    "df_efc_sizes_1, df_efc_metrics_1, df_efc_confusion_matrix_1 = main(\n",
    "    technique=\"Feature Selection Excluding Aggregate Features, Increasing Value of k={k_size}\",\n",
    "    fig_name=\"{technique}\",\n",
    "    agg_features=False\n",
    ")"
   ]
  },
  {
   "cell_type": "markdown",
   "id": "e3df13e4-bc9a-476c-afaa-0ade9145581b",
   "metadata": {},
   "source": []
  }
 ],
 "metadata": {
  "kernelspec": {
   "display_name": "masters",
   "language": "python",
   "name": "masters"
  },
  "language_info": {
   "codemirror_mode": {
    "name": "ipython",
    "version": 3
   },
   "file_extension": ".py",
   "mimetype": "text/x-python",
   "name": "python",
   "nbconvert_exporter": "python",
   "pygments_lexer": "ipython3",
   "version": "3.12.1"
  }
 },
 "nbformat": 4,
 "nbformat_minor": 5
}
