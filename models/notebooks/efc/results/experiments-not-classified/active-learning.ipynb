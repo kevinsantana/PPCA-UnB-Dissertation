{
 "cells": [
  {
   "cell_type": "markdown",
   "id": "a31a98fb-051c-4f68-8d74-aa87ccc362af",
   "metadata": {},
   "source": [
    "## Active Learning"
   ]
  },
  {
   "cell_type": "code",
   "execution_count": 1,
   "id": "0e7b3e79-4f5f-4cd4-b9d2-57e99b8f358d",
   "metadata": {},
   "outputs": [],
   "source": [
    "from skactiveml.pool import RandomSampling, UncertaintySampling, QueryByCommittee\n",
    "from skactiveml.utils import unlabeled_indices, labeled_indices, MISSING_LABEL"
   ]
  },
  {
   "cell_type": "code",
   "execution_count": 2,
   "id": "1ee73d28-4606-400f-9e18-b822c8c4223b",
   "metadata": {},
   "outputs": [
    {
     "name": "stdout",
     "output_type": "stream",
     "text": [
      "Root directory:  /Users/kevinaraujo/repos/dissertation/PPCA-UnB-Dissertation/models/notebooks/research_aml_elliptic\n"
     ]
    }
   ],
   "source": [
    "from research_aml_elliptic.src.experiments.general_functions.elliptic_data_preprocessing import run_elliptic_preprocessing_pipeline"
   ]
  },
  {
   "cell_type": "code",
   "execution_count": 3,
   "id": "85ec741c-981c-41f7-ad98-7cac6dc57143",
   "metadata": {},
   "outputs": [],
   "source": [
    "def recreate_original_df():\n",
    "    X_train, X_test, y_train, y_test = run_elliptic_preprocessing_pipeline(last_train_time_step=last_train_time_step,\n",
    "                                                                             last_time_step=last_time_step,\n",
    "                                                                             only_labeled=only_labeled)\n",
    "    df_train = pd.concat([X_train, y_train], axis=1)\n",
    "    df_test = pd.concat([X_test, y_test], axis=1)\n",
    "    df = pd.concat([df_train, df_test])\n",
    "    X = df.drop(['class'], axis=1)\n",
    "    y = df['class']\n",
    "\n",
    "    return X, y "
   ]
  },
  {
   "cell_type": "markdown",
   "id": "8726c70f-895a-47c1-aab0-43cd74476b8c",
   "metadata": {},
   "source": [
    "### Identifying Query Strategies"
   ]
  },
  {
   "cell_type": "code",
   "execution_count": 4,
   "id": "1c53014f-f4ff-413c-a2af-a4f0a37811af",
   "metadata": {},
   "outputs": [],
   "source": [
    "query_strategies = {\n",
    "    # Random Sampling strategy\n",
    "    # Selects instances randomly from the unlabeled pool\n",
    "    'Random Sampling': RandomSampling(),\n",
    "    \n",
    "    # Uncertainty Sampling strategy using Entropy\n",
    "    # Selects instances with the highest entropy (uncertainty) in the predicted class probabilities\n",
    "    # random_state=42 sets the random seed for reproducibility\n",
    "    'Entropy': UncertaintySampling(method='entropy', random_state=139),\n",
    "    \n",
    "    # Uncertainty Sampling strategy using Margin Sampling\n",
    "    # Selects instances with the smallest margin between the predicted probabilities of the two most likely classes\n",
    "    'Margin': UncertaintySampling(method='margin_sampling'),\n",
    "    \n",
    "    # Query-by-Committee strategy using KL Divergence\n",
    "    # Selects instances based on the disagreement among a committee of models\n",
    "    # The disagreement is measured by the Kullback-Leibler (KL) divergence between the predicted class probabilities of the committee members\n",
    "    'Query-by-Committee-KL': QueryByCommittee(method='KL_divergence')\n",
    "}"
   ]
  },
  {
   "cell_type": "code",
   "execution_count": null,
   "id": "e29848f9-ba93-4fdb-bf21-124028121a50",
   "metadata": {},
   "outputs": [],
   "source": []
  }
 ],
 "metadata": {
  "kernelspec": {
   "display_name": "masters",
   "language": "python",
   "name": "masters"
  },
  "language_info": {
   "codemirror_mode": {
    "name": "ipython",
    "version": 3
   },
   "file_extension": ".py",
   "mimetype": "text/x-python",
   "name": "python",
   "nbconvert_exporter": "python",
   "pygments_lexer": "ipython3",
   "version": "3.12.1"
  }
 },
 "nbformat": 4,
 "nbformat_minor": 5
}
