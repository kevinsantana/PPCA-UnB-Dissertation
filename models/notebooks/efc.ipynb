{
 "cells": [
  {
   "cell_type": "markdown",
   "id": "6965e8ee-594f-44ee-a503-cf17d2a09382",
   "metadata": {},
   "source": [
    "## Energy-based Flow Classifier (EFC) - Pure Python"
   ]
  },
  {
   "cell_type": "markdown",
   "id": "1f2e3aa3-8e2b-46de-b565-2a18a249402f",
   "metadata": {},
   "source": [
    "### Applying EFC to Bitcoin blockchain in the presence of label scarcity"
   ]
  },
  {
   "cell_type": "code",
   "execution_count": 8,
   "id": "5a939913-b46e-41af-bb52-1d42c6fcf517",
   "metadata": {},
   "outputs": [],
   "source": [
    "from research_aml_elliptic.src.experiments.general_functions.elliptic_data_preprocessing import run_elliptic_preprocessing_pipeline"
   ]
  },
  {
   "cell_type": "code",
   "execution_count": 7,
   "id": "d99c4474-f785-48c9-b246-77b8cf263e6b",
   "metadata": {},
   "outputs": [],
   "source": [
    "# Import Elliptic data set and set variables\n",
    "last_time_step = 49\n",
    "last_train_time_step = 34\n",
    "only_labeled = True"
   ]
  },
  {
   "cell_type": "code",
   "execution_count": 18,
   "id": "62065898-5ed5-4ce4-a5a1-2dc9ba2745b0",
   "metadata": {},
   "outputs": [
    {
     "name": "stderr",
     "output_type": "stream",
     "text": [
      "/Users/kevinaraujo/repos/dissertation/PPCA-UnB-Dissertation/models/notebooks/research_aml_elliptic/src/experiments/general_functions/elliptic_data_preprocessing.py:33: FutureWarning: Downcasting behavior in `replace` is deprecated and will be removed in a future version. To retain the old behavior, explicitly call `result.infer_objects(copy=False)`. To opt-in to the future behavior, set `pd.set_option('future.no_silent_downcasting', True)`\n",
      "  df_classes.replace({'class': {'1': 1, '2': 0, 'unknown': 2}}, inplace=True)\n"
     ]
    }
   ],
   "source": [
    "X_train, X_test, y_train, y_test = run_elliptic_preprocessing_pipeline(last_train_time_step=last_train_time_step,\n",
    "                                                                             last_time_step=last_time_step,\n",
    "                                                                             only_labeled=only_labeled)"
   ]
  },
  {
   "cell_type": "code",
   "execution_count": 32,
   "id": "793f8a2c-9222-4b91-8226-42a431ca3d95",
   "metadata": {},
   "outputs": [],
   "source": [
    "import numpy as np\n",
    "from sklearn.metrics import confusion_matrix"
   ]
  },
  {
   "cell_type": "code",
   "execution_count": 19,
   "id": "8a8d29c0-7460-4137-9d3a-81a87a134682",
   "metadata": {},
   "outputs": [],
   "source": [
    "from efc_python.classification_functions import (\n",
    "    one_class_fit,\n",
    "    one_class_predict,\n",
    ")\n",
    "from efc_python.generic_discretize import discretize, get_intervals"
   ]
  },
  {
   "cell_type": "code",
   "execution_count": 20,
   "id": "94c98cf4-74aa-4f0f-b436-9adfe958d593",
   "metadata": {},
   "outputs": [],
   "source": [
    "intervals = get_intervals(X_train, 10)  # get discretization intervals from train set"
   ]
  },
  {
   "cell_type": "code",
   "execution_count": 21,
   "id": "f76512ad-d1f4-4f52-9f57-9ca8066572ab",
   "metadata": {},
   "outputs": [
    {
     "name": "stderr",
     "output_type": "stream",
     "text": [
      "/Users/kevinaraujo/repos/dissertation/PPCA-UnB-Dissertation/models/notebooks/efc_python/generic_discretize.py:42: FutureWarning: A value is trying to be set on a copy of a DataFrame or Series through chained assignment using an inplace method.\n",
      "The behavior will change in pandas 3.0. This inplace method will never work because the intermediate object on which we are setting values always behaves as a copy.\n",
      "\n",
      "For example, when doing 'df[col].method(value, inplace=True)', try using 'df.method({col: value}, inplace=True)' or df[col] = df[col].method(value) instead, to perform the operation inplace on the original object.\n",
      "\n",
      "\n",
      "  data.iloc[:, feature].fillna(len(intervals[feature]), inplace=True)\n",
      "/Users/kevinaraujo/repos/dissertation/PPCA-UnB-Dissertation/models/notebooks/efc_python/generic_discretize.py:35: FutureWarning: Setting an item of incompatible dtype is deprecated and will raise in a future error of pandas. Value '29894   NaN\n",
      "29895   NaN\n",
      "29896   NaN\n",
      "29897   NaN\n",
      "29898   NaN\n",
      "         ..\n",
      "46559   NaN\n",
      "46560   NaN\n",
      "46561   NaN\n",
      "46562   NaN\n",
      "46563   NaN\n",
      "Name: time_step, Length: 16670, dtype: float64' has dtype incompatible with int64, please explicitly cast to a compatible dtype first.\n",
      "  data.iloc[:, feature] = pd.cut(\n",
      "/Users/kevinaraujo/repos/dissertation/PPCA-UnB-Dissertation/models/notebooks/efc_python/generic_discretize.py:42: FutureWarning: A value is trying to be set on a copy of a DataFrame or Series through chained assignment using an inplace method.\n",
      "The behavior will change in pandas 3.0. This inplace method will never work because the intermediate object on which we are setting values always behaves as a copy.\n",
      "\n",
      "For example, when doing 'df[col].method(value, inplace=True)', try using 'df.method({col: value}, inplace=True)' or df[col] = df[col].method(value) instead, to perform the operation inplace on the original object.\n",
      "\n",
      "\n",
      "  data.iloc[:, feature].fillna(len(intervals[feature]), inplace=True)\n"
     ]
    }
   ],
   "source": [
    "X_train = discretize(X_train, intervals)  # discretize train\n",
    "X_test = discretize(X_test, intervals)  # discretize test"
   ]
  },
  {
   "cell_type": "code",
   "execution_count": 24,
   "id": "5d5b0464-d690-49b9-b690-7ea39985d386",
   "metadata": {},
   "outputs": [],
   "source": [
    "idx_abnormal = np.where(y_train == 1)[0]  # find abnormal samples indexes in the training set"
   ]
  },
  {
   "cell_type": "code",
   "execution_count": 25,
   "id": "ec1ce226-aa06-4123-a94a-ab140009a086",
   "metadata": {},
   "outputs": [],
   "source": [
    "X_train.drop(idx_abnormal, axis=0, inplace=True)  # remove abnormal samples from training (EFC trains with only benign instances)"
   ]
  },
  {
   "cell_type": "code",
   "execution_count": 26,
   "id": "bc28fc72-c485-4121-a5f5-a3905ce66c95",
   "metadata": {},
   "outputs": [],
   "source": [
    "y_train.drop(idx_abnormal, axis=0, inplace=True)  # remove the corresponding abonrmal training targets"
   ]
  },
  {
   "cell_type": "code",
   "execution_count": 28,
   "id": "a56c1a80-b7fb-49f4-8a6b-8ea1efcc36fb",
   "metadata": {},
   "outputs": [],
   "source": [
    "# EFC's hyperparameters\n",
    "Q = X_test.values.max()\n",
    "LAMBDA = 0.5  # pseudocount parameter"
   ]
  },
  {
   "cell_type": "code",
   "execution_count": 29,
   "id": "6afb9355-21d3-434c-90a1-95f4501e4762",
   "metadata": {},
   "outputs": [],
   "source": [
    "coupling, h_i, cutoff, _, _ = one_class_fit(np.array(X_train), Q, LAMBDA)  # train model"
   ]
  },
  {
   "cell_type": "code",
   "execution_count": 30,
   "id": "ce39934e-b74b-4e0d-8e2a-1a03c9b5a2e0",
   "metadata": {},
   "outputs": [],
   "source": [
    "y_predicted, energies = one_class_predict(np.array(X_test), coupling, h_i, cutoff, Q)  # test model"
   ]
  },
  {
   "cell_type": "code",
   "execution_count": 33,
   "id": "7f5ef27d-a962-4389-b41b-3f41c06a6ecd",
   "metadata": {},
   "outputs": [
    {
     "name": "stdout",
     "output_type": "stream",
     "text": [
      "Single-class results\n",
      "confusion_matrix [[10278  5309]\n",
      " [  857   226]]\n"
     ]
    }
   ],
   "source": [
    "# colect results\n",
    "print(\"Single-class results\")\n",
    "print('confusion_matrix', confusion_matrix(y_test, y_predicted))"
   ]
  },
  {
   "cell_type": "code",
   "execution_count": null,
   "id": "5fc6903b-0b95-4902-9783-3be273498bd5",
   "metadata": {},
   "outputs": [],
   "source": []
  }
 ],
 "metadata": {
  "kernelspec": {
   "display_name": "masters",
   "language": "python",
   "name": "masters"
  },
  "language_info": {
   "codemirror_mode": {
    "name": "ipython",
    "version": 3
   },
   "file_extension": ".py",
   "mimetype": "text/x-python",
   "name": "python",
   "nbconvert_exporter": "python",
   "pygments_lexer": "ipython3",
   "version": "3.12.1"
  }
 },
 "nbformat": 4,
 "nbformat_minor": 5
}
