{
 "cells": [
  {
   "cell_type": "markdown",
   "id": "6965e8ee-594f-44ee-a503-cf17d2a09382",
   "metadata": {},
   "source": [
    "## Energy-based Flow Classifier (EFC) - Pure Python"
   ]
  },
  {
   "cell_type": "markdown",
   "id": "1f2e3aa3-8e2b-46de-b565-2a18a249402f",
   "metadata": {},
   "source": [
    "### Applying EFC to Bitcoin blockchain in the presence of label scarcity"
   ]
  },
  {
   "cell_type": "code",
   "execution_count": 1,
   "id": "5a939913-b46e-41af-bb52-1d42c6fcf517",
   "metadata": {},
   "outputs": [
    {
     "name": "stdout",
     "output_type": "stream",
     "text": [
      "Root directory:  /Users/kevinaraujo/repos/dissertation/PPCA-UnB-Dissertation/models/notebooks/research_aml_elliptic\n"
     ]
    }
   ],
   "source": [
    "from research_aml_elliptic.src.experiments.general_functions.elliptic_data_preprocessing import run_elliptic_preprocessing_pipeline"
   ]
  },
  {
   "cell_type": "code",
   "execution_count": 2,
   "id": "d99c4474-f785-48c9-b246-77b8cf263e6b",
   "metadata": {},
   "outputs": [],
   "source": [
    "# Import Elliptic data set and set variables\n",
    "last_time_step = 49\n",
    "last_train_time_step = 34\n",
    "only_labeled = True"
   ]
  },
  {
   "cell_type": "code",
   "execution_count": 3,
   "id": "62065898-5ed5-4ce4-a5a1-2dc9ba2745b0",
   "metadata": {},
   "outputs": [
    {
     "name": "stderr",
     "output_type": "stream",
     "text": [
      "/Users/kevinaraujo/repos/dissertation/PPCA-UnB-Dissertation/models/notebooks/research_aml_elliptic/src/experiments/general_functions/elliptic_data_preprocessing.py:46: FutureWarning: Downcasting behavior in `replace` is deprecated and will be removed in a future version. To retain the old behavior, explicitly call `result.infer_objects(copy=False)`. To opt-in to the future behavior, set `pd.set_option('future.no_silent_downcasting', True)`\n",
      "  df_classes.replace({\"class\": {\"1\": 1, \"2\": 0, \"unknown\": 2}}, inplace=True)\n"
     ]
    }
   ],
   "source": [
    "# '1': 1, -> class1 (illicit)\n",
    "# '2': 0, -> class2 (licit)\n",
    "# 'unknown': 2 -> dropped\n",
    "X_train, X_test, y_train, y_test = run_elliptic_preprocessing_pipeline(last_train_time_step=last_train_time_step,\n",
    "                                                                             last_time_step=last_time_step,\n",
    "                                                                             only_labeled=only_labeled)"
   ]
  },
  {
   "cell_type": "code",
   "execution_count": 4,
   "id": "793f8a2c-9222-4b91-8226-42a431ca3d95",
   "metadata": {},
   "outputs": [],
   "source": [
    "import numpy as np\n",
    "from sklearn.metrics import confusion_matrix"
   ]
  },
  {
   "cell_type": "code",
   "execution_count": 5,
   "id": "8a8d29c0-7460-4137-9d3a-81a87a134682",
   "metadata": {},
   "outputs": [],
   "source": [
    "from efc_python.classification_functions import (\n",
    "    one_class_fit,\n",
    "    one_class_predict,\n",
    ")\n",
    "from efc_python.generic_discretize import discretize, get_intervals"
   ]
  },
  {
   "cell_type": "code",
   "execution_count": 6,
   "id": "94c98cf4-74aa-4f0f-b436-9adfe958d593",
   "metadata": {},
   "outputs": [],
   "source": [
    "intervals = get_intervals(X_train, 10)  # get discretization intervals from train set"
   ]
  },
  {
   "cell_type": "code",
   "execution_count": 7,
   "id": "f76512ad-d1f4-4f52-9f57-9ca8066572ab",
   "metadata": {},
   "outputs": [
    {
     "name": "stderr",
     "output_type": "stream",
     "text": [
      "/Users/kevinaraujo/repos/dissertation/PPCA-UnB-Dissertation/models/notebooks/efc_python/generic_discretize.py:42: FutureWarning: A value is trying to be set on a copy of a DataFrame or Series through chained assignment using an inplace method.\n",
      "The behavior will change in pandas 3.0. This inplace method will never work because the intermediate object on which we are setting values always behaves as a copy.\n",
      "\n",
      "For example, when doing 'df[col].method(value, inplace=True)', try using 'df.method({col: value}, inplace=True)' or df[col] = df[col].method(value) instead, to perform the operation inplace on the original object.\n",
      "\n",
      "\n",
      "  data.iloc[:, feature].fillna(len(intervals[feature]), inplace=True)\n",
      "/Users/kevinaraujo/repos/dissertation/PPCA-UnB-Dissertation/models/notebooks/efc_python/generic_discretize.py:35: FutureWarning: Setting an item of incompatible dtype is deprecated and will raise in a future error of pandas. Value '29894   NaN\n",
      "29895   NaN\n",
      "29896   NaN\n",
      "29897   NaN\n",
      "29898   NaN\n",
      "         ..\n",
      "46559   NaN\n",
      "46560   NaN\n",
      "46561   NaN\n",
      "46562   NaN\n",
      "46563   NaN\n",
      "Name: time_step, Length: 16670, dtype: float64' has dtype incompatible with int64, please explicitly cast to a compatible dtype first.\n",
      "  data.iloc[:, feature] = pd.cut(\n",
      "/Users/kevinaraujo/repos/dissertation/PPCA-UnB-Dissertation/models/notebooks/efc_python/generic_discretize.py:42: FutureWarning: A value is trying to be set on a copy of a DataFrame or Series through chained assignment using an inplace method.\n",
      "The behavior will change in pandas 3.0. This inplace method will never work because the intermediate object on which we are setting values always behaves as a copy.\n",
      "\n",
      "For example, when doing 'df[col].method(value, inplace=True)', try using 'df.method({col: value}, inplace=True)' or df[col] = df[col].method(value) instead, to perform the operation inplace on the original object.\n",
      "\n",
      "\n",
      "  data.iloc[:, feature].fillna(len(intervals[feature]), inplace=True)\n"
     ]
    }
   ],
   "source": [
    "X_train = discretize(X_train, intervals)  # discretize train\n",
    "X_test = discretize(X_test, intervals)  # discretize test"
   ]
  },
  {
   "cell_type": "code",
   "execution_count": 24,
   "id": "5d5b0464-d690-49b9-b690-7ea39985d386",
   "metadata": {},
   "outputs": [],
   "source": [
    "idx_abnormal = np.where(y_train == 1)[0]  # find abnormal samples indexes in the training set"
   ]
  },
  {
   "cell_type": "code",
   "execution_count": 25,
   "id": "ec1ce226-aa06-4123-a94a-ab140009a086",
   "metadata": {},
   "outputs": [],
   "source": [
    "X_train.drop(idx_abnormal, axis=0, inplace=True)  # remove abnormal samples from training (EFC trains with only benign instances)"
   ]
  },
  {
   "cell_type": "code",
   "execution_count": 26,
   "id": "bc28fc72-c485-4121-a5f5-a3905ce66c95",
   "metadata": {},
   "outputs": [],
   "source": [
    "y_train.drop(idx_abnormal, axis=0, inplace=True)  # remove the corresponding abonrmal training targets"
   ]
  },
  {
   "cell_type": "code",
   "execution_count": 28,
   "id": "a56c1a80-b7fb-49f4-8a6b-8ea1efcc36fb",
   "metadata": {},
   "outputs": [],
   "source": [
    "# EFC's hyperparameters\n",
    "Q = X_test.values.max()\n",
    "LAMBDA = 0.5  # pseudocount parameter"
   ]
  },
  {
   "cell_type": "code",
   "execution_count": 29,
   "id": "6afb9355-21d3-434c-90a1-95f4501e4762",
   "metadata": {},
   "outputs": [],
   "source": [
    "coupling, h_i, cutoff, _, _ = one_class_fit(np.array(X_train), Q, LAMBDA)  # train model"
   ]
  },
  {
   "cell_type": "code",
   "execution_count": 30,
   "id": "ce39934e-b74b-4e0d-8e2a-1a03c9b5a2e0",
   "metadata": {},
   "outputs": [],
   "source": [
    "y_predicted, energies = one_class_predict(np.array(X_test), coupling, h_i, cutoff, Q)  # test model"
   ]
  },
  {
   "cell_type": "code",
   "execution_count": 33,
   "id": "7f5ef27d-a962-4389-b41b-3f41c06a6ecd",
   "metadata": {},
   "outputs": [
    {
     "name": "stdout",
     "output_type": "stream",
     "text": [
      "Single-class results\n",
      "confusion_matrix [[10278  5309]\n",
      " [  857   226]]\n"
     ]
    }
   ],
   "source": [
    "# colect results\n",
    "print(\"Single-class results\")\n",
    "print('confusion_matrix', confusion_matrix(y_test, y_predicted))"
   ]
  },
  {
   "cell_type": "code",
   "execution_count": 36,
   "id": "24468b4d-b4bf-452f-8851-bab30edca413",
   "metadata": {},
   "outputs": [
    {
     "data": {
      "text/plain": [
       "array([1, 0, 0, ..., 1, 0, 1])"
      ]
     },
     "execution_count": 36,
     "metadata": {},
     "output_type": "execute_result"
    }
   ],
   "source": [
    "y_predicted"
   ]
  },
  {
   "cell_type": "code",
   "execution_count": 43,
   "id": "fd70ce59-6281-456a-9d05-e8d19e685c4a",
   "metadata": {},
   "outputs": [
    {
     "data": {
      "text/plain": [
       "array([0, 0, 0, ..., 1, 0, 1])"
      ]
     },
     "execution_count": 43,
     "metadata": {},
     "output_type": "execute_result"
    }
   ],
   "source": [
    "y_test.values"
   ]
  },
  {
   "cell_type": "code",
   "execution_count": 22,
   "id": "5f3bb5be-4de7-41ba-9402-b0e5ce50bf49",
   "metadata": {},
   "outputs": [],
   "source": [
    "from research_aml_elliptic.src.reaml.model_performance import calculate_model_score"
   ]
  },
  {
   "cell_type": "code",
   "execution_count": 23,
   "id": "6187e37b-e275-4ea6-8bf4-81bbd89d4219",
   "metadata": {},
   "outputs": [],
   "source": [
    "from sklearn.metrics import (\n",
    "    f1_score,\n",
    "    accuracy_score,\n",
    "    precision_score,\n",
    "    recall_score,\n",
    "    roc_auc_score,\n",
    ")"
   ]
  },
  {
   "cell_type": "code",
   "execution_count": 47,
   "id": "5fc6903b-0b95-4902-9783-3be273498bd5",
   "metadata": {},
   "outputs": [],
   "source": [
    "model_score = calculate_model_score(y_true=y_test.values, y_pred=y_predicted, metric=\"f1\")"
   ]
  },
  {
   "cell_type": "code",
   "execution_count": 50,
   "id": "2f4896db-87d6-4e5e-acc2-edf0e4439886",
   "metadata": {},
   "outputs": [
    {
     "data": {
      "text/plain": [
       "np.float64(0.06829857963130856)"
      ]
     },
     "execution_count": 50,
     "metadata": {},
     "output_type": "execute_result"
    }
   ],
   "source": [
    "model_score"
   ]
  },
  {
   "cell_type": "code",
   "execution_count": 53,
   "id": "16765f63-cadf-4a93-879e-5db7a394dafc",
   "metadata": {},
   "outputs": [],
   "source": [
    "y_true = y_test.values\n",
    "y_pred = y_predicted"
   ]
  },
  {
   "cell_type": "code",
   "execution_count": 54,
   "id": "df62b58b-8b3f-458b-add1-ccef92692c0a",
   "metadata": {},
   "outputs": [],
   "source": [
    "metric_dict = {\n",
    "        \"accuracy\": accuracy_score(y_true, y_pred),\n",
    "        \"f1\": f1_score(y_true, y_pred, pos_label=1),\n",
    "        \"f1_micro\": f1_score(y_true, y_pred, average=\"micro\"),\n",
    "        \"f1_macro\": f1_score(y_true, y_pred, average=\"macro\"),\n",
    "        \"precision\": precision_score(y_true, y_pred),\n",
    "        \"recall\": recall_score(y_true, y_pred),\n",
    "        \"roc_auc\": roc_auc_score(y_true, y_pred),\n",
    "    }"
   ]
  },
  {
   "cell_type": "code",
   "execution_count": 57,
   "id": "df1234c0-2fa9-4b80-9164-8012ad693ab0",
   "metadata": {},
   "outputs": [
    {
     "name": "stdout",
     "output_type": "stream",
     "text": [
      "{'accuracy': 0.6301139772045591,\n",
      " 'f1': np.float64(0.06829857963130856),\n",
      " 'f1_macro': np.float64(0.4187761889998471),\n",
      " 'f1_micro': np.float64(0.6301139772045591),\n",
      " 'precision': np.float64(0.04083107497741644),\n",
      " 'recall': np.float64(0.20867959372114497),\n",
      " 'roc_auc': np.float64(0.4340376219712416)}\n"
     ]
    }
   ],
   "source": [
    "from pprint import pprint\n",
    "\n",
    "pprint(metric_dict)"
   ]
  },
  {
   "cell_type": "markdown",
   "id": "c4324d10-3f77-4d65-9884-2793b62f936e",
   "metadata": {},
   "source": [
    "### Train EFC With 5% Labeled Elliptic Data Set"
   ]
  },
  {
   "cell_type": "code",
   "execution_count": 143,
   "id": "cdbddc03-5266-42ea-ac6d-4ee95ac1042c",
   "metadata": {},
   "outputs": [
    {
     "name": "stderr",
     "output_type": "stream",
     "text": [
      "/Users/kevinaraujo/repos/dissertation/PPCA-UnB-Dissertation/models/notebooks/research_aml_elliptic/src/experiments/general_functions/elliptic_data_preprocessing.py:33: FutureWarning: Downcasting behavior in `replace` is deprecated and will be removed in a future version. To retain the old behavior, explicitly call `result.infer_objects(copy=False)`. To opt-in to the future behavior, set `pd.set_option('future.no_silent_downcasting', True)`\n",
      "  df_classes.replace({'class': {'1': 1, '2': 0, 'unknown': 2}}, inplace=True)\n"
     ]
    }
   ],
   "source": [
    "# elliptic data set from reaml repo\n",
    "X_train, X_test, y_train, y_test = run_elliptic_preprocessing_pipeline(last_train_time_step=last_train_time_step,\n",
    "                                                                             last_time_step=last_time_step,\n",
    "                                                                             only_labeled=only_labeled)"
   ]
  },
  {
   "cell_type": "code",
   "execution_count": 144,
   "id": "36f026e7-fcad-4d84-a043-e608dd8d6524",
   "metadata": {},
   "outputs": [
    {
     "data": {
      "text/plain": [
       "29894    0\n",
       "29895    0\n",
       "29896    0\n",
       "29897    1\n",
       "29898    1\n",
       "        ..\n",
       "46559    0\n",
       "46560    0\n",
       "46561    1\n",
       "46562    0\n",
       "46563    1\n",
       "Name: class, Length: 16670, dtype: int64"
      ]
     },
     "execution_count": 144,
     "metadata": {},
     "output_type": "execute_result"
    }
   ],
   "source": [
    "y_test"
   ]
  },
  {
   "cell_type": "code",
   "execution_count": 145,
   "id": "e4a83142-799f-4647-9a5b-393baf5c56c9",
   "metadata": {},
   "outputs": [
    {
     "name": "stderr",
     "output_type": "stream",
     "text": [
      "/Users/kevinaraujo/repos/dissertation/PPCA-UnB-Dissertation/models/notebooks/efc_python/generic_discretize.py:42: FutureWarning: A value is trying to be set on a copy of a DataFrame or Series through chained assignment using an inplace method.\n",
      "The behavior will change in pandas 3.0. This inplace method will never work because the intermediate object on which we are setting values always behaves as a copy.\n",
      "\n",
      "For example, when doing 'df[col].method(value, inplace=True)', try using 'df.method({col: value}, inplace=True)' or df[col] = df[col].method(value) instead, to perform the operation inplace on the original object.\n",
      "\n",
      "\n",
      "  data.iloc[:, feature].fillna(len(intervals[feature]), inplace=True)\n",
      "/Users/kevinaraujo/repos/dissertation/PPCA-UnB-Dissertation/models/notebooks/efc_python/generic_discretize.py:35: FutureWarning: Setting an item of incompatible dtype is deprecated and will raise in a future error of pandas. Value '29894   NaN\n",
      "29895   NaN\n",
      "29896   NaN\n",
      "29897   NaN\n",
      "29898   NaN\n",
      "         ..\n",
      "46559   NaN\n",
      "46560   NaN\n",
      "46561   NaN\n",
      "46562   NaN\n",
      "46563   NaN\n",
      "Name: time_step, Length: 16670, dtype: float64' has dtype incompatible with int64, please explicitly cast to a compatible dtype first.\n",
      "  data.iloc[:, feature] = pd.cut(\n",
      "/Users/kevinaraujo/repos/dissertation/PPCA-UnB-Dissertation/models/notebooks/efc_python/generic_discretize.py:42: FutureWarning: A value is trying to be set on a copy of a DataFrame or Series through chained assignment using an inplace method.\n",
      "The behavior will change in pandas 3.0. This inplace method will never work because the intermediate object on which we are setting values always behaves as a copy.\n",
      "\n",
      "For example, when doing 'df[col].method(value, inplace=True)', try using 'df.method({col: value}, inplace=True)' or df[col] = df[col].method(value) instead, to perform the operation inplace on the original object.\n",
      "\n",
      "\n",
      "  data.iloc[:, feature].fillna(len(intervals[feature]), inplace=True)\n"
     ]
    }
   ],
   "source": [
    "# efc preps\n",
    "intervals = get_intervals(X_train, 10)  # get discretization intervals from train set\n",
    "X_train = discretize(X_train, intervals)  # discretize train\n",
    "X_test = discretize(X_test, intervals)  # discretize test"
   ]
  },
  {
   "cell_type": "code",
   "execution_count": 146,
   "id": "347e729b-e63d-4c15-91d7-8c36e54cdfb2",
   "metadata": {},
   "outputs": [],
   "source": [
    "indices_illicit = np.where(y_train == 1)[0]"
   ]
  },
  {
   "cell_type": "code",
   "execution_count": 147,
   "id": "aa0ef24b-bd33-4576-93d8-b0bccf315d03",
   "metadata": {},
   "outputs": [],
   "source": [
    "from math import ceil\n",
    "\n",
    "drop_indices_illicit = np.random.choice(indices_illicit, size=ceil(len(indices_illicit) * 0.95))"
   ]
  },
  {
   "cell_type": "code",
   "execution_count": 148,
   "id": "53571cc1-b628-4bb0-822b-d1d86e18d1fd",
   "metadata": {},
   "outputs": [],
   "source": [
    "# retrieve idxs abnormals and choose 95% of them\n",
    "# abnormals == class1 (illicit)\n",
    "# drop random labeled indices\n",
    "X_train.drop(drop_indices_illicit, axis=0, inplace=True)  # remove abnormal samples from training (EFC trains with only benign instances)\n",
    "y_train.drop(drop_indices_illicit, axis=0, inplace=True)  # remove the corresponding abonrmal training targets"
   ]
  },
  {
   "cell_type": "code",
   "execution_count": 149,
   "id": "8ef8e89c-9ede-49c1-a49c-94608da69e39",
   "metadata": {},
   "outputs": [
    {
     "data": {
      "text/html": [
       "<div>\n",
       "<style scoped>\n",
       "    .dataframe tbody tr th:only-of-type {\n",
       "        vertical-align: middle;\n",
       "    }\n",
       "\n",
       "    .dataframe tbody tr th {\n",
       "        vertical-align: top;\n",
       "    }\n",
       "\n",
       "    .dataframe thead th {\n",
       "        text-align: right;\n",
       "    }\n",
       "</style>\n",
       "<table border=\"1\" class=\"dataframe\">\n",
       "  <thead>\n",
       "    <tr style=\"text-align: right;\">\n",
       "      <th></th>\n",
       "      <th>time_step</th>\n",
       "      <th>trans_feat_0</th>\n",
       "      <th>trans_feat_1</th>\n",
       "      <th>trans_feat_2</th>\n",
       "      <th>trans_feat_3</th>\n",
       "      <th>trans_feat_4</th>\n",
       "      <th>trans_feat_5</th>\n",
       "      <th>trans_feat_6</th>\n",
       "      <th>trans_feat_7</th>\n",
       "      <th>trans_feat_8</th>\n",
       "      <th>...</th>\n",
       "      <th>agg_feat_62</th>\n",
       "      <th>agg_feat_63</th>\n",
       "      <th>agg_feat_64</th>\n",
       "      <th>agg_feat_65</th>\n",
       "      <th>agg_feat_66</th>\n",
       "      <th>agg_feat_67</th>\n",
       "      <th>agg_feat_68</th>\n",
       "      <th>agg_feat_69</th>\n",
       "      <th>agg_feat_70</th>\n",
       "      <th>agg_feat_71</th>\n",
       "    </tr>\n",
       "  </thead>\n",
       "  <tbody>\n",
       "    <tr>\n",
       "      <th>0</th>\n",
       "      <td>0</td>\n",
       "      <td>9</td>\n",
       "      <td>7</td>\n",
       "      <td>2</td>\n",
       "      <td>3</td>\n",
       "      <td>0</td>\n",
       "      <td>3</td>\n",
       "      <td>0</td>\n",
       "      <td>0</td>\n",
       "      <td>8</td>\n",
       "      <td>...</td>\n",
       "      <td>0</td>\n",
       "      <td>0</td>\n",
       "      <td>1</td>\n",
       "      <td>1</td>\n",
       "      <td>2</td>\n",
       "      <td>3</td>\n",
       "      <td>0</td>\n",
       "      <td>4</td>\n",
       "      <td>0</td>\n",
       "      <td>0</td>\n",
       "    </tr>\n",
       "    <tr>\n",
       "      <th>1</th>\n",
       "      <td>0</td>\n",
       "      <td>9</td>\n",
       "      <td>7</td>\n",
       "      <td>3</td>\n",
       "      <td>3</td>\n",
       "      <td>0</td>\n",
       "      <td>3</td>\n",
       "      <td>0</td>\n",
       "      <td>0</td>\n",
       "      <td>7</td>\n",
       "      <td>...</td>\n",
       "      <td>0</td>\n",
       "      <td>0</td>\n",
       "      <td>1</td>\n",
       "      <td>1</td>\n",
       "      <td>2</td>\n",
       "      <td>2</td>\n",
       "      <td>0</td>\n",
       "      <td>4</td>\n",
       "      <td>0</td>\n",
       "      <td>0</td>\n",
       "    </tr>\n",
       "    <tr>\n",
       "      <th>2</th>\n",
       "      <td>0</td>\n",
       "      <td>7</td>\n",
       "      <td>0</td>\n",
       "      <td>1</td>\n",
       "      <td>0</td>\n",
       "      <td>0</td>\n",
       "      <td>0</td>\n",
       "      <td>0</td>\n",
       "      <td>8</td>\n",
       "      <td>7</td>\n",
       "      <td>...</td>\n",
       "      <td>0</td>\n",
       "      <td>0</td>\n",
       "      <td>1</td>\n",
       "      <td>1</td>\n",
       "      <td>1</td>\n",
       "      <td>0</td>\n",
       "      <td>0</td>\n",
       "      <td>1</td>\n",
       "      <td>0</td>\n",
       "      <td>0</td>\n",
       "    </tr>\n",
       "    <tr>\n",
       "      <th>3</th>\n",
       "      <td>0</td>\n",
       "      <td>7</td>\n",
       "      <td>0</td>\n",
       "      <td>1</td>\n",
       "      <td>0</td>\n",
       "      <td>0</td>\n",
       "      <td>0</td>\n",
       "      <td>0</td>\n",
       "      <td>8</td>\n",
       "      <td>7</td>\n",
       "      <td>...</td>\n",
       "      <td>2</td>\n",
       "      <td>3</td>\n",
       "      <td>0</td>\n",
       "      <td>0</td>\n",
       "      <td>1</td>\n",
       "      <td>0</td>\n",
       "      <td>0</td>\n",
       "      <td>1</td>\n",
       "      <td>0</td>\n",
       "      <td>0</td>\n",
       "    </tr>\n",
       "    <tr>\n",
       "      <th>4</th>\n",
       "      <td>0</td>\n",
       "      <td>3</td>\n",
       "      <td>0</td>\n",
       "      <td>1</td>\n",
       "      <td>1</td>\n",
       "      <td>0</td>\n",
       "      <td>0</td>\n",
       "      <td>0</td>\n",
       "      <td>1</td>\n",
       "      <td>2</td>\n",
       "      <td>...</td>\n",
       "      <td>0</td>\n",
       "      <td>1</td>\n",
       "      <td>1</td>\n",
       "      <td>1</td>\n",
       "      <td>1</td>\n",
       "      <td>1</td>\n",
       "      <td>1</td>\n",
       "      <td>3</td>\n",
       "      <td>0</td>\n",
       "      <td>0</td>\n",
       "    </tr>\n",
       "    <tr>\n",
       "      <th>...</th>\n",
       "      <td>...</td>\n",
       "      <td>...</td>\n",
       "      <td>...</td>\n",
       "      <td>...</td>\n",
       "      <td>...</td>\n",
       "      <td>...</td>\n",
       "      <td>...</td>\n",
       "      <td>...</td>\n",
       "      <td>...</td>\n",
       "      <td>...</td>\n",
       "      <td>...</td>\n",
       "      <td>...</td>\n",
       "      <td>...</td>\n",
       "      <td>...</td>\n",
       "      <td>...</td>\n",
       "      <td>...</td>\n",
       "      <td>...</td>\n",
       "      <td>...</td>\n",
       "      <td>...</td>\n",
       "      <td>...</td>\n",
       "      <td>...</td>\n",
       "    </tr>\n",
       "    <tr>\n",
       "      <th>29888</th>\n",
       "      <td>9</td>\n",
       "      <td>1</td>\n",
       "      <td>5</td>\n",
       "      <td>4</td>\n",
       "      <td>0</td>\n",
       "      <td>0</td>\n",
       "      <td>0</td>\n",
       "      <td>0</td>\n",
       "      <td>4</td>\n",
       "      <td>2</td>\n",
       "      <td>...</td>\n",
       "      <td>0</td>\n",
       "      <td>0</td>\n",
       "      <td>1</td>\n",
       "      <td>1</td>\n",
       "      <td>1</td>\n",
       "      <td>0</td>\n",
       "      <td>0</td>\n",
       "      <td>1</td>\n",
       "      <td>0</td>\n",
       "      <td>0</td>\n",
       "    </tr>\n",
       "    <tr>\n",
       "      <th>29889</th>\n",
       "      <td>9</td>\n",
       "      <td>0</td>\n",
       "      <td>6</td>\n",
       "      <td>4</td>\n",
       "      <td>0</td>\n",
       "      <td>0</td>\n",
       "      <td>0</td>\n",
       "      <td>0</td>\n",
       "      <td>2</td>\n",
       "      <td>0</td>\n",
       "      <td>...</td>\n",
       "      <td>6</td>\n",
       "      <td>9</td>\n",
       "      <td>2</td>\n",
       "      <td>2</td>\n",
       "      <td>0</td>\n",
       "      <td>0</td>\n",
       "      <td>0</td>\n",
       "      <td>0</td>\n",
       "      <td>0</td>\n",
       "      <td>0</td>\n",
       "    </tr>\n",
       "    <tr>\n",
       "      <th>29891</th>\n",
       "      <td>9</td>\n",
       "      <td>1</td>\n",
       "      <td>6</td>\n",
       "      <td>4</td>\n",
       "      <td>0</td>\n",
       "      <td>0</td>\n",
       "      <td>0</td>\n",
       "      <td>0</td>\n",
       "      <td>4</td>\n",
       "      <td>1</td>\n",
       "      <td>...</td>\n",
       "      <td>5</td>\n",
       "      <td>7</td>\n",
       "      <td>2</td>\n",
       "      <td>2</td>\n",
       "      <td>1</td>\n",
       "      <td>0</td>\n",
       "      <td>0</td>\n",
       "      <td>1</td>\n",
       "      <td>0</td>\n",
       "      <td>0</td>\n",
       "    </tr>\n",
       "    <tr>\n",
       "      <th>29892</th>\n",
       "      <td>9</td>\n",
       "      <td>7</td>\n",
       "      <td>5</td>\n",
       "      <td>4</td>\n",
       "      <td>0</td>\n",
       "      <td>0</td>\n",
       "      <td>0</td>\n",
       "      <td>0</td>\n",
       "      <td>8</td>\n",
       "      <td>7</td>\n",
       "      <td>...</td>\n",
       "      <td>0</td>\n",
       "      <td>0</td>\n",
       "      <td>1</td>\n",
       "      <td>1</td>\n",
       "      <td>1</td>\n",
       "      <td>0</td>\n",
       "      <td>0</td>\n",
       "      <td>1</td>\n",
       "      <td>0</td>\n",
       "      <td>0</td>\n",
       "    </tr>\n",
       "    <tr>\n",
       "      <th>29893</th>\n",
       "      <td>9</td>\n",
       "      <td>0</td>\n",
       "      <td>6</td>\n",
       "      <td>4</td>\n",
       "      <td>0</td>\n",
       "      <td>0</td>\n",
       "      <td>0</td>\n",
       "      <td>0</td>\n",
       "      <td>1</td>\n",
       "      <td>0</td>\n",
       "      <td>...</td>\n",
       "      <td>0</td>\n",
       "      <td>8</td>\n",
       "      <td>1</td>\n",
       "      <td>1</td>\n",
       "      <td>0</td>\n",
       "      <td>0</td>\n",
       "      <td>0</td>\n",
       "      <td>0</td>\n",
       "      <td>0</td>\n",
       "      <td>0</td>\n",
       "    </tr>\n",
       "  </tbody>\n",
       "</table>\n",
       "<p>27765 rows × 166 columns</p>\n",
       "</div>"
      ],
      "text/plain": [
       "       time_step  trans_feat_0  trans_feat_1  trans_feat_2  trans_feat_3  \\\n",
       "0              0             9             7             2             3   \n",
       "1              0             9             7             3             3   \n",
       "2              0             7             0             1             0   \n",
       "3              0             7             0             1             0   \n",
       "4              0             3             0             1             1   \n",
       "...          ...           ...           ...           ...           ...   \n",
       "29888          9             1             5             4             0   \n",
       "29889          9             0             6             4             0   \n",
       "29891          9             1             6             4             0   \n",
       "29892          9             7             5             4             0   \n",
       "29893          9             0             6             4             0   \n",
       "\n",
       "       trans_feat_4  trans_feat_5  trans_feat_6  trans_feat_7  trans_feat_8  \\\n",
       "0                 0             3             0             0             8   \n",
       "1                 0             3             0             0             7   \n",
       "2                 0             0             0             8             7   \n",
       "3                 0             0             0             8             7   \n",
       "4                 0             0             0             1             2   \n",
       "...             ...           ...           ...           ...           ...   \n",
       "29888             0             0             0             4             2   \n",
       "29889             0             0             0             2             0   \n",
       "29891             0             0             0             4             1   \n",
       "29892             0             0             0             8             7   \n",
       "29893             0             0             0             1             0   \n",
       "\n",
       "       ...  agg_feat_62  agg_feat_63  agg_feat_64  agg_feat_65  agg_feat_66  \\\n",
       "0      ...            0            0            1            1            2   \n",
       "1      ...            0            0            1            1            2   \n",
       "2      ...            0            0            1            1            1   \n",
       "3      ...            2            3            0            0            1   \n",
       "4      ...            0            1            1            1            1   \n",
       "...    ...          ...          ...          ...          ...          ...   \n",
       "29888  ...            0            0            1            1            1   \n",
       "29889  ...            6            9            2            2            0   \n",
       "29891  ...            5            7            2            2            1   \n",
       "29892  ...            0            0            1            1            1   \n",
       "29893  ...            0            8            1            1            0   \n",
       "\n",
       "       agg_feat_67  agg_feat_68  agg_feat_69  agg_feat_70  agg_feat_71  \n",
       "0                3            0            4            0            0  \n",
       "1                2            0            4            0            0  \n",
       "2                0            0            1            0            0  \n",
       "3                0            0            1            0            0  \n",
       "4                1            1            3            0            0  \n",
       "...            ...          ...          ...          ...          ...  \n",
       "29888            0            0            1            0            0  \n",
       "29889            0            0            0            0            0  \n",
       "29891            0            0            1            0            0  \n",
       "29892            0            0            1            0            0  \n",
       "29893            0            0            0            0            0  \n",
       "\n",
       "[27765 rows x 166 columns]"
      ]
     },
     "execution_count": 149,
     "metadata": {},
     "output_type": "execute_result"
    }
   ],
   "source": [
    "X_train"
   ]
  },
  {
   "cell_type": "code",
   "execution_count": 150,
   "id": "25596466-bc69-4229-b64c-595976b46254",
   "metadata": {},
   "outputs": [],
   "source": [
    "# EFC's hyperparameters\n",
    "Q = np.int64(X_test.values.max())\n",
    "LAMBDA = 0.5  # pseudocount parameter"
   ]
  },
  {
   "cell_type": "code",
   "execution_count": 151,
   "id": "37cff614-eb48-4435-833e-fd8d952aea26",
   "metadata": {},
   "outputs": [],
   "source": [
    "coupling, h_i, cutoff, _, _ = one_class_fit(np.array(X_train), Q, LAMBDA)  # train model"
   ]
  },
  {
   "cell_type": "code",
   "execution_count": 152,
   "id": "c948ddec-375c-4f9c-9aa5-2cae014446c7",
   "metadata": {},
   "outputs": [],
   "source": [
    "y_predicted, energies = one_class_predict(np.array(X_test), coupling, h_i, cutoff, Q)  # test model"
   ]
  },
  {
   "cell_type": "code",
   "execution_count": 153,
   "id": "2b3e570a-cb95-47e0-80c0-fb3a3004247c",
   "metadata": {},
   "outputs": [
    {
     "data": {
      "text/plain": [
       "np.float64(0.05823475887170155)"
      ]
     },
     "execution_count": 153,
     "metadata": {},
     "output_type": "execute_result"
    }
   ],
   "source": [
    "model_score = calculate_model_score(y_true=y_test.values, y_pred=y_predicted, metric=\"f1\")\n",
    "model_score"
   ]
  },
  {
   "cell_type": "code",
   "execution_count": 154,
   "id": "a689aa84-5d2d-48b5-9054-2bd758fbde25",
   "metadata": {},
   "outputs": [],
   "source": [
    "y_true = y_test.values\n",
    "y_pred = y_predicted"
   ]
  },
  {
   "cell_type": "code",
   "execution_count": 155,
   "id": "ac0206b2-774b-44cf-8273-98bf25039c7d",
   "metadata": {},
   "outputs": [],
   "source": [
    "metric_dict = {\n",
    "        \"accuracy\": accuracy_score(y_true, y_pred),\n",
    "        \"f1\": f1_score(y_true, y_pred, pos_label=1),\n",
    "        \"f1_micro\": f1_score(y_true, y_pred, average=\"micro\"),\n",
    "        \"f1_macro\": f1_score(y_true, y_pred, average=\"macro\"),\n",
    "        \"precision\": precision_score(y_true, y_pred),\n",
    "        \"recall\": recall_score(y_true, y_pred),\n",
    "        \"roc_auc\": roc_auc_score(y_true, y_pred),\n",
    "    }"
   ]
  },
  {
   "cell_type": "code",
   "execution_count": 156,
   "id": "6b60daa0-4605-4c4e-9242-9326fbb91f51",
   "metadata": {},
   "outputs": [
    {
     "name": "stdout",
     "output_type": "stream",
     "text": [
      "{'accuracy': 0.6274745050989802,\n",
      " 'f1': np.float64(0.05823475887170155),\n",
      " 'f1_macro': np.float64(0.4130252535104788),\n",
      " 'f1_micro': np.float64(0.6274745050989802),\n",
      " 'precision': np.float64(0.03483941208492107),\n",
      " 'recall': np.float64(0.1772853185595568),\n",
      " 'roc_auc': np.float64(0.4180197042531537)}\n"
     ]
    }
   ],
   "source": [
    "from pprint import pprint\n",
    "\n",
    "pprint(metric_dict)"
   ]
  },
  {
   "cell_type": "markdown",
   "id": "9dc2cb73-e1dc-4a72-8769-c6943f57b704",
   "metadata": {},
   "source": [
    "### Train EFC With 10% Labeled Elliptic Data Set"
   ]
  },
  {
   "cell_type": "code",
   "execution_count": 8,
   "id": "ce6ee7b2-6d3c-402b-aa23-e9f6f456e6d2",
   "metadata": {},
   "outputs": [
    {
     "name": "stderr",
     "output_type": "stream",
     "text": [
      "/Users/kevinaraujo/repos/dissertation/PPCA-UnB-Dissertation/models/notebooks/research_aml_elliptic/src/experiments/general_functions/elliptic_data_preprocessing.py:46: FutureWarning: Downcasting behavior in `replace` is deprecated and will be removed in a future version. To retain the old behavior, explicitly call `result.infer_objects(copy=False)`. To opt-in to the future behavior, set `pd.set_option('future.no_silent_downcasting', True)`\n",
      "  df_classes.replace({\"class\": {\"1\": 1, \"2\": 0, \"unknown\": 2}}, inplace=True)\n"
     ]
    }
   ],
   "source": [
    "# elliptic data set from reaml repo\n",
    "X_train, X_test, y_train, y_test = run_elliptic_preprocessing_pipeline(last_train_time_step=last_train_time_step,\n",
    "                                                                             last_time_step=last_time_step,\n",
    "                                                                             only_labeled=only_labeled)"
   ]
  },
  {
   "cell_type": "code",
   "execution_count": 9,
   "id": "e121799b-5ade-42d7-9092-272895c56074",
   "metadata": {},
   "outputs": [
    {
     "name": "stderr",
     "output_type": "stream",
     "text": [
      "/Users/kevinaraujo/repos/dissertation/PPCA-UnB-Dissertation/models/notebooks/efc_python/generic_discretize.py:42: FutureWarning: A value is trying to be set on a copy of a DataFrame or Series through chained assignment using an inplace method.\n",
      "The behavior will change in pandas 3.0. This inplace method will never work because the intermediate object on which we are setting values always behaves as a copy.\n",
      "\n",
      "For example, when doing 'df[col].method(value, inplace=True)', try using 'df.method({col: value}, inplace=True)' or df[col] = df[col].method(value) instead, to perform the operation inplace on the original object.\n",
      "\n",
      "\n",
      "  data.iloc[:, feature].fillna(len(intervals[feature]), inplace=True)\n",
      "/Users/kevinaraujo/repos/dissertation/PPCA-UnB-Dissertation/models/notebooks/efc_python/generic_discretize.py:35: FutureWarning: Setting an item of incompatible dtype is deprecated and will raise in a future error of pandas. Value '29894   NaN\n",
      "29895   NaN\n",
      "29896   NaN\n",
      "29897   NaN\n",
      "29898   NaN\n",
      "         ..\n",
      "46559   NaN\n",
      "46560   NaN\n",
      "46561   NaN\n",
      "46562   NaN\n",
      "46563   NaN\n",
      "Name: time_step, Length: 16670, dtype: float64' has dtype incompatible with int64, please explicitly cast to a compatible dtype first.\n",
      "  data.iloc[:, feature] = pd.cut(\n",
      "/Users/kevinaraujo/repos/dissertation/PPCA-UnB-Dissertation/models/notebooks/efc_python/generic_discretize.py:42: FutureWarning: A value is trying to be set on a copy of a DataFrame or Series through chained assignment using an inplace method.\n",
      "The behavior will change in pandas 3.0. This inplace method will never work because the intermediate object on which we are setting values always behaves as a copy.\n",
      "\n",
      "For example, when doing 'df[col].method(value, inplace=True)', try using 'df.method({col: value}, inplace=True)' or df[col] = df[col].method(value) instead, to perform the operation inplace on the original object.\n",
      "\n",
      "\n",
      "  data.iloc[:, feature].fillna(len(intervals[feature]), inplace=True)\n"
     ]
    }
   ],
   "source": [
    "# efc preps\n",
    "intervals = get_intervals(X_train, 10)  # get discretization intervals from train set\n",
    "X_train = discretize(X_train, intervals)  # discretize train\n",
    "X_test = discretize(X_test, intervals)  # discretize test"
   ]
  },
  {
   "cell_type": "code",
   "execution_count": 10,
   "id": "08e56697-4a6a-437d-acba-ff70add82b19",
   "metadata": {},
   "outputs": [],
   "source": [
    "indices_illicit = np.where(y_train == 1)[0]"
   ]
  },
  {
   "cell_type": "code",
   "execution_count": 11,
   "id": "2613995b-a81c-4415-b89f-4b66d25b467a",
   "metadata": {},
   "outputs": [],
   "source": [
    "from math import ceil\n",
    "\n",
    "drop_indices_illicit = np.random.choice(indices_illicit, size=ceil(len(indices_illicit) * 0.90))"
   ]
  },
  {
   "cell_type": "code",
   "execution_count": 12,
   "id": "644b380d-0780-4bca-a42c-ec5bc16a4f3c",
   "metadata": {},
   "outputs": [],
   "source": [
    "# retrieve idxs abnormals and choose 90% of them\n",
    "# abnormals == class1 (illicit)\n",
    "# drop random labeled indices\n",
    "X_train.drop(drop_indices_illicit, axis=0, inplace=True)  # remove abnormal samples from training (EFC trains with only benign instances)\n",
    "y_train.drop(drop_indices_illicit, axis=0, inplace=True)  # remove the corresponding abonrmal training targets"
   ]
  },
  {
   "cell_type": "code",
   "execution_count": 13,
   "id": "83a055a1-abd6-426e-9bbd-72c7a23be5cf",
   "metadata": {},
   "outputs": [
    {
     "data": {
      "text/html": [
       "<div>\n",
       "<style scoped>\n",
       "    .dataframe tbody tr th:only-of-type {\n",
       "        vertical-align: middle;\n",
       "    }\n",
       "\n",
       "    .dataframe tbody tr th {\n",
       "        vertical-align: top;\n",
       "    }\n",
       "\n",
       "    .dataframe thead th {\n",
       "        text-align: right;\n",
       "    }\n",
       "</style>\n",
       "<table border=\"1\" class=\"dataframe\">\n",
       "  <thead>\n",
       "    <tr style=\"text-align: right;\">\n",
       "      <th></th>\n",
       "      <th>time_step</th>\n",
       "      <th>trans_feat_0</th>\n",
       "      <th>trans_feat_1</th>\n",
       "      <th>trans_feat_2</th>\n",
       "      <th>trans_feat_3</th>\n",
       "      <th>trans_feat_4</th>\n",
       "      <th>trans_feat_5</th>\n",
       "      <th>trans_feat_6</th>\n",
       "      <th>trans_feat_7</th>\n",
       "      <th>trans_feat_8</th>\n",
       "      <th>...</th>\n",
       "      <th>agg_feat_62</th>\n",
       "      <th>agg_feat_63</th>\n",
       "      <th>agg_feat_64</th>\n",
       "      <th>agg_feat_65</th>\n",
       "      <th>agg_feat_66</th>\n",
       "      <th>agg_feat_67</th>\n",
       "      <th>agg_feat_68</th>\n",
       "      <th>agg_feat_69</th>\n",
       "      <th>agg_feat_70</th>\n",
       "      <th>agg_feat_71</th>\n",
       "    </tr>\n",
       "  </thead>\n",
       "  <tbody>\n",
       "    <tr>\n",
       "      <th>0</th>\n",
       "      <td>0</td>\n",
       "      <td>9</td>\n",
       "      <td>7</td>\n",
       "      <td>2</td>\n",
       "      <td>3</td>\n",
       "      <td>0</td>\n",
       "      <td>3</td>\n",
       "      <td>0</td>\n",
       "      <td>0</td>\n",
       "      <td>8</td>\n",
       "      <td>...</td>\n",
       "      <td>0</td>\n",
       "      <td>0</td>\n",
       "      <td>1</td>\n",
       "      <td>1</td>\n",
       "      <td>2</td>\n",
       "      <td>3</td>\n",
       "      <td>0</td>\n",
       "      <td>4</td>\n",
       "      <td>0</td>\n",
       "      <td>0</td>\n",
       "    </tr>\n",
       "    <tr>\n",
       "      <th>1</th>\n",
       "      <td>0</td>\n",
       "      <td>9</td>\n",
       "      <td>7</td>\n",
       "      <td>3</td>\n",
       "      <td>3</td>\n",
       "      <td>0</td>\n",
       "      <td>3</td>\n",
       "      <td>0</td>\n",
       "      <td>0</td>\n",
       "      <td>7</td>\n",
       "      <td>...</td>\n",
       "      <td>0</td>\n",
       "      <td>0</td>\n",
       "      <td>1</td>\n",
       "      <td>1</td>\n",
       "      <td>2</td>\n",
       "      <td>2</td>\n",
       "      <td>0</td>\n",
       "      <td>4</td>\n",
       "      <td>0</td>\n",
       "      <td>0</td>\n",
       "    </tr>\n",
       "    <tr>\n",
       "      <th>2</th>\n",
       "      <td>0</td>\n",
       "      <td>7</td>\n",
       "      <td>0</td>\n",
       "      <td>1</td>\n",
       "      <td>0</td>\n",
       "      <td>0</td>\n",
       "      <td>0</td>\n",
       "      <td>0</td>\n",
       "      <td>8</td>\n",
       "      <td>7</td>\n",
       "      <td>...</td>\n",
       "      <td>0</td>\n",
       "      <td>0</td>\n",
       "      <td>1</td>\n",
       "      <td>1</td>\n",
       "      <td>1</td>\n",
       "      <td>0</td>\n",
       "      <td>0</td>\n",
       "      <td>1</td>\n",
       "      <td>0</td>\n",
       "      <td>0</td>\n",
       "    </tr>\n",
       "    <tr>\n",
       "      <th>3</th>\n",
       "      <td>0</td>\n",
       "      <td>7</td>\n",
       "      <td>0</td>\n",
       "      <td>1</td>\n",
       "      <td>0</td>\n",
       "      <td>0</td>\n",
       "      <td>0</td>\n",
       "      <td>0</td>\n",
       "      <td>8</td>\n",
       "      <td>7</td>\n",
       "      <td>...</td>\n",
       "      <td>2</td>\n",
       "      <td>3</td>\n",
       "      <td>0</td>\n",
       "      <td>0</td>\n",
       "      <td>1</td>\n",
       "      <td>0</td>\n",
       "      <td>0</td>\n",
       "      <td>1</td>\n",
       "      <td>0</td>\n",
       "      <td>0</td>\n",
       "    </tr>\n",
       "    <tr>\n",
       "      <th>4</th>\n",
       "      <td>0</td>\n",
       "      <td>3</td>\n",
       "      <td>0</td>\n",
       "      <td>1</td>\n",
       "      <td>1</td>\n",
       "      <td>0</td>\n",
       "      <td>0</td>\n",
       "      <td>0</td>\n",
       "      <td>1</td>\n",
       "      <td>2</td>\n",
       "      <td>...</td>\n",
       "      <td>0</td>\n",
       "      <td>1</td>\n",
       "      <td>1</td>\n",
       "      <td>1</td>\n",
       "      <td>1</td>\n",
       "      <td>1</td>\n",
       "      <td>1</td>\n",
       "      <td>3</td>\n",
       "      <td>0</td>\n",
       "      <td>0</td>\n",
       "    </tr>\n",
       "    <tr>\n",
       "      <th>...</th>\n",
       "      <td>...</td>\n",
       "      <td>...</td>\n",
       "      <td>...</td>\n",
       "      <td>...</td>\n",
       "      <td>...</td>\n",
       "      <td>...</td>\n",
       "      <td>...</td>\n",
       "      <td>...</td>\n",
       "      <td>...</td>\n",
       "      <td>...</td>\n",
       "      <td>...</td>\n",
       "      <td>...</td>\n",
       "      <td>...</td>\n",
       "      <td>...</td>\n",
       "      <td>...</td>\n",
       "      <td>...</td>\n",
       "      <td>...</td>\n",
       "      <td>...</td>\n",
       "      <td>...</td>\n",
       "      <td>...</td>\n",
       "      <td>...</td>\n",
       "    </tr>\n",
       "    <tr>\n",
       "      <th>29889</th>\n",
       "      <td>9</td>\n",
       "      <td>0</td>\n",
       "      <td>6</td>\n",
       "      <td>4</td>\n",
       "      <td>0</td>\n",
       "      <td>0</td>\n",
       "      <td>0</td>\n",
       "      <td>0</td>\n",
       "      <td>2</td>\n",
       "      <td>0</td>\n",
       "      <td>...</td>\n",
       "      <td>6</td>\n",
       "      <td>9</td>\n",
       "      <td>2</td>\n",
       "      <td>2</td>\n",
       "      <td>0</td>\n",
       "      <td>0</td>\n",
       "      <td>0</td>\n",
       "      <td>0</td>\n",
       "      <td>0</td>\n",
       "      <td>0</td>\n",
       "    </tr>\n",
       "    <tr>\n",
       "      <th>29890</th>\n",
       "      <td>9</td>\n",
       "      <td>0</td>\n",
       "      <td>5</td>\n",
       "      <td>5</td>\n",
       "      <td>0</td>\n",
       "      <td>0</td>\n",
       "      <td>0</td>\n",
       "      <td>0</td>\n",
       "      <td>3</td>\n",
       "      <td>0</td>\n",
       "      <td>...</td>\n",
       "      <td>0</td>\n",
       "      <td>8</td>\n",
       "      <td>1</td>\n",
       "      <td>1</td>\n",
       "      <td>0</td>\n",
       "      <td>0</td>\n",
       "      <td>0</td>\n",
       "      <td>0</td>\n",
       "      <td>0</td>\n",
       "      <td>0</td>\n",
       "    </tr>\n",
       "    <tr>\n",
       "      <th>29891</th>\n",
       "      <td>9</td>\n",
       "      <td>1</td>\n",
       "      <td>6</td>\n",
       "      <td>4</td>\n",
       "      <td>0</td>\n",
       "      <td>0</td>\n",
       "      <td>0</td>\n",
       "      <td>0</td>\n",
       "      <td>4</td>\n",
       "      <td>1</td>\n",
       "      <td>...</td>\n",
       "      <td>5</td>\n",
       "      <td>7</td>\n",
       "      <td>2</td>\n",
       "      <td>2</td>\n",
       "      <td>1</td>\n",
       "      <td>0</td>\n",
       "      <td>0</td>\n",
       "      <td>1</td>\n",
       "      <td>0</td>\n",
       "      <td>0</td>\n",
       "    </tr>\n",
       "    <tr>\n",
       "      <th>29892</th>\n",
       "      <td>9</td>\n",
       "      <td>7</td>\n",
       "      <td>5</td>\n",
       "      <td>4</td>\n",
       "      <td>0</td>\n",
       "      <td>0</td>\n",
       "      <td>0</td>\n",
       "      <td>0</td>\n",
       "      <td>8</td>\n",
       "      <td>7</td>\n",
       "      <td>...</td>\n",
       "      <td>0</td>\n",
       "      <td>0</td>\n",
       "      <td>1</td>\n",
       "      <td>1</td>\n",
       "      <td>1</td>\n",
       "      <td>0</td>\n",
       "      <td>0</td>\n",
       "      <td>1</td>\n",
       "      <td>0</td>\n",
       "      <td>0</td>\n",
       "    </tr>\n",
       "    <tr>\n",
       "      <th>29893</th>\n",
       "      <td>9</td>\n",
       "      <td>0</td>\n",
       "      <td>6</td>\n",
       "      <td>4</td>\n",
       "      <td>0</td>\n",
       "      <td>0</td>\n",
       "      <td>0</td>\n",
       "      <td>0</td>\n",
       "      <td>1</td>\n",
       "      <td>0</td>\n",
       "      <td>...</td>\n",
       "      <td>0</td>\n",
       "      <td>8</td>\n",
       "      <td>1</td>\n",
       "      <td>1</td>\n",
       "      <td>0</td>\n",
       "      <td>0</td>\n",
       "      <td>0</td>\n",
       "      <td>0</td>\n",
       "      <td>0</td>\n",
       "      <td>0</td>\n",
       "    </tr>\n",
       "  </tbody>\n",
       "</table>\n",
       "<p>27835 rows × 166 columns</p>\n",
       "</div>"
      ],
      "text/plain": [
       "       time_step  trans_feat_0  trans_feat_1  trans_feat_2  trans_feat_3  \\\n",
       "0              0             9             7             2             3   \n",
       "1              0             9             7             3             3   \n",
       "2              0             7             0             1             0   \n",
       "3              0             7             0             1             0   \n",
       "4              0             3             0             1             1   \n",
       "...          ...           ...           ...           ...           ...   \n",
       "29889          9             0             6             4             0   \n",
       "29890          9             0             5             5             0   \n",
       "29891          9             1             6             4             0   \n",
       "29892          9             7             5             4             0   \n",
       "29893          9             0             6             4             0   \n",
       "\n",
       "       trans_feat_4  trans_feat_5  trans_feat_6  trans_feat_7  trans_feat_8  \\\n",
       "0                 0             3             0             0             8   \n",
       "1                 0             3             0             0             7   \n",
       "2                 0             0             0             8             7   \n",
       "3                 0             0             0             8             7   \n",
       "4                 0             0             0             1             2   \n",
       "...             ...           ...           ...           ...           ...   \n",
       "29889             0             0             0             2             0   \n",
       "29890             0             0             0             3             0   \n",
       "29891             0             0             0             4             1   \n",
       "29892             0             0             0             8             7   \n",
       "29893             0             0             0             1             0   \n",
       "\n",
       "       ...  agg_feat_62  agg_feat_63  agg_feat_64  agg_feat_65  agg_feat_66  \\\n",
       "0      ...            0            0            1            1            2   \n",
       "1      ...            0            0            1            1            2   \n",
       "2      ...            0            0            1            1            1   \n",
       "3      ...            2            3            0            0            1   \n",
       "4      ...            0            1            1            1            1   \n",
       "...    ...          ...          ...          ...          ...          ...   \n",
       "29889  ...            6            9            2            2            0   \n",
       "29890  ...            0            8            1            1            0   \n",
       "29891  ...            5            7            2            2            1   \n",
       "29892  ...            0            0            1            1            1   \n",
       "29893  ...            0            8            1            1            0   \n",
       "\n",
       "       agg_feat_67  agg_feat_68  agg_feat_69  agg_feat_70  agg_feat_71  \n",
       "0                3            0            4            0            0  \n",
       "1                2            0            4            0            0  \n",
       "2                0            0            1            0            0  \n",
       "3                0            0            1            0            0  \n",
       "4                1            1            3            0            0  \n",
       "...            ...          ...          ...          ...          ...  \n",
       "29889            0            0            0            0            0  \n",
       "29890            0            0            0            0            0  \n",
       "29891            0            0            1            0            0  \n",
       "29892            0            0            1            0            0  \n",
       "29893            0            0            0            0            0  \n",
       "\n",
       "[27835 rows x 166 columns]"
      ]
     },
     "execution_count": 13,
     "metadata": {},
     "output_type": "execute_result"
    }
   ],
   "source": [
    "X_train"
   ]
  },
  {
   "cell_type": "code",
   "execution_count": 14,
   "id": "f26dabf3-a1e6-4650-a90f-c491c67fb160",
   "metadata": {},
   "outputs": [],
   "source": [
    "# EFC's hyperparameters\n",
    "Q = np.int64(X_test.values.max())\n",
    "LAMBDA = 0.5  # pseudocount parameter"
   ]
  },
  {
   "cell_type": "code",
   "execution_count": 15,
   "id": "2e645099-0be1-4803-9dc8-488d25c7d613",
   "metadata": {},
   "outputs": [
    {
     "name": "stderr",
     "output_type": "stream",
     "text": [
      "100%|██████████████████████████████████████████████████████████████████████████████████████████████████████████████████████████████████████████| 166/166 [00:00<00:00, 4954.07it/s]\n",
      "100%|████████████████████████████████████████████████████████████████████████████████████████████████████████████████████████████████████████████| 166/166 [00:46<00:00,  3.55it/s]\n",
      "100%|███████████████████████████████████████████████████████████████████████████████████████████████████████████████████████████████████████████| 166/166 [00:01<00:00, 100.56it/s]\n",
      "100%|████████████████████████████████████████████████████████████████████████████████████████████████████████████████████████████████████████████| 166/166 [00:01<00:00, 87.69it/s]\n"
     ]
    }
   ],
   "source": [
    "coupling, h_i, cutoff, _, _ = one_class_fit(np.array(X_train), Q, LAMBDA)  # train model"
   ]
  },
  {
   "cell_type": "code",
   "execution_count": 16,
   "id": "8c7718c4-2827-42ab-89dc-e6ac494ca315",
   "metadata": {},
   "outputs": [],
   "source": [
    "y_predicted, energies = one_class_predict(np.array(X_test), coupling, h_i, cutoff, Q)  # test model"
   ]
  },
  {
   "cell_type": "code",
   "execution_count": 19,
   "id": "8d2ebf5d-3317-4b54-8a9f-8776decc2d79",
   "metadata": {},
   "outputs": [
    {
     "data": {
      "text/plain": [
       "np.float64(0.05826126536185708)"
      ]
     },
     "execution_count": 19,
     "metadata": {},
     "output_type": "execute_result"
    }
   ],
   "source": [
    "model_score = calculate_model_score(y_true=y_test.values, y_pred=y_predicted, metric=\"f1\")\n",
    "model_score"
   ]
  },
  {
   "cell_type": "code",
   "execution_count": 20,
   "id": "6ccdb079-00b5-4094-99cc-121f10260061",
   "metadata": {},
   "outputs": [],
   "source": [
    "y_true = y_test.values\n",
    "y_pred = y_predicted"
   ]
  },
  {
   "cell_type": "code",
   "execution_count": 24,
   "id": "2de72904-f7fa-4a99-84aa-d400a87d515e",
   "metadata": {},
   "outputs": [],
   "source": [
    "metric_dict = {\n",
    "        \"accuracy\": accuracy_score(y_true, y_pred),\n",
    "        \"f1\": f1_score(y_true, y_pred, pos_label=1),\n",
    "        \"f1_micro\": f1_score(y_true, y_pred, average=\"micro\"),\n",
    "        \"f1_macro\": f1_score(y_true, y_pred, average=\"macro\"),\n",
    "        \"precision\": precision_score(y_true, y_pred),\n",
    "        \"recall\": recall_score(y_true, y_pred),\n",
    "        \"roc_auc\": roc_auc_score(y_true, y_pred),\n",
    "    }"
   ]
  },
  {
   "cell_type": "code",
   "execution_count": 25,
   "id": "ded113ee-8a33-422c-87e4-76e7e30203ed",
   "metadata": {},
   "outputs": [
    {
     "name": "stdout",
     "output_type": "stream",
     "text": [
      "{'accuracy': 0.6276544691061787,\n",
      " 'f1': np.float64(0.05826126536185708),\n",
      " 'f1_macro': np.float64(0.41310760378265193),\n",
      " 'f1_micro': np.float64(0.6276544691061787),\n",
      " 'precision': np.float64(0.034858387799564274),\n",
      " 'recall': np.float64(0.1772853185595568),\n",
      " 'roc_auc': np.float64(0.41811593829434185)}\n"
     ]
    }
   ],
   "source": [
    "from pprint import pprint\n",
    "\n",
    "pprint(metric_dict)"
   ]
  },
  {
   "cell_type": "code",
   "execution_count": 26,
   "id": "91343226-f0ce-4e50-9ba7-3e852522b51b",
   "metadata": {},
   "outputs": [
    {
     "name": "stdout",
     "output_type": "stream",
     "text": [
      "Single-class results\n",
      "confusion_matrix [[10271  5316]\n",
      " [  891   192]]\n"
     ]
    }
   ],
   "source": [
    "# colect results\n",
    "print(\"Single-class results\")\n",
    "print('confusion_matrix', confusion_matrix(y_test, y_predicted))"
   ]
  },
  {
   "cell_type": "markdown",
   "id": "865981bb-8d91-480b-99dc-30f3c3a7c7aa",
   "metadata": {},
   "source": [
    "### Train EFC With 100% Labeled Elliptic Data Set"
   ]
  },
  {
   "cell_type": "code",
   "execution_count": 171,
   "id": "74d61813-fe30-4f51-9356-eb53a31f7bfd",
   "metadata": {},
   "outputs": [
    {
     "name": "stderr",
     "output_type": "stream",
     "text": [
      "/Users/kevinaraujo/repos/dissertation/PPCA-UnB-Dissertation/models/notebooks/research_aml_elliptic/src/experiments/general_functions/elliptic_data_preprocessing.py:33: FutureWarning: Downcasting behavior in `replace` is deprecated and will be removed in a future version. To retain the old behavior, explicitly call `result.infer_objects(copy=False)`. To opt-in to the future behavior, set `pd.set_option('future.no_silent_downcasting', True)`\n",
      "  df_classes.replace({'class': {'1': 1, '2': 0, 'unknown': 2}}, inplace=True)\n"
     ]
    }
   ],
   "source": [
    "# elliptic data set from reaml repo\n",
    "X_train, X_test, y_train, y_test = run_elliptic_preprocessing_pipeline(last_train_time_step=last_train_time_step,\n",
    "                                                                             last_time_step=last_time_step,\n",
    "                                                                             only_labeled=only_labeled)"
   ]
  },
  {
   "cell_type": "code",
   "execution_count": 172,
   "id": "5e93a6d6-721a-40bf-8b75-8cda57022724",
   "metadata": {},
   "outputs": [
    {
     "name": "stderr",
     "output_type": "stream",
     "text": [
      "/Users/kevinaraujo/repos/dissertation/PPCA-UnB-Dissertation/models/notebooks/efc_python/generic_discretize.py:42: FutureWarning: A value is trying to be set on a copy of a DataFrame or Series through chained assignment using an inplace method.\n",
      "The behavior will change in pandas 3.0. This inplace method will never work because the intermediate object on which we are setting values always behaves as a copy.\n",
      "\n",
      "For example, when doing 'df[col].method(value, inplace=True)', try using 'df.method({col: value}, inplace=True)' or df[col] = df[col].method(value) instead, to perform the operation inplace on the original object.\n",
      "\n",
      "\n",
      "  data.iloc[:, feature].fillna(len(intervals[feature]), inplace=True)\n",
      "/Users/kevinaraujo/repos/dissertation/PPCA-UnB-Dissertation/models/notebooks/efc_python/generic_discretize.py:35: FutureWarning: Setting an item of incompatible dtype is deprecated and will raise in a future error of pandas. Value '29894   NaN\n",
      "29895   NaN\n",
      "29896   NaN\n",
      "29897   NaN\n",
      "29898   NaN\n",
      "         ..\n",
      "46559   NaN\n",
      "46560   NaN\n",
      "46561   NaN\n",
      "46562   NaN\n",
      "46563   NaN\n",
      "Name: time_step, Length: 16670, dtype: float64' has dtype incompatible with int64, please explicitly cast to a compatible dtype first.\n",
      "  data.iloc[:, feature] = pd.cut(\n",
      "/Users/kevinaraujo/repos/dissertation/PPCA-UnB-Dissertation/models/notebooks/efc_python/generic_discretize.py:42: FutureWarning: A value is trying to be set on a copy of a DataFrame or Series through chained assignment using an inplace method.\n",
      "The behavior will change in pandas 3.0. This inplace method will never work because the intermediate object on which we are setting values always behaves as a copy.\n",
      "\n",
      "For example, when doing 'df[col].method(value, inplace=True)', try using 'df.method({col: value}, inplace=True)' or df[col] = df[col].method(value) instead, to perform the operation inplace on the original object.\n",
      "\n",
      "\n",
      "  data.iloc[:, feature].fillna(len(intervals[feature]), inplace=True)\n"
     ]
    }
   ],
   "source": [
    "# efc preps\n",
    "intervals = get_intervals(X_train, 10)  # get discretization intervals from train set\n",
    "X_train = discretize(X_train, intervals)  # discretize train\n",
    "X_test = discretize(X_test, intervals)  # discretize test"
   ]
  },
  {
   "cell_type": "code",
   "execution_count": 173,
   "id": "7e967106-506c-4c26-a00d-0d06ad650334",
   "metadata": {},
   "outputs": [],
   "source": [
    "# EFC's hyperparameters\n",
    "Q = np.int64(X_test.values.max())\n",
    "LAMBDA = 0.5  # pseudocount parameter"
   ]
  },
  {
   "cell_type": "code",
   "execution_count": 174,
   "id": "1fef0346-1758-4f8e-833b-a591e84d11ed",
   "metadata": {},
   "outputs": [],
   "source": [
    "coupling, h_i, cutoff, _, _ = one_class_fit(np.array(X_train), Q, LAMBDA)  # train model"
   ]
  },
  {
   "cell_type": "code",
   "execution_count": 175,
   "id": "db1704f9-2424-46df-9512-026af0c73b78",
   "metadata": {},
   "outputs": [],
   "source": [
    "y_predicted, energies = one_class_predict(np.array(X_test), coupling, h_i, cutoff, Q)  # test model"
   ]
  },
  {
   "cell_type": "code",
   "execution_count": 176,
   "id": "55a9142f-bce0-4778-b36d-c8a7a9668ea3",
   "metadata": {},
   "outputs": [
    {
     "data": {
      "text/plain": [
       "np.float64(0.058654572940287225)"
      ]
     },
     "execution_count": 176,
     "metadata": {},
     "output_type": "execute_result"
    }
   ],
   "source": [
    "model_score = calculate_model_score(y_true=y_test.values, y_pred=y_predicted, metric=\"f1\")\n",
    "model_score"
   ]
  },
  {
   "cell_type": "code",
   "execution_count": 177,
   "id": "7f57db42-a19f-4050-9f4f-eeb3fcd30644",
   "metadata": {},
   "outputs": [],
   "source": [
    "y_true = y_test.values\n",
    "y_pred = y_predicted"
   ]
  },
  {
   "cell_type": "code",
   "execution_count": 178,
   "id": "43003c39-129e-400f-887f-4205efec1a4e",
   "metadata": {},
   "outputs": [],
   "source": [
    "metric_dict = {\n",
    "        \"accuracy\": accuracy_score(y_true, y_pred),\n",
    "        \"f1\": f1_score(y_true, y_pred, pos_label=1),\n",
    "        \"f1_micro\": f1_score(y_true, y_pred, average=\"micro\"),\n",
    "        \"f1_macro\": f1_score(y_true, y_pred, average=\"macro\"),\n",
    "        \"precision\": precision_score(y_true, y_pred),\n",
    "        \"recall\": recall_score(y_true, y_pred),\n",
    "        \"roc_auc\": roc_auc_score(y_true, y_pred),\n",
    "    }"
   ]
  },
  {
   "cell_type": "code",
   "execution_count": 179,
   "id": "dd8b5e9a-5826-43d2-bd2d-2e96802b407a",
   "metadata": {},
   "outputs": [
    {
     "name": "stdout",
     "output_type": "stream",
     "text": [
      "{'accuracy': 0.6264547090581883,\n",
      " 'f1': np.float64(0.058654572940287225),\n",
      " 'f1_macro': np.float64(0.412825883289601),\n",
      " 'f1_micro': np.float64(0.6264547090581883),\n",
      " 'precision': np.float64(0.03506869125090383),\n",
      " 'recall': np.float64(0.1791320406278855),\n",
      " 'roc_auc': np.float64(0.41833358302645957)}\n"
     ]
    }
   ],
   "source": [
    "from pprint import pprint\n",
    "\n",
    "pprint(metric_dict)"
   ]
  },
  {
   "cell_type": "markdown",
   "id": "46a8a261-b2dc-4d99-b508-9bf5871b0989",
   "metadata": {},
   "source": [
    "### Train EFC Without Labeled Data"
   ]
  },
  {
   "cell_type": "code",
   "execution_count": 184,
   "id": "4967268e-b9b8-4cd0-9dd1-5c3c9e3fc9b5",
   "metadata": {},
   "outputs": [
    {
     "name": "stderr",
     "output_type": "stream",
     "text": [
      "/Users/kevinaraujo/repos/dissertation/PPCA-UnB-Dissertation/models/notebooks/research_aml_elliptic/src/experiments/general_functions/elliptic_data_preprocessing.py:33: FutureWarning: Downcasting behavior in `replace` is deprecated and will be removed in a future version. To retain the old behavior, explicitly call `result.infer_objects(copy=False)`. To opt-in to the future behavior, set `pd.set_option('future.no_silent_downcasting', True)`\n",
      "  df_classes.replace({'class': {'1': 1, '2': 0, 'unknown': 2}}, inplace=True)\n"
     ]
    }
   ],
   "source": [
    "# elliptic data set from reaml repo\n",
    "X_train, X_test, y_train, y_test = run_elliptic_preprocessing_pipeline(last_train_time_step=last_train_time_step,\n",
    "                                                                             last_time_step=last_time_step,\n",
    "                                                                             only_labeled=only_labeled)"
   ]
  },
  {
   "cell_type": "code",
   "execution_count": 185,
   "id": "560f22c4-13f0-4a18-ab2b-92c34eaca996",
   "metadata": {},
   "outputs": [
    {
     "name": "stderr",
     "output_type": "stream",
     "text": [
      "/Users/kevinaraujo/repos/dissertation/PPCA-UnB-Dissertation/models/notebooks/efc_python/generic_discretize.py:42: FutureWarning: A value is trying to be set on a copy of a DataFrame or Series through chained assignment using an inplace method.\n",
      "The behavior will change in pandas 3.0. This inplace method will never work because the intermediate object on which we are setting values always behaves as a copy.\n",
      "\n",
      "For example, when doing 'df[col].method(value, inplace=True)', try using 'df.method({col: value}, inplace=True)' or df[col] = df[col].method(value) instead, to perform the operation inplace on the original object.\n",
      "\n",
      "\n",
      "  data.iloc[:, feature].fillna(len(intervals[feature]), inplace=True)\n",
      "/Users/kevinaraujo/repos/dissertation/PPCA-UnB-Dissertation/models/notebooks/efc_python/generic_discretize.py:35: FutureWarning: Setting an item of incompatible dtype is deprecated and will raise in a future error of pandas. Value '29894   NaN\n",
      "29895   NaN\n",
      "29896   NaN\n",
      "29897   NaN\n",
      "29898   NaN\n",
      "         ..\n",
      "46559   NaN\n",
      "46560   NaN\n",
      "46561   NaN\n",
      "46562   NaN\n",
      "46563   NaN\n",
      "Name: time_step, Length: 16670, dtype: float64' has dtype incompatible with int64, please explicitly cast to a compatible dtype first.\n",
      "  data.iloc[:, feature] = pd.cut(\n",
      "/Users/kevinaraujo/repos/dissertation/PPCA-UnB-Dissertation/models/notebooks/efc_python/generic_discretize.py:42: FutureWarning: A value is trying to be set on a copy of a DataFrame or Series through chained assignment using an inplace method.\n",
      "The behavior will change in pandas 3.0. This inplace method will never work because the intermediate object on which we are setting values always behaves as a copy.\n",
      "\n",
      "For example, when doing 'df[col].method(value, inplace=True)', try using 'df.method({col: value}, inplace=True)' or df[col] = df[col].method(value) instead, to perform the operation inplace on the original object.\n",
      "\n",
      "\n",
      "  data.iloc[:, feature].fillna(len(intervals[feature]), inplace=True)\n"
     ]
    }
   ],
   "source": [
    "# efc preps\n",
    "intervals = get_intervals(X_train, 10)  # get discretization intervals from train set\n",
    "X_train = discretize(X_train, intervals)  # discretize train\n",
    "X_test = discretize(X_test, intervals)  # discretize test"
   ]
  },
  {
   "cell_type": "code",
   "execution_count": 186,
   "id": "9e7b13c0-9675-4ae3-9cb4-a759fde01c37",
   "metadata": {},
   "outputs": [],
   "source": [
    "idx_abnormal = np.where(y_train == 1)[0]  # find abnormal samples indexes in the training set\n",
    "X_train.drop(idx_abnormal, axis=0, inplace=True)  # remove abnormal samples from training (EFC trains with only benign instances)\n",
    "y_train.drop(idx_abnormal, axis=0, inplace=True)  # remove the corresponding abonrmal training targets"
   ]
  },
  {
   "cell_type": "code",
   "execution_count": 187,
   "id": "efc76259-d924-4b17-8678-8df9796e2610",
   "metadata": {},
   "outputs": [],
   "source": [
    "# EFC's hyperparameters\n",
    "Q = np.int64(X_test.values.max())\n",
    "LAMBDA = 0.5  # pseudocount parameter"
   ]
  },
  {
   "cell_type": "code",
   "execution_count": 188,
   "id": "6238ebe7-f19b-430f-b8ba-16b9e44fb28f",
   "metadata": {},
   "outputs": [],
   "source": [
    "coupling, h_i, cutoff, _, _ = one_class_fit(np.array(X_train), Q, LAMBDA)  # train model"
   ]
  },
  {
   "cell_type": "code",
   "execution_count": 189,
   "id": "d288cc46-c729-42d9-8504-bed87eee6407",
   "metadata": {},
   "outputs": [],
   "source": [
    "y_predicted, energies = one_class_predict(np.array(X_test), coupling, h_i, cutoff, Q)  # test model"
   ]
  },
  {
   "cell_type": "code",
   "execution_count": 190,
   "id": "4d7afd34-d321-4a68-8f92-295b21b8961b",
   "metadata": {},
   "outputs": [],
   "source": [
    "model_score = calculate_model_score(y_true=y_test.values, y_pred=y_predicted, metric=\"f1\")"
   ]
  },
  {
   "cell_type": "code",
   "execution_count": 191,
   "id": "8510589b-860a-4c7e-9824-31abd31108c3",
   "metadata": {},
   "outputs": [],
   "source": [
    "y_true = y_test.values\n",
    "y_pred = y_predicted"
   ]
  },
  {
   "cell_type": "code",
   "execution_count": 192,
   "id": "028a2ac0-e453-4d15-ab6a-ce44826128e8",
   "metadata": {},
   "outputs": [],
   "source": [
    "metric_dict = {\n",
    "        \"accuracy\": accuracy_score(y_true, y_pred),\n",
    "        \"f1\": f1_score(y_true, y_pred, pos_label=1),\n",
    "        \"f1_micro\": f1_score(y_true, y_pred, average=\"micro\"),\n",
    "        \"f1_macro\": f1_score(y_true, y_pred, average=\"macro\"),\n",
    "        \"precision\": precision_score(y_true, y_pred),\n",
    "        \"recall\": recall_score(y_true, y_pred),\n",
    "        \"roc_auc\": roc_auc_score(y_true, y_pred),\n",
    "    }"
   ]
  },
  {
   "cell_type": "code",
   "execution_count": 193,
   "id": "79b5a08c-8c66-4180-a73e-b1dcc43dd997",
   "metadata": {},
   "outputs": [
    {
     "name": "stdout",
     "output_type": "stream",
     "text": [
      "{'accuracy': 0.6301139772045591,\n",
      " 'f1': np.float64(0.06829857963130856),\n",
      " 'f1_macro': np.float64(0.4187761889998471),\n",
      " 'f1_micro': np.float64(0.6301139772045591),\n",
      " 'precision': np.float64(0.04083107497741644),\n",
      " 'recall': np.float64(0.20867959372114497),\n",
      " 'roc_auc': np.float64(0.4340376219712416)}\n"
     ]
    }
   ],
   "source": [
    "from pprint import pprint\n",
    "\n",
    "pprint(metric_dict)"
   ]
  },
  {
   "cell_type": "markdown",
   "id": "80ab253a-a2c8-44a3-b45f-38723cf69d3e",
   "metadata": {},
   "source": [
    "### Train EFC Without Discretization"
   ]
  },
  {
   "cell_type": "code",
   "execution_count": 1,
   "id": "1b27d0ab-d047-459a-8be5-f000572221e4",
   "metadata": {},
   "outputs": [],
   "source": [
    "from efc_python.classification_functions import (\n",
    "    one_class_fit,\n",
    "    one_class_predict,\n",
    ")\n",
    "from efc_python.generic_discretize import discretize, get_intervals"
   ]
  },
  {
   "cell_type": "code",
   "execution_count": 6,
   "id": "f33f9c5e-cc6d-4a26-ab9a-c2ef9afceeb0",
   "metadata": {},
   "outputs": [
    {
     "name": "stderr",
     "output_type": "stream",
     "text": [
      "/Users/kevinaraujo/repos/dissertation/PPCA-UnB-Dissertation/models/notebooks/research_aml_elliptic/src/experiments/general_functions/elliptic_data_preprocessing.py:46: FutureWarning: Downcasting behavior in `replace` is deprecated and will be removed in a future version. To retain the old behavior, explicitly call `result.infer_objects(copy=False)`. To opt-in to the future behavior, set `pd.set_option('future.no_silent_downcasting', True)`\n",
      "  df_classes.replace({\"class\": {\"1\": 1, \"2\": 0, \"unknown\": 2}}, inplace=True)\n"
     ]
    }
   ],
   "source": [
    "# elliptic data set from reaml repo\n",
    "X_train, X_test, y_train, y_test = run_elliptic_preprocessing_pipeline(last_train_time_step=last_train_time_step,\n",
    "                                                                             last_time_step=last_time_step,\n",
    "                                                                             only_labeled=only_labeled)"
   ]
  },
  {
   "cell_type": "code",
   "execution_count": 9,
   "id": "050f0999-318a-4b40-995f-7689c2fd821a",
   "metadata": {},
   "outputs": [],
   "source": [
    "# EFC's hyperparameters\n",
    "Q = np.int64(X_test.values.max())\n",
    "LAMBDA = 0.5  # pseudocount parameter"
   ]
  },
  {
   "cell_type": "code",
   "execution_count": 10,
   "id": "e8203e83-917c-41e9-9701-6df02f4fa5c5",
   "metadata": {},
   "outputs": [
    {
     "name": "stderr",
     "output_type": "stream",
     "text": [
      "100%|███████████████████████████████████████████████████████████████████████████████████████████████████████████████████████████████████████████| 166/166 [00:00<00:00, 172.40it/s]\n",
      "100%|██████████████████████████████████████████████████████████████████████████████████████████████████████████████████████████████████████████| 166/166 [2:09:08<00:00, 46.68s/it]\n",
      "100%|█| 166/166 [21:51<00:00,  7.90s/i\n",
      "/Users/kevinaraujo/repos/dissertation/PPCA-UnB-Dissertation/models/notebooks/efc_python/dca_functions.py:95: RuntimeWarning: overflow encountered in exp\n",
      "  coupling_matrix = np.exp(np.negative(inv_corr))\n",
      "  0%|                                                                                                                                                      | 0/166 [00:00<?, ?it/s]/Users/kevinaraujo/repos/dissertation/PPCA-UnB-Dissertation/models/notebooks/efc_python/dca_functions.py:74: RuntimeWarning: divide by zero encountered in scalar divide\n",
      "  fields[i * (Q - 1) + ai] /= (\n",
      "/Users/kevinaraujo/repos/dissertation/PPCA-UnB-Dissertation/models/notebooks/efc_python/dca_functions.py:74: RuntimeWarning: invalid value encountered in scalar divide\n",
      "  fields[i * (Q - 1) + ai] /= (\n",
      "/Users/kevinaraujo/repos/dissertation/PPCA-UnB-Dissertation/models/notebooks/efc_python/dca_functions.py:74: RuntimeWarning: overflow encountered in scalar divide\n",
      "  fields[i * (Q - 1) + ai] /= (\n",
      "100%|██████████████████████████████████████████████████████████████████████████████████████████████████████████████████████████████████████████| 166/166 [3:10:46<00:00, 68.96s/it]\n",
      "/Users/kevinaraujo/repos/dissertation/PPCA-UnB-Dissertation/models/notebooks/efc_python/classification_functions.py:37: RuntimeWarning: divide by zero encountered in log\n",
      "  c_matrix = np.log(c_matrix)\n",
      "/Users/kevinaraujo/repos/dissertation/PPCA-UnB-Dissertation/models/notebooks/efc_python/classification_functions.py:38: RuntimeWarning: divide by zero encountered in log\n",
      "  h_i = np.log(h_i)\n"
     ]
    },
    {
     "ename": "IndexError",
     "evalue": "only integers, slices (`:`), ellipsis (`...`), numpy.newaxis (`None`) and integer or boolean arrays are valid indices",
     "output_type": "error",
     "traceback": [
      "\u001b[0;31m---------------------------------------------------------------------------\u001b[0m",
      "\u001b[0;31mIndexError\u001b[0m                                Traceback (most recent call last)",
      "Cell \u001b[0;32mIn[10], line 2\u001b[0m\n\u001b[1;32m      1\u001b[0m \u001b[38;5;66;03m# train model\u001b[39;00m\n\u001b[0;32m----> 2\u001b[0m coupling, h_i, cutoff, _, _ \u001b[38;5;241m=\u001b[39m \u001b[43mone_class_fit\u001b[49m\u001b[43m(\u001b[49m\u001b[43mnp\u001b[49m\u001b[38;5;241;43m.\u001b[39;49m\u001b[43marray\u001b[49m\u001b[43m(\u001b[49m\u001b[43mX_train\u001b[49m\u001b[43m)\u001b[49m\u001b[43m,\u001b[49m\u001b[43m \u001b[49m\u001b[43mQ\u001b[49m\u001b[43m,\u001b[49m\u001b[43m \u001b[49m\u001b[43mLAMBDA\u001b[49m\u001b[43m)\u001b[49m\n",
      "File \u001b[0;32m~/repos/dissertation/PPCA-UnB-Dissertation/models/notebooks/efc_python/classification_functions.py:39\u001b[0m, in \u001b[0;36mone_class_fit\u001b[0;34m(data, Q, LAMBDA)\u001b[0m\n\u001b[1;32m     37\u001b[0m c_matrix \u001b[38;5;241m=\u001b[39m np\u001b[38;5;241m.\u001b[39mlog(c_matrix)\n\u001b[1;32m     38\u001b[0m h_i \u001b[38;5;241m=\u001b[39m np\u001b[38;5;241m.\u001b[39mlog(h_i)\n\u001b[0;32m---> 39\u001b[0m cutoff \u001b[38;5;241m=\u001b[39m \u001b[43mdefine_cutoff\u001b[49m\u001b[43m(\u001b[49m\u001b[43mdata\u001b[49m\u001b[43m,\u001b[49m\u001b[43m \u001b[49m\u001b[43mh_i\u001b[49m\u001b[43m,\u001b[49m\u001b[43m \u001b[49m\u001b[43mc_matrix\u001b[49m\u001b[43m,\u001b[49m\u001b[43m \u001b[49m\u001b[43mQ\u001b[49m\u001b[43m)\u001b[49m\n\u001b[1;32m     40\u001b[0m \u001b[38;5;28;01mreturn\u001b[39;00m c_matrix, h_i, cutoff, s_freq, p_freq\n",
      "File \u001b[0;32m~/repos/dissertation/PPCA-UnB-Dissertation/models/notebooks/efc_python/classification_functions.py:20\u001b[0m, in \u001b[0;36mdefine_cutoff\u001b[0;34m(train_data, h_i, coupling_matrix, Q)\u001b[0m\n\u001b[1;32m     18\u001b[0m             k_value \u001b[38;5;241m=\u001b[39m train_data[i, k]\n\u001b[1;32m     19\u001b[0m             \u001b[38;5;28;01mif\u001b[39;00m k_value \u001b[38;5;241m!=\u001b[39m (Q \u001b[38;5;241m-\u001b[39m \u001b[38;5;241m1\u001b[39m):\n\u001b[0;32m---> 20\u001b[0m                 e \u001b[38;5;241m-\u001b[39m\u001b[38;5;241m=\u001b[39m \u001b[43mcoupling_matrix\u001b[49m\u001b[43m[\u001b[49m\n\u001b[1;32m     21\u001b[0m \u001b[43m                    \u001b[49m\u001b[43mj\u001b[49m\u001b[43m \u001b[49m\u001b[38;5;241;43m*\u001b[39;49m\u001b[43m \u001b[49m\u001b[43m(\u001b[49m\u001b[43mQ\u001b[49m\u001b[43m \u001b[49m\u001b[38;5;241;43m-\u001b[39;49m\u001b[43m \u001b[49m\u001b[38;5;241;43m1\u001b[39;49m\u001b[43m)\u001b[49m\u001b[43m \u001b[49m\u001b[38;5;241;43m+\u001b[39;49m\u001b[43m \u001b[49m\u001b[43mj_value\u001b[49m\u001b[43m,\u001b[49m\u001b[43m \u001b[49m\u001b[43mk\u001b[49m\u001b[43m \u001b[49m\u001b[38;5;241;43m*\u001b[39;49m\u001b[43m \u001b[49m\u001b[43m(\u001b[49m\u001b[43mQ\u001b[49m\u001b[43m \u001b[49m\u001b[38;5;241;43m-\u001b[39;49m\u001b[43m \u001b[49m\u001b[38;5;241;43m1\u001b[39;49m\u001b[43m)\u001b[49m\u001b[43m \u001b[49m\u001b[38;5;241;43m+\u001b[39;49m\u001b[43m \u001b[49m\u001b[43mk_value\u001b[49m\n\u001b[1;32m     22\u001b[0m \u001b[43m                \u001b[49m\u001b[43m]\u001b[49m\n\u001b[1;32m     23\u001b[0m         e \u001b[38;5;241m-\u001b[39m\u001b[38;5;241m=\u001b[39m h_i[j \u001b[38;5;241m*\u001b[39m (Q \u001b[38;5;241m-\u001b[39m \u001b[38;5;241m1\u001b[39m) \u001b[38;5;241m+\u001b[39m j_value]\n\u001b[1;32m     24\u001b[0m energies[i] \u001b[38;5;241m=\u001b[39m e\n",
      "\u001b[0;31mIndexError\u001b[0m: only integers, slices (`:`), ellipsis (`...`), numpy.newaxis (`None`) and integer or boolean arrays are valid indices"
     ]
    }
   ],
   "source": [
    "# train model\n",
    "coupling, h_i, cutoff, _, _ = one_class_fit(np.array(X_train), Q, LAMBDA)"
   ]
  },
  {
   "cell_type": "code",
   "execution_count": 205,
   "id": "be07494a-b930-4187-8ebb-a4347c584212",
   "metadata": {},
   "outputs": [
    {
     "ename": "IndexError",
     "evalue": "only integers, slices (`:`), ellipsis (`...`), numpy.newaxis (`None`) and integer or boolean arrays are valid indices",
     "output_type": "error",
     "traceback": [
      "\u001b[0;31m---------------------------------------------------------------------------\u001b[0m",
      "\u001b[0;31mIndexError\u001b[0m                                Traceback (most recent call last)",
      "Cell \u001b[0;32mIn[205], line 1\u001b[0m\n\u001b[0;32m----> 1\u001b[0m y_predicted, energies \u001b[38;5;241m=\u001b[39m \u001b[43mone_class_predict\u001b[49m\u001b[43m(\u001b[49m\u001b[43mnp\u001b[49m\u001b[38;5;241;43m.\u001b[39;49m\u001b[43marray\u001b[49m\u001b[43m(\u001b[49m\u001b[43mX_test\u001b[49m\u001b[43m)\u001b[49m\u001b[43m,\u001b[49m\u001b[43m \u001b[49m\u001b[43mcoupling\u001b[49m\u001b[43m,\u001b[49m\u001b[43m \u001b[49m\u001b[43mh_i\u001b[49m\u001b[43m,\u001b[49m\u001b[43m \u001b[49m\u001b[43mcutoff\u001b[49m\u001b[43m,\u001b[49m\u001b[43m \u001b[49m\u001b[43mQ\u001b[49m\u001b[43m)\u001b[49m  \u001b[38;5;66;03m# test model\u001b[39;00m\n",
      "File \u001b[0;32m~/repos/dissertation/PPCA-UnB-Dissertation/models/notebooks/efc_python/classification_functions.py:57\u001b[0m, in \u001b[0;36mone_class_predict\u001b[0;34m(test_data, coupling_matrix, h_i, cutoff, Q)\u001b[0m\n\u001b[1;32m     55\u001b[0m             k_value \u001b[38;5;241m=\u001b[39m test_data[i, k]\n\u001b[1;32m     56\u001b[0m             \u001b[38;5;28;01mif\u001b[39;00m k_value \u001b[38;5;241m!=\u001b[39m (Q \u001b[38;5;241m-\u001b[39m \u001b[38;5;241m1\u001b[39m):\n\u001b[0;32m---> 57\u001b[0m                 e \u001b[38;5;241m-\u001b[39m\u001b[38;5;241m=\u001b[39m \u001b[43mcoupling_matrix\u001b[49m\u001b[43m[\u001b[49m\n\u001b[1;32m     58\u001b[0m \u001b[43m                    \u001b[49m\u001b[43mj\u001b[49m\u001b[43m \u001b[49m\u001b[38;5;241;43m*\u001b[39;49m\u001b[43m \u001b[49m\u001b[43m(\u001b[49m\u001b[43mQ\u001b[49m\u001b[43m \u001b[49m\u001b[38;5;241;43m-\u001b[39;49m\u001b[43m \u001b[49m\u001b[38;5;241;43m1\u001b[39;49m\u001b[43m)\u001b[49m\u001b[43m \u001b[49m\u001b[38;5;241;43m+\u001b[39;49m\u001b[43m \u001b[49m\u001b[43mj_value\u001b[49m\u001b[43m,\u001b[49m\u001b[43m \u001b[49m\u001b[43mk\u001b[49m\u001b[43m \u001b[49m\u001b[38;5;241;43m*\u001b[39;49m\u001b[43m \u001b[49m\u001b[43m(\u001b[49m\u001b[43mQ\u001b[49m\u001b[43m \u001b[49m\u001b[38;5;241;43m-\u001b[39;49m\u001b[43m \u001b[49m\u001b[38;5;241;43m1\u001b[39;49m\u001b[43m)\u001b[49m\u001b[43m \u001b[49m\u001b[38;5;241;43m+\u001b[39;49m\u001b[43m \u001b[49m\u001b[43mk_value\u001b[49m\n\u001b[1;32m     59\u001b[0m \u001b[43m                \u001b[49m\u001b[43m]\u001b[49m\n\u001b[1;32m     60\u001b[0m         e \u001b[38;5;241m-\u001b[39m\u001b[38;5;241m=\u001b[39m h_i[j \u001b[38;5;241m*\u001b[39m (Q \u001b[38;5;241m-\u001b[39m \u001b[38;5;241m1\u001b[39m) \u001b[38;5;241m+\u001b[39m j_value]\n\u001b[1;32m     61\u001b[0m predicted[i] \u001b[38;5;241m=\u001b[39m e \u001b[38;5;241m>\u001b[39m cutoff\n",
      "\u001b[0;31mIndexError\u001b[0m: only integers, slices (`:`), ellipsis (`...`), numpy.newaxis (`None`) and integer or boolean arrays are valid indices"
     ]
    }
   ],
   "source": [
    "y_predicted, energies = one_class_predict(np.array(X_test), coupling, h_i, cutoff, Q)  # test model"
   ]
  },
  {
   "cell_type": "code",
   "execution_count": null,
   "id": "1fa1634c-532e-4859-9033-03f0748c6fcf",
   "metadata": {},
   "outputs": [],
   "source": [
    "model_score = calculate_model_score(y_true=y_test.values, y_pred=y_predicted, metric=\"f1\")"
   ]
  },
  {
   "cell_type": "code",
   "execution_count": null,
   "id": "d5ff6975-1ab9-4e1a-be3b-b22a1e5293d6",
   "metadata": {},
   "outputs": [],
   "source": [
    "y_true = y_test.values\n",
    "y_pred = y_predicted"
   ]
  },
  {
   "cell_type": "code",
   "execution_count": null,
   "id": "e6e13d8a-f75d-4090-bfd9-ccb799416b22",
   "metadata": {},
   "outputs": [],
   "source": [
    "metric_dict = {\n",
    "        \"accuracy\": accuracy_score(y_true, y_pred),\n",
    "        \"f1\": f1_score(y_true, y_pred, pos_label=1),\n",
    "        \"f1_micro\": f1_score(y_true, y_pred, average=\"micro\"),\n",
    "        \"f1_macro\": f1_score(y_true, y_pred, average=\"macro\"),\n",
    "        \"precision\": precision_score(y_true, y_pred),\n",
    "        \"recall\": recall_score(y_true, y_pred),\n",
    "        \"roc_auc\": roc_auc_score(y_true, y_pred),\n",
    "    }"
   ]
  },
  {
   "cell_type": "code",
   "execution_count": null,
   "id": "908701d2-2850-40a9-b637-3de9a01eb0fa",
   "metadata": {},
   "outputs": [],
   "source": [
    "from pprint import pprint\n",
    "\n",
    "pprint(metric_dict)"
   ]
  }
 ],
 "metadata": {
  "kernelspec": {
   "display_name": "masters",
   "language": "python",
   "name": "masters"
  },
  "language_info": {
   "codemirror_mode": {
    "name": "ipython",
    "version": 3
   },
   "file_extension": ".py",
   "mimetype": "text/x-python",
   "name": "python",
   "nbconvert_exporter": "python",
   "pygments_lexer": "ipython3",
   "version": "3.12.1"
  }
 },
 "nbformat": 4,
 "nbformat_minor": 5
}
