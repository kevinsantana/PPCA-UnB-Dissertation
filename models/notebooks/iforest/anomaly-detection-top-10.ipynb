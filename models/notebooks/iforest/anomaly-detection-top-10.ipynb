{
 "cells": [
  {
   "cell_type": "markdown",
   "id": "b22e6feb",
   "metadata": {},
   "source": [
    "## Data Acquisition"
   ]
  },
  {
   "cell_type": "code",
   "execution_count": 1,
   "id": "31f98ff2",
   "metadata": {},
   "outputs": [],
   "source": [
    "from os import listdir\n",
    "from os.path import isfile, join\n",
    "\n",
    "import pandas as pd"
   ]
  },
  {
   "cell_type": "code",
   "execution_count": 2,
   "id": "8f9a7dd0",
   "metadata": {},
   "outputs": [],
   "source": [
    "def merge_dataset(data_files: str = \"../../../datasets\", symbol: str = \"btc\"):\n",
    "    files = [f for f in listdir(data_files) if isfile(join(data_files, f)) and f.startswith(symbol) and f.endswith('.parquet')]\n",
    "    return pd.concat(\n",
    "        pd.read_parquet(join(data_files, f), engine='fastparquet') for f in files\n",
    "    )"
   ]
  },
  {
   "cell_type": "code",
   "execution_count": 4,
   "id": "7201fde5",
   "metadata": {},
   "outputs": [],
   "source": [
    "def prepare_dataset(data_files: str = \"../../datasets\", symbol: str = \"btc\", datetime_index: bool = True):\n",
    "    df = merge_dataset(data_files=data_files, symbol=symbol)\n",
    "    \n",
    "    # timestamp to python datetime\n",
    "    if datetime_index:\n",
    "        df['date'] = pd.to_datetime(df['date'], unit='s')\n",
    "\n",
    "    df = df.set_index(['date'])\n",
    "    df.sort_index(inplace=True)\n",
    "\n",
    "    return df"
   ]
  },
  {
   "cell_type": "code",
   "execution_count": 5,
   "id": "12f438ad-f6b3-415d-aba4-a172b3adc0d9",
   "metadata": {},
   "outputs": [],
   "source": [
    "top_10_symbol = [\n",
    "        'BTC-BRL', 'ETH-BRL', 'USDT-BRL', 'SOL-BRL', 'XRP-BRL',\n",
    "        'USDC-BRL', 'DOGE-BRL', 'ADA-BRL', 'AVAX-BRL', 'SHIB-BRL'\n",
    "    ]"
   ]
  },
  {
   "cell_type": "code",
   "execution_count": 8,
   "id": "3b678628",
   "metadata": {},
   "outputs": [],
   "source": [
    "def create_dataset(pairs: list = None):\n",
    "    dataset = {}\n",
    "    pairs = pairs if pairs else top_10_symbol\n",
    "    for pair in pairs:\n",
    "        pair = pair.replace('-BRL', '').lower()\n",
    "        dataset[pair] = prepare_dataset(symbol=pair)\n",
    "    return dataset"
   ]
  },
  {
   "cell_type": "code",
   "execution_count": 25,
   "id": "2f1697f2-ded2-4210-ad59-fe1f7af6765c",
   "metadata": {},
   "outputs": [],
   "source": [
    "def dataset_by_time_range(start_date='2023-01-01', end_date='2023-12-31', columns=['price', 'amount'], pairs: list = None):\n",
    "    dataset = create_dataset(pairs=pairs)\n",
    "    return {pair: dataset[pair].loc[f'{start_date}':f'{end_date}'][columns] for pair in dataset}"
   ]
  },
  {
   "cell_type": "markdown",
   "id": "e3566900",
   "metadata": {},
   "source": [
    "## Exploratory Data Analysis"
   ]
  },
  {
   "cell_type": "code",
   "execution_count": null,
   "id": "401452a7",
   "metadata": {},
   "outputs": [],
   "source": [
    "# TBD"
   ]
  },
  {
   "cell_type": "markdown",
   "id": "d225a7a8",
   "metadata": {},
   "source": [
    "## Feature Engineering"
   ]
  },
  {
   "cell_type": "code",
   "execution_count": 43,
   "id": "41a98f33",
   "metadata": {},
   "outputs": [
    {
     "name": "stdout",
     "output_type": "stream",
     "text": [
      "['BTC-BRL']\n"
     ]
    }
   ],
   "source": [
    "df = dataset_by_time_range(start_date='2023-01-01',\n",
    "                                        end_date='2023-12-31',\n",
    "                                        columns=['price', 'amount'],\n",
    "                                        pairs=['BTC-BRL'])\n",
    "df['btc'].reset_index(inplace=True)"
   ]
  },
  {
   "cell_type": "code",
   "execution_count": 47,
   "id": "5482abae",
   "metadata": {},
   "outputs": [
    {
     "data": {
      "text/plain": [
       "{'btc':                        date          price    amount\n",
       " 0       2023-01-01 00:06:11   87967.500660  0.001286\n",
       " 1       2023-01-01 00:06:11   87999.990000  0.000020\n",
       " 2       2023-01-01 00:06:11   88000.000000  0.000020\n",
       " 3       2023-01-01 00:06:11   88000.000000  0.000020\n",
       " 4       2023-01-01 00:06:11   87999.990000  0.000020\n",
       " ...                     ...            ...       ...\n",
       " 1282104 2023-12-31 23:52:07  208937.028757  0.000290\n",
       " 1282105 2023-12-31 23:53:00  208900.061061  0.000005\n",
       " 1282106 2023-12-31 23:54:40  208966.626665  0.000005\n",
       " 1282107 2023-12-31 23:57:07  209254.320000  0.000023\n",
       " 1282108 2023-12-31 23:59:16  209216.773414  0.000047\n",
       " \n",
       " [1282109 rows x 3 columns]}"
      ]
     },
     "execution_count": 47,
     "metadata": {},
     "output_type": "execute_result"
    }
   ],
   "source": [
    "df"
   ]
  },
  {
   "cell_type": "code",
   "execution_count": 54,
   "id": "6f56eaa1",
   "metadata": {},
   "outputs": [
    {
     "data": {
      "text/html": [
       "<div>\n",
       "<style scoped>\n",
       "    .dataframe tbody tr th:only-of-type {\n",
       "        vertical-align: middle;\n",
       "    }\n",
       "\n",
       "    .dataframe tbody tr th {\n",
       "        vertical-align: top;\n",
       "    }\n",
       "\n",
       "    .dataframe thead th {\n",
       "        text-align: right;\n",
       "    }\n",
       "</style>\n",
       "<table border=\"1\" class=\"dataframe\">\n",
       "  <thead>\n",
       "    <tr style=\"text-align: right;\">\n",
       "      <th></th>\n",
       "      <th>sum</th>\n",
       "      <th>mean</th>\n",
       "      <th>max</th>\n",
       "    </tr>\n",
       "    <tr>\n",
       "      <th>date</th>\n",
       "      <th></th>\n",
       "      <th></th>\n",
       "      <th></th>\n",
       "    </tr>\n",
       "  </thead>\n",
       "  <tbody>\n",
       "    <tr>\n",
       "      <th>1</th>\n",
       "      <td>380.414456</td>\n",
       "      <td>0.011299</td>\n",
       "      <td>2.000000</td>\n",
       "    </tr>\n",
       "    <tr>\n",
       "      <th>2</th>\n",
       "      <td>352.478735</td>\n",
       "      <td>0.009923</td>\n",
       "      <td>3.240436</td>\n",
       "    </tr>\n",
       "    <tr>\n",
       "      <th>3</th>\n",
       "      <td>507.714529</td>\n",
       "      <td>0.012638</td>\n",
       "      <td>4.739285</td>\n",
       "    </tr>\n",
       "    <tr>\n",
       "      <th>4</th>\n",
       "      <td>388.631538</td>\n",
       "      <td>0.010528</td>\n",
       "      <td>1.987342</td>\n",
       "    </tr>\n",
       "    <tr>\n",
       "      <th>5</th>\n",
       "      <td>422.060847</td>\n",
       "      <td>0.009962</td>\n",
       "      <td>2.569274</td>\n",
       "    </tr>\n",
       "    <tr>\n",
       "      <th>6</th>\n",
       "      <td>408.441066</td>\n",
       "      <td>0.010180</td>\n",
       "      <td>2.878325</td>\n",
       "    </tr>\n",
       "    <tr>\n",
       "      <th>7</th>\n",
       "      <td>337.343733</td>\n",
       "      <td>0.010098</td>\n",
       "      <td>3.000000</td>\n",
       "    </tr>\n",
       "    <tr>\n",
       "      <th>8</th>\n",
       "      <td>478.804080</td>\n",
       "      <td>0.012351</td>\n",
       "      <td>1.899000</td>\n",
       "    </tr>\n",
       "    <tr>\n",
       "      <th>9</th>\n",
       "      <td>423.533446</td>\n",
       "      <td>0.010949</td>\n",
       "      <td>1.305154</td>\n",
       "    </tr>\n",
       "    <tr>\n",
       "      <th>10</th>\n",
       "      <td>548.670974</td>\n",
       "      <td>0.012927</td>\n",
       "      <td>5.734000</td>\n",
       "    </tr>\n",
       "    <tr>\n",
       "      <th>11</th>\n",
       "      <td>504.518505</td>\n",
       "      <td>0.010440</td>\n",
       "      <td>1.540697</td>\n",
       "    </tr>\n",
       "    <tr>\n",
       "      <th>12</th>\n",
       "      <td>448.631989</td>\n",
       "      <td>0.010704</td>\n",
       "      <td>2.576643</td>\n",
       "    </tr>\n",
       "    <tr>\n",
       "      <th>13</th>\n",
       "      <td>521.117057</td>\n",
       "      <td>0.010738</td>\n",
       "      <td>1.492487</td>\n",
       "    </tr>\n",
       "    <tr>\n",
       "      <th>14</th>\n",
       "      <td>618.991827</td>\n",
       "      <td>0.010996</td>\n",
       "      <td>2.460917</td>\n",
       "    </tr>\n",
       "    <tr>\n",
       "      <th>15</th>\n",
       "      <td>468.850716</td>\n",
       "      <td>0.010677</td>\n",
       "      <td>2.331055</td>\n",
       "    </tr>\n",
       "    <tr>\n",
       "      <th>16</th>\n",
       "      <td>519.120226</td>\n",
       "      <td>0.010686</td>\n",
       "      <td>1.106792</td>\n",
       "    </tr>\n",
       "    <tr>\n",
       "      <th>17</th>\n",
       "      <td>543.126427</td>\n",
       "      <td>0.010630</td>\n",
       "      <td>0.910708</td>\n",
       "    </tr>\n",
       "    <tr>\n",
       "      <th>18</th>\n",
       "      <td>445.072895</td>\n",
       "      <td>0.009716</td>\n",
       "      <td>0.892333</td>\n",
       "    </tr>\n",
       "    <tr>\n",
       "      <th>19</th>\n",
       "      <td>401.196902</td>\n",
       "      <td>0.009723</td>\n",
       "      <td>3.011125</td>\n",
       "    </tr>\n",
       "    <tr>\n",
       "      <th>20</th>\n",
       "      <td>453.616152</td>\n",
       "      <td>0.009234</td>\n",
       "      <td>2.881000</td>\n",
       "    </tr>\n",
       "    <tr>\n",
       "      <th>21</th>\n",
       "      <td>509.359701</td>\n",
       "      <td>0.010431</td>\n",
       "      <td>4.232838</td>\n",
       "    </tr>\n",
       "    <tr>\n",
       "      <th>22</th>\n",
       "      <td>449.067361</td>\n",
       "      <td>0.009823</td>\n",
       "      <td>4.635895</td>\n",
       "    </tr>\n",
       "    <tr>\n",
       "      <th>23</th>\n",
       "      <td>486.485990</td>\n",
       "      <td>0.010545</td>\n",
       "      <td>1.028959</td>\n",
       "    </tr>\n",
       "    <tr>\n",
       "      <th>24</th>\n",
       "      <td>559.800740</td>\n",
       "      <td>0.010557</td>\n",
       "      <td>1.415197</td>\n",
       "    </tr>\n",
       "    <tr>\n",
       "      <th>25</th>\n",
       "      <td>363.873055</td>\n",
       "      <td>0.010671</td>\n",
       "      <td>1.578966</td>\n",
       "    </tr>\n",
       "    <tr>\n",
       "      <th>26</th>\n",
       "      <td>414.908881</td>\n",
       "      <td>0.010875</td>\n",
       "      <td>2.406757</td>\n",
       "    </tr>\n",
       "    <tr>\n",
       "      <th>27</th>\n",
       "      <td>386.000306</td>\n",
       "      <td>0.010631</td>\n",
       "      <td>4.910246</td>\n",
       "    </tr>\n",
       "    <tr>\n",
       "      <th>28</th>\n",
       "      <td>385.026989</td>\n",
       "      <td>0.010571</td>\n",
       "      <td>1.292858</td>\n",
       "    </tr>\n",
       "    <tr>\n",
       "      <th>29</th>\n",
       "      <td>312.168796</td>\n",
       "      <td>0.009547</td>\n",
       "      <td>1.328548</td>\n",
       "    </tr>\n",
       "    <tr>\n",
       "      <th>30</th>\n",
       "      <td>331.551367</td>\n",
       "      <td>0.010565</td>\n",
       "      <td>5.519044</td>\n",
       "    </tr>\n",
       "    <tr>\n",
       "      <th>31</th>\n",
       "      <td>251.902505</td>\n",
       "      <td>0.011232</td>\n",
       "      <td>1.916362</td>\n",
       "    </tr>\n",
       "  </tbody>\n",
       "</table>\n",
       "</div>"
      ],
      "text/plain": [
       "             sum      mean       max\n",
       "date                                \n",
       "1     380.414456  0.011299  2.000000\n",
       "2     352.478735  0.009923  3.240436\n",
       "3     507.714529  0.012638  4.739285\n",
       "4     388.631538  0.010528  1.987342\n",
       "5     422.060847  0.009962  2.569274\n",
       "6     408.441066  0.010180  2.878325\n",
       "7     337.343733  0.010098  3.000000\n",
       "8     478.804080  0.012351  1.899000\n",
       "9     423.533446  0.010949  1.305154\n",
       "10    548.670974  0.012927  5.734000\n",
       "11    504.518505  0.010440  1.540697\n",
       "12    448.631989  0.010704  2.576643\n",
       "13    521.117057  0.010738  1.492487\n",
       "14    618.991827  0.010996  2.460917\n",
       "15    468.850716  0.010677  2.331055\n",
       "16    519.120226  0.010686  1.106792\n",
       "17    543.126427  0.010630  0.910708\n",
       "18    445.072895  0.009716  0.892333\n",
       "19    401.196902  0.009723  3.011125\n",
       "20    453.616152  0.009234  2.881000\n",
       "21    509.359701  0.010431  4.232838\n",
       "22    449.067361  0.009823  4.635895\n",
       "23    486.485990  0.010545  1.028959\n",
       "24    559.800740  0.010557  1.415197\n",
       "25    363.873055  0.010671  1.578966\n",
       "26    414.908881  0.010875  2.406757\n",
       "27    386.000306  0.010631  4.910246\n",
       "28    385.026989  0.010571  1.292858\n",
       "29    312.168796  0.009547  1.328548\n",
       "30    331.551367  0.010565  5.519044\n",
       "31    251.902505  0.011232  1.916362"
      ]
     },
     "execution_count": 54,
     "metadata": {},
     "output_type": "execute_result"
    }
   ],
   "source": [
    "df['btc'].groupby(df['btc']['date'].dt.day)['amount'].agg(['sum', 'mean', 'max'])\n"
   ]
  },
  {
   "cell_type": "code",
   "execution_count": null,
   "id": "04e59c5e",
   "metadata": {},
   "outputs": [],
   "source": []
  },
  {
   "cell_type": "markdown",
   "id": "dfbdfb24",
   "metadata": {},
   "source": [
    "## Models"
   ]
  },
  {
   "cell_type": "markdown",
   "id": "0c0e4984",
   "metadata": {},
   "source": [
    "### Isolation Forest"
   ]
  },
  {
   "cell_type": "code",
   "execution_count": null,
   "id": "8482a09d",
   "metadata": {},
   "outputs": [],
   "source": [
    "import os\n",
    "\n",
    "import numpy as np\n",
    "from sklearn.ensemble import IsolationForest\n",
    "import matplotlib.pyplot as plt"
   ]
  },
  {
   "cell_type": "markdown",
   "id": "2efef208-4df6-4644-8577-19ac7ffc54d4",
   "metadata": {},
   "source": [
    "### Plotting Figures"
   ]
  },
  {
   "cell_type": "code",
   "execution_count": null,
   "id": "2a313338-912c-40f7-abce-0b3e053b7ea2",
   "metadata": {},
   "outputs": [],
   "source": [
    "def plot_outliers(model, df, pair, time_range, save_plot=True, save_df=True):\n",
    "    model.fit(df)\n",
    "    df['score'] = model.decision_function(df[['price', 'amount']])\n",
    "    df['anomaly_value'] = model.predict(df[['price', 'amount']])\n",
    "    # outliers\n",
    "    outliers = df.loc[df['anomaly_value'] == -1]\n",
    "    outliers_index = list(outliers.index)\n",
    "    \n",
    "    #datapoints classified as -1 are anomalous\n",
    "    print(f'Total Number of Non-Outliers and Outliers {pair}: ', df['anomaly_value'].value_counts())\n",
    "    fig = df['anomaly_value'].value_counts().plot(kind='bar',\n",
    "                                                       xlabel='1 Normal Point -1 Anomaly Point',\n",
    "                                                       ylabel='Total Transactions',\n",
    "                                                       title=f'Total Number of Non-Outliers and Outliers {pair}').get_figure()\n",
    "\n",
    "    if save_plot:\n",
    "        try:\n",
    "            os.makedirs(f'./iforest/figures/1{time_range}/{pair}')\n",
    "        except FileExistsError:\n",
    "            pass\n",
    "        \n",
    "        fig.savefig(f'./iforest/figures/1{time_range}/{pair}/{pair}-1{time_range}-outliers-count')\n",
    "\n",
    "    if save_df:\n",
    "        try:\n",
    "            os.makedirs(f'./iforest/datasets/1{time_range}/{pair}')\n",
    "        except FileExistsError:\n",
    "            pass\n",
    "        \n",
    "        df.to_csv(f'./iforest/datasets/1{time_range}/{pair}/df_{pair}_anomaly.csv', index=True)  \n",
    "\n",
    "    return outliers, outliers_index"
   ]
  },
  {
   "cell_type": "code",
   "execution_count": null,
   "id": "0140cef3-7593-459c-a04f-c19fdf1ac3b5",
   "metadata": {},
   "outputs": [],
   "source": [
    "def plot_detection(df, outliers, time_range, pair, save_fig=True):\n",
    "    plt.figure(figsize = (32, 16))\n",
    "    plt.plot(df[['price']], marker = '.')\n",
    "    plt.plot(outliers[['price']], 'o', color = 'red', label = 'outlier')\n",
    "    plt.title(f'Detection By Isolation Forest {pair}')\n",
    "    \n",
    "    #plt.grid()\n",
    "    plt.xlabel('Date')\n",
    "    plt.ylabel('Price')\n",
    "    plt.legend()\n",
    "\n",
    "    if save_fig:\n",
    "        try:\n",
    "            os.makedirs(f'./iforest/figures/1{time_range}/{pair}')\n",
    "        except FileExistsError:\n",
    "            pass\n",
    "    \n",
    "        plt.savefig(f'./iforest/figures/1{time_range}/{pair}/{pair}-1{time_range}-detection-by-price-and-date')"
   ]
  },
  {
   "cell_type": "code",
   "execution_count": null,
   "id": "1b306181-9f78-4b13-9e1b-300429a7267d",
   "metadata": {},
   "outputs": [],
   "source": [
    "def plot_figures(dataset, model, time_range):\n",
    "    for pair in dataset:\n",
    "        df_pair = dataset[pair]\n",
    "        outliers, outliers_idx = plot_outliers(model, df=df_pair, pair=pair, time_range=time_range)\n",
    "        plot_detection(df=df_pair, outliers=outliers, time_range=time_range, pair=pair)"
   ]
  },
  {
   "cell_type": "markdown",
   "id": "5be6151d",
   "metadata": {},
   "source": [
    "#### 1 year dataset"
   ]
  },
  {
   "cell_type": "code",
   "execution_count": null,
   "id": "b938cce1-bc84-46fa-a61c-55050835999c",
   "metadata": {},
   "outputs": [],
   "source": [
    "#initiate the model with 0.05% contamination\n",
    "\n",
    "model = IsolationForest(\n",
    "    n_estimators=1_000,\n",
    "    max_samples='auto',\n",
    "    contamination=float(0.005),\n",
    "    random_state=139,\n",
    "    n_jobs=-1\n",
    ")\n",
    "\n",
    "dataset_by_year = dataset_by_time_range(start_date='2023-01-01',\n",
    "                                        end_date='2023-12-31',\n",
    "                                        columns=['price', 'amount'])\n",
    "plot_figures(dataset_by_year, model, time_range='year')"
   ]
  },
  {
   "cell_type": "markdown",
   "id": "10453fa8-3039-4cae-81e9-015f8e903aa4",
   "metadata": {},
   "source": [
    "#### 1 month dataset"
   ]
  },
  {
   "cell_type": "code",
   "execution_count": null,
   "id": "496a5deb-224e-4b81-9176-53502c943038",
   "metadata": {},
   "outputs": [],
   "source": [
    "#initiate the model with 0.05% contamination\n",
    "\n",
    "model_month = IsolationForest(\n",
    "    n_estimators=1_000,\n",
    "    max_samples='auto',\n",
    "    contamination=float(0.0005),\n",
    "    random_state=139,\n",
    "    n_jobs=-1\n",
    ")"
   ]
  },
  {
   "cell_type": "code",
   "execution_count": null,
   "id": "b4c7f02e-d012-4d78-a684-7a1b641540f0",
   "metadata": {},
   "outputs": [],
   "source": [
    "dataset_by_month = dataset_by_time_range(start_date='2023-12-01',\n",
    "                                        end_date='2023-12-31',\n",
    "                                        columns=['price', 'amount'])\n",
    "plot_figures(dataset_by_month, model_month, time_range='month')"
   ]
  },
  {
   "cell_type": "markdown",
   "id": "702e9dac",
   "metadata": {},
   "source": [
    "#### 1 day dataset"
   ]
  },
  {
   "cell_type": "code",
   "execution_count": null,
   "id": "d67b3989",
   "metadata": {},
   "outputs": [],
   "source": [
    "#initiate the model with 0.1% contamination\n",
    "\n",
    "model_day = IsolationForest(\n",
    "    n_estimators=1_000,\n",
    "    max_samples='auto',\n",
    "    contamination=float(0.001),\n",
    "    random_state=139,\n",
    "    n_jobs=-1\n",
    ")"
   ]
  },
  {
   "cell_type": "code",
   "execution_count": null,
   "id": "7e439045-6275-4108-8eb4-4f39cc349d73",
   "metadata": {},
   "outputs": [],
   "source": [
    "dataset_by_day = dataset_by_time_range(start_date='2023-12-13',\n",
    "                                        end_date='2023-12-13',\n",
    "                                        columns=['price', 'amount'])\n",
    "plot_figures(dataset_by_day, model_day, time_range='day')"
   ]
  },
  {
   "cell_type": "markdown",
   "id": "cdebd0bd",
   "metadata": {},
   "source": [
    "#### 1 hour dataset"
   ]
  },
  {
   "cell_type": "code",
   "execution_count": null,
   "id": "afd14cbe",
   "metadata": {},
   "outputs": [],
   "source": [
    "#initiate the model with 1% contamination\n",
    "\n",
    "model_hour = IsolationForest(\n",
    "    n_estimators=1_000,\n",
    "    max_samples='auto',\n",
    "    contamination=float(0.1),\n",
    "    random_state=139,\n",
    "    n_jobs=-1\n",
    ")"
   ]
  },
  {
   "cell_type": "code",
   "execution_count": null,
   "id": "b6d1c592-4144-41f2-a6b8-1a1cbf85bcc9",
   "metadata": {},
   "outputs": [],
   "source": [
    "dataset_by_hour = dataset_by_time_range(start_date='2023-12-23 17:00:00',\n",
    "                                        end_date='2023-12-23 17:59:59',\n",
    "                                        columns=['price', 'amount'])\n",
    "plot_figures(dataset_by_hour, model_hour, time_range='hour')"
   ]
  }
 ],
 "metadata": {
  "kernelspec": {
   "display_name": "Python 3 (ipykernel)",
   "language": "python",
   "name": "python3"
  },
  "language_info": {
   "codemirror_mode": {
    "name": "ipython",
    "version": 3
   },
   "file_extension": ".py",
   "mimetype": "text/x-python",
   "name": "python",
   "nbconvert_exporter": "python",
   "pygments_lexer": "ipython3",
   "version": "3.12.1"
  }
 },
 "nbformat": 4,
 "nbformat_minor": 5
}
