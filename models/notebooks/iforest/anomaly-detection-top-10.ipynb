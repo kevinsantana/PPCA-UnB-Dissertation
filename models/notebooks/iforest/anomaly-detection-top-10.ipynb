{
 "cells": [
  {
   "cell_type": "markdown",
   "id": "b22e6feb",
   "metadata": {},
   "source": [
    "## Data Acquisition"
   ]
  },
  {
   "cell_type": "code",
   "execution_count": 1,
   "id": "31f98ff2",
   "metadata": {},
   "outputs": [],
   "source": [
    "from os import listdir\n",
    "from os.path import isfile, join\n",
    "\n",
    "import pandas as pd"
   ]
  },
  {
   "cell_type": "code",
   "execution_count": 2,
   "id": "8f9a7dd0",
   "metadata": {},
   "outputs": [],
   "source": [
    "def merge_dataset(data_files: str = \"../../../datasets\", symbol: str = \"btc\"):\n",
    "    files = [f for f in listdir(data_files) if isfile(join(data_files, f)) and f.startswith(symbol) and f.endswith('.parquet')]\n",
    "    return pd.concat(\n",
    "        pd.read_parquet(join(data_files, f), engine='fastparquet') for f in files\n",
    "    )"
   ]
  },
  {
   "cell_type": "code",
   "execution_count": 4,
   "id": "7201fde5",
   "metadata": {},
   "outputs": [],
   "source": [
    "def prepare_dataset(data_files: str = \"../../datasets\", symbol: str = \"btc\", datetime_index: bool = True):\n",
    "    df = merge_dataset(data_files=data_files, symbol=symbol)\n",
    "    \n",
    "    # timestamp to python datetime\n",
    "    if datetime_index:\n",
    "        df['date'] = pd.to_datetime(df['date'], unit='s')\n",
    "\n",
    "    df = df.set_index(['date'])\n",
    "    df.sort_index(inplace=True)\n",
    "\n",
    "    return df"
   ]
  },
  {
   "cell_type": "code",
   "execution_count": 5,
   "id": "12f438ad-f6b3-415d-aba4-a172b3adc0d9",
   "metadata": {},
   "outputs": [],
   "source": [
    "top_10_symbol = [\n",
    "        'BTC-BRL', 'ETH-BRL', 'USDT-BRL', 'SOL-BRL', 'XRP-BRL',\n",
    "        'USDC-BRL', 'DOGE-BRL', 'ADA-BRL', 'AVAX-BRL', 'SHIB-BRL'\n",
    "    ]"
   ]
  },
  {
   "cell_type": "code",
   "execution_count": 8,
   "id": "3b678628",
   "metadata": {},
   "outputs": [],
   "source": [
    "def create_dataset(pairs: list):\n",
    "    dataset = {}\n",
    "    pairs = pairs if pairs else top_10_symbol\n",
    "    print(pairs)\n",
    "    for pair in pairs:\n",
    "        pair = pair.replace('-BRL', '').lower()\n",
    "        dataset[pair] = prepare_dataset(symbol=pair)\n",
    "    return dataset"
   ]
  },
  {
   "cell_type": "code",
   "execution_count": 25,
   "id": "2f1697f2-ded2-4210-ad59-fe1f7af6765c",
   "metadata": {},
   "outputs": [],
   "source": [
    "def dataset_by_time_range(start_date='2023-01-01', end_date='2023-12-31', columns=['price', 'amount'], pairs: list = None):\n",
    "    dataset = create_dataset(pairs=pairs)\n",
    "    return {pair: dataset[pair].loc[f'{start_date}':f'{end_date}'][columns] for pair in dataset}"
   ]
  },
  {
   "cell_type": "code",
   "execution_count": 26,
   "id": "43798fe4",
   "metadata": {},
   "outputs": [
    {
     "name": "stdout",
     "output_type": "stream",
     "text": [
      "['BTC-BRL', 'ETH-BRL']\n"
     ]
    }
   ],
   "source": [
    "df = dataset_by_time_range(pairs=['BTC-BRL', 'ETH-BRL'])"
   ]
  },
  {
   "cell_type": "code",
   "execution_count": 27,
   "id": "a205bea7",
   "metadata": {},
   "outputs": [
    {
     "data": {
      "text/plain": [
       "{'btc':                              price    amount\n",
       " date                                        \n",
       " 2023-01-01 00:06:11   87967.500660  0.001286\n",
       " 2023-01-01 00:06:11   87999.990000  0.000020\n",
       " 2023-01-01 00:06:11   88000.000000  0.000020\n",
       " 2023-01-01 00:06:11   88000.000000  0.000020\n",
       " 2023-01-01 00:06:11   87999.990000  0.000020\n",
       " ...                            ...       ...\n",
       " 2023-12-31 23:52:07  208937.028757  0.000290\n",
       " 2023-12-31 23:53:00  208900.061061  0.000005\n",
       " 2023-12-31 23:54:40  208966.626665  0.000005\n",
       " 2023-12-31 23:57:07  209254.320000  0.000023\n",
       " 2023-12-31 23:59:16  209216.773414  0.000047\n",
       " \n",
       " [1282109 rows x 2 columns],\n",
       " 'eth':                             price    amount\n",
       " date                                       \n",
       " 2023-01-01 00:03:20   6361.442902  0.001012\n",
       " 2023-01-01 00:08:22   6380.840349  0.000784\n",
       " 2023-01-01 00:09:34   6380.726680  0.007836\n",
       " 2023-01-01 00:15:55   6379.786496  0.015675\n",
       " 2023-01-01 00:16:40   6360.000000  0.016000\n",
       " ...                           ...       ...\n",
       " 2023-12-31 23:50:28  11286.380000  0.000617\n",
       " 2023-12-31 23:51:59  11277.240412  0.356525\n",
       " 2023-12-31 23:55:12  11283.285457  0.001630\n",
       " 2023-12-31 23:58:29  11282.141727  0.059600\n",
       " 2023-12-31 23:58:29  11282.141727  0.296925\n",
       " \n",
       " [509511 rows x 2 columns]}"
      ]
     },
     "execution_count": 27,
     "metadata": {},
     "output_type": "execute_result"
    }
   ],
   "source": [
    "df"
   ]
  },
  {
   "cell_type": "markdown",
   "id": "e3566900",
   "metadata": {},
   "source": [
    "## Exploratory Data Analysis"
   ]
  },
  {
   "cell_type": "code",
   "execution_count": null,
   "id": "401452a7",
   "metadata": {},
   "outputs": [],
   "source": [
    "# TBD"
   ]
  },
  {
   "cell_type": "markdown",
   "id": "dfbdfb24",
   "metadata": {},
   "source": [
    "## Models"
   ]
  },
  {
   "cell_type": "markdown",
   "id": "0c0e4984",
   "metadata": {},
   "source": [
    "### Isolation Forest"
   ]
  },
  {
   "cell_type": "code",
   "execution_count": null,
   "id": "8482a09d",
   "metadata": {},
   "outputs": [],
   "source": [
    "import os\n",
    "\n",
    "import numpy as np\n",
    "from sklearn.ensemble import IsolationForest\n",
    "import matplotlib.pyplot as plt"
   ]
  },
  {
   "cell_type": "markdown",
   "id": "2efef208-4df6-4644-8577-19ac7ffc54d4",
   "metadata": {},
   "source": [
    "### Plotting Figures"
   ]
  },
  {
   "cell_type": "code",
   "execution_count": null,
   "id": "2a313338-912c-40f7-abce-0b3e053b7ea2",
   "metadata": {},
   "outputs": [],
   "source": [
    "def plot_outliers(model, df, pair, time_range, save_plot=True, save_df=True):\n",
    "    model.fit(df)\n",
    "    df['score'] = model.decision_function(df[['price', 'amount']])\n",
    "    df['anomaly_value'] = model.predict(df[['price', 'amount']])\n",
    "    # outliers\n",
    "    outliers = df.loc[df['anomaly_value'] == -1]\n",
    "    outliers_index = list(outliers.index)\n",
    "    \n",
    "    #datapoints classified as -1 are anomalous\n",
    "    print(f'Total Number of Non-Outliers and Outliers {pair}: ', df['anomaly_value'].value_counts())\n",
    "    fig = df['anomaly_value'].value_counts().plot(kind='bar',\n",
    "                                                       xlabel='1 Normal Point -1 Anomaly Point',\n",
    "                                                       ylabel='Total Transactions',\n",
    "                                                       title=f'Total Number of Non-Outliers and Outliers {pair}').get_figure()\n",
    "\n",
    "    if save_plot:\n",
    "        try:\n",
    "            os.makedirs(f'./iforest/figures/1{time_range}/{pair}')\n",
    "        except FileExistsError:\n",
    "            pass\n",
    "        \n",
    "        fig.savefig(f'./iforest/figures/1{time_range}/{pair}/{pair}-1{time_range}-outliers-count')\n",
    "\n",
    "    if save_df:\n",
    "        try:\n",
    "            os.makedirs(f'./iforest/datasets/1{time_range}/{pair}')\n",
    "        except FileExistsError:\n",
    "            pass\n",
    "        \n",
    "        df.to_csv(f'./iforest/datasets/1{time_range}/{pair}/df_{pair}_anomaly.csv', index=True)  \n",
    "\n",
    "    return outliers, outliers_index"
   ]
  },
  {
   "cell_type": "code",
   "execution_count": null,
   "id": "0140cef3-7593-459c-a04f-c19fdf1ac3b5",
   "metadata": {},
   "outputs": [],
   "source": [
    "def plot_detection(df, outliers, time_range, pair, save_fig=True):\n",
    "    plt.figure(figsize = (32, 16))\n",
    "    plt.plot(df[['price']], marker = '.')\n",
    "    plt.plot(outliers[['price']], 'o', color = 'red', label = 'outlier')\n",
    "    plt.title(f'Detection By Isolation Forest {pair}')\n",
    "    \n",
    "    #plt.grid()\n",
    "    plt.xlabel('Date')\n",
    "    plt.ylabel('Price')\n",
    "    plt.legend()\n",
    "\n",
    "    if save_fig:\n",
    "        try:\n",
    "            os.makedirs(f'./iforest/figures/1{time_range}/{pair}')\n",
    "        except FileExistsError:\n",
    "            pass\n",
    "    \n",
    "        plt.savefig(f'./iforest/figures/1{time_range}/{pair}/{pair}-1{time_range}-detection-by-price-and-date')"
   ]
  },
  {
   "cell_type": "code",
   "execution_count": null,
   "id": "1b306181-9f78-4b13-9e1b-300429a7267d",
   "metadata": {},
   "outputs": [],
   "source": [
    "def plot_figures(dataset, model, time_range):\n",
    "    for pair in dataset:\n",
    "        df_pair = dataset[pair]\n",
    "        outliers, outliers_idx = plot_outliers(model, df=df_pair, pair=pair, time_range=time_range)\n",
    "        plot_detection(df=df_pair, outliers=outliers, time_range=time_range, pair=pair)"
   ]
  },
  {
   "cell_type": "markdown",
   "id": "5be6151d",
   "metadata": {},
   "source": [
    "#### 1 year dataset"
   ]
  },
  {
   "cell_type": "code",
   "execution_count": null,
   "id": "7d90e4f6-e1d0-4511-a1be-803e27d92c12",
   "metadata": {},
   "outputs": [],
   "source": []
  },
  {
   "cell_type": "code",
   "execution_count": null,
   "id": "b938cce1-bc84-46fa-a61c-55050835999c",
   "metadata": {},
   "outputs": [],
   "source": [
    "#initiate the model with 0.05% contamination\n",
    "\n",
    "model = IsolationForest(\n",
    "    n_estimators=1_000,\n",
    "    max_samples='auto',\n",
    "    contamination=float(0.005),\n",
    "    random_state=139,\n",
    "    n_jobs=-1\n",
    ")\n",
    "\n",
    "dataset_by_year = dataset_by_time_range(start_date='2023-01-01',\n",
    "                                        end_date='2023-12-31',\n",
    "                                        columns=['price', 'amount'])\n",
    "dataset_by_year['usdt']\n",
    "plot_figures(dataset_by_year, model, time_range='year')"
   ]
  },
  {
   "cell_type": "code",
   "execution_count": null,
   "id": "7c286ad5-7d44-4366-be15-c4d44a38f20f",
   "metadata": {},
   "outputs": [],
   "source": [
    "dataset_by_year"
   ]
  },
  {
   "cell_type": "markdown",
   "id": "10453fa8-3039-4cae-81e9-015f8e903aa4",
   "metadata": {},
   "source": [
    "#### 1 month dataset"
   ]
  },
  {
   "cell_type": "code",
   "execution_count": null,
   "id": "496a5deb-224e-4b81-9176-53502c943038",
   "metadata": {},
   "outputs": [],
   "source": [
    "#initiate the model with 0.05% contamination\n",
    "\n",
    "model_month = IsolationForest(\n",
    "    n_estimators=1_000,\n",
    "    max_samples='auto',\n",
    "    contamination=float(0.0005),\n",
    "    random_state=139,\n",
    "    n_jobs=-1\n",
    ")"
   ]
  },
  {
   "cell_type": "code",
   "execution_count": null,
   "id": "b4c7f02e-d012-4d78-a684-7a1b641540f0",
   "metadata": {},
   "outputs": [],
   "source": [
    "dataset_by_month = dataset_by_time_range(start_date='2023-12-01',\n",
    "                                        end_date='2023-12-31',\n",
    "                                        columns=['price', 'amount'])\n",
    "plot_figures(dataset_by_month, model_month, time_range='month')"
   ]
  },
  {
   "cell_type": "markdown",
   "id": "702e9dac",
   "metadata": {},
   "source": [
    "#### 1 day dataset"
   ]
  },
  {
   "cell_type": "code",
   "execution_count": null,
   "id": "d67b3989",
   "metadata": {},
   "outputs": [],
   "source": [
    "#initiate the model with 0.1% contamination\n",
    "\n",
    "model_day = IsolationForest(\n",
    "    n_estimators=1_000,\n",
    "    max_samples='auto',\n",
    "    contamination=float(0.001),\n",
    "    random_state=139,\n",
    "    n_jobs=-1\n",
    ")"
   ]
  },
  {
   "cell_type": "code",
   "execution_count": null,
   "id": "7e439045-6275-4108-8eb4-4f39cc349d73",
   "metadata": {},
   "outputs": [],
   "source": [
    "dataset_by_day = dataset_by_time_range(start_date='2023-12-13',\n",
    "                                        end_date='2023-12-13',\n",
    "                                        columns=['price', 'amount'])\n",
    "plot_figures(dataset_by_day, model_day, time_range='day')"
   ]
  },
  {
   "cell_type": "markdown",
   "id": "cdebd0bd",
   "metadata": {},
   "source": [
    "#### 1 hour dataset"
   ]
  },
  {
   "cell_type": "code",
   "execution_count": null,
   "id": "afd14cbe",
   "metadata": {},
   "outputs": [],
   "source": [
    "#initiate the model with 1% contamination\n",
    "\n",
    "model_hour = IsolationForest(\n",
    "    n_estimators=1_000,\n",
    "    max_samples='auto',\n",
    "    contamination=float(0.1),\n",
    "    random_state=139,\n",
    "    n_jobs=-1\n",
    ")"
   ]
  },
  {
   "cell_type": "code",
   "execution_count": null,
   "id": "b6d1c592-4144-41f2-a6b8-1a1cbf85bcc9",
   "metadata": {},
   "outputs": [],
   "source": [
    "dataset_by_hour = dataset_by_time_range(start_date='2023-12-23 17:00:00',\n",
    "                                        end_date='2023-12-23 17:59:59',\n",
    "                                        columns=['price', 'amount'])\n",
    "plot_figures(dataset_by_hour, model_hour, time_range='hour')"
   ]
  }
 ],
 "metadata": {
  "kernelspec": {
   "display_name": "Python 3 (ipykernel)",
   "language": "python",
   "name": "python3"
  },
  "language_info": {
   "codemirror_mode": {
    "name": "ipython",
    "version": 3
   },
   "file_extension": ".py",
   "mimetype": "text/x-python",
   "name": "python",
   "nbconvert_exporter": "python",
   "pygments_lexer": "ipython3",
   "version": "3.12.1"
  }
 },
 "nbformat": 4,
 "nbformat_minor": 5
}
