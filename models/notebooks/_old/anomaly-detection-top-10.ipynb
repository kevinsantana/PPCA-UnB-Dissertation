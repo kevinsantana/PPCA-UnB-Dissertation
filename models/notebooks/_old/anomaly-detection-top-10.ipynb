{
 "cells": [
  {
   "cell_type": "markdown",
   "id": "b22e6feb",
   "metadata": {},
   "source": [
    "## Data Acquisition"
   ]
  },
  {
   "cell_type": "code",
   "execution_count": null,
   "id": "31f98ff2",
   "metadata": {},
   "outputs": [],
   "source": [
    "from os import listdir\n",
    "from os.path import isfile, join\n",
    "\n",
    "import pandas as pd"
   ]
  },
  {
   "cell_type": "code",
   "execution_count": null,
   "id": "8f9a7dd0",
   "metadata": {},
   "outputs": [],
   "source": [
    "def merge_dataset(data_files: str = \"../datasets\", symbol: str = \"btc\"):\n",
    "    files = [f for f in listdir(data_files) if isfile(join(data_files, f)) and f.startswith(symbol) and f.endswith('.parquet')]\n",
    "    return pd.concat(\n",
    "        pd.read_parquet(join(data_files, f), engine='fastparquet') for f in files\n",
    "    )"
   ]
  },
  {
   "cell_type": "code",
   "execution_count": null,
   "id": "7201fde5",
   "metadata": {},
   "outputs": [],
   "source": [
    "def prepare_dataset(data_files: str = \"../datasets\", symbol: str = \"btc\", datetime_index: bool = True):\n",
    "    df = merge_dataset(data_files=data_files, symbol=symbol)\n",
    "    \n",
    "    # timestamp to python datetime\n",
    "    if datetime_index:\n",
    "        df['date'] = pd.to_datetime(df['date'], unit='s')\n",
    "\n",
    "    df = df.set_index(['date'])\n",
    "    df.sort_index(inplace=True)\n",
    "\n",
    "    return df"
   ]
  },
  {
   "cell_type": "code",
   "execution_count": null,
   "id": "12f438ad-f6b3-415d-aba4-a172b3adc0d9",
   "metadata": {},
   "outputs": [],
   "source": [
    "top_10_symbol = [\n",
    "        'BTC-BRL', 'ETH-BRL', 'USDT-BRL', 'SOL-BRL', 'XRP-BRL',\n",
    "        'USDC-BRL', 'DOGE-BRL', 'ADA-BRL', 'AVAX-BRL', 'SHIB-BRL'\n",
    "    ]"
   ]
  },
  {
   "cell_type": "code",
   "execution_count": null,
   "id": "3b678628",
   "metadata": {},
   "outputs": [],
   "source": [
    "datasets = {}\n",
    "for pair in top_10_symbol:\n",
    "    pair = pair.replace('-BRL', '').lower()\n",
    "    datasets[pair] = prepare_dataset(symbol=pair)"
   ]
  },
  {
   "cell_type": "code",
   "execution_count": null,
   "id": "094842b1",
   "metadata": {},
   "outputs": [],
   "source": [
    "for k in datasets.keys():\n",
    "    print(datasets[k].head())"
   ]
  },
  {
   "cell_type": "code",
   "execution_count": null,
   "id": "ecc6872f",
   "metadata": {},
   "outputs": [],
   "source": [
    "for k in datasets.keys():\n",
    "    print(datasets[k].tail())"
   ]
  },
  {
   "cell_type": "code",
   "execution_count": null,
   "id": "64a3daeb",
   "metadata": {},
   "outputs": [],
   "source": [
    "for k in datasets.keys():\n",
    "    print(datasets[k].info())"
   ]
  },
  {
   "cell_type": "code",
   "execution_count": null,
   "id": "c5c9586a",
   "metadata": {},
   "outputs": [],
   "source": [
    "for k in datasets.keys():\n",
    "    print(datasets[k].describe())"
   ]
  },
  {
   "cell_type": "markdown",
   "id": "e3566900",
   "metadata": {},
   "source": [
    "## Exploratory Data Analysis"
   ]
  },
  {
   "cell_type": "code",
   "execution_count": null,
   "id": "401452a7",
   "metadata": {},
   "outputs": [],
   "source": [
    "# TBD"
   ]
  },
  {
   "cell_type": "markdown",
   "id": "dfbdfb24",
   "metadata": {},
   "source": [
    "## Models"
   ]
  },
  {
   "cell_type": "markdown",
   "id": "0c0e4984",
   "metadata": {},
   "source": [
    "### Isolation Forest"
   ]
  },
  {
   "cell_type": "code",
   "execution_count": null,
   "id": "8482a09d",
   "metadata": {},
   "outputs": [],
   "source": [
    "import numpy as np\n",
    "from sklearn.ensemble import IsolationForest\n",
    "import matplotlib.pyplot as plt"
   ]
  },
  {
   "cell_type": "code",
   "execution_count": null,
   "id": "1d8c7342",
   "metadata": {},
   "outputs": [],
   "source": [
    "#initiate the model with 5% contamination\n",
    "\n",
    "model_year = IsolationForest(\n",
    "    n_estimators=1_000,\n",
    "    max_samples='auto',\n",
    "    contamination=float(0.05),\n",
    "    random_state=139,\n",
    "    n_jobs=-1\n",
    ")"
   ]
  },
  {
   "cell_type": "markdown",
   "id": "5be6151d",
   "metadata": {},
   "source": [
    "#### 1 year dataset"
   ]
  },
  {
   "cell_type": "code",
   "execution_count": null,
   "id": "11e01a9d",
   "metadata": {},
   "outputs": [],
   "source": [
    "# 2023 pick was arbitrary, nothing special in it\n",
    "df_year = {k: datasets[k].loc['2023-01-01':'2023-12-31'][['price', 'amount']] for k in datasets}"
   ]
  },
  {
   "cell_type": "code",
   "execution_count": null,
   "id": "f841355c",
   "metadata": {},
   "outputs": [],
   "source": [
    "def plot_outliers(df_year, save_plot=True):\n",
    "    model_year.fit(df_year)\n",
    "    df_year['score'] = model_year.decision_function(df_year[['price', 'amount']])\n",
    "    df_year['anomaly_value'] = model_year.predict(df_year[['price', 'amount']])\n",
    "    # outliers\n",
    "    outliers_year = df_year.loc[df_year['anomaly_value'] == -1]\n",
    "    outlier_index = list(outliers_year.index)\n",
    "    \n",
    "    #datapoints classified -1 are anomalous\n",
    "    print(df_year['anomaly_value'].value_counts())\n",
    "    df_year['anomaly_value'].value_counts().plot(kind = 'bar')"
   ]
  },
  {
   "cell_type": "code",
   "execution_count": null,
   "id": "ffdf3fd3",
   "metadata": {},
   "outputs": [],
   "source": [
    "# outliers\n",
    "outliers_year = df_year.loc[df_year['anomaly_value'] == -1]\n",
    "outlier_index = list(outliers_year.index)\n",
    "\n",
    "#datapoints classified -1 are anomalous\n",
    "print(df_year['anomaly_value'].value_counts())\n",
    "df_year['anomaly_value'].value_counts().plot(kind = 'bar')"
   ]
  },
  {
   "cell_type": "code",
   "execution_count": null,
   "id": "476764b3",
   "metadata": {},
   "outputs": [],
   "source": [
    "outliers_year"
   ]
  },
  {
   "cell_type": "code",
   "execution_count": null,
   "id": "f3fefe1b",
   "metadata": {},
   "outputs": [],
   "source": [
    "plt.figure(figsize = (32, 16))\n",
    "\n",
    "plt.plot(df_year[['price']], marker = '.')\n",
    "plt.plot(outliers_year[['price']], 'o', color = 'red', label = 'outlier')\n",
    "plt.title('Detection By Isolation Forest')\n",
    "\n",
    "#plt.grid()\n",
    "plt.xlabel('Date')\n",
    "plt.ylabel('Price')\n",
    "plt.legend()"
   ]
  },
  {
   "cell_type": "code",
   "execution_count": null,
   "id": "20e8c2b2",
   "metadata": {},
   "outputs": [],
   "source": [
    "import plotly.express as px\n",
    "import plotly.graph_objects as go"
   ]
  },
  {
   "cell_type": "code",
   "execution_count": null,
   "id": "fe4ac0a1",
   "metadata": {},
   "outputs": [],
   "source": [
    "# fig = px.line(df_year_2023, x=df_year_2023.index, y=\"price\")\n",
    "# fig.add_trace(go.Scatter(mode=\"markers\", x=outliers.index, y=outliers[\"price\"], name=\"outliers\"))"
   ]
  },
  {
   "cell_type": "markdown",
   "id": "1cd71f94",
   "metadata": {},
   "source": [
    "#### 1 month dataset"
   ]
  },
  {
   "cell_type": "code",
   "execution_count": null,
   "id": "bdd0da45",
   "metadata": {},
   "outputs": [],
   "source": [
    "df_month = btc_trades_df.loc['2024-01-01':'2024-01-31'][['price', 'amount']]"
   ]
  },
  {
   "cell_type": "code",
   "execution_count": null,
   "id": "bd7036de",
   "metadata": {},
   "outputs": [],
   "source": [
    "#initiate the model with 5% contamination\n",
    "\n",
    "model_month = IsolationForest(\n",
    "    n_estimators=1_000,\n",
    "    max_samples='auto',\n",
    "    contamination=float(0.05),\n",
    "    random_state=139,\n",
    "    n_jobs=-1\n",
    ")"
   ]
  },
  {
   "cell_type": "code",
   "execution_count": null,
   "id": "3257ef44",
   "metadata": {},
   "outputs": [],
   "source": [
    "model_month.fit(df_month)\n",
    "df_month['score'] = model_month.decision_function(df_month[['price', 'amount']])\n",
    "df_month['anomaly_value'] = model_month.predict(df_month[['price', 'amount']])"
   ]
  },
  {
   "cell_type": "code",
   "execution_count": null,
   "id": "dd75085a",
   "metadata": {},
   "outputs": [],
   "source": [
    "# outliers\n",
    "outliers_month = df_month.loc[df_month['anomaly_value'] == -1]\n",
    "outlier_index_month = list(outliers_month.index)\n",
    "\n",
    "#datapoints classified -1 are anomalous\n",
    "print(df_month['anomaly_value'].value_counts())\n",
    "df_month['anomaly_value'].value_counts().plot(kind = 'bar')"
   ]
  },
  {
   "cell_type": "code",
   "execution_count": null,
   "id": "5b69abce",
   "metadata": {},
   "outputs": [],
   "source": [
    "outliers_month"
   ]
  },
  {
   "cell_type": "code",
   "execution_count": null,
   "id": "4da1c23a",
   "metadata": {},
   "outputs": [],
   "source": [
    "plt.figure(figsize = (32, 16))\n",
    "\n",
    "plt.plot(df_month[['price']], marker = '.')\n",
    "plt.plot(outliers_month[['price']], 'o', color = 'red', label = 'outlier')\n",
    "plt.title('Detection By Isolation Forest')\n",
    "\n",
    "#plt.grid()\n",
    "plt.xlabel('Date')\n",
    "plt.ylabel('Price')\n",
    "plt.legend()"
   ]
  },
  {
   "cell_type": "markdown",
   "id": "702e9dac",
   "metadata": {},
   "source": [
    "#### 1 day dataset"
   ]
  },
  {
   "cell_type": "code",
   "execution_count": null,
   "id": "d67b3989",
   "metadata": {},
   "outputs": [],
   "source": [
    "df_day = btc_trades_df.loc['2024-03-24':'2024-03-24'][['price', 'amount']]"
   ]
  },
  {
   "cell_type": "code",
   "execution_count": null,
   "id": "6832db70",
   "metadata": {},
   "outputs": [],
   "source": [
    "df_day"
   ]
  },
  {
   "cell_type": "code",
   "execution_count": null,
   "id": "9d043175",
   "metadata": {},
   "outputs": [],
   "source": [
    "#initiate the model with 5% contamination\n",
    "\n",
    "model_day = IsolationForest(\n",
    "    n_estimators=1_000,\n",
    "    max_samples='auto',\n",
    "    contamination=float(0.05),\n",
    "    random_state=139,\n",
    "    n_jobs=-1\n",
    ")"
   ]
  },
  {
   "cell_type": "code",
   "execution_count": null,
   "id": "d8839af9",
   "metadata": {},
   "outputs": [],
   "source": [
    "model_day.fit(df_day)\n",
    "df_day['score'] = model_day.decision_function(df_day[['price', 'amount']])\n",
    "df_day['anomaly_value'] = model_day.predict(df_day[['price', 'amount']])"
   ]
  },
  {
   "cell_type": "code",
   "execution_count": null,
   "id": "9ba973d1",
   "metadata": {},
   "outputs": [],
   "source": [
    "# outliers\n",
    "outliers_day = df_day.loc[df_day['anomaly_value'] == -1]\n",
    "outlier_index_day = list(outliers_day.index)\n",
    "\n",
    "#datapoints classified -1 are anomalous\n",
    "print(df_day['anomaly_value'].value_counts())\n",
    "df_day['anomaly_value'].value_counts().plot(kind = 'bar')"
   ]
  },
  {
   "cell_type": "code",
   "execution_count": null,
   "id": "11353d4d",
   "metadata": {},
   "outputs": [],
   "source": [
    "outliers_day"
   ]
  },
  {
   "cell_type": "code",
   "execution_count": null,
   "id": "d0b8b8ee",
   "metadata": {},
   "outputs": [],
   "source": [
    "plt.figure(figsize = (32, 16))\n",
    "\n",
    "plt.plot(df_day[['price']], marker = '.')\n",
    "plt.plot(outliers_day[['price']], 'o', color = 'red', label = 'outlier')\n",
    "plt.title('Detection By Isolation Forest')\n",
    "\n",
    "#plt.grid()\n",
    "plt.xlabel('Date')\n",
    "plt.ylabel('Price')\n",
    "plt.legend()"
   ]
  },
  {
   "cell_type": "markdown",
   "id": "cdebd0bd",
   "metadata": {},
   "source": [
    "#### 1 hour dataset"
   ]
  },
  {
   "cell_type": "code",
   "execution_count": null,
   "id": "afd14cbe",
   "metadata": {},
   "outputs": [],
   "source": [
    "df_hour = btc_trades_df.loc['2024-03-24 17:00:00':'2024-03-24 17:59:59'][['price', 'amount']]"
   ]
  },
  {
   "cell_type": "code",
   "execution_count": null,
   "id": "1b7914fe",
   "metadata": {},
   "outputs": [],
   "source": [
    "df_hour"
   ]
  },
  {
   "cell_type": "code",
   "execution_count": null,
   "id": "8a546b8a",
   "metadata": {},
   "outputs": [],
   "source": [
    "#initiate the model with 1% contamination\n",
    "\n",
    "model_hour = IsolationForest(\n",
    "    n_estimators=1_000,\n",
    "    max_samples='auto',\n",
    "    contamination=float(0.01),\n",
    "    random_state=139,\n",
    "    n_jobs=-1\n",
    ")"
   ]
  },
  {
   "cell_type": "code",
   "execution_count": null,
   "id": "a94b8124",
   "metadata": {},
   "outputs": [],
   "source": [
    "model_hour.fit(df_hour)\n",
    "df_hour['score'] = model_hour.decision_function(df_hour[['price', 'amount']])\n",
    "df_hour['anomaly_value'] = model_hour.predict(df_hour[['price', 'amount']])"
   ]
  },
  {
   "cell_type": "code",
   "execution_count": null,
   "id": "54d9e940",
   "metadata": {},
   "outputs": [],
   "source": [
    "# outliers\n",
    "outliers_hour = df_hour.loc[df_hour['anomaly_value'] == -1]\n",
    "outlier_index_h = list(outliers_hour.index)\n",
    "\n",
    "#datapoints classified -1 are anomalous\n",
    "print(df_hour['anomaly_value'].value_counts())\n",
    "df_hour['anomaly_value'].value_counts().plot(kind = 'bar')"
   ]
  },
  {
   "cell_type": "code",
   "execution_count": null,
   "id": "ff9183d7",
   "metadata": {},
   "outputs": [],
   "source": [
    "outliers_hour"
   ]
  },
  {
   "cell_type": "code",
   "execution_count": null,
   "id": "5449dcfc",
   "metadata": {},
   "outputs": [],
   "source": [
    "plt.figure(figsize = (16, 8))\n",
    "\n",
    "plt.plot(df_hour[['price']], marker = '.')\n",
    "plt.plot(outliers_hour[['price']], 'o', color = 'red', label = 'outlier')\n",
    "plt.title('Isolation Forest - Day')\n",
    "\n",
    "#plt.grid()\n",
    "plt.xlabel('Date')\n",
    "plt.ylabel('Price')\n",
    "plt.legend()"
   ]
  },
  {
   "cell_type": "code",
   "execution_count": null,
   "id": "86f3392c",
   "metadata": {},
   "outputs": [],
   "source": []
  }
 ],
 "metadata": {
  "kernelspec": {
   "display_name": "Python 3 (ipykernel)",
   "language": "python",
   "name": "python3"
  },
  "language_info": {
   "codemirror_mode": {
    "name": "ipython",
    "version": 3
   },
   "file_extension": ".py",
   "mimetype": "text/x-python",
   "name": "python",
   "nbconvert_exporter": "python",
   "pygments_lexer": "ipython3",
   "version": "3.12.1"
  }
 },
 "nbformat": 4,
 "nbformat_minor": 5
}
