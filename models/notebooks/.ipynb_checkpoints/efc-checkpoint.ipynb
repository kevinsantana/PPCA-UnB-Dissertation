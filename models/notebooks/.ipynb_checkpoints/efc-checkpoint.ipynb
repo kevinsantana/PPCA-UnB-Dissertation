{
 "cells": [
  {
   "cell_type": "markdown",
   "id": "6965e8ee-594f-44ee-a503-cf17d2a09382",
   "metadata": {},
   "source": [
    "## Energy-based Flow Classifier (EFC) - Pure Python"
   ]
  },
  {
   "cell_type": "markdown",
   "id": "1f2e3aa3-8e2b-46de-b565-2a18a249402f",
   "metadata": {},
   "source": [
    "### Applying EFC to Bitcoin blockchain in the presence of label scarcity"
   ]
  },
  {
   "cell_type": "code",
   "execution_count": 195,
   "id": "63e69a08-54cc-4cb2-b01c-3e82ee3ae212",
   "metadata": {},
   "outputs": [],
   "source": [
    "from math import ceil\n",
    "from pprint import pprint"
   ]
  },
  {
   "cell_type": "code",
   "execution_count": 196,
   "id": "793f8a2c-9222-4b91-8226-42a431ca3d95",
   "metadata": {},
   "outputs": [],
   "source": [
    "import numpy as np\n",
    "import pandas as pd\n",
    "from sklearn.metrics import confusion_matrix"
   ]
  },
  {
   "cell_type": "code",
   "execution_count": 197,
   "id": "8a8d29c0-7460-4137-9d3a-81a87a134682",
   "metadata": {},
   "outputs": [],
   "source": [
    "from efc_python.classification_functions import (\n",
    "    one_class_fit,\n",
    "    one_class_predict,\n",
    ")\n",
    "from efc_python.generic_discretize import discretize, get_intervals"
   ]
  },
  {
   "cell_type": "code",
   "execution_count": 198,
   "id": "5f3bb5be-4de7-41ba-9402-b0e5ce50bf49",
   "metadata": {},
   "outputs": [],
   "source": [
    "from research_aml_elliptic.src.reaml.model_performance import calculate_model_score"
   ]
  },
  {
   "cell_type": "code",
   "execution_count": 199,
   "id": "5a939913-b46e-41af-bb52-1d42c6fcf517",
   "metadata": {},
   "outputs": [],
   "source": [
    "from research_aml_elliptic.src.experiments.general_functions.elliptic_data_preprocessing import run_elliptic_preprocessing_pipeline"
   ]
  },
  {
   "cell_type": "code",
   "execution_count": 200,
   "id": "6187e37b-e275-4ea6-8bf4-81bbd89d4219",
   "metadata": {},
   "outputs": [],
   "source": [
    "from sklearn.metrics import (\n",
    "    f1_score,\n",
    "    accuracy_score,\n",
    "    precision_score,\n",
    "    recall_score,\n",
    "    roc_auc_score,\n",
    ")"
   ]
  },
  {
   "cell_type": "code",
   "execution_count": 120,
   "id": "d99c4474-f785-48c9-b246-77b8cf263e6b",
   "metadata": {},
   "outputs": [],
   "source": [
    "# Import Elliptic data set and set variables\n",
    "last_time_step = 49\n",
    "last_train_time_step = 34\n",
    "only_labeled = True"
   ]
  },
  {
   "cell_type": "code",
   "execution_count": 121,
   "id": "62065898-5ed5-4ce4-a5a1-2dc9ba2745b0",
   "metadata": {},
   "outputs": [
    {
     "name": "stderr",
     "output_type": "stream",
     "text": [
      "/Users/kevinaraujo/repos/dissertation/PPCA-UnB-Dissertation/models/notebooks/research_aml_elliptic/src/experiments/general_functions/elliptic_data_preprocessing.py:46: FutureWarning: Downcasting behavior in `replace` is deprecated and will be removed in a future version. To retain the old behavior, explicitly call `result.infer_objects(copy=False)`. To opt-in to the future behavior, set `pd.set_option('future.no_silent_downcasting', True)`\n",
      "  df_classes.replace({\"class\": {\"1\": 1, \"2\": 0, \"unknown\": 2}}, inplace=True)\n"
     ]
    }
   ],
   "source": [
    "# '1': 1, -> class1 (illicit)\n",
    "# '2': 0, -> class2 (licit)\n",
    "# 'unknown': 2 -> dropped\n",
    "X_train, X_test, y_train, y_test = run_elliptic_preprocessing_pipeline(last_train_time_step=last_train_time_step,\n",
    "                                                                             last_time_step=last_time_step,\n",
    "                                                                             only_labeled=only_labeled)"
   ]
  },
  {
   "cell_type": "code",
   "execution_count": 122,
   "id": "94c98cf4-74aa-4f0f-b436-9adfe958d593",
   "metadata": {},
   "outputs": [],
   "source": [
    "intervals = get_intervals(X_train, 10)  # get discretization intervals from train set"
   ]
  },
  {
   "cell_type": "code",
   "execution_count": 123,
   "id": "f76512ad-d1f4-4f52-9f57-9ca8066572ab",
   "metadata": {},
   "outputs": [
    {
     "name": "stderr",
     "output_type": "stream",
     "text": [
      "/Users/kevinaraujo/repos/dissertation/PPCA-UnB-Dissertation/models/notebooks/efc_python/generic_discretize.py:42: FutureWarning: A value is trying to be set on a copy of a DataFrame or Series through chained assignment using an inplace method.\n",
      "The behavior will change in pandas 3.0. This inplace method will never work because the intermediate object on which we are setting values always behaves as a copy.\n",
      "\n",
      "For example, when doing 'df[col].method(value, inplace=True)', try using 'df.method({col: value}, inplace=True)' or df[col] = df[col].method(value) instead, to perform the operation inplace on the original object.\n",
      "\n",
      "\n",
      "  data.iloc[:, feature].fillna(len(intervals[feature]), inplace=True)\n",
      "/Users/kevinaraujo/repos/dissertation/PPCA-UnB-Dissertation/models/notebooks/efc_python/generic_discretize.py:35: FutureWarning: Setting an item of incompatible dtype is deprecated and will raise in a future error of pandas. Value '29894   NaN\n",
      "29895   NaN\n",
      "29896   NaN\n",
      "29897   NaN\n",
      "29898   NaN\n",
      "         ..\n",
      "46559   NaN\n",
      "46560   NaN\n",
      "46561   NaN\n",
      "46562   NaN\n",
      "46563   NaN\n",
      "Name: time_step, Length: 16670, dtype: float64' has dtype incompatible with int64, please explicitly cast to a compatible dtype first.\n",
      "  data.iloc[:, feature] = pd.cut(\n",
      "/Users/kevinaraujo/repos/dissertation/PPCA-UnB-Dissertation/models/notebooks/efc_python/generic_discretize.py:42: FutureWarning: A value is trying to be set on a copy of a DataFrame or Series through chained assignment using an inplace method.\n",
      "The behavior will change in pandas 3.0. This inplace method will never work because the intermediate object on which we are setting values always behaves as a copy.\n",
      "\n",
      "For example, when doing 'df[col].method(value, inplace=True)', try using 'df.method({col: value}, inplace=True)' or df[col] = df[col].method(value) instead, to perform the operation inplace on the original object.\n",
      "\n",
      "\n",
      "  data.iloc[:, feature].fillna(len(intervals[feature]), inplace=True)\n"
     ]
    }
   ],
   "source": [
    "X_train = discretize(X_train, intervals)  # discretize train\n",
    "X_test = discretize(X_test, intervals)  # discretize test"
   ]
  },
  {
   "cell_type": "code",
   "execution_count": 124,
   "id": "5d5b0464-d690-49b9-b690-7ea39985d386",
   "metadata": {},
   "outputs": [],
   "source": [
    "idx_abnormal = np.where(y_train == 1)[0]  # find abnormal samples indexes in the training set"
   ]
  },
  {
   "cell_type": "code",
   "execution_count": 125,
   "id": "ec1ce226-aa06-4123-a94a-ab140009a086",
   "metadata": {},
   "outputs": [],
   "source": [
    "X_train.drop(idx_abnormal, axis=0, inplace=True)  # remove abnormal samples from training (EFC trains with only benign instances)"
   ]
  },
  {
   "cell_type": "code",
   "execution_count": 126,
   "id": "bc28fc72-c485-4121-a5f5-a3905ce66c95",
   "metadata": {},
   "outputs": [],
   "source": [
    "y_train.drop(idx_abnormal, axis=0, inplace=True)  # remove the corresponding abonrmal training targets"
   ]
  },
  {
   "cell_type": "code",
   "execution_count": 127,
   "id": "a56c1a80-b7fb-49f4-8a6b-8ea1efcc36fb",
   "metadata": {},
   "outputs": [],
   "source": [
    "# EFC's hyperparameters\n",
    "Q = X_test.values.max()\n",
    "LAMBDA = 0.5  # pseudocount parameter"
   ]
  },
  {
   "cell_type": "code",
   "execution_count": 128,
   "id": "6afb9355-21d3-434c-90a1-95f4501e4762",
   "metadata": {},
   "outputs": [
    {
     "name": "stderr",
     "output_type": "stream",
     "text": [
      "100%|████████████████████████████████████████████████████████████████████████████████████████████| 166/166 [00:00<00:00, 6015.31it/s]\n",
      "100%|██████████████████████████████████████████████████████████████████████████████████████████████| 166/166 [00:44<00:00,  3.77it/s]\n",
      "100%|██████████████████████████████████████████████████████████████████████████████████████████████| 166/166 [00:01<00:00, 94.63it/s]\n",
      "100%|██████████████████████████████████████████████████████████████████████████████████████████████| 166/166 [00:01<00:00, 84.41it/s]\n"
     ]
    }
   ],
   "source": [
    "coupling, h_i, cutoff, _, _ = one_class_fit(np.array(X_train), Q, LAMBDA)  # train model"
   ]
  },
  {
   "cell_type": "code",
   "execution_count": 129,
   "id": "ce39934e-b74b-4e0d-8e2a-1a03c9b5a2e0",
   "metadata": {},
   "outputs": [],
   "source": [
    "y_predicted, energies = one_class_predict(np.array(X_test), coupling, h_i, cutoff, Q)  # test model"
   ]
  },
  {
   "cell_type": "code",
   "execution_count": 130,
   "id": "7f5ef27d-a962-4389-b41b-3f41c06a6ecd",
   "metadata": {},
   "outputs": [
    {
     "name": "stdout",
     "output_type": "stream",
     "text": [
      "Single-class results\n",
      "confusion_matrix [[10278  5309]\n",
      " [  857   226]]\n"
     ]
    }
   ],
   "source": [
    "# colect results\n",
    "confusion_matrix = confusion_matrix(y_test, y_predicted)\n",
    "print(\"Single-class results\")\n",
    "print('confusion_matrix', confusion_matrix)"
   ]
  },
  {
   "cell_type": "code",
   "execution_count": 131,
   "id": "5fc6903b-0b95-4902-9783-3be273498bd5",
   "metadata": {},
   "outputs": [],
   "source": [
    "model_score = calculate_model_score(y_true=y_test.values, y_pred=y_predicted, metric=\"f1\")"
   ]
  },
  {
   "cell_type": "code",
   "execution_count": 132,
   "id": "2f4896db-87d6-4e5e-acc2-edf0e4439886",
   "metadata": {},
   "outputs": [
    {
     "data": {
      "text/plain": [
       "np.float64(0.06829857963130856)"
      ]
     },
     "execution_count": 132,
     "metadata": {},
     "output_type": "execute_result"
    }
   ],
   "source": [
    "model_score"
   ]
  },
  {
   "cell_type": "code",
   "execution_count": 133,
   "id": "16765f63-cadf-4a93-879e-5db7a394dafc",
   "metadata": {},
   "outputs": [],
   "source": [
    "y_true = y_test.values\n",
    "y_pred = y_predicted"
   ]
  },
  {
   "cell_type": "code",
   "execution_count": 166,
   "id": "df62b58b-8b3f-458b-add1-ccef92692c0a",
   "metadata": {},
   "outputs": [],
   "source": [
    "metric_dict = {\n",
    "        \"contamination\": \"100%\",\n",
    "        \"accuracy\": accuracy_score(y_true, y_pred),\n",
    "        \"f1\": f1_score(y_true, y_pred, pos_label=1),\n",
    "        \"f1_micro\": f1_score(y_true, y_pred, average=\"micro\"),\n",
    "        \"f1_macro\": f1_score(y_true, y_pred, average=\"macro\"),\n",
    "        \"precision\": precision_score(y_true, y_pred),\n",
    "        \"recall\": recall_score(y_true, y_pred),\n",
    "        \"roc_auc\": roc_auc_score(y_true, y_pred),\n",
    "        \"model_score\": model_score,\n",
    "    }"
   ]
  },
  {
   "cell_type": "code",
   "execution_count": 167,
   "id": "df1234c0-2fa9-4b80-9164-8012ad693ab0",
   "metadata": {},
   "outputs": [
    {
     "name": "stdout",
     "output_type": "stream",
     "text": [
      "{'accuracy': 0.6301139772045591,\n",
      " 'contamination': '100%',\n",
      " 'f1': np.float64(0.06829857963130856),\n",
      " 'f1_macro': np.float64(0.4187761889998471),\n",
      " 'f1_micro': np.float64(0.6301139772045591),\n",
      " 'model_score': np.float64(0.06829857963130856),\n",
      " 'precision': np.float64(0.04083107497741644),\n",
      " 'recall': np.float64(0.20867959372114497),\n",
      " 'roc_auc': np.float64(0.4340376219712416)}\n"
     ]
    }
   ],
   "source": [
    "pprint(metric_dict)"
   ]
  },
  {
   "cell_type": "code",
   "execution_count": 168,
   "id": "d136aba7-66d8-48a0-a6b8-972d8458df57",
   "metadata": {},
   "outputs": [],
   "source": [
    "columns_metrics = [\"contamination\", \"accuracy\", \"f1\", \"f1_micro\", \"f1_macro\", \"precision\", \"recall\", \"roc_auc\", \"model_score\"]"
   ]
  },
  {
   "cell_type": "code",
   "execution_count": 169,
   "id": "6031f109-ba8a-46bf-a90b-6f941e0232bd",
   "metadata": {},
   "outputs": [],
   "source": [
    "df_efc_metrics = pd.DataFrame(data=metric_dict, columns=columns_metrics, index=[0])"
   ]
  },
  {
   "cell_type": "code",
   "execution_count": 170,
   "id": "7a822c51-77e0-4c84-8baa-65726c59e2f9",
   "metadata": {},
   "outputs": [
    {
     "data": {
      "text/html": [
       "<div>\n",
       "<style scoped>\n",
       "    .dataframe tbody tr th:only-of-type {\n",
       "        vertical-align: middle;\n",
       "    }\n",
       "\n",
       "    .dataframe tbody tr th {\n",
       "        vertical-align: top;\n",
       "    }\n",
       "\n",
       "    .dataframe thead th {\n",
       "        text-align: right;\n",
       "    }\n",
       "</style>\n",
       "<table border=\"1\" class=\"dataframe\">\n",
       "  <thead>\n",
       "    <tr style=\"text-align: right;\">\n",
       "      <th></th>\n",
       "      <th>contamination</th>\n",
       "      <th>accuracy</th>\n",
       "      <th>f1</th>\n",
       "      <th>f1_micro</th>\n",
       "      <th>f1_macro</th>\n",
       "      <th>precision</th>\n",
       "      <th>recall</th>\n",
       "      <th>roc_auc</th>\n",
       "      <th>model_score</th>\n",
       "    </tr>\n",
       "  </thead>\n",
       "  <tbody>\n",
       "    <tr>\n",
       "      <th>0</th>\n",
       "      <td>100%</td>\n",
       "      <td>0.630114</td>\n",
       "      <td>0.068299</td>\n",
       "      <td>0.630114</td>\n",
       "      <td>0.418776</td>\n",
       "      <td>0.040831</td>\n",
       "      <td>0.20868</td>\n",
       "      <td>0.434038</td>\n",
       "      <td>0.068299</td>\n",
       "    </tr>\n",
       "  </tbody>\n",
       "</table>\n",
       "</div>"
      ],
      "text/plain": [
       "  contamination  accuracy        f1  f1_micro  f1_macro  precision   recall  \\\n",
       "0          100%  0.630114  0.068299  0.630114  0.418776   0.040831  0.20868   \n",
       "\n",
       "    roc_auc  model_score  \n",
       "0  0.434038     0.068299  "
      ]
     },
     "execution_count": 170,
     "metadata": {},
     "output_type": "execute_result"
    }
   ],
   "source": [
    "df_efc_metrics"
   ]
  },
  {
   "cell_type": "code",
   "execution_count": 180,
   "id": "686931fc-3f2a-4574-a0f5-c180594142f3",
   "metadata": {},
   "outputs": [],
   "source": [
    "columns = [\"contamination\", \"True Negative\", \"False positive\", \"False Negative\", \"True Positive\"]"
   ]
  },
  {
   "cell_type": "code",
   "execution_count": 181,
   "id": "626a59ca-7775-4265-8cb7-8a2c3a9924a5",
   "metadata": {},
   "outputs": [],
   "source": [
    "confusion_matrix = {\n",
    "            \"contamination\": \"100%\",\n",
    "            \"True Negative\": 10278,\n",
    "            \"False positive\": 5309,\n",
    "            \"False Negative\": 857,\n",
    "            \"True Positive\": 226\n",
    "},"
   ]
  },
  {
   "cell_type": "code",
   "execution_count": 182,
   "id": "70332f02-95f7-42a4-9f85-b9487020b10b",
   "metadata": {},
   "outputs": [],
   "source": [
    "df_efc_confusion_matrix = pd.DataFrame(data=confusion_matrix, columns=columns)"
   ]
  },
  {
   "cell_type": "code",
   "execution_count": 183,
   "id": "be199980-aeb4-4070-8283-c2568903da74",
   "metadata": {},
   "outputs": [
    {
     "data": {
      "text/html": [
       "<div>\n",
       "<style scoped>\n",
       "    .dataframe tbody tr th:only-of-type {\n",
       "        vertical-align: middle;\n",
       "    }\n",
       "\n",
       "    .dataframe tbody tr th {\n",
       "        vertical-align: top;\n",
       "    }\n",
       "\n",
       "    .dataframe thead th {\n",
       "        text-align: right;\n",
       "    }\n",
       "</style>\n",
       "<table border=\"1\" class=\"dataframe\">\n",
       "  <thead>\n",
       "    <tr style=\"text-align: right;\">\n",
       "      <th></th>\n",
       "      <th>contamination</th>\n",
       "      <th>True Negative</th>\n",
       "      <th>False positive</th>\n",
       "      <th>False Negative</th>\n",
       "      <th>True Positive</th>\n",
       "    </tr>\n",
       "  </thead>\n",
       "  <tbody>\n",
       "    <tr>\n",
       "      <th>0</th>\n",
       "      <td>100%</td>\n",
       "      <td>10278</td>\n",
       "      <td>5309</td>\n",
       "      <td>857</td>\n",
       "      <td>226</td>\n",
       "    </tr>\n",
       "  </tbody>\n",
       "</table>\n",
       "</div>"
      ],
      "text/plain": [
       "  contamination  True Negative  False positive  False Negative  True Positive\n",
       "0          100%          10278            5309             857            226"
      ]
     },
     "execution_count": 183,
     "metadata": {},
     "output_type": "execute_result"
    }
   ],
   "source": [
    "df_efc_confusion_matrix"
   ]
  },
  {
   "cell_type": "markdown",
   "id": "c4324d10-3f77-4d65-9884-2793b62f936e",
   "metadata": {},
   "source": [
    "### Train EFC With 5% Labeled Elliptic Data Set"
   ]
  },
  {
   "cell_type": "code",
   "execution_count": 184,
   "id": "cdbddc03-5266-42ea-ac6d-4ee95ac1042c",
   "metadata": {},
   "outputs": [
    {
     "name": "stderr",
     "output_type": "stream",
     "text": [
      "/Users/kevinaraujo/repos/dissertation/PPCA-UnB-Dissertation/models/notebooks/research_aml_elliptic/src/experiments/general_functions/elliptic_data_preprocessing.py:46: FutureWarning: Downcasting behavior in `replace` is deprecated and will be removed in a future version. To retain the old behavior, explicitly call `result.infer_objects(copy=False)`. To opt-in to the future behavior, set `pd.set_option('future.no_silent_downcasting', True)`\n",
      "  df_classes.replace({\"class\": {\"1\": 1, \"2\": 0, \"unknown\": 2}}, inplace=True)\n"
     ]
    }
   ],
   "source": [
    "# elliptic data set from reaml repo\n",
    "X_train_5, X_test_5, y_train_5, y_test_5 = run_elliptic_preprocessing_pipeline(last_train_time_step=last_train_time_step,\n",
    "                                                                             last_time_step=last_time_step,\n",
    "                                                                             only_labeled=only_labeled)"
   ]
  },
  {
   "cell_type": "code",
   "execution_count": 185,
   "id": "e4a83142-799f-4647-9a5b-393baf5c56c9",
   "metadata": {},
   "outputs": [
    {
     "name": "stderr",
     "output_type": "stream",
     "text": [
      "/Users/kevinaraujo/repos/dissertation/PPCA-UnB-Dissertation/models/notebooks/efc_python/generic_discretize.py:42: FutureWarning: A value is trying to be set on a copy of a DataFrame or Series through chained assignment using an inplace method.\n",
      "The behavior will change in pandas 3.0. This inplace method will never work because the intermediate object on which we are setting values always behaves as a copy.\n",
      "\n",
      "For example, when doing 'df[col].method(value, inplace=True)', try using 'df.method({col: value}, inplace=True)' or df[col] = df[col].method(value) instead, to perform the operation inplace on the original object.\n",
      "\n",
      "\n",
      "  data.iloc[:, feature].fillna(len(intervals[feature]), inplace=True)\n",
      "/Users/kevinaraujo/repos/dissertation/PPCA-UnB-Dissertation/models/notebooks/efc_python/generic_discretize.py:35: FutureWarning: Setting an item of incompatible dtype is deprecated and will raise in a future error of pandas. Value '29894   NaN\n",
      "29895   NaN\n",
      "29896   NaN\n",
      "29897   NaN\n",
      "29898   NaN\n",
      "         ..\n",
      "46559   NaN\n",
      "46560   NaN\n",
      "46561   NaN\n",
      "46562   NaN\n",
      "46563   NaN\n",
      "Name: time_step, Length: 16670, dtype: float64' has dtype incompatible with int64, please explicitly cast to a compatible dtype first.\n",
      "  data.iloc[:, feature] = pd.cut(\n",
      "/Users/kevinaraujo/repos/dissertation/PPCA-UnB-Dissertation/models/notebooks/efc_python/generic_discretize.py:42: FutureWarning: A value is trying to be set on a copy of a DataFrame or Series through chained assignment using an inplace method.\n",
      "The behavior will change in pandas 3.0. This inplace method will never work because the intermediate object on which we are setting values always behaves as a copy.\n",
      "\n",
      "For example, when doing 'df[col].method(value, inplace=True)', try using 'df.method({col: value}, inplace=True)' or df[col] = df[col].method(value) instead, to perform the operation inplace on the original object.\n",
      "\n",
      "\n",
      "  data.iloc[:, feature].fillna(len(intervals[feature]), inplace=True)\n"
     ]
    }
   ],
   "source": [
    "# efc preps\n",
    "intervals = get_intervals(X_train_5, 10)  # get discretization intervals from train set\n",
    "X_train_5 = discretize(X_train_5, intervals)  # discretize train\n",
    "X_test_5 = discretize(X_test_5, intervals)  # discretize test"
   ]
  },
  {
   "cell_type": "code",
   "execution_count": 186,
   "id": "347e729b-e63d-4c15-91d7-8c36e54cdfb2",
   "metadata": {},
   "outputs": [],
   "source": [
    "indices_illicit = np.where(y_train_5 == 1)[0]"
   ]
  },
  {
   "cell_type": "code",
   "execution_count": 187,
   "id": "aa0ef24b-bd33-4576-93d8-b0bccf315d03",
   "metadata": {},
   "outputs": [],
   "source": [
    "drop_indices_illicit = np.random.choice(indices_illicit, size=ceil(len(indices_illicit) * 0.95))"
   ]
  },
  {
   "cell_type": "code",
   "execution_count": 188,
   "id": "53571cc1-b628-4bb0-822b-d1d86e18d1fd",
   "metadata": {},
   "outputs": [],
   "source": [
    "# retrieve idxs abnormals and choose 95% of them\n",
    "# abnormals == class1 (illicit)\n",
    "# drop random labeled indices\n",
    "X_train_5.drop(drop_indices_illicit, axis=0, inplace=True)  # remove abnormal samples from training (EFC trains with only benign instances)\n",
    "y_train_5.drop(drop_indices_illicit, axis=0, inplace=True)  # remove the corresponding abonrmal training targets"
   ]
  },
  {
   "cell_type": "code",
   "execution_count": 189,
   "id": "25596466-bc69-4229-b64c-595976b46254",
   "metadata": {},
   "outputs": [],
   "source": [
    "# EFC's hyperparameters\n",
    "Q = np.int64(X_test.values.max())\n",
    "LAMBDA = 0.5  # pseudocount parameter"
   ]
  },
  {
   "cell_type": "code",
   "execution_count": 190,
   "id": "37cff614-eb48-4435-833e-fd8d952aea26",
   "metadata": {},
   "outputs": [
    {
     "name": "stderr",
     "output_type": "stream",
     "text": [
      "100%|████████████████████████████████████████████████████████████████████████████████████████████| 166/166 [00:00<00:00, 5428.21it/s]\n",
      "100%|██████████████████████████████████████████████████████████████████████████████████████████████| 166/166 [00:45<00:00,  3.67it/s]\n",
      "100%|██████████████████████████████████████████████████████████████████████████████████████████████| 166/166 [00:01<00:00, 94.53it/s]\n",
      "100%|██████████████████████████████████████████████████████████████████████████████████████████████| 166/166 [00:01<00:00, 87.88it/s]\n"
     ]
    }
   ],
   "source": [
    "coupling, h_i, cutoff, _, _ = one_class_fit(np.array(X_train_5), Q, LAMBDA)  # train model"
   ]
  },
  {
   "cell_type": "code",
   "execution_count": 192,
   "id": "c948ddec-375c-4f9c-9aa5-2cae014446c7",
   "metadata": {},
   "outputs": [],
   "source": [
    "y_predicted_5, energies = one_class_predict(np.array(X_test_5), coupling, h_i, cutoff, Q)  # test model"
   ]
  },
  {
   "cell_type": "code",
   "execution_count": 201,
   "id": "604a6814-07fe-483c-885c-19495494aebf",
   "metadata": {},
   "outputs": [
    {
     "name": "stdout",
     "output_type": "stream",
     "text": [
      "Single-class results\n",
      "confusion_matrix [[10273  5314]\n",
      " [  891   192]]\n"
     ]
    }
   ],
   "source": [
    "# colect results\n",
    "confusion_matrix_5 = confusion_matrix(y_test_5, y_predicted_5)\n",
    "print(\"Single-class results\")\n",
    "print('confusion_matrix', confusion_matrix_5)"
   ]
  },
  {
   "cell_type": "code",
   "execution_count": 202,
   "id": "2b3e570a-cb95-47e0-80c0-fb3a3004247c",
   "metadata": {},
   "outputs": [],
   "source": [
    "model_score_5 = calculate_model_score(y_true=y_test.values, y_pred=y_predicted, metric=\"f1\")"
   ]
  },
  {
   "cell_type": "code",
   "execution_count": 203,
   "id": "a689aa84-5d2d-48b5-9054-2bd758fbde25",
   "metadata": {},
   "outputs": [],
   "source": [
    "y_true_5 = y_test_5.values\n",
    "y_pred_5 = y_predicted_5"
   ]
  },
  {
   "cell_type": "code",
   "execution_count": 204,
   "id": "ac0206b2-774b-44cf-8273-98bf25039c7d",
   "metadata": {},
   "outputs": [],
   "source": [
    "metric_dict_5 = {\n",
    "        \"contamination\": \"5%\",\n",
    "        \"accuracy\": accuracy_score(y_true, y_pred),\n",
    "        \"f1\": f1_score(y_true, y_pred, pos_label=1),\n",
    "        \"f1_micro\": f1_score(y_true, y_pred, average=\"micro\"),\n",
    "        \"f1_macro\": f1_score(y_true, y_pred, average=\"macro\"),\n",
    "        \"precision\": precision_score(y_true, y_pred),\n",
    "        \"recall\": recall_score(y_true, y_pred),\n",
    "        \"roc_auc\": roc_auc_score(y_true, y_pred),\n",
    "        \"model_score\": model_score_5,\n",
    "    }"
   ]
  },
  {
   "cell_type": "code",
   "execution_count": 205,
   "id": "6b60daa0-4605-4c4e-9242-9326fbb91f51",
   "metadata": {},
   "outputs": [
    {
     "name": "stdout",
     "output_type": "stream",
     "text": [
      "{'accuracy': 0.6301139772045591,\n",
      " 'contamination': '5%',\n",
      " 'f1': np.float64(0.06829857963130856),\n",
      " 'f1_macro': np.float64(0.4187761889998471),\n",
      " 'f1_micro': np.float64(0.6301139772045591),\n",
      " 'model_score': np.float64(0.06829857963130856),\n",
      " 'precision': np.float64(0.04083107497741644),\n",
      " 'recall': np.float64(0.20867959372114497),\n",
      " 'roc_auc': np.float64(0.4340376219712416)}\n"
     ]
    }
   ],
   "source": [
    "pprint(metric_dict_5)"
   ]
  },
  {
   "cell_type": "code",
   "execution_count": 208,
   "id": "8f7ddff0-9f2c-412e-8518-e847d1d1860b",
   "metadata": {},
   "outputs": [],
   "source": [
    "df_efc_metrics.loc[1] = metric_dict_5"
   ]
  },
  {
   "cell_type": "code",
   "execution_count": 209,
   "id": "497c4d31-e20f-486e-839e-7b60a87b099d",
   "metadata": {},
   "outputs": [
    {
     "data": {
      "text/html": [
       "<div>\n",
       "<style scoped>\n",
       "    .dataframe tbody tr th:only-of-type {\n",
       "        vertical-align: middle;\n",
       "    }\n",
       "\n",
       "    .dataframe tbody tr th {\n",
       "        vertical-align: top;\n",
       "    }\n",
       "\n",
       "    .dataframe thead th {\n",
       "        text-align: right;\n",
       "    }\n",
       "</style>\n",
       "<table border=\"1\" class=\"dataframe\">\n",
       "  <thead>\n",
       "    <tr style=\"text-align: right;\">\n",
       "      <th></th>\n",
       "      <th>contamination</th>\n",
       "      <th>accuracy</th>\n",
       "      <th>f1</th>\n",
       "      <th>f1_micro</th>\n",
       "      <th>f1_macro</th>\n",
       "      <th>precision</th>\n",
       "      <th>recall</th>\n",
       "      <th>roc_auc</th>\n",
       "      <th>model_score</th>\n",
       "    </tr>\n",
       "  </thead>\n",
       "  <tbody>\n",
       "    <tr>\n",
       "      <th>0</th>\n",
       "      <td>100%</td>\n",
       "      <td>0.630114</td>\n",
       "      <td>0.068299</td>\n",
       "      <td>0.630114</td>\n",
       "      <td>0.418776</td>\n",
       "      <td>0.040831</td>\n",
       "      <td>0.20868</td>\n",
       "      <td>0.434038</td>\n",
       "      <td>0.068299</td>\n",
       "    </tr>\n",
       "    <tr>\n",
       "      <th>1</th>\n",
       "      <td>5%</td>\n",
       "      <td>0.630114</td>\n",
       "      <td>0.068299</td>\n",
       "      <td>0.630114</td>\n",
       "      <td>0.418776</td>\n",
       "      <td>0.040831</td>\n",
       "      <td>0.20868</td>\n",
       "      <td>0.434038</td>\n",
       "      <td>0.068299</td>\n",
       "    </tr>\n",
       "  </tbody>\n",
       "</table>\n",
       "</div>"
      ],
      "text/plain": [
       "  contamination  accuracy        f1  f1_micro  f1_macro  precision   recall  \\\n",
       "0          100%  0.630114  0.068299  0.630114  0.418776   0.040831  0.20868   \n",
       "1            5%  0.630114  0.068299  0.630114  0.418776   0.040831  0.20868   \n",
       "\n",
       "    roc_auc  model_score  \n",
       "0  0.434038     0.068299  \n",
       "1  0.434038     0.068299  "
      ]
     },
     "execution_count": 209,
     "metadata": {},
     "output_type": "execute_result"
    }
   ],
   "source": [
    "df_efc_metrics"
   ]
  },
  {
   "cell_type": "code",
   "execution_count": 214,
   "id": "6ecc85bf-0574-4c82-8c7a-b0c9249c54dd",
   "metadata": {},
   "outputs": [],
   "source": [
    "confusion_matrix_5 = {\n",
    "            \"contamination\": \"5%\",\n",
    "            \"True Negative\": 10273,\n",
    "            \"False positive\": 5314,\n",
    "            \"False Negative\": 891,\n",
    "            \"True Positive\": 192\n",
    "}"
   ]
  },
  {
   "cell_type": "code",
   "execution_count": 215,
   "id": "1525f882-a741-4b20-b1c9-795b2df2fd2c",
   "metadata": {},
   "outputs": [],
   "source": [
    "df_efc_confusion_matrix.loc[1] = confusion_matrix_5"
   ]
  },
  {
   "cell_type": "code",
   "execution_count": 216,
   "id": "50aba7ea-abb7-4d09-85d9-57dd6d22cdbf",
   "metadata": {},
   "outputs": [
    {
     "data": {
      "text/html": [
       "<div>\n",
       "<style scoped>\n",
       "    .dataframe tbody tr th:only-of-type {\n",
       "        vertical-align: middle;\n",
       "    }\n",
       "\n",
       "    .dataframe tbody tr th {\n",
       "        vertical-align: top;\n",
       "    }\n",
       "\n",
       "    .dataframe thead th {\n",
       "        text-align: right;\n",
       "    }\n",
       "</style>\n",
       "<table border=\"1\" class=\"dataframe\">\n",
       "  <thead>\n",
       "    <tr style=\"text-align: right;\">\n",
       "      <th></th>\n",
       "      <th>contamination</th>\n",
       "      <th>True Negative</th>\n",
       "      <th>False positive</th>\n",
       "      <th>False Negative</th>\n",
       "      <th>True Positive</th>\n",
       "    </tr>\n",
       "  </thead>\n",
       "  <tbody>\n",
       "    <tr>\n",
       "      <th>0</th>\n",
       "      <td>100%</td>\n",
       "      <td>10278</td>\n",
       "      <td>5309</td>\n",
       "      <td>857</td>\n",
       "      <td>226</td>\n",
       "    </tr>\n",
       "    <tr>\n",
       "      <th>1</th>\n",
       "      <td>5%</td>\n",
       "      <td>10273</td>\n",
       "      <td>5314</td>\n",
       "      <td>891</td>\n",
       "      <td>192</td>\n",
       "    </tr>\n",
       "  </tbody>\n",
       "</table>\n",
       "</div>"
      ],
      "text/plain": [
       "  contamination  True Negative  False positive  False Negative  True Positive\n",
       "0          100%          10278            5309             857            226\n",
       "1            5%          10273            5314             891            192"
      ]
     },
     "execution_count": 216,
     "metadata": {},
     "output_type": "execute_result"
    }
   ],
   "source": [
    "df_efc_confusion_matrix"
   ]
  },
  {
   "cell_type": "markdown",
   "id": "9dc2cb73-e1dc-4a72-8769-c6943f57b704",
   "metadata": {},
   "source": [
    "### Train EFC With 10% Labeled Elliptic Data Set"
   ]
  },
  {
   "cell_type": "code",
   "execution_count": 229,
   "id": "ce6ee7b2-6d3c-402b-aa23-e9f6f456e6d2",
   "metadata": {},
   "outputs": [
    {
     "name": "stderr",
     "output_type": "stream",
     "text": [
      "/Users/kevinaraujo/repos/dissertation/PPCA-UnB-Dissertation/models/notebooks/research_aml_elliptic/src/experiments/general_functions/elliptic_data_preprocessing.py:46: FutureWarning: Downcasting behavior in `replace` is deprecated and will be removed in a future version. To retain the old behavior, explicitly call `result.infer_objects(copy=False)`. To opt-in to the future behavior, set `pd.set_option('future.no_silent_downcasting', True)`\n",
      "  df_classes.replace({\"class\": {\"1\": 1, \"2\": 0, \"unknown\": 2}}, inplace=True)\n"
     ]
    }
   ],
   "source": [
    "# elliptic data set from reaml repo\n",
    "X_train_10, X_test_10, y_train_10, y_test_10 = run_elliptic_preprocessing_pipeline(last_train_time_step=last_train_time_step,\n",
    "                                                                             last_time_step=last_time_step,\n",
    "                                                                             only_labeled=only_labeled)"
   ]
  },
  {
   "cell_type": "code",
   "execution_count": 230,
   "id": "e121799b-5ade-42d7-9092-272895c56074",
   "metadata": {},
   "outputs": [
    {
     "name": "stderr",
     "output_type": "stream",
     "text": [
      "/Users/kevinaraujo/repos/dissertation/PPCA-UnB-Dissertation/models/notebooks/efc_python/generic_discretize.py:42: FutureWarning: A value is trying to be set on a copy of a DataFrame or Series through chained assignment using an inplace method.\n",
      "The behavior will change in pandas 3.0. This inplace method will never work because the intermediate object on which we are setting values always behaves as a copy.\n",
      "\n",
      "For example, when doing 'df[col].method(value, inplace=True)', try using 'df.method({col: value}, inplace=True)' or df[col] = df[col].method(value) instead, to perform the operation inplace on the original object.\n",
      "\n",
      "\n",
      "  data.iloc[:, feature].fillna(len(intervals[feature]), inplace=True)\n",
      "/Users/kevinaraujo/repos/dissertation/PPCA-UnB-Dissertation/models/notebooks/efc_python/generic_discretize.py:35: FutureWarning: Setting an item of incompatible dtype is deprecated and will raise in a future error of pandas. Value '29894   NaN\n",
      "29895   NaN\n",
      "29896   NaN\n",
      "29897   NaN\n",
      "29898   NaN\n",
      "         ..\n",
      "46559   NaN\n",
      "46560   NaN\n",
      "46561   NaN\n",
      "46562   NaN\n",
      "46563   NaN\n",
      "Name: time_step, Length: 16670, dtype: float64' has dtype incompatible with int64, please explicitly cast to a compatible dtype first.\n",
      "  data.iloc[:, feature] = pd.cut(\n",
      "/Users/kevinaraujo/repos/dissertation/PPCA-UnB-Dissertation/models/notebooks/efc_python/generic_discretize.py:42: FutureWarning: A value is trying to be set on a copy of a DataFrame or Series through chained assignment using an inplace method.\n",
      "The behavior will change in pandas 3.0. This inplace method will never work because the intermediate object on which we are setting values always behaves as a copy.\n",
      "\n",
      "For example, when doing 'df[col].method(value, inplace=True)', try using 'df.method({col: value}, inplace=True)' or df[col] = df[col].method(value) instead, to perform the operation inplace on the original object.\n",
      "\n",
      "\n",
      "  data.iloc[:, feature].fillna(len(intervals[feature]), inplace=True)\n"
     ]
    }
   ],
   "source": [
    "# efc preps\n",
    "intervals = get_intervals(X_train_10, 10)  # get discretization intervals from train set\n",
    "X_train_10 = discretize(X_train_10, intervals)  # discretize train\n",
    "X_test_10 = discretize(X_test_10, intervals)  # discretize test"
   ]
  },
  {
   "cell_type": "code",
   "execution_count": 235,
   "id": "7d71e409-d4d4-47d7-9ae9-acb7a3d9e09d",
   "metadata": {},
   "outputs": [],
   "source": [
    "indices_illicit_10 = np.where(y_train_10 == 1)[0]"
   ]
  },
  {
   "cell_type": "code",
   "execution_count": 236,
   "id": "2613995b-a81c-4415-b89f-4b66d25b467a",
   "metadata": {},
   "outputs": [],
   "source": [
    "drop_indices_illicit_10 = np.random.choice(indices_illicit_10, size=ceil(len(indices_illicit_10) * 0.90))"
   ]
  },
  {
   "cell_type": "code",
   "execution_count": 237,
   "id": "644b380d-0780-4bca-a42c-ec5bc16a4f3c",
   "metadata": {},
   "outputs": [],
   "source": [
    "# retrieve idxs abnormals and choose 90% of them\n",
    "# abnormals == class1 (illicit)\n",
    "# drop random labeled indices\n",
    "X_train_10.drop(drop_indices_illicit_10, axis=0, inplace=True)  # remove abnormal samples from training (EFC trains with only benign instances)\n",
    "y_train_10.drop(drop_indices_illicit_10, axis=0, inplace=True)  # remove the corresponding abonrmal training targets"
   ]
  },
  {
   "cell_type": "code",
   "execution_count": 238,
   "id": "f26dabf3-a1e6-4650-a90f-c491c67fb160",
   "metadata": {},
   "outputs": [],
   "source": [
    "# EFC's hyperparameters\n",
    "Q = np.int64(X_test_10.values.max())\n",
    "LAMBDA = 0.5  # pseudocount parameter"
   ]
  },
  {
   "cell_type": "code",
   "execution_count": 239,
   "id": "2e645099-0be1-4803-9dc8-488d25c7d613",
   "metadata": {},
   "outputs": [
    {
     "name": "stderr",
     "output_type": "stream",
     "text": [
      "100%|██████████████████████████████████████████████████████████████████████████████████████████████████████████████████████████████████████████| 166/166 [00:00<00:00, 4875.73it/s]\n",
      "100%|████████████████████████████████████████████████████████████████████████████████████████████████████████████████████████████████████████████| 166/166 [00:46<00:00,  3.55it/s]\n",
      "100%|████████████████████████████████████████████████████████████████████████████████████████████████████████████████████████████████████████████| 166/166 [00:01<00:00, 97.28it/s]\n",
      "100%|████████████████████████████████████████████████████████████████████████████████████████████████████████████████████████████████████████████| 166/166 [00:01<00:00, 88.29it/s]\n"
     ]
    }
   ],
   "source": [
    "coupling, h_i, cutoff, _, _ = one_class_fit(np.array(X_train_10), Q, LAMBDA)  # train model"
   ]
  },
  {
   "cell_type": "code",
   "execution_count": 240,
   "id": "8c7718c4-2827-42ab-89dc-e6ac494ca315",
   "metadata": {},
   "outputs": [],
   "source": [
    "y_predicted_10, energies = one_class_predict(np.array(X_test_10), coupling, h_i, cutoff, Q)  # test model"
   ]
  },
  {
   "cell_type": "code",
   "execution_count": 241,
   "id": "61221426-ce56-40b5-b32a-5b7b38252dd3",
   "metadata": {},
   "outputs": [
    {
     "name": "stdout",
     "output_type": "stream",
     "text": [
      "Single-class results\n",
      "confusion_matrix [[10291  5296]\n",
      " [  891   192]]\n"
     ]
    }
   ],
   "source": [
    "# colect results\n",
    "confusion_matrix_10 = confusion_matrix(y_test_10, y_predicted_10)\n",
    "print(\"Single-class results\")\n",
    "print('confusion_matrix', confusion_matrix_10)"
   ]
  },
  {
   "cell_type": "code",
   "execution_count": 242,
   "id": "8d2ebf5d-3317-4b54-8a9f-8776decc2d79",
   "metadata": {},
   "outputs": [],
   "source": [
    "model_score_10 = calculate_model_score(y_true=y_test_10.values, y_pred=y_predicted_10, metric=\"f1\")"
   ]
  },
  {
   "cell_type": "code",
   "execution_count": 243,
   "id": "6ccdb079-00b5-4094-99cc-121f10260061",
   "metadata": {},
   "outputs": [],
   "source": [
    "y_true_10 = y_test_10.values\n",
    "y_pred_10 = y_predicted_10"
   ]
  },
  {
   "cell_type": "code",
   "execution_count": 244,
   "id": "2de72904-f7fa-4a99-84aa-d400a87d515e",
   "metadata": {},
   "outputs": [],
   "source": [
    "metric_dict_10 = {\n",
    "        \"contamination\": \"10%\",\n",
    "        \"accuracy\": accuracy_score(y_true, y_pred),\n",
    "        \"f1\": f1_score(y_true, y_pred, pos_label=1),\n",
    "        \"f1_micro\": f1_score(y_true, y_pred, average=\"micro\"),\n",
    "        \"f1_macro\": f1_score(y_true, y_pred, average=\"macro\"),\n",
    "        \"precision\": precision_score(y_true, y_pred),\n",
    "        \"recall\": recall_score(y_true, y_pred),\n",
    "        \"roc_auc\": roc_auc_score(y_true, y_pred),\n",
    "        \"model_score\": model_score_10,\n",
    "    }"
   ]
  },
  {
   "cell_type": "code",
   "execution_count": 245,
   "id": "ded113ee-8a33-422c-87e4-76e7e30203ed",
   "metadata": {},
   "outputs": [
    {
     "name": "stdout",
     "output_type": "stream",
     "text": [
      "{'accuracy': 0.6301139772045591,\n",
      " 'contamination': '100%',\n",
      " 'f1': np.float64(0.06829857963130856),\n",
      " 'f1_macro': np.float64(0.4187761889998471),\n",
      " 'f1_micro': np.float64(0.6301139772045591),\n",
      " 'model_score': np.float64(0.06829857963130856),\n",
      " 'precision': np.float64(0.04083107497741644),\n",
      " 'recall': np.float64(0.20867959372114497),\n",
      " 'roc_auc': np.float64(0.4340376219712416)}\n"
     ]
    }
   ],
   "source": [
    "pprint(metric_dict)"
   ]
  },
  {
   "cell_type": "code",
   "execution_count": 246,
   "id": "70f01cb3-e986-480f-8e07-1e061b05745e",
   "metadata": {},
   "outputs": [],
   "source": [
    "df_efc_metrics.loc[2] = metric_dict_10"
   ]
  },
  {
   "cell_type": "code",
   "execution_count": 247,
   "id": "b80e9160-8142-4ffa-acad-07cbd770d478",
   "metadata": {},
   "outputs": [
    {
     "data": {
      "text/html": [
       "<div>\n",
       "<style scoped>\n",
       "    .dataframe tbody tr th:only-of-type {\n",
       "        vertical-align: middle;\n",
       "    }\n",
       "\n",
       "    .dataframe tbody tr th {\n",
       "        vertical-align: top;\n",
       "    }\n",
       "\n",
       "    .dataframe thead th {\n",
       "        text-align: right;\n",
       "    }\n",
       "</style>\n",
       "<table border=\"1\" class=\"dataframe\">\n",
       "  <thead>\n",
       "    <tr style=\"text-align: right;\">\n",
       "      <th></th>\n",
       "      <th>contamination</th>\n",
       "      <th>accuracy</th>\n",
       "      <th>f1</th>\n",
       "      <th>f1_micro</th>\n",
       "      <th>f1_macro</th>\n",
       "      <th>precision</th>\n",
       "      <th>recall</th>\n",
       "      <th>roc_auc</th>\n",
       "      <th>model_score</th>\n",
       "    </tr>\n",
       "  </thead>\n",
       "  <tbody>\n",
       "    <tr>\n",
       "      <th>0</th>\n",
       "      <td>100%</td>\n",
       "      <td>0.630114</td>\n",
       "      <td>0.068299</td>\n",
       "      <td>0.630114</td>\n",
       "      <td>0.418776</td>\n",
       "      <td>0.040831</td>\n",
       "      <td>0.20868</td>\n",
       "      <td>0.434038</td>\n",
       "      <td>0.068299</td>\n",
       "    </tr>\n",
       "    <tr>\n",
       "      <th>1</th>\n",
       "      <td>5%</td>\n",
       "      <td>0.630114</td>\n",
       "      <td>0.068299</td>\n",
       "      <td>0.630114</td>\n",
       "      <td>0.418776</td>\n",
       "      <td>0.040831</td>\n",
       "      <td>0.20868</td>\n",
       "      <td>0.434038</td>\n",
       "      <td>0.068299</td>\n",
       "    </tr>\n",
       "    <tr>\n",
       "      <th>2</th>\n",
       "      <td>10%</td>\n",
       "      <td>0.630114</td>\n",
       "      <td>0.068299</td>\n",
       "      <td>0.630114</td>\n",
       "      <td>0.418776</td>\n",
       "      <td>0.040831</td>\n",
       "      <td>0.20868</td>\n",
       "      <td>0.434038</td>\n",
       "      <td>0.058439</td>\n",
       "    </tr>\n",
       "  </tbody>\n",
       "</table>\n",
       "</div>"
      ],
      "text/plain": [
       "  contamination  accuracy        f1  f1_micro  f1_macro  precision   recall  \\\n",
       "0          100%  0.630114  0.068299  0.630114  0.418776   0.040831  0.20868   \n",
       "1            5%  0.630114  0.068299  0.630114  0.418776   0.040831  0.20868   \n",
       "2           10%  0.630114  0.068299  0.630114  0.418776   0.040831  0.20868   \n",
       "\n",
       "    roc_auc  model_score  \n",
       "0  0.434038     0.068299  \n",
       "1  0.434038     0.068299  \n",
       "2  0.434038     0.058439  "
      ]
     },
     "execution_count": 247,
     "metadata": {},
     "output_type": "execute_result"
    }
   ],
   "source": [
    "df_efc_metrics"
   ]
  },
  {
   "cell_type": "code",
   "execution_count": 248,
   "id": "3ec02156-ac0c-4f89-83fb-10153476b413",
   "metadata": {},
   "outputs": [],
   "source": [
    "confusion_matrix_10 = {\n",
    "            \"contamination\": \"10%\",\n",
    "            \"True Negative\": 10291,\n",
    "            \"False positive\": 5296,\n",
    "            \"False Negative\": 891,\n",
    "            \"True Positive\": 192\n",
    "}"
   ]
  },
  {
   "cell_type": "code",
   "execution_count": 249,
   "id": "13e70386-bdb3-4dd2-b392-0ab925765264",
   "metadata": {},
   "outputs": [],
   "source": [
    "df_efc_confusion_matrix.loc[2] = confusion_matrix_10"
   ]
  },
  {
   "cell_type": "code",
   "execution_count": 250,
   "id": "1805ffed-2c19-4cb4-a454-3470a9785009",
   "metadata": {},
   "outputs": [
    {
     "data": {
      "text/html": [
       "<div>\n",
       "<style scoped>\n",
       "    .dataframe tbody tr th:only-of-type {\n",
       "        vertical-align: middle;\n",
       "    }\n",
       "\n",
       "    .dataframe tbody tr th {\n",
       "        vertical-align: top;\n",
       "    }\n",
       "\n",
       "    .dataframe thead th {\n",
       "        text-align: right;\n",
       "    }\n",
       "</style>\n",
       "<table border=\"1\" class=\"dataframe\">\n",
       "  <thead>\n",
       "    <tr style=\"text-align: right;\">\n",
       "      <th></th>\n",
       "      <th>contamination</th>\n",
       "      <th>True Negative</th>\n",
       "      <th>False positive</th>\n",
       "      <th>False Negative</th>\n",
       "      <th>True Positive</th>\n",
       "    </tr>\n",
       "  </thead>\n",
       "  <tbody>\n",
       "    <tr>\n",
       "      <th>0</th>\n",
       "      <td>100%</td>\n",
       "      <td>10278</td>\n",
       "      <td>5309</td>\n",
       "      <td>857</td>\n",
       "      <td>226</td>\n",
       "    </tr>\n",
       "    <tr>\n",
       "      <th>1</th>\n",
       "      <td>5%</td>\n",
       "      <td>10273</td>\n",
       "      <td>5314</td>\n",
       "      <td>891</td>\n",
       "      <td>192</td>\n",
       "    </tr>\n",
       "    <tr>\n",
       "      <th>2</th>\n",
       "      <td>10%</td>\n",
       "      <td>10291</td>\n",
       "      <td>5296</td>\n",
       "      <td>891</td>\n",
       "      <td>192</td>\n",
       "    </tr>\n",
       "  </tbody>\n",
       "</table>\n",
       "</div>"
      ],
      "text/plain": [
       "  contamination  True Negative  False positive  False Negative  True Positive\n",
       "0          100%          10278            5309             857            226\n",
       "1            5%          10273            5314             891            192\n",
       "2           10%          10291            5296             891            192"
      ]
     },
     "execution_count": 250,
     "metadata": {},
     "output_type": "execute_result"
    }
   ],
   "source": [
    "df_efc_confusion_matrix"
   ]
  },
  {
   "cell_type": "markdown",
   "id": "865981bb-8d91-480b-99dc-30f3c3a7c7aa",
   "metadata": {},
   "source": [
    "### Train EFC With 100% Labeled Elliptic Data Set"
   ]
  },
  {
   "cell_type": "code",
   "execution_count": 251,
   "id": "74d61813-fe30-4f51-9356-eb53a31f7bfd",
   "metadata": {},
   "outputs": [
    {
     "name": "stderr",
     "output_type": "stream",
     "text": [
      "/Users/kevinaraujo/repos/dissertation/PPCA-UnB-Dissertation/models/notebooks/research_aml_elliptic/src/experiments/general_functions/elliptic_data_preprocessing.py:46: FutureWarning: Downcasting behavior in `replace` is deprecated and will be removed in a future version. To retain the old behavior, explicitly call `result.infer_objects(copy=False)`. To opt-in to the future behavior, set `pd.set_option('future.no_silent_downcasting', True)`\n",
      "  df_classes.replace({\"class\": {\"1\": 1, \"2\": 0, \"unknown\": 2}}, inplace=True)\n"
     ]
    }
   ],
   "source": [
    "# elliptic data set from reaml repo\n",
    "X_train_100, X_test_100, y_train_100, y_test_100 = run_elliptic_preprocessing_pipeline(last_train_time_step=last_train_time_step,\n",
    "                                                                             last_time_step=last_time_step,\n",
    "                                                                             only_labeled=only_labeled)"
   ]
  },
  {
   "cell_type": "code",
   "execution_count": 252,
   "id": "5e93a6d6-721a-40bf-8b75-8cda57022724",
   "metadata": {},
   "outputs": [
    {
     "name": "stderr",
     "output_type": "stream",
     "text": [
      "/Users/kevinaraujo/repos/dissertation/PPCA-UnB-Dissertation/models/notebooks/efc_python/generic_discretize.py:42: FutureWarning: A value is trying to be set on a copy of a DataFrame or Series through chained assignment using an inplace method.\n",
      "The behavior will change in pandas 3.0. This inplace method will never work because the intermediate object on which we are setting values always behaves as a copy.\n",
      "\n",
      "For example, when doing 'df[col].method(value, inplace=True)', try using 'df.method({col: value}, inplace=True)' or df[col] = df[col].method(value) instead, to perform the operation inplace on the original object.\n",
      "\n",
      "\n",
      "  data.iloc[:, feature].fillna(len(intervals[feature]), inplace=True)\n",
      "/Users/kevinaraujo/repos/dissertation/PPCA-UnB-Dissertation/models/notebooks/efc_python/generic_discretize.py:35: FutureWarning: Setting an item of incompatible dtype is deprecated and will raise in a future error of pandas. Value '29894   NaN\n",
      "29895   NaN\n",
      "29896   NaN\n",
      "29897   NaN\n",
      "29898   NaN\n",
      "         ..\n",
      "46559   NaN\n",
      "46560   NaN\n",
      "46561   NaN\n",
      "46562   NaN\n",
      "46563   NaN\n",
      "Name: time_step, Length: 16670, dtype: float64' has dtype incompatible with int64, please explicitly cast to a compatible dtype first.\n",
      "  data.iloc[:, feature] = pd.cut(\n",
      "/Users/kevinaraujo/repos/dissertation/PPCA-UnB-Dissertation/models/notebooks/efc_python/generic_discretize.py:42: FutureWarning: A value is trying to be set on a copy of a DataFrame or Series through chained assignment using an inplace method.\n",
      "The behavior will change in pandas 3.0. This inplace method will never work because the intermediate object on which we are setting values always behaves as a copy.\n",
      "\n",
      "For example, when doing 'df[col].method(value, inplace=True)', try using 'df.method({col: value}, inplace=True)' or df[col] = df[col].method(value) instead, to perform the operation inplace on the original object.\n",
      "\n",
      "\n",
      "  data.iloc[:, feature].fillna(len(intervals[feature]), inplace=True)\n"
     ]
    }
   ],
   "source": [
    "# efc preps\n",
    "intervals = get_intervals(X_train_100, 10)  # get discretization intervals from train set\n",
    "X_train_100 = discretize(X_train_100, intervals)  # discretize train\n",
    "X_test_100 = discretize(X_test_100, intervals)  # discretize test"
   ]
  },
  {
   "cell_type": "code",
   "execution_count": 253,
   "id": "7e967106-506c-4c26-a00d-0d06ad650334",
   "metadata": {},
   "outputs": [],
   "source": [
    "# EFC's hyperparameters\n",
    "Q = np.int64(X_test_100.values.max())\n",
    "LAMBDA = 0.5  # pseudocount parameter"
   ]
  },
  {
   "cell_type": "code",
   "execution_count": 254,
   "id": "1fef0346-1758-4f8e-833b-a591e84d11ed",
   "metadata": {},
   "outputs": [
    {
     "name": "stderr",
     "output_type": "stream",
     "text": [
      "100%|██████████████████████████████████████████████████████████████████████████████████████████████████████████████████████████████████████████| 166/166 [00:00<00:00, 5335.94it/s]\n",
      "100%|████████████████████████████████████████████████████████████████████████████████████████████████████████████████████████████████████████████| 166/166 [00:51<00:00,  3.20it/s]\n",
      "100%|████████████████████████████████████████████████████████████████████████████████████████████████████████████████████████████████████████████| 166/166 [00:01<00:00, 96.14it/s]\n",
      "100%|████████████████████████████████████████████████████████████████████████████████████████████████████████████████████████████████████████████| 166/166 [00:01<00:00, 86.45it/s]\n"
     ]
    }
   ],
   "source": [
    "coupling, h_i, cutoff, _, _ = one_class_fit(np.array(X_train_100), Q, LAMBDA)  # train model"
   ]
  },
  {
   "cell_type": "code",
   "execution_count": 255,
   "id": "db1704f9-2424-46df-9512-026af0c73b78",
   "metadata": {},
   "outputs": [],
   "source": [
    "y_predicted_100, energies = one_class_predict(np.array(X_test_100), coupling, h_i, cutoff, Q)  # test model"
   ]
  },
  {
   "cell_type": "code",
   "execution_count": 256,
   "id": "3be7310e-8e81-468e-b5cc-04aa8228f013",
   "metadata": {},
   "outputs": [
    {
     "name": "stdout",
     "output_type": "stream",
     "text": [
      "Single-class results\n",
      "confusion_matrix [[10249  5338]\n",
      " [  889   194]]\n"
     ]
    }
   ],
   "source": [
    "# colect results\n",
    "confusion_matrix_100 = confusion_matrix(y_test_100, y_predicted_100)\n",
    "print(\"Single-class results\")\n",
    "print('confusion_matrix', confusion_matrix_100)"
   ]
  },
  {
   "cell_type": "code",
   "execution_count": 257,
   "id": "55a9142f-bce0-4778-b36d-c8a7a9668ea3",
   "metadata": {},
   "outputs": [],
   "source": [
    "model_score_100 = calculate_model_score(y_true=y_test_100.values, y_pred=y_predicted_100, metric=\"f1\")"
   ]
  },
  {
   "cell_type": "code",
   "execution_count": 258,
   "id": "7f57db42-a19f-4050-9f4f-eeb3fcd30644",
   "metadata": {},
   "outputs": [],
   "source": [
    "y_true_100 = y_test_100.values\n",
    "y_pred_100 = y_predicted_100"
   ]
  },
  {
   "cell_type": "code",
   "execution_count": 262,
   "id": "43003c39-129e-400f-887f-4205efec1a4e",
   "metadata": {},
   "outputs": [],
   "source": [
    "metric_dict_100 = {\n",
    "        \"contamination\": \"100%\",\n",
    "        \"accuracy\": accuracy_score(y_true, y_pred),\n",
    "        \"f1\": f1_score(y_true, y_pred, pos_label=1),\n",
    "        \"f1_micro\": f1_score(y_true, y_pred, average=\"micro\"),\n",
    "        \"f1_macro\": f1_score(y_true, y_pred, average=\"macro\"),\n",
    "        \"precision\": precision_score(y_true, y_pred),\n",
    "        \"recall\": recall_score(y_true, y_pred),\n",
    "        \"roc_auc\": roc_auc_score(y_true, y_pred),\n",
    "        \"model_score\": model_score_100,\n",
    "    }"
   ]
  },
  {
   "cell_type": "code",
   "execution_count": 263,
   "id": "dd8b5e9a-5826-43d2-bd2d-2e96802b407a",
   "metadata": {},
   "outputs": [
    {
     "name": "stdout",
     "output_type": "stream",
     "text": [
      "{'accuracy': 0.6301139772045591,\n",
      " 'contamination': '100%',\n",
      " 'f1': np.float64(0.06829857963130856),\n",
      " 'f1_macro': np.float64(0.4187761889998471),\n",
      " 'f1_micro': np.float64(0.6301139772045591),\n",
      " 'model_score': np.float64(0.058654572940287225),\n",
      " 'precision': np.float64(0.04083107497741644),\n",
      " 'recall': np.float64(0.20867959372114497),\n",
      " 'roc_auc': np.float64(0.4340376219712416)}\n"
     ]
    }
   ],
   "source": [
    "pprint(metric_dict_100)"
   ]
  },
  {
   "cell_type": "code",
   "execution_count": 264,
   "id": "c00f7e5b-43a3-46ff-8c31-050bc5970043",
   "metadata": {},
   "outputs": [],
   "source": [
    "df_efc_metrics.loc[3] = metric_dict_100"
   ]
  },
  {
   "cell_type": "code",
   "execution_count": 265,
   "id": "506a5497-5baf-4716-bd5c-6e07c18b2202",
   "metadata": {},
   "outputs": [
    {
     "data": {
      "text/html": [
       "<div>\n",
       "<style scoped>\n",
       "    .dataframe tbody tr th:only-of-type {\n",
       "        vertical-align: middle;\n",
       "    }\n",
       "\n",
       "    .dataframe tbody tr th {\n",
       "        vertical-align: top;\n",
       "    }\n",
       "\n",
       "    .dataframe thead th {\n",
       "        text-align: right;\n",
       "    }\n",
       "</style>\n",
       "<table border=\"1\" class=\"dataframe\">\n",
       "  <thead>\n",
       "    <tr style=\"text-align: right;\">\n",
       "      <th></th>\n",
       "      <th>contamination</th>\n",
       "      <th>accuracy</th>\n",
       "      <th>f1</th>\n",
       "      <th>f1_micro</th>\n",
       "      <th>f1_macro</th>\n",
       "      <th>precision</th>\n",
       "      <th>recall</th>\n",
       "      <th>roc_auc</th>\n",
       "      <th>model_score</th>\n",
       "    </tr>\n",
       "  </thead>\n",
       "  <tbody>\n",
       "    <tr>\n",
       "      <th>0</th>\n",
       "      <td>100%</td>\n",
       "      <td>0.630114</td>\n",
       "      <td>0.068299</td>\n",
       "      <td>0.630114</td>\n",
       "      <td>0.418776</td>\n",
       "      <td>0.040831</td>\n",
       "      <td>0.20868</td>\n",
       "      <td>0.434038</td>\n",
       "      <td>0.068299</td>\n",
       "    </tr>\n",
       "    <tr>\n",
       "      <th>1</th>\n",
       "      <td>5%</td>\n",
       "      <td>0.630114</td>\n",
       "      <td>0.068299</td>\n",
       "      <td>0.630114</td>\n",
       "      <td>0.418776</td>\n",
       "      <td>0.040831</td>\n",
       "      <td>0.20868</td>\n",
       "      <td>0.434038</td>\n",
       "      <td>0.068299</td>\n",
       "    </tr>\n",
       "    <tr>\n",
       "      <th>2</th>\n",
       "      <td>10%</td>\n",
       "      <td>0.630114</td>\n",
       "      <td>0.068299</td>\n",
       "      <td>0.630114</td>\n",
       "      <td>0.418776</td>\n",
       "      <td>0.040831</td>\n",
       "      <td>0.20868</td>\n",
       "      <td>0.434038</td>\n",
       "      <td>0.058439</td>\n",
       "    </tr>\n",
       "    <tr>\n",
       "      <th>3</th>\n",
       "      <td>100%</td>\n",
       "      <td>0.630114</td>\n",
       "      <td>0.068299</td>\n",
       "      <td>0.630114</td>\n",
       "      <td>0.418776</td>\n",
       "      <td>0.040831</td>\n",
       "      <td>0.20868</td>\n",
       "      <td>0.434038</td>\n",
       "      <td>0.058655</td>\n",
       "    </tr>\n",
       "  </tbody>\n",
       "</table>\n",
       "</div>"
      ],
      "text/plain": [
       "  contamination  accuracy        f1  f1_micro  f1_macro  precision   recall  \\\n",
       "0          100%  0.630114  0.068299  0.630114  0.418776   0.040831  0.20868   \n",
       "1            5%  0.630114  0.068299  0.630114  0.418776   0.040831  0.20868   \n",
       "2           10%  0.630114  0.068299  0.630114  0.418776   0.040831  0.20868   \n",
       "3          100%  0.630114  0.068299  0.630114  0.418776   0.040831  0.20868   \n",
       "\n",
       "    roc_auc  model_score  \n",
       "0  0.434038     0.068299  \n",
       "1  0.434038     0.068299  \n",
       "2  0.434038     0.058439  \n",
       "3  0.434038     0.058655  "
      ]
     },
     "execution_count": 265,
     "metadata": {},
     "output_type": "execute_result"
    }
   ],
   "source": [
    "df_efc_metrics"
   ]
  },
  {
   "cell_type": "code",
   "execution_count": 266,
   "id": "8b208df5-36a3-4e92-b3c1-b86bd33775a2",
   "metadata": {},
   "outputs": [],
   "source": [
    "confusion_matrix_100 = {\n",
    "            \"contamination\": \"100%\",\n",
    "            \"True Negative\": 10249,\n",
    "            \"False positive\": 5338,\n",
    "            \"False Negative\": 889,\n",
    "            \"True Positive\": 194\n",
    "}"
   ]
  },
  {
   "cell_type": "code",
   "execution_count": 267,
   "id": "d8afa5fd-47c8-425f-a63f-82eb5430dee4",
   "metadata": {},
   "outputs": [],
   "source": [
    "df_efc_confusion_matrix.loc[3] = confusion_matrix_100"
   ]
  },
  {
   "cell_type": "code",
   "execution_count": 268,
   "id": "becb5041-17b0-4b7f-8c9b-a61201a6b279",
   "metadata": {},
   "outputs": [
    {
     "data": {
      "text/html": [
       "<div>\n",
       "<style scoped>\n",
       "    .dataframe tbody tr th:only-of-type {\n",
       "        vertical-align: middle;\n",
       "    }\n",
       "\n",
       "    .dataframe tbody tr th {\n",
       "        vertical-align: top;\n",
       "    }\n",
       "\n",
       "    .dataframe thead th {\n",
       "        text-align: right;\n",
       "    }\n",
       "</style>\n",
       "<table border=\"1\" class=\"dataframe\">\n",
       "  <thead>\n",
       "    <tr style=\"text-align: right;\">\n",
       "      <th></th>\n",
       "      <th>contamination</th>\n",
       "      <th>True Negative</th>\n",
       "      <th>False positive</th>\n",
       "      <th>False Negative</th>\n",
       "      <th>True Positive</th>\n",
       "    </tr>\n",
       "  </thead>\n",
       "  <tbody>\n",
       "    <tr>\n",
       "      <th>0</th>\n",
       "      <td>100%</td>\n",
       "      <td>10278</td>\n",
       "      <td>5309</td>\n",
       "      <td>857</td>\n",
       "      <td>226</td>\n",
       "    </tr>\n",
       "    <tr>\n",
       "      <th>1</th>\n",
       "      <td>5%</td>\n",
       "      <td>10273</td>\n",
       "      <td>5314</td>\n",
       "      <td>891</td>\n",
       "      <td>192</td>\n",
       "    </tr>\n",
       "    <tr>\n",
       "      <th>2</th>\n",
       "      <td>10%</td>\n",
       "      <td>10291</td>\n",
       "      <td>5296</td>\n",
       "      <td>891</td>\n",
       "      <td>192</td>\n",
       "    </tr>\n",
       "    <tr>\n",
       "      <th>3</th>\n",
       "      <td>100%</td>\n",
       "      <td>10249</td>\n",
       "      <td>5338</td>\n",
       "      <td>889</td>\n",
       "      <td>194</td>\n",
       "    </tr>\n",
       "  </tbody>\n",
       "</table>\n",
       "</div>"
      ],
      "text/plain": [
       "  contamination  True Negative  False positive  False Negative  True Positive\n",
       "0          100%          10278            5309             857            226\n",
       "1            5%          10273            5314             891            192\n",
       "2           10%          10291            5296             891            192\n",
       "3          100%          10249            5338             889            194"
      ]
     },
     "execution_count": 268,
     "metadata": {},
     "output_type": "execute_result"
    }
   ],
   "source": [
    "df_efc_confusion_matrix"
   ]
  },
  {
   "cell_type": "code",
   "execution_count": 271,
   "id": "c4a00a3f-91be-45f9-adbb-3cf30bbbe49b",
   "metadata": {},
   "outputs": [],
   "source": [
    "df_efc_metrics.to_csv('./efc_python/output/efc_metrics_v2.csv', index=False)"
   ]
  },
  {
   "cell_type": "code",
   "execution_count": 272,
   "id": "09b67fbb-4c6f-49f6-847a-d58d03967165",
   "metadata": {},
   "outputs": [],
   "source": [
    "df_efc_confusion_matrix.to_csv('./efc_python/output/efc_confusion_matrix_v2.csv', index=False)"
   ]
  },
  {
   "cell_type": "markdown",
   "id": "e0667ca7-e1fa-45c3-a4e8-0f989f5962cb",
   "metadata": {},
   "source": [
    "#################################################################################################################################"
   ]
  },
  {
   "cell_type": "markdown",
   "id": "8fd8c34b-4c2f-48ca-aaed-fae12b1e5dfd",
   "metadata": {},
   "source": [
    "### Elliptic Data Set With Different Time Steps"
   ]
  },
  {
   "cell_type": "code",
   "execution_count": 273,
   "id": "06fae35e-3aff-4098-be67-ffe3b164594a",
   "metadata": {},
   "outputs": [],
   "source": [
    "# Import Elliptic data set and set variables\n",
    "last_time_step = 42\n",
    "last_train_time_step = 28\n",
    "only_labeled = True"
   ]
  },
  {
   "cell_type": "code",
   "execution_count": 274,
   "id": "67ae79a4-ab3a-46a6-92b9-88604da9d25d",
   "metadata": {},
   "outputs": [
    {
     "name": "stderr",
     "output_type": "stream",
     "text": [
      "/Users/kevinaraujo/repos/dissertation/PPCA-UnB-Dissertation/models/notebooks/research_aml_elliptic/src/experiments/general_functions/elliptic_data_preprocessing.py:46: FutureWarning: Downcasting behavior in `replace` is deprecated and will be removed in a future version. To retain the old behavior, explicitly call `result.infer_objects(copy=False)`. To opt-in to the future behavior, set `pd.set_option('future.no_silent_downcasting', True)`\n",
      "  df_classes.replace({\"class\": {\"1\": 1, \"2\": 0, \"unknown\": 2}}, inplace=True)\n"
     ]
    }
   ],
   "source": [
    "# '1': 1, -> class1 (illicit)\n",
    "# '2': 0, -> class2 (licit)\n",
    "# 'unknown': 2 -> dropped\n",
    "X_train, X_test, y_train, y_test = run_elliptic_preprocessing_pipeline(last_train_time_step=last_train_time_step,\n",
    "                                                                             last_time_step=last_time_step,\n",
    "                                                                             only_labeled=only_labeled)"
   ]
  },
  {
   "cell_type": "code",
   "execution_count": 275,
   "id": "e810f1b7-986b-4f31-a7f9-05bd7223a84f",
   "metadata": {},
   "outputs": [],
   "source": [
    "intervals = get_intervals(X_train, 10)  # get discretization intervals from train set"
   ]
  },
  {
   "cell_type": "code",
   "execution_count": 276,
   "id": "1fa4972b-1e6d-4fc8-9170-19085fdcb132",
   "metadata": {},
   "outputs": [
    {
     "name": "stderr",
     "output_type": "stream",
     "text": [
      "/Users/kevinaraujo/repos/dissertation/PPCA-UnB-Dissertation/models/notebooks/efc_python/generic_discretize.py:42: FutureWarning: A value is trying to be set on a copy of a DataFrame or Series through chained assignment using an inplace method.\n",
      "The behavior will change in pandas 3.0. This inplace method will never work because the intermediate object on which we are setting values always behaves as a copy.\n",
      "\n",
      "For example, when doing 'df[col].method(value, inplace=True)', try using 'df.method({col: value}, inplace=True)' or df[col] = df[col].method(value) instead, to perform the operation inplace on the original object.\n",
      "\n",
      "\n",
      "  data.iloc[:, feature].fillna(len(intervals[feature]), inplace=True)\n",
      "/Users/kevinaraujo/repos/dissertation/PPCA-UnB-Dissertation/models/notebooks/efc_python/generic_discretize.py:35: FutureWarning: Setting an item of incompatible dtype is deprecated and will raise in a future error of pandas. Value '25207   NaN\n",
      "25208   NaN\n",
      "25209   NaN\n",
      "25210   NaN\n",
      "25211   NaN\n",
      "         ..\n",
      "39872   NaN\n",
      "39873   NaN\n",
      "39874   NaN\n",
      "39875   NaN\n",
      "39876   NaN\n",
      "Name: time_step, Length: 14670, dtype: float64' has dtype incompatible with int64, please explicitly cast to a compatible dtype first.\n",
      "  data.iloc[:, feature] = pd.cut(\n",
      "/Users/kevinaraujo/repos/dissertation/PPCA-UnB-Dissertation/models/notebooks/efc_python/generic_discretize.py:42: FutureWarning: A value is trying to be set on a copy of a DataFrame or Series through chained assignment using an inplace method.\n",
      "The behavior will change in pandas 3.0. This inplace method will never work because the intermediate object on which we are setting values always behaves as a copy.\n",
      "\n",
      "For example, when doing 'df[col].method(value, inplace=True)', try using 'df.method({col: value}, inplace=True)' or df[col] = df[col].method(value) instead, to perform the operation inplace on the original object.\n",
      "\n",
      "\n",
      "  data.iloc[:, feature].fillna(len(intervals[feature]), inplace=True)\n"
     ]
    }
   ],
   "source": [
    "X_train = discretize(X_train, intervals)  # discretize train\n",
    "X_test = discretize(X_test, intervals)  # discretize test"
   ]
  },
  {
   "cell_type": "code",
   "execution_count": 277,
   "id": "90cdda9a-5062-4068-8b7b-cd26a0baa0b3",
   "metadata": {},
   "outputs": [],
   "source": [
    "idx_abnormal = np.where(y_train == 1)[0]  # find abnormal samples indexes in the training set"
   ]
  },
  {
   "cell_type": "code",
   "execution_count": 278,
   "id": "1f252b40-757b-4405-88ec-690ec6049dbd",
   "metadata": {},
   "outputs": [],
   "source": [
    "X_train.drop(idx_abnormal, axis=0, inplace=True)  # remove abnormal samples from training (EFC trains with only benign instances)\n",
    "y_train.drop(idx_abnormal, axis=0, inplace=True)  # remove the corresponding abonrmal training targets"
   ]
  },
  {
   "cell_type": "code",
   "execution_count": 279,
   "id": "4fce33dc-5756-405b-b357-aafd1510448c",
   "metadata": {},
   "outputs": [],
   "source": [
    "# EFC's hyperparameters\n",
    "Q = X_test.values.max()\n",
    "LAMBDA = 0.5  # pseudocount parameter"
   ]
  },
  {
   "cell_type": "code",
   "execution_count": 280,
   "id": "acb13650-3dfe-49a4-8f43-bfb874c5c7c6",
   "metadata": {},
   "outputs": [
    {
     "name": "stderr",
     "output_type": "stream",
     "text": [
      "100%|██████████████████████████████████████████████████████████████████████████████████████████████████████████████████████████████████████████| 166/166 [00:00<00:00, 6642.95it/s]\n",
      "100%|████████████████████████████████████████████████████████████████████████████████████████████████████████████████████████████████████████████| 166/166 [00:40<00:00,  4.07it/s]\n",
      "100%|████████████████████████████████████████████████████████████████████████████████████████████████████████████████████████████████████████████| 166/166 [00:01<00:00, 95.31it/s]\n",
      "100%|████████████████████████████████████████████████████████████████████████████████████████████████████████████████████████████████████████████| 166/166 [00:01<00:00, 88.54it/s]\n"
     ]
    }
   ],
   "source": [
    "coupling, h_i, cutoff, _, _ = one_class_fit(np.array(X_train), Q, LAMBDA)  # train model"
   ]
  },
  {
   "cell_type": "code",
   "execution_count": 282,
   "id": "de4b6aff-9826-4e94-8494-ec7bd3f23ae4",
   "metadata": {},
   "outputs": [],
   "source": [
    "y_predicted, energies = one_class_predict(np.array(X_test), coupling, h_i, cutoff, Q)  # test model"
   ]
  },
  {
   "cell_type": "code",
   "execution_count": 283,
   "id": "53303231-bbdc-4fff-b12e-536c7d197c65",
   "metadata": {},
   "outputs": [
    {
     "name": "stdout",
     "output_type": "stream",
     "text": [
      "Single-class results\n",
      "confusion_matrix [[8513 4323]\n",
      " [1622  212]]\n"
     ]
    }
   ],
   "source": [
    "# colect results\n",
    "confusion_matrix = confusion_matrix(y_test, y_predicted)\n",
    "print(\"Single-class results\")\n",
    "print('confusion_matrix', confusion_matrix)"
   ]
  },
  {
   "cell_type": "code",
   "execution_count": 284,
   "id": "9134af4c-b0b1-4bef-bb06-f5fc9992ed33",
   "metadata": {},
   "outputs": [],
   "source": [
    "model_score = calculate_model_score(y_true=y_test.values, y_pred=y_predicted, metric=\"f1\")"
   ]
  },
  {
   "cell_type": "code",
   "execution_count": 285,
   "id": "9d2672ca-f506-425d-a095-0af5f7ecab2d",
   "metadata": {},
   "outputs": [],
   "source": [
    "y_true = y_test.values\n",
    "y_pred = y_predicted"
   ]
  },
  {
   "cell_type": "code",
   "execution_count": 286,
   "id": "510264bc-a44c-48bd-8314-189d4a33b11c",
   "metadata": {},
   "outputs": [],
   "source": [
    "metric_dict = {\n",
    "        \"last_time_step\": \"42\",\n",
    "        \"last_train_time_step\": \"28\",\n",
    "        \"only_labeled\": True,\n",
    "        \"accuracy\": accuracy_score(y_true, y_pred),\n",
    "        \"f1\": f1_score(y_true, y_pred, pos_label=1),\n",
    "        \"f1_micro\": f1_score(y_true, y_pred, average=\"micro\"),\n",
    "        \"f1_macro\": f1_score(y_true, y_pred, average=\"macro\"),\n",
    "        \"precision\": precision_score(y_true, y_pred),\n",
    "        \"recall\": recall_score(y_true, y_pred),\n",
    "        \"roc_auc\": roc_auc_score(y_true, y_pred),\n",
    "        \"model_score\": model_score,\n",
    "    }"
   ]
  },
  {
   "cell_type": "code",
   "execution_count": 287,
   "id": "814810b8-fad3-4c7a-a185-eb76b02cb6db",
   "metadata": {},
   "outputs": [
    {
     "name": "stdout",
     "output_type": "stream",
     "text": [
      "{'accuracy': 0.5947511929107021,\n",
      " 'f1': np.float64(0.06657246035484378),\n",
      " 'f1_macro': np.float64(0.4038839403337059),\n",
      " 'f1_micro': np.float64(0.5947511929107021),\n",
      " 'last_time_step': '42',\n",
      " 'last_train_time_step': '28',\n",
      " 'model_score': np.float64(0.06657246035484378),\n",
      " 'only_labeled': True,\n",
      " 'precision': np.float64(0.046747519294377066),\n",
      " 'recall': np.float64(0.11559432933478735),\n",
      " 'roc_auc': np.float64(0.38940358411270376)}\n"
     ]
    }
   ],
   "source": [
    "pprint(metric_dict)"
   ]
  },
  {
   "cell_type": "code",
   "execution_count": 288,
   "id": "162ea7c2-a94f-4303-b266-6fc8f3be6cf9",
   "metadata": {},
   "outputs": [],
   "source": [
    "columns_metrics = [\"last_time_step\", \"last_train_time_step\", \"only_labeled\", \"accuracy\", \"f1\", \"f1_micro\", \"f1_macro\", \"precision\", \"recall\", \"roc_auc\", \"model_score\"]"
   ]
  },
  {
   "cell_type": "code",
   "execution_count": 289,
   "id": "5ee6b716-331d-4dfd-b6a7-52b90949e179",
   "metadata": {},
   "outputs": [],
   "source": [
    "df_efc_metrics_v1 = pd.DataFrame(data=metric_dict, columns=columns_metrics, index=[0])"
   ]
  },
  {
   "cell_type": "code",
   "execution_count": 290,
   "id": "11e46dcf-fa85-4218-8f1a-ffd350dae6fe",
   "metadata": {},
   "outputs": [
    {
     "data": {
      "text/html": [
       "<div>\n",
       "<style scoped>\n",
       "    .dataframe tbody tr th:only-of-type {\n",
       "        vertical-align: middle;\n",
       "    }\n",
       "\n",
       "    .dataframe tbody tr th {\n",
       "        vertical-align: top;\n",
       "    }\n",
       "\n",
       "    .dataframe thead th {\n",
       "        text-align: right;\n",
       "    }\n",
       "</style>\n",
       "<table border=\"1\" class=\"dataframe\">\n",
       "  <thead>\n",
       "    <tr style=\"text-align: right;\">\n",
       "      <th></th>\n",
       "      <th>last_time_step</th>\n",
       "      <th>last_train_time_step</th>\n",
       "      <th>only_labeled</th>\n",
       "      <th>accuracy</th>\n",
       "      <th>f1</th>\n",
       "      <th>f1_micro</th>\n",
       "      <th>f1_macro</th>\n",
       "      <th>precision</th>\n",
       "      <th>recall</th>\n",
       "      <th>roc_auc</th>\n",
       "      <th>model_score</th>\n",
       "    </tr>\n",
       "  </thead>\n",
       "  <tbody>\n",
       "    <tr>\n",
       "      <th>0</th>\n",
       "      <td>42</td>\n",
       "      <td>28</td>\n",
       "      <td>True</td>\n",
       "      <td>0.594751</td>\n",
       "      <td>0.066572</td>\n",
       "      <td>0.594751</td>\n",
       "      <td>0.403884</td>\n",
       "      <td>0.046748</td>\n",
       "      <td>0.115594</td>\n",
       "      <td>0.389404</td>\n",
       "      <td>0.066572</td>\n",
       "    </tr>\n",
       "  </tbody>\n",
       "</table>\n",
       "</div>"
      ],
      "text/plain": [
       "  last_time_step last_train_time_step  only_labeled  accuracy        f1  \\\n",
       "0             42                   28          True  0.594751  0.066572   \n",
       "\n",
       "   f1_micro  f1_macro  precision    recall   roc_auc  model_score  \n",
       "0  0.594751  0.403884   0.046748  0.115594  0.389404     0.066572  "
      ]
     },
     "execution_count": 290,
     "metadata": {},
     "output_type": "execute_result"
    }
   ],
   "source": [
    "df_efc_metrics_v1"
   ]
  },
  {
   "cell_type": "code",
   "execution_count": 291,
   "id": "e55059f5-f9ed-4609-99db-bb92799917bd",
   "metadata": {},
   "outputs": [],
   "source": [
    "confusion_matrix = {\n",
    "            \"last_time_step\": \"42\",\n",
    "            \"last_train_time_step\": \"28\",\n",
    "            \"only_labeled\": True,\n",
    "            \"True Negative\": 8513,\n",
    "            \"False positive\": 4323,\n",
    "            \"False Negative\": 1622,\n",
    "            \"True Positive\": 212\n",
    "}"
   ]
  },
  {
   "cell_type": "code",
   "execution_count": 295,
   "id": "4b4926b9-c458-4c4c-aa24-9b0cef5bcb9f",
   "metadata": {},
   "outputs": [],
   "source": [
    "columns = [\"last_time_step\", \"last_train_time_step\", \"only_labeled\", \"True Negative\", \"False positive\", \"False Negative\", \"True Positive\"]"
   ]
  },
  {
   "cell_type": "code",
   "execution_count": 297,
   "id": "e83497de-764e-4ed7-9bfe-30380924116e",
   "metadata": {},
   "outputs": [],
   "source": [
    "df_efc_confusion_matrix = pd.DataFrame(data=confusion_matrix, columns=columns, index=[0])"
   ]
  },
  {
   "cell_type": "code",
   "execution_count": 298,
   "id": "087cdb5f-1985-499c-a3b4-026720840ff4",
   "metadata": {},
   "outputs": [
    {
     "data": {
      "text/html": [
       "<div>\n",
       "<style scoped>\n",
       "    .dataframe tbody tr th:only-of-type {\n",
       "        vertical-align: middle;\n",
       "    }\n",
       "\n",
       "    .dataframe tbody tr th {\n",
       "        vertical-align: top;\n",
       "    }\n",
       "\n",
       "    .dataframe thead th {\n",
       "        text-align: right;\n",
       "    }\n",
       "</style>\n",
       "<table border=\"1\" class=\"dataframe\">\n",
       "  <thead>\n",
       "    <tr style=\"text-align: right;\">\n",
       "      <th></th>\n",
       "      <th>last_time_step</th>\n",
       "      <th>last_train_time_step</th>\n",
       "      <th>only_labeled</th>\n",
       "      <th>True Negative</th>\n",
       "      <th>False positive</th>\n",
       "      <th>False Negative</th>\n",
       "      <th>True Positive</th>\n",
       "    </tr>\n",
       "  </thead>\n",
       "  <tbody>\n",
       "    <tr>\n",
       "      <th>0</th>\n",
       "      <td>42</td>\n",
       "      <td>28</td>\n",
       "      <td>True</td>\n",
       "      <td>8513</td>\n",
       "      <td>4323</td>\n",
       "      <td>1622</td>\n",
       "      <td>212</td>\n",
       "    </tr>\n",
       "  </tbody>\n",
       "</table>\n",
       "</div>"
      ],
      "text/plain": [
       "  last_time_step last_train_time_step  only_labeled  True Negative  \\\n",
       "0             42                   28          True           8513   \n",
       "\n",
       "   False positive  False Negative  True Positive  \n",
       "0            4323            1622            212  "
      ]
     },
     "execution_count": 298,
     "metadata": {},
     "output_type": "execute_result"
    }
   ],
   "source": [
    "df_efc_confusion_matrix"
   ]
  },
  {
   "cell_type": "code",
   "execution_count": null,
   "id": "8b87bdf1-e3bc-4be1-9090-c9000f4644d3",
   "metadata": {},
   "outputs": [],
   "source": []
  }
 ],
 "metadata": {
  "kernelspec": {
   "display_name": "masters",
   "language": "python",
   "name": "masters"
  },
  "language_info": {
   "codemirror_mode": {
    "name": "ipython",
    "version": 3
   },
   "file_extension": ".py",
   "mimetype": "text/x-python",
   "name": "python",
   "nbconvert_exporter": "python",
   "pygments_lexer": "ipython3",
   "version": "3.12.1"
  }
 },
 "nbformat": 4,
 "nbformat_minor": 5
}
