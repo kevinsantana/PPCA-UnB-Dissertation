{
 "cells": [
  {
   "cell_type": "markdown",
   "id": "6965e8ee-594f-44ee-a503-cf17d2a09382",
   "metadata": {},
   "source": [
    "## Energy-based Flow Classifier (EFC) - Pure Python"
   ]
  },
  {
   "cell_type": "markdown",
   "id": "1f2e3aa3-8e2b-46de-b565-2a18a249402f",
   "metadata": {},
   "source": [
    "### Applying EFC to Bitcoin blockchain in the presence of label scarcity"
   ]
  },
  {
   "cell_type": "code",
   "execution_count": 195,
   "id": "63e69a08-54cc-4cb2-b01c-3e82ee3ae212",
   "metadata": {},
   "outputs": [],
   "source": [
    "from math import ceil\n",
    "from pprint import pprint"
   ]
  },
  {
   "cell_type": "code",
   "execution_count": 196,
   "id": "793f8a2c-9222-4b91-8226-42a431ca3d95",
   "metadata": {},
   "outputs": [],
   "source": [
    "import numpy as np\n",
    "import pandas as pd\n",
    "from sklearn.metrics import confusion_matrix"
   ]
  },
  {
   "cell_type": "code",
   "execution_count": 197,
   "id": "8a8d29c0-7460-4137-9d3a-81a87a134682",
   "metadata": {},
   "outputs": [],
   "source": [
    "from efc_python.classification_functions import (\n",
    "    one_class_fit,\n",
    "    one_class_predict,\n",
    ")\n",
    "from efc_python.generic_discretize import discretize, get_intervals"
   ]
  },
  {
   "cell_type": "code",
   "execution_count": 198,
   "id": "5f3bb5be-4de7-41ba-9402-b0e5ce50bf49",
   "metadata": {},
   "outputs": [],
   "source": [
    "from research_aml_elliptic.src.reaml.model_performance import calculate_model_score"
   ]
  },
  {
   "cell_type": "code",
   "execution_count": 199,
   "id": "5a939913-b46e-41af-bb52-1d42c6fcf517",
   "metadata": {},
   "outputs": [],
   "source": [
    "from research_aml_elliptic.src.experiments.general_functions.elliptic_data_preprocessing import run_elliptic_preprocessing_pipeline"
   ]
  },
  {
   "cell_type": "code",
   "execution_count": 200,
   "id": "6187e37b-e275-4ea6-8bf4-81bbd89d4219",
   "metadata": {},
   "outputs": [],
   "source": [
    "from sklearn.metrics import (\n",
    "    f1_score,\n",
    "    accuracy_score,\n",
    "    precision_score,\n",
    "    recall_score,\n",
    "    roc_auc_score,\n",
    ")"
   ]
  },
  {
   "cell_type": "code",
   "execution_count": 120,
   "id": "d99c4474-f785-48c9-b246-77b8cf263e6b",
   "metadata": {},
   "outputs": [],
   "source": [
    "# Import Elliptic data set and set variables\n",
    "last_time_step = 49\n",
    "last_train_time_step = 34\n",
    "only_labeled = True"
   ]
  },
  {
   "cell_type": "code",
   "execution_count": 121,
   "id": "62065898-5ed5-4ce4-a5a1-2dc9ba2745b0",
   "metadata": {},
   "outputs": [
    {
     "name": "stderr",
     "output_type": "stream",
     "text": [
      "/Users/kevinaraujo/repos/dissertation/PPCA-UnB-Dissertation/models/notebooks/research_aml_elliptic/src/experiments/general_functions/elliptic_data_preprocessing.py:46: FutureWarning: Downcasting behavior in `replace` is deprecated and will be removed in a future version. To retain the old behavior, explicitly call `result.infer_objects(copy=False)`. To opt-in to the future behavior, set `pd.set_option('future.no_silent_downcasting', True)`\n",
      "  df_classes.replace({\"class\": {\"1\": 1, \"2\": 0, \"unknown\": 2}}, inplace=True)\n"
     ]
    }
   ],
   "source": [
    "# '1': 1, -> class1 (illicit)\n",
    "# '2': 0, -> class2 (licit)\n",
    "# 'unknown': 2 -> dropped\n",
    "X_train, X_test, y_train, y_test = run_elliptic_preprocessing_pipeline(last_train_time_step=last_train_time_step,\n",
    "                                                                             last_time_step=last_time_step,\n",
    "                                                                             only_labeled=only_labeled)"
   ]
  },
  {
   "cell_type": "code",
   "execution_count": 122,
   "id": "94c98cf4-74aa-4f0f-b436-9adfe958d593",
   "metadata": {},
   "outputs": [],
   "source": [
    "intervals = get_intervals(X_train, 10)  # get discretization intervals from train set"
   ]
  },
  {
   "cell_type": "code",
   "execution_count": 123,
   "id": "f76512ad-d1f4-4f52-9f57-9ca8066572ab",
   "metadata": {},
   "outputs": [
    {
     "name": "stderr",
     "output_type": "stream",
     "text": [
      "/Users/kevinaraujo/repos/dissertation/PPCA-UnB-Dissertation/models/notebooks/efc_python/generic_discretize.py:42: FutureWarning: A value is trying to be set on a copy of a DataFrame or Series through chained assignment using an inplace method.\n",
      "The behavior will change in pandas 3.0. This inplace method will never work because the intermediate object on which we are setting values always behaves as a copy.\n",
      "\n",
      "For example, when doing 'df[col].method(value, inplace=True)', try using 'df.method({col: value}, inplace=True)' or df[col] = df[col].method(value) instead, to perform the operation inplace on the original object.\n",
      "\n",
      "\n",
      "  data.iloc[:, feature].fillna(len(intervals[feature]), inplace=True)\n",
      "/Users/kevinaraujo/repos/dissertation/PPCA-UnB-Dissertation/models/notebooks/efc_python/generic_discretize.py:35: FutureWarning: Setting an item of incompatible dtype is deprecated and will raise in a future error of pandas. Value '29894   NaN\n",
      "29895   NaN\n",
      "29896   NaN\n",
      "29897   NaN\n",
      "29898   NaN\n",
      "         ..\n",
      "46559   NaN\n",
      "46560   NaN\n",
      "46561   NaN\n",
      "46562   NaN\n",
      "46563   NaN\n",
      "Name: time_step, Length: 16670, dtype: float64' has dtype incompatible with int64, please explicitly cast to a compatible dtype first.\n",
      "  data.iloc[:, feature] = pd.cut(\n",
      "/Users/kevinaraujo/repos/dissertation/PPCA-UnB-Dissertation/models/notebooks/efc_python/generic_discretize.py:42: FutureWarning: A value is trying to be set on a copy of a DataFrame or Series through chained assignment using an inplace method.\n",
      "The behavior will change in pandas 3.0. This inplace method will never work because the intermediate object on which we are setting values always behaves as a copy.\n",
      "\n",
      "For example, when doing 'df[col].method(value, inplace=True)', try using 'df.method({col: value}, inplace=True)' or df[col] = df[col].method(value) instead, to perform the operation inplace on the original object.\n",
      "\n",
      "\n",
      "  data.iloc[:, feature].fillna(len(intervals[feature]), inplace=True)\n"
     ]
    }
   ],
   "source": [
    "X_train = discretize(X_train, intervals)  # discretize train\n",
    "X_test = discretize(X_test, intervals)  # discretize test"
   ]
  },
  {
   "cell_type": "code",
   "execution_count": 124,
   "id": "5d5b0464-d690-49b9-b690-7ea39985d386",
   "metadata": {},
   "outputs": [],
   "source": [
    "idx_abnormal = np.where(y_train == 1)[0]  # find abnormal samples indexes in the training set"
   ]
  },
  {
   "cell_type": "code",
   "execution_count": 125,
   "id": "ec1ce226-aa06-4123-a94a-ab140009a086",
   "metadata": {},
   "outputs": [],
   "source": [
    "X_train.drop(idx_abnormal, axis=0, inplace=True)  # remove abnormal samples from training (EFC trains with only benign instances)"
   ]
  },
  {
   "cell_type": "code",
   "execution_count": 126,
   "id": "bc28fc72-c485-4121-a5f5-a3905ce66c95",
   "metadata": {},
   "outputs": [],
   "source": [
    "y_train.drop(idx_abnormal, axis=0, inplace=True)  # remove the corresponding abonrmal training targets"
   ]
  },
  {
   "cell_type": "code",
   "execution_count": 127,
   "id": "a56c1a80-b7fb-49f4-8a6b-8ea1efcc36fb",
   "metadata": {},
   "outputs": [],
   "source": [
    "# EFC's hyperparameters\n",
    "Q = X_test.values.max()\n",
    "LAMBDA = 0.5  # pseudocount parameter"
   ]
  },
  {
   "cell_type": "code",
   "execution_count": 128,
   "id": "6afb9355-21d3-434c-90a1-95f4501e4762",
   "metadata": {},
   "outputs": [
    {
     "name": "stderr",
     "output_type": "stream",
     "text": [
      "100%|████████████████████████████████████████████████████████████████████████████████████████████| 166/166 [00:00<00:00, 6015.31it/s]\n",
      "100%|██████████████████████████████████████████████████████████████████████████████████████████████| 166/166 [00:44<00:00,  3.77it/s]\n",
      "100%|██████████████████████████████████████████████████████████████████████████████████████████████| 166/166 [00:01<00:00, 94.63it/s]\n",
      "100%|██████████████████████████████████████████████████████████████████████████████████████████████| 166/166 [00:01<00:00, 84.41it/s]\n"
     ]
    }
   ],
   "source": [
    "coupling, h_i, cutoff, _, _ = one_class_fit(np.array(X_train), Q, LAMBDA)  # train model"
   ]
  },
  {
   "cell_type": "code",
   "execution_count": 129,
   "id": "ce39934e-b74b-4e0d-8e2a-1a03c9b5a2e0",
   "metadata": {},
   "outputs": [],
   "source": [
    "y_predicted, energies = one_class_predict(np.array(X_test), coupling, h_i, cutoff, Q)  # test model"
   ]
  },
  {
   "cell_type": "code",
   "execution_count": 130,
   "id": "7f5ef27d-a962-4389-b41b-3f41c06a6ecd",
   "metadata": {},
   "outputs": [
    {
     "name": "stdout",
     "output_type": "stream",
     "text": [
      "Single-class results\n",
      "confusion_matrix [[10278  5309]\n",
      " [  857   226]]\n"
     ]
    }
   ],
   "source": [
    "# colect results\n",
    "confusion_matrix = confusion_matrix(y_test, y_predicted)\n",
    "print(\"Single-class results\")\n",
    "print('confusion_matrix', confusion_matrix)"
   ]
  },
  {
   "cell_type": "code",
   "execution_count": 131,
   "id": "5fc6903b-0b95-4902-9783-3be273498bd5",
   "metadata": {},
   "outputs": [],
   "source": [
    "model_score = calculate_model_score(y_true=y_test.values, y_pred=y_predicted, metric=\"f1\")"
   ]
  },
  {
   "cell_type": "code",
   "execution_count": 132,
   "id": "2f4896db-87d6-4e5e-acc2-edf0e4439886",
   "metadata": {},
   "outputs": [
    {
     "data": {
      "text/plain": [
       "np.float64(0.06829857963130856)"
      ]
     },
     "execution_count": 132,
     "metadata": {},
     "output_type": "execute_result"
    }
   ],
   "source": [
    "model_score"
   ]
  },
  {
   "cell_type": "code",
   "execution_count": 133,
   "id": "16765f63-cadf-4a93-879e-5db7a394dafc",
   "metadata": {},
   "outputs": [],
   "source": [
    "y_true = y_test.values\n",
    "y_pred = y_predicted"
   ]
  },
  {
   "cell_type": "code",
   "execution_count": 166,
   "id": "df62b58b-8b3f-458b-add1-ccef92692c0a",
   "metadata": {},
   "outputs": [],
   "source": [
    "metric_dict = {\n",
    "        \"contamination\": \"100%\",\n",
    "        \"accuracy\": accuracy_score(y_true, y_pred),\n",
    "        \"f1\": f1_score(y_true, y_pred, pos_label=1),\n",
    "        \"f1_micro\": f1_score(y_true, y_pred, average=\"micro\"),\n",
    "        \"f1_macro\": f1_score(y_true, y_pred, average=\"macro\"),\n",
    "        \"precision\": precision_score(y_true, y_pred),\n",
    "        \"recall\": recall_score(y_true, y_pred),\n",
    "        \"roc_auc\": roc_auc_score(y_true, y_pred),\n",
    "        \"model_score\": model_score,\n",
    "    }"
   ]
  },
  {
   "cell_type": "code",
   "execution_count": 167,
   "id": "df1234c0-2fa9-4b80-9164-8012ad693ab0",
   "metadata": {},
   "outputs": [
    {
     "name": "stdout",
     "output_type": "stream",
     "text": [
      "{'accuracy': 0.6301139772045591,\n",
      " 'contamination': '100%',\n",
      " 'f1': np.float64(0.06829857963130856),\n",
      " 'f1_macro': np.float64(0.4187761889998471),\n",
      " 'f1_micro': np.float64(0.6301139772045591),\n",
      " 'model_score': np.float64(0.06829857963130856),\n",
      " 'precision': np.float64(0.04083107497741644),\n",
      " 'recall': np.float64(0.20867959372114497),\n",
      " 'roc_auc': np.float64(0.4340376219712416)}\n"
     ]
    }
   ],
   "source": [
    "pprint(metric_dict)"
   ]
  },
  {
   "cell_type": "code",
   "execution_count": 168,
   "id": "d136aba7-66d8-48a0-a6b8-972d8458df57",
   "metadata": {},
   "outputs": [],
   "source": [
    "columns_metrics = [\"contamination\", \"accuracy\", \"f1\", \"f1_micro\", \"f1_macro\", \"precision\", \"recall\", \"roc_auc\", \"model_score\"]"
   ]
  },
  {
   "cell_type": "code",
   "execution_count": 169,
   "id": "6031f109-ba8a-46bf-a90b-6f941e0232bd",
   "metadata": {},
   "outputs": [],
   "source": [
    "df_efc_metrics = pd.DataFrame(data=metric_dict, columns=columns_metrics, index=[0])"
   ]
  },
  {
   "cell_type": "code",
   "execution_count": 170,
   "id": "7a822c51-77e0-4c84-8baa-65726c59e2f9",
   "metadata": {},
   "outputs": [
    {
     "data": {
      "text/html": [
       "<div>\n",
       "<style scoped>\n",
       "    .dataframe tbody tr th:only-of-type {\n",
       "        vertical-align: middle;\n",
       "    }\n",
       "\n",
       "    .dataframe tbody tr th {\n",
       "        vertical-align: top;\n",
       "    }\n",
       "\n",
       "    .dataframe thead th {\n",
       "        text-align: right;\n",
       "    }\n",
       "</style>\n",
       "<table border=\"1\" class=\"dataframe\">\n",
       "  <thead>\n",
       "    <tr style=\"text-align: right;\">\n",
       "      <th></th>\n",
       "      <th>contamination</th>\n",
       "      <th>accuracy</th>\n",
       "      <th>f1</th>\n",
       "      <th>f1_micro</th>\n",
       "      <th>f1_macro</th>\n",
       "      <th>precision</th>\n",
       "      <th>recall</th>\n",
       "      <th>roc_auc</th>\n",
       "      <th>model_score</th>\n",
       "    </tr>\n",
       "  </thead>\n",
       "  <tbody>\n",
       "    <tr>\n",
       "      <th>0</th>\n",
       "      <td>100%</td>\n",
       "      <td>0.630114</td>\n",
       "      <td>0.068299</td>\n",
       "      <td>0.630114</td>\n",
       "      <td>0.418776</td>\n",
       "      <td>0.040831</td>\n",
       "      <td>0.20868</td>\n",
       "      <td>0.434038</td>\n",
       "      <td>0.068299</td>\n",
       "    </tr>\n",
       "  </tbody>\n",
       "</table>\n",
       "</div>"
      ],
      "text/plain": [
       "  contamination  accuracy        f1  f1_micro  f1_macro  precision   recall  \\\n",
       "0          100%  0.630114  0.068299  0.630114  0.418776   0.040831  0.20868   \n",
       "\n",
       "    roc_auc  model_score  \n",
       "0  0.434038     0.068299  "
      ]
     },
     "execution_count": 170,
     "metadata": {},
     "output_type": "execute_result"
    }
   ],
   "source": [
    "df_efc_metrics"
   ]
  },
  {
   "cell_type": "code",
   "execution_count": 180,
   "id": "686931fc-3f2a-4574-a0f5-c180594142f3",
   "metadata": {},
   "outputs": [],
   "source": [
    "columns = [\"contamination\", \"True Negative\", \"False positive\", \"False Negative\", \"True Positive\"]"
   ]
  },
  {
   "cell_type": "code",
   "execution_count": 181,
   "id": "626a59ca-7775-4265-8cb7-8a2c3a9924a5",
   "metadata": {},
   "outputs": [],
   "source": [
    "confusion_matrix = {\n",
    "            \"contamination\": \"100%\",\n",
    "            \"True Negative\": 10278,\n",
    "            \"False positive\": 5309,\n",
    "            \"False Negative\": 857,\n",
    "            \"True Positive\": 226\n",
    "},"
   ]
  },
  {
   "cell_type": "code",
   "execution_count": 182,
   "id": "70332f02-95f7-42a4-9f85-b9487020b10b",
   "metadata": {},
   "outputs": [],
   "source": [
    "df_efc_confusion_matrix = pd.DataFrame(data=confusion_matrix, columns=columns)"
   ]
  },
  {
   "cell_type": "code",
   "execution_count": 183,
   "id": "be199980-aeb4-4070-8283-c2568903da74",
   "metadata": {},
   "outputs": [
    {
     "data": {
      "text/html": [
       "<div>\n",
       "<style scoped>\n",
       "    .dataframe tbody tr th:only-of-type {\n",
       "        vertical-align: middle;\n",
       "    }\n",
       "\n",
       "    .dataframe tbody tr th {\n",
       "        vertical-align: top;\n",
       "    }\n",
       "\n",
       "    .dataframe thead th {\n",
       "        text-align: right;\n",
       "    }\n",
       "</style>\n",
       "<table border=\"1\" class=\"dataframe\">\n",
       "  <thead>\n",
       "    <tr style=\"text-align: right;\">\n",
       "      <th></th>\n",
       "      <th>contamination</th>\n",
       "      <th>True Negative</th>\n",
       "      <th>False positive</th>\n",
       "      <th>False Negative</th>\n",
       "      <th>True Positive</th>\n",
       "    </tr>\n",
       "  </thead>\n",
       "  <tbody>\n",
       "    <tr>\n",
       "      <th>0</th>\n",
       "      <td>100%</td>\n",
       "      <td>10278</td>\n",
       "      <td>5309</td>\n",
       "      <td>857</td>\n",
       "      <td>226</td>\n",
       "    </tr>\n",
       "  </tbody>\n",
       "</table>\n",
       "</div>"
      ],
      "text/plain": [
       "  contamination  True Negative  False positive  False Negative  True Positive\n",
       "0          100%          10278            5309             857            226"
      ]
     },
     "execution_count": 183,
     "metadata": {},
     "output_type": "execute_result"
    }
   ],
   "source": [
    "df_efc_confusion_matrix"
   ]
  },
  {
   "cell_type": "markdown",
   "id": "c4324d10-3f77-4d65-9884-2793b62f936e",
   "metadata": {},
   "source": [
    "### Train EFC With 5% Labeled Elliptic Data Set"
   ]
  },
  {
   "cell_type": "code",
   "execution_count": 184,
   "id": "cdbddc03-5266-42ea-ac6d-4ee95ac1042c",
   "metadata": {},
   "outputs": [
    {
     "name": "stderr",
     "output_type": "stream",
     "text": [
      "/Users/kevinaraujo/repos/dissertation/PPCA-UnB-Dissertation/models/notebooks/research_aml_elliptic/src/experiments/general_functions/elliptic_data_preprocessing.py:46: FutureWarning: Downcasting behavior in `replace` is deprecated and will be removed in a future version. To retain the old behavior, explicitly call `result.infer_objects(copy=False)`. To opt-in to the future behavior, set `pd.set_option('future.no_silent_downcasting', True)`\n",
      "  df_classes.replace({\"class\": {\"1\": 1, \"2\": 0, \"unknown\": 2}}, inplace=True)\n"
     ]
    }
   ],
   "source": [
    "# elliptic data set from reaml repo\n",
    "X_train_5, X_test_5, y_train_5, y_test_5 = run_elliptic_preprocessing_pipeline(last_train_time_step=last_train_time_step,\n",
    "                                                                             last_time_step=last_time_step,\n",
    "                                                                             only_labeled=only_labeled)"
   ]
  },
  {
   "cell_type": "code",
   "execution_count": 185,
   "id": "e4a83142-799f-4647-9a5b-393baf5c56c9",
   "metadata": {},
   "outputs": [
    {
     "name": "stderr",
     "output_type": "stream",
     "text": [
      "/Users/kevinaraujo/repos/dissertation/PPCA-UnB-Dissertation/models/notebooks/efc_python/generic_discretize.py:42: FutureWarning: A value is trying to be set on a copy of a DataFrame or Series through chained assignment using an inplace method.\n",
      "The behavior will change in pandas 3.0. This inplace method will never work because the intermediate object on which we are setting values always behaves as a copy.\n",
      "\n",
      "For example, when doing 'df[col].method(value, inplace=True)', try using 'df.method({col: value}, inplace=True)' or df[col] = df[col].method(value) instead, to perform the operation inplace on the original object.\n",
      "\n",
      "\n",
      "  data.iloc[:, feature].fillna(len(intervals[feature]), inplace=True)\n",
      "/Users/kevinaraujo/repos/dissertation/PPCA-UnB-Dissertation/models/notebooks/efc_python/generic_discretize.py:35: FutureWarning: Setting an item of incompatible dtype is deprecated and will raise in a future error of pandas. Value '29894   NaN\n",
      "29895   NaN\n",
      "29896   NaN\n",
      "29897   NaN\n",
      "29898   NaN\n",
      "         ..\n",
      "46559   NaN\n",
      "46560   NaN\n",
      "46561   NaN\n",
      "46562   NaN\n",
      "46563   NaN\n",
      "Name: time_step, Length: 16670, dtype: float64' has dtype incompatible with int64, please explicitly cast to a compatible dtype first.\n",
      "  data.iloc[:, feature] = pd.cut(\n",
      "/Users/kevinaraujo/repos/dissertation/PPCA-UnB-Dissertation/models/notebooks/efc_python/generic_discretize.py:42: FutureWarning: A value is trying to be set on a copy of a DataFrame or Series through chained assignment using an inplace method.\n",
      "The behavior will change in pandas 3.0. This inplace method will never work because the intermediate object on which we are setting values always behaves as a copy.\n",
      "\n",
      "For example, when doing 'df[col].method(value, inplace=True)', try using 'df.method({col: value}, inplace=True)' or df[col] = df[col].method(value) instead, to perform the operation inplace on the original object.\n",
      "\n",
      "\n",
      "  data.iloc[:, feature].fillna(len(intervals[feature]), inplace=True)\n"
     ]
    }
   ],
   "source": [
    "# efc preps\n",
    "intervals = get_intervals(X_train_5, 10)  # get discretization intervals from train set\n",
    "X_train_5 = discretize(X_train_5, intervals)  # discretize train\n",
    "X_test_5 = discretize(X_test_5, intervals)  # discretize test"
   ]
  },
  {
   "cell_type": "code",
   "execution_count": 186,
   "id": "347e729b-e63d-4c15-91d7-8c36e54cdfb2",
   "metadata": {},
   "outputs": [],
   "source": [
    "indices_illicit = np.where(y_train_5 == 1)[0]"
   ]
  },
  {
   "cell_type": "code",
   "execution_count": 187,
   "id": "aa0ef24b-bd33-4576-93d8-b0bccf315d03",
   "metadata": {},
   "outputs": [],
   "source": [
    "drop_indices_illicit = np.random.choice(indices_illicit, size=ceil(len(indices_illicit) * 0.95))"
   ]
  },
  {
   "cell_type": "code",
   "execution_count": 188,
   "id": "53571cc1-b628-4bb0-822b-d1d86e18d1fd",
   "metadata": {},
   "outputs": [],
   "source": [
    "# retrieve idxs abnormals and choose 95% of them\n",
    "# abnormals == class1 (illicit)\n",
    "# drop random labeled indices\n",
    "X_train_5.drop(drop_indices_illicit, axis=0, inplace=True)  # remove abnormal samples from training (EFC trains with only benign instances)\n",
    "y_train_5.drop(drop_indices_illicit, axis=0, inplace=True)  # remove the corresponding abonrmal training targets"
   ]
  },
  {
   "cell_type": "code",
   "execution_count": 189,
   "id": "25596466-bc69-4229-b64c-595976b46254",
   "metadata": {},
   "outputs": [],
   "source": [
    "# EFC's hyperparameters\n",
    "Q = np.int64(X_test.values.max())\n",
    "LAMBDA = 0.5  # pseudocount parameter"
   ]
  },
  {
   "cell_type": "code",
   "execution_count": 190,
   "id": "37cff614-eb48-4435-833e-fd8d952aea26",
   "metadata": {},
   "outputs": [
    {
     "name": "stderr",
     "output_type": "stream",
     "text": [
      "100%|████████████████████████████████████████████████████████████████████████████████████████████| 166/166 [00:00<00:00, 5428.21it/s]\n",
      "100%|██████████████████████████████████████████████████████████████████████████████████████████████| 166/166 [00:45<00:00,  3.67it/s]\n",
      "100%|██████████████████████████████████████████████████████████████████████████████████████████████| 166/166 [00:01<00:00, 94.53it/s]\n",
      "100%|██████████████████████████████████████████████████████████████████████████████████████████████| 166/166 [00:01<00:00, 87.88it/s]\n"
     ]
    }
   ],
   "source": [
    "coupling, h_i, cutoff, _, _ = one_class_fit(np.array(X_train_5), Q, LAMBDA)  # train model"
   ]
  },
  {
   "cell_type": "code",
   "execution_count": 192,
   "id": "c948ddec-375c-4f9c-9aa5-2cae014446c7",
   "metadata": {},
   "outputs": [],
   "source": [
    "y_predicted_5, energies = one_class_predict(np.array(X_test_5), coupling, h_i, cutoff, Q)  # test model"
   ]
  },
  {
   "cell_type": "code",
   "execution_count": 201,
   "id": "604a6814-07fe-483c-885c-19495494aebf",
   "metadata": {},
   "outputs": [
    {
     "name": "stdout",
     "output_type": "stream",
     "text": [
      "Single-class results\n",
      "confusion_matrix [[10273  5314]\n",
      " [  891   192]]\n"
     ]
    }
   ],
   "source": [
    "# colect results\n",
    "confusion_matrix_5 = confusion_matrix(y_test_5, y_predicted_5)\n",
    "print(\"Single-class results\")\n",
    "print('confusion_matrix', confusion_matrix_5)"
   ]
  },
  {
   "cell_type": "code",
   "execution_count": 202,
   "id": "2b3e570a-cb95-47e0-80c0-fb3a3004247c",
   "metadata": {},
   "outputs": [],
   "source": [
    "model_score_5 = calculate_model_score(y_true=y_test.values, y_pred=y_predicted, metric=\"f1\")"
   ]
  },
  {
   "cell_type": "code",
   "execution_count": 203,
   "id": "a689aa84-5d2d-48b5-9054-2bd758fbde25",
   "metadata": {},
   "outputs": [],
   "source": [
    "y_true_5 = y_test_5.values\n",
    "y_pred_5 = y_predicted_5"
   ]
  },
  {
   "cell_type": "code",
   "execution_count": 204,
   "id": "ac0206b2-774b-44cf-8273-98bf25039c7d",
   "metadata": {},
   "outputs": [],
   "source": [
    "metric_dict_5 = {\n",
    "        \"contamination\": \"5%\",\n",
    "        \"accuracy\": accuracy_score(y_true, y_pred),\n",
    "        \"f1\": f1_score(y_true, y_pred, pos_label=1),\n",
    "        \"f1_micro\": f1_score(y_true, y_pred, average=\"micro\"),\n",
    "        \"f1_macro\": f1_score(y_true, y_pred, average=\"macro\"),\n",
    "        \"precision\": precision_score(y_true, y_pred),\n",
    "        \"recall\": recall_score(y_true, y_pred),\n",
    "        \"roc_auc\": roc_auc_score(y_true, y_pred),\n",
    "        \"model_score\": model_score_5,\n",
    "    }"
   ]
  },
  {
   "cell_type": "code",
   "execution_count": 205,
   "id": "6b60daa0-4605-4c4e-9242-9326fbb91f51",
   "metadata": {},
   "outputs": [
    {
     "name": "stdout",
     "output_type": "stream",
     "text": [
      "{'accuracy': 0.6301139772045591,\n",
      " 'contamination': '5%',\n",
      " 'f1': np.float64(0.06829857963130856),\n",
      " 'f1_macro': np.float64(0.4187761889998471),\n",
      " 'f1_micro': np.float64(0.6301139772045591),\n",
      " 'model_score': np.float64(0.06829857963130856),\n",
      " 'precision': np.float64(0.04083107497741644),\n",
      " 'recall': np.float64(0.20867959372114497),\n",
      " 'roc_auc': np.float64(0.4340376219712416)}\n"
     ]
    }
   ],
   "source": [
    "pprint(metric_dict_5)"
   ]
  },
  {
   "cell_type": "code",
   "execution_count": 208,
   "id": "8f7ddff0-9f2c-412e-8518-e847d1d1860b",
   "metadata": {},
   "outputs": [],
   "source": [
    "df_efc_metrics.loc[1] = metric_dict_5"
   ]
  },
  {
   "cell_type": "code",
   "execution_count": 209,
   "id": "497c4d31-e20f-486e-839e-7b60a87b099d",
   "metadata": {},
   "outputs": [
    {
     "data": {
      "text/html": [
       "<div>\n",
       "<style scoped>\n",
       "    .dataframe tbody tr th:only-of-type {\n",
       "        vertical-align: middle;\n",
       "    }\n",
       "\n",
       "    .dataframe tbody tr th {\n",
       "        vertical-align: top;\n",
       "    }\n",
       "\n",
       "    .dataframe thead th {\n",
       "        text-align: right;\n",
       "    }\n",
       "</style>\n",
       "<table border=\"1\" class=\"dataframe\">\n",
       "  <thead>\n",
       "    <tr style=\"text-align: right;\">\n",
       "      <th></th>\n",
       "      <th>contamination</th>\n",
       "      <th>accuracy</th>\n",
       "      <th>f1</th>\n",
       "      <th>f1_micro</th>\n",
       "      <th>f1_macro</th>\n",
       "      <th>precision</th>\n",
       "      <th>recall</th>\n",
       "      <th>roc_auc</th>\n",
       "      <th>model_score</th>\n",
       "    </tr>\n",
       "  </thead>\n",
       "  <tbody>\n",
       "    <tr>\n",
       "      <th>0</th>\n",
       "      <td>100%</td>\n",
       "      <td>0.630114</td>\n",
       "      <td>0.068299</td>\n",
       "      <td>0.630114</td>\n",
       "      <td>0.418776</td>\n",
       "      <td>0.040831</td>\n",
       "      <td>0.20868</td>\n",
       "      <td>0.434038</td>\n",
       "      <td>0.068299</td>\n",
       "    </tr>\n",
       "    <tr>\n",
       "      <th>1</th>\n",
       "      <td>5%</td>\n",
       "      <td>0.630114</td>\n",
       "      <td>0.068299</td>\n",
       "      <td>0.630114</td>\n",
       "      <td>0.418776</td>\n",
       "      <td>0.040831</td>\n",
       "      <td>0.20868</td>\n",
       "      <td>0.434038</td>\n",
       "      <td>0.068299</td>\n",
       "    </tr>\n",
       "  </tbody>\n",
       "</table>\n",
       "</div>"
      ],
      "text/plain": [
       "  contamination  accuracy        f1  f1_micro  f1_macro  precision   recall  \\\n",
       "0          100%  0.630114  0.068299  0.630114  0.418776   0.040831  0.20868   \n",
       "1            5%  0.630114  0.068299  0.630114  0.418776   0.040831  0.20868   \n",
       "\n",
       "    roc_auc  model_score  \n",
       "0  0.434038     0.068299  \n",
       "1  0.434038     0.068299  "
      ]
     },
     "execution_count": 209,
     "metadata": {},
     "output_type": "execute_result"
    }
   ],
   "source": [
    "df_efc_metrics"
   ]
  },
  {
   "cell_type": "code",
   "execution_count": 214,
   "id": "6ecc85bf-0574-4c82-8c7a-b0c9249c54dd",
   "metadata": {},
   "outputs": [],
   "source": [
    "confusion_matrix_5 = {\n",
    "            \"contamination\": \"5%\",\n",
    "            \"True Negative\": 10273,\n",
    "            \"False positive\": 5314,\n",
    "            \"False Negative\": 891,\n",
    "            \"True Positive\": 192\n",
    "}"
   ]
  },
  {
   "cell_type": "code",
   "execution_count": 215,
   "id": "1525f882-a741-4b20-b1c9-795b2df2fd2c",
   "metadata": {},
   "outputs": [],
   "source": [
    "df_efc_confusion_matrix.loc[1] = confusion_matrix_5"
   ]
  },
  {
   "cell_type": "code",
   "execution_count": 216,
   "id": "50aba7ea-abb7-4d09-85d9-57dd6d22cdbf",
   "metadata": {},
   "outputs": [
    {
     "data": {
      "text/html": [
       "<div>\n",
       "<style scoped>\n",
       "    .dataframe tbody tr th:only-of-type {\n",
       "        vertical-align: middle;\n",
       "    }\n",
       "\n",
       "    .dataframe tbody tr th {\n",
       "        vertical-align: top;\n",
       "    }\n",
       "\n",
       "    .dataframe thead th {\n",
       "        text-align: right;\n",
       "    }\n",
       "</style>\n",
       "<table border=\"1\" class=\"dataframe\">\n",
       "  <thead>\n",
       "    <tr style=\"text-align: right;\">\n",
       "      <th></th>\n",
       "      <th>contamination</th>\n",
       "      <th>True Negative</th>\n",
       "      <th>False positive</th>\n",
       "      <th>False Negative</th>\n",
       "      <th>True Positive</th>\n",
       "    </tr>\n",
       "  </thead>\n",
       "  <tbody>\n",
       "    <tr>\n",
       "      <th>0</th>\n",
       "      <td>100%</td>\n",
       "      <td>10278</td>\n",
       "      <td>5309</td>\n",
       "      <td>857</td>\n",
       "      <td>226</td>\n",
       "    </tr>\n",
       "    <tr>\n",
       "      <th>1</th>\n",
       "      <td>5%</td>\n",
       "      <td>10273</td>\n",
       "      <td>5314</td>\n",
       "      <td>891</td>\n",
       "      <td>192</td>\n",
       "    </tr>\n",
       "  </tbody>\n",
       "</table>\n",
       "</div>"
      ],
      "text/plain": [
       "  contamination  True Negative  False positive  False Negative  True Positive\n",
       "0          100%          10278            5309             857            226\n",
       "1            5%          10273            5314             891            192"
      ]
     },
     "execution_count": 216,
     "metadata": {},
     "output_type": "execute_result"
    }
   ],
   "source": [
    "df_efc_confusion_matrix"
   ]
  },
  {
   "cell_type": "markdown",
   "id": "9dc2cb73-e1dc-4a72-8769-c6943f57b704",
   "metadata": {},
   "source": [
    "### Train EFC With 10% Labeled Elliptic Data Set"
   ]
  },
  {
   "cell_type": "code",
   "execution_count": null,
   "id": "ce6ee7b2-6d3c-402b-aa23-e9f6f456e6d2",
   "metadata": {},
   "outputs": [],
   "source": [
    "# elliptic data set from reaml repo\n",
    "X_train, X_test, y_train, y_test = run_elliptic_preprocessing_pipeline(last_train_time_step=last_train_time_step,\n",
    "                                                                             last_time_step=last_time_step,\n",
    "                                                                             only_labeled=only_labeled)"
   ]
  },
  {
   "cell_type": "code",
   "execution_count": null,
   "id": "e121799b-5ade-42d7-9092-272895c56074",
   "metadata": {},
   "outputs": [],
   "source": [
    "# efc preps\n",
    "intervals = get_intervals(X_train, 10)  # get discretization intervals from train set\n",
    "X_train = discretize(X_train, intervals)  # discretize train\n",
    "X_test = discretize(X_test, intervals)  # discretize test"
   ]
  },
  {
   "cell_type": "code",
   "execution_count": null,
   "id": "08e56697-4a6a-437d-acba-ff70add82b19",
   "metadata": {},
   "outputs": [],
   "source": [
    "indices_illicit = np.where(y_train == 1)[0]"
   ]
  },
  {
   "cell_type": "code",
   "execution_count": null,
   "id": "2613995b-a81c-4415-b89f-4b66d25b467a",
   "metadata": {},
   "outputs": [],
   "source": [
    "drop_indices_illicit = np.random.choice(indices_illicit, size=ceil(len(indices_illicit) * 0.90))"
   ]
  },
  {
   "cell_type": "code",
   "execution_count": null,
   "id": "644b380d-0780-4bca-a42c-ec5bc16a4f3c",
   "metadata": {},
   "outputs": [],
   "source": [
    "# retrieve idxs abnormals and choose 90% of them\n",
    "# abnormals == class1 (illicit)\n",
    "# drop random labeled indices\n",
    "X_train.drop(drop_indices_illicit, axis=0, inplace=True)  # remove abnormal samples from training (EFC trains with only benign instances)\n",
    "y_train.drop(drop_indices_illicit, axis=0, inplace=True)  # remove the corresponding abonrmal training targets"
   ]
  },
  {
   "cell_type": "code",
   "execution_count": null,
   "id": "83a055a1-abd6-426e-9bbd-72c7a23be5cf",
   "metadata": {},
   "outputs": [],
   "source": [
    "X_train"
   ]
  },
  {
   "cell_type": "code",
   "execution_count": null,
   "id": "f26dabf3-a1e6-4650-a90f-c491c67fb160",
   "metadata": {},
   "outputs": [],
   "source": [
    "# EFC's hyperparameters\n",
    "Q = np.int64(X_test.values.max())\n",
    "LAMBDA = 0.5  # pseudocount parameter"
   ]
  },
  {
   "cell_type": "code",
   "execution_count": null,
   "id": "2e645099-0be1-4803-9dc8-488d25c7d613",
   "metadata": {},
   "outputs": [],
   "source": [
    "coupling, h_i, cutoff, _, _ = one_class_fit(np.array(X_train), Q, LAMBDA)  # train model"
   ]
  },
  {
   "cell_type": "code",
   "execution_count": null,
   "id": "8c7718c4-2827-42ab-89dc-e6ac494ca315",
   "metadata": {},
   "outputs": [],
   "source": [
    "y_predicted, energies = one_class_predict(np.array(X_test), coupling, h_i, cutoff, Q)  # test model"
   ]
  },
  {
   "cell_type": "code",
   "execution_count": null,
   "id": "8d2ebf5d-3317-4b54-8a9f-8776decc2d79",
   "metadata": {},
   "outputs": [],
   "source": [
    "model_score = calculate_model_score(y_true=y_test.values, y_pred=y_predicted, metric=\"f1\")\n",
    "model_score"
   ]
  },
  {
   "cell_type": "code",
   "execution_count": null,
   "id": "6ccdb079-00b5-4094-99cc-121f10260061",
   "metadata": {},
   "outputs": [],
   "source": [
    "y_true = y_test.values\n",
    "y_pred = y_predicted"
   ]
  },
  {
   "cell_type": "code",
   "execution_count": null,
   "id": "2de72904-f7fa-4a99-84aa-d400a87d515e",
   "metadata": {},
   "outputs": [],
   "source": [
    "metric_dict = {\n",
    "        \"accuracy\": accuracy_score(y_true, y_pred),\n",
    "        \"f1\": f1_score(y_true, y_pred, pos_label=1),\n",
    "        \"f1_micro\": f1_score(y_true, y_pred, average=\"micro\"),\n",
    "        \"f1_macro\": f1_score(y_true, y_pred, average=\"macro\"),\n",
    "        \"precision\": precision_score(y_true, y_pred),\n",
    "        \"recall\": recall_score(y_true, y_pred),\n",
    "        \"roc_auc\": roc_auc_score(y_true, y_pred),\n",
    "    }"
   ]
  },
  {
   "cell_type": "code",
   "execution_count": null,
   "id": "ded113ee-8a33-422c-87e4-76e7e30203ed",
   "metadata": {},
   "outputs": [],
   "source": [
    "pprint(metric_dict)"
   ]
  },
  {
   "cell_type": "code",
   "execution_count": null,
   "id": "91343226-f0ce-4e50-9ba7-3e852522b51b",
   "metadata": {},
   "outputs": [],
   "source": [
    "# colect results\n",
    "print(\"Single-class results\")\n",
    "print('confusion_matrix', confusion_matrix(y_test, y_predicted))"
   ]
  },
  {
   "cell_type": "markdown",
   "id": "865981bb-8d91-480b-99dc-30f3c3a7c7aa",
   "metadata": {},
   "source": [
    "### Train EFC With 100% Labeled Elliptic Data Set"
   ]
  },
  {
   "cell_type": "code",
   "execution_count": null,
   "id": "74d61813-fe30-4f51-9356-eb53a31f7bfd",
   "metadata": {},
   "outputs": [],
   "source": [
    "# elliptic data set from reaml repo\n",
    "X_train, X_test, y_train, y_test = run_elliptic_preprocessing_pipeline(last_train_time_step=last_train_time_step,\n",
    "                                                                             last_time_step=last_time_step,\n",
    "                                                                             only_labeled=only_labeled)"
   ]
  },
  {
   "cell_type": "code",
   "execution_count": null,
   "id": "5e93a6d6-721a-40bf-8b75-8cda57022724",
   "metadata": {},
   "outputs": [],
   "source": [
    "# efc preps\n",
    "intervals = get_intervals(X_train, 10)  # get discretization intervals from train set\n",
    "X_train = discretize(X_train, intervals)  # discretize train\n",
    "X_test = discretize(X_test, intervals)  # discretize test"
   ]
  },
  {
   "cell_type": "code",
   "execution_count": null,
   "id": "7e967106-506c-4c26-a00d-0d06ad650334",
   "metadata": {},
   "outputs": [],
   "source": [
    "# EFC's hyperparameters\n",
    "Q = np.int64(X_test.values.max())\n",
    "LAMBDA = 0.5  # pseudocount parameter"
   ]
  },
  {
   "cell_type": "code",
   "execution_count": null,
   "id": "1fef0346-1758-4f8e-833b-a591e84d11ed",
   "metadata": {},
   "outputs": [],
   "source": [
    "coupling, h_i, cutoff, _, _ = one_class_fit(np.array(X_train), Q, LAMBDA)  # train model"
   ]
  },
  {
   "cell_type": "code",
   "execution_count": null,
   "id": "db1704f9-2424-46df-9512-026af0c73b78",
   "metadata": {},
   "outputs": [],
   "source": [
    "y_predicted, energies = one_class_predict(np.array(X_test), coupling, h_i, cutoff, Q)  # test model"
   ]
  },
  {
   "cell_type": "code",
   "execution_count": null,
   "id": "55a9142f-bce0-4778-b36d-c8a7a9668ea3",
   "metadata": {},
   "outputs": [],
   "source": [
    "model_score = calculate_model_score(y_true=y_test.values, y_pred=y_predicted, metric=\"f1\")\n",
    "model_score"
   ]
  },
  {
   "cell_type": "code",
   "execution_count": null,
   "id": "7f57db42-a19f-4050-9f4f-eeb3fcd30644",
   "metadata": {},
   "outputs": [],
   "source": [
    "y_true = y_test.values\n",
    "y_pred = y_predicted"
   ]
  },
  {
   "cell_type": "code",
   "execution_count": null,
   "id": "43003c39-129e-400f-887f-4205efec1a4e",
   "metadata": {},
   "outputs": [],
   "source": [
    "metric_dict = {\n",
    "        \"accuracy\": accuracy_score(y_true, y_pred),\n",
    "        \"f1\": f1_score(y_true, y_pred, pos_label=1),\n",
    "        \"f1_micro\": f1_score(y_true, y_pred, average=\"micro\"),\n",
    "        \"f1_macro\": f1_score(y_true, y_pred, average=\"macro\"),\n",
    "        \"precision\": precision_score(y_true, y_pred),\n",
    "        \"recall\": recall_score(y_true, y_pred),\n",
    "        \"roc_auc\": roc_auc_score(y_true, y_pred),\n",
    "    }"
   ]
  },
  {
   "cell_type": "code",
   "execution_count": null,
   "id": "dd8b5e9a-5826-43d2-bd2d-2e96802b407a",
   "metadata": {},
   "outputs": [],
   "source": [
    "pprint(metric_dict)"
   ]
  },
  {
   "cell_type": "markdown",
   "id": "46a8a261-b2dc-4d99-b508-9bf5871b0989",
   "metadata": {},
   "source": [
    "### Train EFC Without Labeled Data"
   ]
  },
  {
   "cell_type": "code",
   "execution_count": null,
   "id": "4967268e-b9b8-4cd0-9dd1-5c3c9e3fc9b5",
   "metadata": {},
   "outputs": [],
   "source": [
    "# elliptic data set from reaml repo\n",
    "X_train, X_test, y_train, y_test = run_elliptic_preprocessing_pipeline(last_train_time_step=last_train_time_step,\n",
    "                                                                             last_time_step=last_time_step,\n",
    "                                                                             only_labeled=only_labeled)"
   ]
  },
  {
   "cell_type": "code",
   "execution_count": null,
   "id": "560f22c4-13f0-4a18-ab2b-92c34eaca996",
   "metadata": {},
   "outputs": [],
   "source": [
    "# efc preps\n",
    "intervals = get_intervals(X_train, 10)  # get discretization intervals from train set\n",
    "X_train = discretize(X_train, intervals)  # discretize train\n",
    "X_test = discretize(X_test, intervals)  # discretize test"
   ]
  },
  {
   "cell_type": "code",
   "execution_count": null,
   "id": "9e7b13c0-9675-4ae3-9cb4-a759fde01c37",
   "metadata": {},
   "outputs": [],
   "source": [
    "idx_abnormal = np.where(y_train == 1)[0]  # find abnormal samples indexes in the training set\n",
    "X_train.drop(idx_abnormal, axis=0, inplace=True)  # remove abnormal samples from training (EFC trains with only benign instances)\n",
    "y_train.drop(idx_abnormal, axis=0, inplace=True)  # remove the corresponding abonrmal training targets"
   ]
  },
  {
   "cell_type": "code",
   "execution_count": null,
   "id": "efc76259-d924-4b17-8678-8df9796e2610",
   "metadata": {},
   "outputs": [],
   "source": [
    "# EFC's hyperparameters\n",
    "Q = np.int64(X_test.values.max())\n",
    "LAMBDA = 0.5  # pseudocount parameter"
   ]
  },
  {
   "cell_type": "code",
   "execution_count": null,
   "id": "6238ebe7-f19b-430f-b8ba-16b9e44fb28f",
   "metadata": {},
   "outputs": [],
   "source": [
    "coupling, h_i, cutoff, _, _ = one_class_fit(np.array(X_train), Q, LAMBDA)  # train model"
   ]
  },
  {
   "cell_type": "code",
   "execution_count": null,
   "id": "d288cc46-c729-42d9-8504-bed87eee6407",
   "metadata": {},
   "outputs": [],
   "source": [
    "y_predicted, energies = one_class_predict(np.array(X_test), coupling, h_i, cutoff, Q)  # test model"
   ]
  },
  {
   "cell_type": "code",
   "execution_count": null,
   "id": "4d7afd34-d321-4a68-8f92-295b21b8961b",
   "metadata": {},
   "outputs": [],
   "source": [
    "model_score = calculate_model_score(y_true=y_test.values, y_pred=y_predicted, metric=\"f1\")"
   ]
  },
  {
   "cell_type": "code",
   "execution_count": null,
   "id": "8510589b-860a-4c7e-9824-31abd31108c3",
   "metadata": {},
   "outputs": [],
   "source": [
    "y_true = y_test.values\n",
    "y_pred = y_predicted"
   ]
  },
  {
   "cell_type": "code",
   "execution_count": null,
   "id": "028a2ac0-e453-4d15-ab6a-ce44826128e8",
   "metadata": {},
   "outputs": [],
   "source": [
    "metric_dict = {\n",
    "        \"accuracy\": accuracy_score(y_true, y_pred),\n",
    "        \"f1\": f1_score(y_true, y_pred, pos_label=1),\n",
    "        \"f1_micro\": f1_score(y_true, y_pred, average=\"micro\"),\n",
    "        \"f1_macro\": f1_score(y_true, y_pred, average=\"macro\"),\n",
    "        \"precision\": precision_score(y_true, y_pred),\n",
    "        \"recall\": recall_score(y_true, y_pred),\n",
    "        \"roc_auc\": roc_auc_score(y_true, y_pred),\n",
    "    }"
   ]
  },
  {
   "cell_type": "code",
   "execution_count": null,
   "id": "79b5a08c-8c66-4180-a73e-b1dcc43dd997",
   "metadata": {},
   "outputs": [],
   "source": [
    "pprint(metric_dict)"
   ]
  },
  {
   "cell_type": "markdown",
   "id": "80ab253a-a2c8-44a3-b45f-38723cf69d3e",
   "metadata": {},
   "source": [
    "### Train EFC Without Discretization"
   ]
  },
  {
   "cell_type": "code",
   "execution_count": null,
   "id": "f33f9c5e-cc6d-4a26-ab9a-c2ef9afceeb0",
   "metadata": {},
   "outputs": [],
   "source": [
    "# elliptic data set from reaml repo\n",
    "X_train, X_test, y_train, y_test = run_elliptic_preprocessing_pipeline(last_train_time_step=last_train_time_step,\n",
    "                                                                             last_time_step=last_time_step,\n",
    "                                                                             only_labeled=only_labeled)"
   ]
  },
  {
   "cell_type": "code",
   "execution_count": null,
   "id": "050f0999-318a-4b40-995f-7689c2fd821a",
   "metadata": {},
   "outputs": [],
   "source": [
    "# EFC's hyperparameters\n",
    "Q = np.int64(X_test.values.max())\n",
    "LAMBDA = 0.5  # pseudocount parameter"
   ]
  },
  {
   "cell_type": "code",
   "execution_count": null,
   "id": "e8203e83-917c-41e9-9701-6df02f4fa5c5",
   "metadata": {},
   "outputs": [],
   "source": [
    "# train model\n",
    "coupling, h_i, cutoff, _, _ = one_class_fit(np.array(X_train), Q, LAMBDA)"
   ]
  },
  {
   "cell_type": "code",
   "execution_count": null,
   "id": "be07494a-b930-4187-8ebb-a4347c584212",
   "metadata": {},
   "outputs": [],
   "source": [
    "y_predicted, energies = one_class_predict(np.array(X_test), coupling, h_i, cutoff, Q)  # test model"
   ]
  },
  {
   "cell_type": "code",
   "execution_count": null,
   "id": "1fa1634c-532e-4859-9033-03f0748c6fcf",
   "metadata": {},
   "outputs": [],
   "source": [
    "model_score = calculate_model_score(y_true=y_test.values, y_pred=y_predicted, metric=\"f1\")"
   ]
  },
  {
   "cell_type": "code",
   "execution_count": null,
   "id": "d5ff6975-1ab9-4e1a-be3b-b22a1e5293d6",
   "metadata": {},
   "outputs": [],
   "source": [
    "y_true = y_test.values\n",
    "y_pred = y_predicted"
   ]
  },
  {
   "cell_type": "code",
   "execution_count": null,
   "id": "e6e13d8a-f75d-4090-bfd9-ccb799416b22",
   "metadata": {},
   "outputs": [],
   "source": [
    "metric_dict = {\n",
    "        \"accuracy\": accuracy_score(y_true, y_pred),\n",
    "        \"f1\": f1_score(y_true, y_pred, pos_label=1),\n",
    "        \"f1_micro\": f1_score(y_true, y_pred, average=\"micro\"),\n",
    "        \"f1_macro\": f1_score(y_true, y_pred, average=\"macro\"),\n",
    "        \"precision\": precision_score(y_true, y_pred),\n",
    "        \"recall\": recall_score(y_true, y_pred),\n",
    "        \"roc_auc\": roc_auc_score(y_true, y_pred),\n",
    "    }"
   ]
  },
  {
   "cell_type": "code",
   "execution_count": null,
   "id": "908701d2-2850-40a9-b637-3de9a01eb0fa",
   "metadata": {},
   "outputs": [],
   "source": [
    "pprint(metric_dict)"
   ]
  }
 ],
 "metadata": {
  "kernelspec": {
   "display_name": "masters",
   "language": "python",
   "name": "masters"
  },
  "language_info": {
   "codemirror_mode": {
    "name": "ipython",
    "version": 3
   },
   "file_extension": ".py",
   "mimetype": "text/x-python",
   "name": "python",
   "nbconvert_exporter": "python",
   "pygments_lexer": "ipython3",
   "version": "3.12.1"
  }
 },
 "nbformat": 4,
 "nbformat_minor": 5
}
