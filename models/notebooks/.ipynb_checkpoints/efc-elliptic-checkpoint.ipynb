{
 "cells": [
  {
   "cell_type": "markdown",
   "id": "f62e62d6-1e86-4b7e-a91c-d1e7edfda99b",
   "metadata": {},
   "source": [
    "### Dataset"
   ]
  },
  {
   "cell_type": "code",
   "execution_count": null,
   "id": "59bf2075-883f-48cf-97a8-853a079c5786",
   "metadata": {},
   "outputs": [],
   "source": [
    "import os\n",
    "import sys\n",
    "\n",
    "import numpy as np\n",
    "import pandas as pd\n",
    "from matplotlib import pyplot as plt"
   ]
  },
  {
   "cell_type": "code",
   "execution_count": null,
   "id": "248e2dc8-891e-401e-8964-73f34fce281b",
   "metadata": {},
   "outputs": [],
   "source": [
    "ROOT_DIR = os.getcwd() + '/research_aml_elliptic'\n",
    "sys.path.insert(0, os.path.join(ROOT_DIR, \"src\"))"
   ]
  },
  {
   "cell_type": "code",
   "execution_count": null,
   "id": "595f934e-012c-4983-81c4-653b812c7c8b",
   "metadata": {},
   "outputs": [],
   "source": [
    "# Import Elliptic data set and set variables\n",
    "last_time_step = 49\n",
    "last_train_time_step = 34\n",
    "only_labeled = True"
   ]
  },
  {
   "cell_type": "code",
   "execution_count": null,
   "id": "1ba40635-06e9-44be-b7ae-86704803ebf0",
   "metadata": {},
   "outputs": [],
   "source": [
    "def train_test_split(X, y, train_test_idx):\n",
    "    X_train_df = X.loc[train_test_idx[\"train\"]]\n",
    "    X_test_df = X.loc[train_test_idx[\"test\"]]\n",
    "\n",
    "    y_train = y.loc[train_test_idx[\"train\"]]\n",
    "    y_test = y.loc[train_test_idx[\"test\"]]\n",
    "\n",
    "    return X_train_df, X_test_df, y_train, y_test"
   ]
  },
  {
   "cell_type": "code",
   "execution_count": null,
   "id": "d54a7c33-72c5-4c59-86df-9d22bb289127",
   "metadata": {},
   "outputs": [],
   "source": [
    "def setup_train_test_idx(\n",
    "    X, last_train_time_step, last_time_step, aggregated_timestamp_column=\"time_step\"\n",
    "):\n",
    "    \"\"\"The aggregated_time_step_column needs to be a column with integer values, such as year, month or day\"\"\"\n",
    "\n",
    "    split_timesteps = {}\n",
    "\n",
    "    split_timesteps[\"train\"] = list(range(last_train_time_step + 1))\n",
    "    split_timesteps[\"test\"] = list(range(last_train_time_step + 1, last_time_step + 1))\n",
    "\n",
    "    train_test_idx = {}\n",
    "    train_test_idx[\"train\"] = X[\n",
    "        X[aggregated_timestamp_column].isin(split_timesteps[\"train\"])\n",
    "    ].index\n",
    "    train_test_idx[\"test\"] = X[\n",
    "        X[aggregated_timestamp_column].isin(split_timesteps[\"test\"])\n",
    "    ].index\n",
    "\n",
    "    return train_test_idx"
   ]
  },
  {
   "cell_type": "code",
   "execution_count": null,
   "id": "de3194ea-aee3-45b0-bafa-0f1ecea921b7",
   "metadata": {},
   "outputs": [],
   "source": [
    "def combine_dataframes(df_classes, df_features, only_labeled=True):\n",
    "    df_combined = pd.merge(\n",
    "        df_features, df_classes, left_on=\"id\", right_on=\"txId\", how=\"left\"\n",
    "    )\n",
    "    if only_labeled == True:\n",
    "        df_combined = df_combined[df_combined[\"class\"] != 2].reset_index(drop=True)\n",
    "    df_combined.drop(columns=[\"txId\"], inplace=True)\n",
    "    return df_combined"
   ]
  },
  {
   "cell_type": "code",
   "execution_count": null,
   "id": "6b8ee4bc-6a20-452a-95c6-c58d1981c1b2",
   "metadata": {},
   "outputs": [],
   "source": [
    "def rename_classes(df_classes):\n",
    "    df_classes.replace({\"class\": {\"1\": 1, \"2\": 0, \"unknown\": 2}}, inplace=True)\n",
    "    return df_classes"
   ]
  },
  {
   "cell_type": "code",
   "execution_count": null,
   "id": "e3c378db-029c-40de-90f9-ecc5d07572d9",
   "metadata": {},
   "outputs": [],
   "source": [
    "def rename_features(df_features):\n",
    "    df_features.columns = (\n",
    "        [\"id\", \"time_step\"]\n",
    "        + [f\"trans_feat_{i}\" for i in range(93)]\n",
    "        + [f\"agg_feat_{i}\" for i in range(72)]\n",
    "    )\n",
    "    return df_features"
   ]
  },
  {
   "cell_type": "code",
   "execution_count": null,
   "id": "e178d2f1-3c8c-48ea-8382-7d654e83710a",
   "metadata": {},
   "outputs": [],
   "source": [
    "def import_elliptic_data_from_csvs():\n",
    "    df_classes = pd.read_csv(\n",
    "        os.path.join(ROOT_DIR, \"data/elliptic/dataset/elliptic_txs_classes.csv\")\n",
    "    )\n",
    "    df_edges = pd.read_csv(\n",
    "        os.path.join(ROOT_DIR, \"data/elliptic/dataset/elliptic_txs_edgelist.csv\")\n",
    "    )\n",
    "    df_features = pd.read_csv(\n",
    "        os.path.join(ROOT_DIR, \"data/elliptic/dataset/elliptic_txs_features.csv\"),\n",
    "        header=None,\n",
    "    )\n",
    "    return df_classes, df_edges, df_features"
   ]
  },
  {
   "cell_type": "code",
   "execution_count": null,
   "id": "7d39f5e0-4991-4a02-8a55-024839fa1bc9",
   "metadata": {},
   "outputs": [],
   "source": [
    "def load_elliptic_data(only_labeled=True, drop_node_id=True):\n",
    "    print(f'load_elliptic_data {only_labeled}')\n",
    "    df_classes, df_edges, df_features = import_elliptic_data_from_csvs()\n",
    "    df_features = rename_features(df_features)\n",
    "    df_classes = rename_classes(df_classes)\n",
    "    df_combined = combine_dataframes(df_classes, df_features, only_labeled)\n",
    "\n",
    "    if drop_node_id == True:\n",
    "        X = df_combined.drop(columns=[\"id\", \"class\"])\n",
    "    else:\n",
    "        X = df_combined.drop(columns=\"class\")\n",
    "\n",
    "    y = df_combined[\"class\"]\n",
    "\n",
    "    return X, y"
   ]
  },
  {
   "cell_type": "code",
   "execution_count": null,
   "id": "69296582-12eb-4289-b644-00d62c85beaf",
   "metadata": {},
   "outputs": [],
   "source": [
    "def run_elliptic_preprocessing_pipeline(\n",
    "    last_train_time_step, last_time_step, only_labeled=True, drop_node_id=True\n",
    "):\n",
    "    print(f'run_elliptic_preprocessing_pipeline {only_labeled}')\n",
    "    X, y = load_elliptic_data(only_labeled, drop_node_id)\n",
    "    train_test_idx = setup_train_test_idx(X, last_train_time_step, last_time_step)\n",
    "    X_train_df, X_test_df, y_train, y_test = train_test_split(X, y, train_test_idx)\n",
    "\n",
    "    return X_train_df, X_test_df, y_train, y_test"
   ]
  },
  {
   "cell_type": "code",
   "execution_count": null,
   "id": "99945a3d-3a46-4f2e-9af6-e993d6e0846d",
   "metadata": {},
   "outputs": [],
   "source": [
    "only_labeled = False\n",
    "\n",
    "X_train_df, X_test_df, y_train, y_test = run_elliptic_preprocessing_pipeline(\n",
    "    last_train_time_step=last_train_time_step,\n",
    "    last_time_step=last_time_step,\n",
    "    only_labeled=only_labeled,\n",
    ")"
   ]
  },
  {
   "cell_type": "code",
   "execution_count": null,
   "id": "320b48fe-5b44-4f07-a5b9-28cd0fc53656",
   "metadata": {},
   "outputs": [],
   "source": [
    "sizes = {\n",
    "    \"X Size\": len(X_train_df) + len(X_test_df),\n",
    "    \"y Size\": len(y_train) + len(y_test),\n",
    "    \"X_train Size\": len(X_train_df),\n",
    "    \"X_test Size\": len(X_test_df),\n",
    "    \"y_train Size\": len(y_train),\n",
    "    \"y_test Size\": len(y_test),\n",
    "    \"y_train Malicious Size\": len(np.where(y_train == 1)[0]),\n",
    "    \"y_train Bening Size\": len(np.where(y_train == 0)[0]),\n",
    "    \"y_test Malicious Size\": len(np.where(y_test == 1)[0]),\n",
    "    \"y_test Bening Size\": len(np.where(y_test == 0)[0]),\n",
    "}"
   ]
  },
  {
   "cell_type": "markdown",
   "id": "c93df502-d42d-41ee-8d7e-7a5e1aa4a5ec",
   "metadata": {
    "jp-MarkdownHeadingCollapsed": true
   },
   "source": [
    "## EFC Including Labeled and Non Labeled Samples"
   ]
  },
  {
   "cell_type": "code",
   "execution_count": null,
   "id": "7b0ba318-328f-4867-a6fe-524fbedbe275",
   "metadata": {},
   "outputs": [],
   "source": [
    "from efc import EnergyBasedFlowClassifier"
   ]
  },
  {
   "cell_type": "markdown",
   "id": "99476f66-1d01-463c-a7e9-783b1b519009",
   "metadata": {},
   "source": [
    "### Only Benign Samples"
   ]
  },
  {
   "cell_type": "code",
   "execution_count": null,
   "id": "1a26870f-c5eb-4514-8555-fb5f37c6a532",
   "metadata": {},
   "outputs": [],
   "source": [
    "idx_abnormal = np.where(y_train == 1)[0]  # find abnormal samples indexes in the training set"
   ]
  },
  {
   "cell_type": "code",
   "execution_count": null,
   "id": "e3a04936-f985-4c92-8583-98fe80df05fd",
   "metadata": {},
   "outputs": [],
   "source": [
    "X_train_df.drop(idx_abnormal, axis=0, inplace=True)  # remove abnormal samples from training (EFC trains with only benign instances)"
   ]
  },
  {
   "cell_type": "code",
   "execution_count": null,
   "id": "ea017c20-5987-47f8-b02f-2b50bb4a3796",
   "metadata": {},
   "outputs": [],
   "source": [
    "y_train.drop(idx_abnormal, axis=0, inplace=True)  # remove the corresponding abonrmal training targets"
   ]
  },
  {
   "cell_type": "code",
   "execution_count": null,
   "id": "7105b69a-c537-464e-912a-5d686e72d988",
   "metadata": {},
   "outputs": [],
   "source": [
    "sizes = {\n",
    "    \"X Size\": len(X_train_df) + len(X_test_df),\n",
    "    \"y Size\": len(y_train) + len(y_test),\n",
    "    \"X_train Size\": len(X_train_df),\n",
    "    \"X_test Size\": len(X_test_df),\n",
    "    \"y_train Size\": len(y_train),\n",
    "    \"y_test Size\": len(y_test),\n",
    "    \"y_train Malicious Size\": len(np.where(y_train == 1)[0]),\n",
    "    \"y_train Bening Size\": len(np.where(y_train == 0)[0]),\n",
    "    \"y_test Malicious Size\": len(np.where(y_test == 1)[0]),\n",
    "    \"y_test Bening Size\": len(np.where(y_test == 0)[0]),\n",
    "}"
   ]
  },
  {
   "cell_type": "code",
   "execution_count": null,
   "id": "9d7d66aa-3bf4-4349-b054-41605118e940",
   "metadata": {},
   "outputs": [],
   "source": [
    "sizes"
   ]
  },
  {
   "cell_type": "code",
   "execution_count": null,
   "id": "f3445e52-a4bf-407c-8b6c-a58fbe3da886",
   "metadata": {},
   "outputs": [],
   "source": [
    "df_sizes = pd.DataFrame(data=sizes, index=[0])"
   ]
  },
  {
   "cell_type": "code",
   "execution_count": null,
   "id": "07957641-bbe3-4acc-b021-8bef8b96c62a",
   "metadata": {},
   "outputs": [],
   "source": [
    "df_sizes"
   ]
  },
  {
   "cell_type": "code",
   "execution_count": null,
   "id": "d81a8a0c-39a3-4ebb-b2c1-22dedccb3fb7",
   "metadata": {},
   "outputs": [],
   "source": [
    "clf = EnergyBasedFlowClassifier(n_bins=10, cutoff_quantile=0.95)"
   ]
  },
  {
   "cell_type": "code",
   "execution_count": null,
   "id": "d9b0a995-be7b-45e8-b7fa-d1bfcdd6dd56",
   "metadata": {},
   "outputs": [],
   "source": [
    "clf.fit(X_train_df, y_train, base_class=0)"
   ]
  },
  {
   "cell_type": "code",
   "execution_count": null,
   "id": "36c7ce85-3f48-4549-9b2d-d0929249526e",
   "metadata": {},
   "outputs": [],
   "source": [
    "y_pred, y_energies = clf.predict(X_test_df, return_energies=True)"
   ]
  },
  {
   "cell_type": "code",
   "execution_count": null,
   "id": "4d81d630-ffd1-4ac0-88d1-454136e3ac69",
   "metadata": {},
   "outputs": [],
   "source": [
    "# ploting energies\n",
    "benign = np.where(y_test == 0)[0]\n",
    "malicious = np.where(y_test == 1)[0]\n",
    "\n",
    "benign_energies = y_energies[benign]\n",
    "malicious_energies = y_energies[malicious]\n",
    "cutoff = clf.estimators_[0].cutoff_\n",
    "\n",
    "bins = np.histogram(y_energies, bins=60)[1]\n",
    "\n",
    "plt.hist(\n",
    "    malicious_energies,\n",
    "    bins,\n",
    "    facecolor=\"#006680\",\n",
    "    alpha=0.7,\n",
    "    ec=\"white\",\n",
    "    linewidth=0.3,\n",
    "    label=\"malicious\",\n",
    ")\n",
    "plt.hist(\n",
    "    benign_energies,\n",
    "    bins,\n",
    "    facecolor=\"#b3b3b3\",\n",
    "    alpha=0.7,\n",
    "    ec=\"white\",\n",
    "    linewidth=0.3,\n",
    "    label=\"benign\",\n",
    ")\n",
    "plt.axvline(cutoff, color=\"r\", linestyle=\"dashed\", linewidth=1)\n",
    "plt.legend()\n",
    "\n",
    "plt.xlabel(\"Energy\", fontsize=12)\n",
    "plt.ylabel(\"Density\", fontsize=12)\n",
    "\n",
    "plt.show()"
   ]
  },
  {
   "cell_type": "code",
   "execution_count": null,
   "id": "857248c9-a905-42f7-8705-41b9930cb58c",
   "metadata": {},
   "outputs": [],
   "source": [
    "from sklearn.metrics import (\n",
    "    f1_score,\n",
    "    accuracy_score,\n",
    "    precision_score,\n",
    "    recall_score,\n",
    "    roc_auc_score,\n",
    ")"
   ]
  },
  {
   "cell_type": "code",
   "execution_count": null,
   "id": "aa63c61c-56a9-43cc-b0b0-435743db99d6",
   "metadata": {},
   "outputs": [],
   "source": [
    "def calculate_model_score(y_true, y_pred):\n",
    "    metric_dict = {\n",
    "        \"accuracy\": accuracy_score(y_true, y_pred),\n",
    "        \"f1\": f1_score(y_true, y_pred, average=\"weighted\"),\n",
    "        \"f1_micro\": f1_score(y_true, y_pred, average=\"micro\"),\n",
    "        \"f1_macro\": f1_score(y_true, y_pred, average=\"macro\"),\n",
    "        \"precision\": precision_score(y_true, y_pred, average=\"weighted\"),\n",
    "        \"recall\": recall_score(y_true, y_pred, average=\"weighted\"),\n",
    "    }\n",
    "    return metric_dict"
   ]
  },
  {
   "cell_type": "code",
   "execution_count": null,
   "id": "572de1eb-e20f-4b4a-acf7-98ab9b2c1c0b",
   "metadata": {},
   "outputs": [],
   "source": [
    "model_score = calculate_model_score(y_true=y_test.values, y_pred=y_pred)"
   ]
  },
  {
   "cell_type": "code",
   "execution_count": null,
   "id": "44324f5b-637f-4082-a709-328841730fb3",
   "metadata": {},
   "outputs": [],
   "source": [
    "model_score"
   ]
  },
  {
   "cell_type": "code",
   "execution_count": null,
   "id": "20e94ef1-9683-4a32-9dac-acfd4f9d824f",
   "metadata": {},
   "outputs": [],
   "source": [
    "df_efc_metrics = pd.DataFrame(data=model_score, index=[0])"
   ]
  },
  {
   "cell_type": "code",
   "execution_count": null,
   "id": "b41da69b-8ac5-4d1a-b028-9c0c2f0a2457",
   "metadata": {},
   "outputs": [],
   "source": [
    "df_efc_metrics"
   ]
  },
  {
   "cell_type": "markdown",
   "id": "14e9d81f-0899-4d75-9da9-1fa19ee620d6",
   "metadata": {},
   "source": [
    "### All Samples"
   ]
  },
  {
   "cell_type": "code",
   "execution_count": null,
   "id": "1edf9cf4-4fca-4b46-9c5b-1419fabd4a76",
   "metadata": {},
   "outputs": [],
   "source": [
    "X_train_df, X_test_df, y_train, y_test = run_elliptic_preprocessing_pipeline(\n",
    "    last_train_time_step=last_train_time_step,\n",
    "    last_time_step=last_time_step,\n",
    "    only_labeled=only_labeled,\n",
    ")"
   ]
  },
  {
   "cell_type": "code",
   "execution_count": null,
   "id": "988c40d6-1614-4169-80dc-af515c59c9c2",
   "metadata": {},
   "outputs": [],
   "source": [
    "X_train_df"
   ]
  },
  {
   "cell_type": "code",
   "execution_count": null,
   "id": "017e254e-4baa-4763-b547-cec654daee88",
   "metadata": {},
   "outputs": [],
   "source": [
    "sizes = {\n",
    "    \"X Size\": len(X_train_df) + len(X_test_df),\n",
    "    \"y Size\": len(y_train) + len(y_test),\n",
    "    \"X_train Size\": len(X_train_df),\n",
    "    \"X_test Size\": len(X_test_df),\n",
    "    \"y_train Size\": len(y_train),\n",
    "    \"y_test Size\": len(y_test),\n",
    "    \"y_train Malicious Size\": len(np.where(y_train == 1)[0]),\n",
    "    \"y_train Bening Size\": len(np.where(y_train == 0)[0]),\n",
    "    \"y_test Malicious Size\": len(np.where(y_test == 1)[0]),\n",
    "    \"y_test Bening Size\": len(np.where(y_test == 0)[0]),\n",
    "}"
   ]
  },
  {
   "cell_type": "code",
   "execution_count": null,
   "id": "c6bc7562-1206-4b00-8d60-f9e63cd818cd",
   "metadata": {},
   "outputs": [],
   "source": [
    "sizes"
   ]
  },
  {
   "cell_type": "code",
   "execution_count": null,
   "id": "156cdeca-6681-4e14-9470-7e5537a69239",
   "metadata": {},
   "outputs": [],
   "source": [
    "df_sizes.loc[1] = sizes"
   ]
  },
  {
   "cell_type": "code",
   "execution_count": null,
   "id": "9db74171-a41d-485c-9b2f-cda5166e4b74",
   "metadata": {},
   "outputs": [],
   "source": [
    "df_sizes"
   ]
  },
  {
   "cell_type": "code",
   "execution_count": null,
   "id": "35fe2e02-27ad-436a-806e-7218adb24456",
   "metadata": {},
   "outputs": [],
   "source": [
    "clf = EnergyBasedFlowClassifier(n_bins=10, cutoff_quantile=0.95)"
   ]
  },
  {
   "cell_type": "code",
   "execution_count": null,
   "id": "36217a39-b8c2-4ce9-be51-20f008d25892",
   "metadata": {},
   "outputs": [],
   "source": [
    "clf.fit(X_train_df, y_train, base_class=0)"
   ]
  },
  {
   "cell_type": "code",
   "execution_count": null,
   "id": "4544c478-55ed-4297-a503-1a0aa7ce17ff",
   "metadata": {},
   "outputs": [],
   "source": [
    "y_pred, y_energies = clf.predict(X_test_df, return_energies=True)"
   ]
  },
  {
   "cell_type": "code",
   "execution_count": null,
   "id": "063b7b9f-7cab-43fb-a8fc-41b3e3cb3f49",
   "metadata": {},
   "outputs": [],
   "source": [
    "# ploting energies\n",
    "benign = np.where(y_test == 0)[0]\n",
    "malicious = np.where(y_test == 1)[0]\n",
    "\n",
    "benign_energies = y_energies[benign]\n",
    "malicious_energies = y_energies[malicious]\n",
    "cutoff = clf.estimators_[0].cutoff_\n",
    "\n",
    "bins = np.histogram(y_energies, bins=60)[1]\n",
    "\n",
    "plt.hist(\n",
    "    malicious_energies,\n",
    "    bins,\n",
    "    facecolor=\"#006680\",\n",
    "    alpha=0.7,\n",
    "    ec=\"white\",\n",
    "    linewidth=0.3,\n",
    "    label=\"malicious\",\n",
    ")\n",
    "plt.hist(\n",
    "    benign_energies,\n",
    "    bins,\n",
    "    facecolor=\"#b3b3b3\",\n",
    "    alpha=0.7,\n",
    "    ec=\"white\",\n",
    "    linewidth=0.3,\n",
    "    label=\"benign\",\n",
    ")\n",
    "plt.axvline(cutoff, color=\"r\", linestyle=\"dashed\", linewidth=1)\n",
    "plt.legend()\n",
    "\n",
    "plt.xlabel(\"Energy\", fontsize=12)\n",
    "plt.ylabel(\"Density\", fontsize=12)\n",
    "\n",
    "plt.show()"
   ]
  },
  {
   "cell_type": "code",
   "execution_count": null,
   "id": "94cb5f74-72ae-41ca-8b55-11b9f0b5679d",
   "metadata": {},
   "outputs": [],
   "source": [
    "model_score_1 = calculate_model_score(y_true=y_test.values, y_pred=y_pred)"
   ]
  },
  {
   "cell_type": "code",
   "execution_count": null,
   "id": "371961b2-e528-4bfb-a121-fe3d06900300",
   "metadata": {},
   "outputs": [],
   "source": [
    "model_score_1"
   ]
  },
  {
   "cell_type": "code",
   "execution_count": null,
   "id": "43e913e4-6936-4c4d-8ec0-dcac80813cc4",
   "metadata": {},
   "outputs": [],
   "source": [
    "df_efc_metrics.loc[1] = model_score_1"
   ]
  },
  {
   "cell_type": "code",
   "execution_count": null,
   "id": "619b868e-8d4a-4a22-a8d9-7bad066e0a52",
   "metadata": {},
   "outputs": [],
   "source": [
    "df_efc_metrics"
   ]
  },
  {
   "cell_type": "code",
   "execution_count": null,
   "id": "0e3107a1-277d-4de6-ba45-d3bff36e5acc",
   "metadata": {},
   "outputs": [],
   "source": [
    "from IPython.core.display import display, HTML\n",
    "\n",
    "def display_side_by_side(dfs:list, captions:list):\n",
    "    \"\"\"Display tables side by side to save vertical space\n",
    "    Input:\n",
    "        dfs: list of pandas.DataFrame\n",
    "        captions: list of table captions\n",
    "    \"\"\"\n",
    "    output = \"\"\n",
    "    combined = dict(zip(captions, dfs))\n",
    "    for caption, df in combined.items():\n",
    "        output += df.style.set_table_attributes(\"style='display:inline'\").set_caption(caption)._repr_html_()\n",
    "        output += \"\\xa0\\xa0\\xa0\"\n",
    "    display(HTML(output))"
   ]
  },
  {
   "cell_type": "code",
   "execution_count": null,
   "id": "0bde5bad-8ed6-428f-9894-734ee5e7cd82",
   "metadata": {},
   "outputs": [],
   "source": [
    "display_side_by_side([df_sizes, df_efc_metrics], ['Sizes of X and Y, Benign and All Samples', 'Metrics'])"
   ]
  },
  {
   "cell_type": "markdown",
   "id": "21c83469-e1f6-4e6c-8caa-6d8a16b974bc",
   "metadata": {},
   "source": [
    "## EFC Including Only Labeled Samples"
   ]
  },
  {
   "cell_type": "markdown",
   "id": "2a6b814e-7804-4174-bef2-83118dacce61",
   "metadata": {
    "jp-MarkdownHeadingCollapsed": true
   },
   "source": [
    "### Only Benign Samples"
   ]
  },
  {
   "cell_type": "code",
   "execution_count": null,
   "id": "bbedb0a3-7c20-4d93-8ebb-96d0a957bc56",
   "metadata": {},
   "outputs": [],
   "source": [
    "only_labeled = True\n",
    "\n",
    "X_train_df, X_test_df, y_train, y_test = run_elliptic_preprocessing_pipeline(\n",
    "    last_train_time_step=last_train_time_step,\n",
    "    last_time_step=last_time_step,\n",
    "    only_labeled=only_labeled,\n",
    ")"
   ]
  },
  {
   "cell_type": "code",
   "execution_count": null,
   "id": "a8031c4d-9351-4cd7-9b5a-4d3f34682d31",
   "metadata": {},
   "outputs": [],
   "source": [
    "idx_abnormal = np.where(y_train == 1)[0]  # find abnormal samples indexes in the training set"
   ]
  },
  {
   "cell_type": "code",
   "execution_count": null,
   "id": "ee084079-874c-4386-a4c3-a7fe0fdb7a07",
   "metadata": {},
   "outputs": [],
   "source": [
    "X_train_df.drop(idx_abnormal, axis=0, inplace=True)  # remove abnormal samples from training (EFC trains with only benign instances)"
   ]
  },
  {
   "cell_type": "code",
   "execution_count": null,
   "id": "a7299d4b-cc0a-46b4-82db-33d37320c1ef",
   "metadata": {},
   "outputs": [],
   "source": [
    "y_train.drop(idx_abnormal, axis=0, inplace=True)  # remove the corresponding abonrmal training targets"
   ]
  },
  {
   "cell_type": "code",
   "execution_count": null,
   "id": "373cd0be-1819-409d-84d6-3c778dd9852e",
   "metadata": {},
   "outputs": [],
   "source": [
    "sizes = {\n",
    "    \"X Size\": len(X_train_df) + len(X_test_df),\n",
    "    \"y Size\": len(y_train) + len(y_test),\n",
    "    \"X_train Size\": len(X_train_df),\n",
    "    \"X_test Size\": len(X_test_df),\n",
    "    \"y_train Size\": len(y_train),\n",
    "    \"y_test Size\": len(y_test),\n",
    "    \"y_train Malicious Size\": len(np.where(y_train == 1)[0]),\n",
    "    \"y_train Bening Size\": len(np.where(y_train == 0)[0]),\n",
    "    \"y_test Malicious Size\": len(np.where(y_test == 1)[0]),\n",
    "    \"y_test Bening Size\": len(np.where(y_test == 0)[0]),\n",
    "}"
   ]
  },
  {
   "cell_type": "code",
   "execution_count": null,
   "id": "6caa02f4-13d3-4f34-8247-38b2a957f643",
   "metadata": {},
   "outputs": [],
   "source": [
    "df_sizes_1 = pd.DataFrame(data=sizes, index=[0])"
   ]
  },
  {
   "cell_type": "code",
   "execution_count": null,
   "id": "754e1482-6e2e-4e20-ae34-5791602f54dd",
   "metadata": {},
   "outputs": [],
   "source": [
    "df_sizes_1"
   ]
  },
  {
   "cell_type": "code",
   "execution_count": null,
   "id": "8c92c1d1-02be-4073-b322-c5e7fdb6b251",
   "metadata": {},
   "outputs": [],
   "source": [
    "clf = EnergyBasedFlowClassifier(n_bins=10, cutoff_quantile=0.95)"
   ]
  },
  {
   "cell_type": "code",
   "execution_count": null,
   "id": "0cb77670-7d3c-4b6a-b0fa-cc213cf159e3",
   "metadata": {},
   "outputs": [],
   "source": [
    "clf.fit(X_train_df, y_train, base_class=0)"
   ]
  },
  {
   "cell_type": "code",
   "execution_count": null,
   "id": "27d6e182-308e-4f17-a058-db95b928916e",
   "metadata": {},
   "outputs": [],
   "source": [
    "y_pred, y_energies = clf.predict(X_test_df, return_energies=True)"
   ]
  },
  {
   "cell_type": "code",
   "execution_count": null,
   "id": "6d636495-6f93-42c9-80d5-0300f7ba9f91",
   "metadata": {},
   "outputs": [],
   "source": [
    "# ploting energies\n",
    "benign = np.where(y_test == 0)[0]\n",
    "malicious = np.where(y_test == 1)[0]\n",
    "\n",
    "benign_energies = y_energies[benign]\n",
    "malicious_energies = y_energies[malicious]\n",
    "cutoff = clf.estimators_[0].cutoff_\n",
    "\n",
    "bins = np.histogram(y_energies, bins=60)[1]\n",
    "\n",
    "plt.hist(\n",
    "    malicious_energies,\n",
    "    bins,\n",
    "    facecolor=\"#006680\",\n",
    "    alpha=0.7,\n",
    "    ec=\"white\",\n",
    "    linewidth=0.3,\n",
    "    label=\"malicious\",\n",
    ")\n",
    "plt.hist(\n",
    "    benign_energies,\n",
    "    bins,\n",
    "    facecolor=\"#b3b3b3\",\n",
    "    alpha=0.7,\n",
    "    ec=\"white\",\n",
    "    linewidth=0.3,\n",
    "    label=\"benign\",\n",
    ")\n",
    "plt.axvline(cutoff, color=\"r\", linestyle=\"dashed\", linewidth=1)\n",
    "plt.legend()\n",
    "\n",
    "plt.xlabel(\"Energy\", fontsize=12)\n",
    "plt.ylabel(\"Density\", fontsize=12)\n",
    "\n",
    "plt.show()"
   ]
  },
  {
   "cell_type": "code",
   "execution_count": null,
   "id": "8c6352bd-732d-4890-8850-aef40fb3dc5f",
   "metadata": {},
   "outputs": [],
   "source": [
    "model_score_2 = calculate_model_score(y_true=y_test.values, y_pred=y_pred)"
   ]
  },
  {
   "cell_type": "code",
   "execution_count": null,
   "id": "e419db56-bcec-47e6-b95d-fb9a42743699",
   "metadata": {},
   "outputs": [],
   "source": [
    "model_score_2"
   ]
  },
  {
   "cell_type": "code",
   "execution_count": null,
   "id": "02042aff-75e2-495c-8d80-6b11d4b1e9fe",
   "metadata": {},
   "outputs": [],
   "source": [
    "df_efc_metrics_1 = pd.DataFrame(data=model_score_2, index=[0])"
   ]
  },
  {
   "cell_type": "code",
   "execution_count": null,
   "id": "f12f6854-df90-48e2-b707-8e026262068c",
   "metadata": {},
   "outputs": [],
   "source": [
    "df_efc_metrics_1"
   ]
  },
  {
   "cell_type": "markdown",
   "id": "29c244c6-510c-44d3-b63a-fbd99493b0c1",
   "metadata": {},
   "source": [
    "### All Samples"
   ]
  },
  {
   "cell_type": "code",
   "execution_count": null,
   "id": "4aa8434f-8b10-413e-90ec-b9499b34edc7",
   "metadata": {},
   "outputs": [],
   "source": [
    "only_labeled = True\n",
    "\n",
    "X_train_df, X_test_df, y_train, y_test = run_elliptic_preprocessing_pipeline(\n",
    "    last_train_time_step=last_train_time_step,\n",
    "    last_time_step=last_time_step,\n",
    "    only_labeled=only_labeled,\n",
    ")"
   ]
  },
  {
   "cell_type": "code",
   "execution_count": null,
   "id": "5397fe32-0280-4c42-b9f1-d484297b0760",
   "metadata": {},
   "outputs": [],
   "source": [
    "results_efc = 'results/efc'"
   ]
  },
  {
   "cell_type": "code",
   "execution_count": null,
   "id": "0d1f1789-3dd9-4dad-ab7a-395c195dcbd4",
   "metadata": {},
   "outputs": [],
   "source": [
    "sizes = {\n",
    "    \"X Size\": len(X_train_df) + len(X_test_df),\n",
    "    \"y Size\": len(y_train) + len(y_test),\n",
    "    \"X_train Size\": len(X_train_df),\n",
    "    \"X_test Size\": len(X_test_df),\n",
    "    \"y_train Size\": len(y_train),\n",
    "    \"y_test Size\": len(y_test),\n",
    "    \"y_train Malicious Size\": len(np.where(y_train == 1)[0]),\n",
    "    \"y_train Bening Size\": len(np.where(y_train == 0)[0]),\n",
    "    \"y_test Malicious Size\": len(np.where(y_test == 1)[0]),\n",
    "    \"y_test Bening Size\": len(np.where(y_test == 0)[0]),\n",
    "}"
   ]
  },
  {
   "cell_type": "code",
   "execution_count": null,
   "id": "f4856a87-5d37-4280-98c9-b454e5a22ff8",
   "metadata": {},
   "outputs": [],
   "source": [
    "df_sizes_1.loc[1] = sizes"
   ]
  },
  {
   "cell_type": "code",
   "execution_count": null,
   "id": "275fbf24-bdd6-471f-a2a3-f2de671ad2cb",
   "metadata": {},
   "outputs": [],
   "source": [
    "df_sizes_1"
   ]
  },
  {
   "cell_type": "code",
   "execution_count": null,
   "id": "7b4db1e9-6245-48e1-bb5c-fa25d15c6550",
   "metadata": {},
   "outputs": [],
   "source": [
    "clf = EnergyBasedFlowClassifier(n_bins=10, cutoff_quantile=0.95)"
   ]
  },
  {
   "cell_type": "code",
   "execution_count": null,
   "id": "96292c71-1d6a-4434-9a3c-1dfd4aab1a24",
   "metadata": {},
   "outputs": [],
   "source": [
    "clf.fit(X_train_df, y_train, base_class=0)"
   ]
  },
  {
   "cell_type": "code",
   "execution_count": null,
   "id": "db456a74-879e-4dcf-bf7c-45d5ecbb2920",
   "metadata": {},
   "outputs": [],
   "source": [
    "y_pred, y_energies = clf.predict(X_test_df, return_energies=True)"
   ]
  },
  {
   "cell_type": "code",
   "execution_count": null,
   "id": "4d1e1773-3e66-40c1-8294-593c8e5e4f59",
   "metadata": {},
   "outputs": [],
   "source": [
    "# ploting energies\n",
    "benign = np.where(y_test == 0)[0]\n",
    "malicious = np.where(y_test == 1)[0]\n",
    "\n",
    "benign_energies = y_energies[benign]\n",
    "malicious_energies = y_energies[malicious]\n",
    "cutoff = clf.estimators_[0].cutoff_\n",
    "\n",
    "bins = np.histogram(y_energies, bins=60)[1]\n",
    "\n",
    "plt.hist(\n",
    "    malicious_energies,\n",
    "    bins,\n",
    "    facecolor=\"#006680\",\n",
    "    alpha=0.7,\n",
    "    ec=\"white\",\n",
    "    linewidth=0.3,\n",
    "    label=\"malicious\",\n",
    ")\n",
    "plt.hist(\n",
    "    benign_energies,\n",
    "    bins,\n",
    "    facecolor=\"#b3b3b3\",\n",
    "    alpha=0.7,\n",
    "    ec=\"white\",\n",
    "    linewidth=0.3,\n",
    "    label=\"benign\",\n",
    ")\n",
    "plt.axvline(cutoff, color=\"r\", linestyle=\"dashed\", linewidth=1)\n",
    "plt.legend()\n",
    "\n",
    "plt.xlabel(\"Energy\", fontsize=12)\n",
    "plt.ylabel(\"Density\", fontsize=12)\n",
    "plt.savefig(f'{results_efc}/experiment_2/1_labeled_samples.png')"
   ]
  },
  {
   "cell_type": "code",
   "execution_count": null,
   "id": "5a61bab1-bb0c-4a9a-8dc6-7967b3d22040",
   "metadata": {},
   "outputs": [],
   "source": [
    "model_score_3 = calculate_model_score(y_true=y_test.values, y_pred=y_pred)"
   ]
  },
  {
   "cell_type": "code",
   "execution_count": null,
   "id": "5ada3d25-78d2-4fbb-b297-442b87720936",
   "metadata": {},
   "outputs": [],
   "source": [
    "df_efc_metrics_1.loc[1] = model_score_3"
   ]
  },
  {
   "cell_type": "code",
   "execution_count": null,
   "id": "ad37fc64-de62-4c83-afa0-1695a17f54a9",
   "metadata": {},
   "outputs": [],
   "source": [
    "df_efc_metrics_1"
   ]
  },
  {
   "cell_type": "code",
   "execution_count": null,
   "id": "a008325c-026b-4883-a615-6ce49639cc15",
   "metadata": {},
   "outputs": [],
   "source": [
    "display_side_by_side([pd.DataFrame(df_sizes_1.loc[1]).transpose(), pd.DataFrame(df_efc_metrics_1.loc[1]).transpose()], ['Sizes of X and Y, Only Labeled Samples', 'Metrics'])"
   ]
  },
  {
   "cell_type": "code",
   "execution_count": null,
   "id": "e463587a-9364-4755-b547-653306cd6323",
   "metadata": {},
   "outputs": [],
   "source": [
    "pd.DataFrame(df_sizes_1.loc[1]).transpose()"
   ]
  },
  {
   "cell_type": "code",
   "execution_count": null,
   "id": "125fed1a-822f-4386-8a48-6b91b6adb4cb",
   "metadata": {},
   "outputs": [],
   "source": [
    "pd.DataFrame(df_efc_metrics_1.loc[1]).transpose()"
   ]
  },
  {
   "cell_type": "markdown",
   "id": "32312df4-561f-4796-af3f-1e482e9038c0",
   "metadata": {
    "jp-MarkdownHeadingCollapsed": true
   },
   "source": [
    "### Network Packages Flow"
   ]
  },
  {
   "cell_type": "code",
   "execution_count": null,
   "id": "b48151ce-2866-4f99-87f0-43e5845f3233",
   "metadata": {},
   "outputs": [],
   "source": [
    "from sklearn.model_selection import train_test_split"
   ]
  },
  {
   "cell_type": "code",
   "execution_count": null,
   "id": "4276270c-0404-4c27-946a-325232d5d79f",
   "metadata": {},
   "outputs": [],
   "source": [
    "data = pd.read_csv('./cleaned_file.csv')"
   ]
  },
  {
   "cell_type": "code",
   "execution_count": null,
   "id": "fb7e2a47-f934-49aa-9810-021ddf2d1016",
   "metadata": {},
   "outputs": [],
   "source": [
    "data"
   ]
  },
  {
   "cell_type": "code",
   "execution_count": null,
   "id": "4c17fe96-ea57-4162-8d2d-32ed25f0d161",
   "metadata": {},
   "outputs": [],
   "source": [
    "# Select features and target variable\n",
    "X = data.drop(['hash','malicious'], axis=1)\n",
    "y = data['malicious']\n",
    "#z = data['hash']\n",
    "#z_list = z.values.tolist()\n",
    "y_list = y.values.tolist()"
   ]
  },
  {
   "cell_type": "code",
   "execution_count": null,
   "id": "d663fc08-7f45-4294-b58b-9bf5e3c7e8ad",
   "metadata": {},
   "outputs": [],
   "source": [
    "# spliting train and test sets\n",
    "X_train, X_test, y_train, y_test = train_test_split(\n",
    "    X, y, random_state=139, stratify=y, shuffle=True, test_size=0.3\n",
    ")"
   ]
  },
  {
   "cell_type": "code",
   "execution_count": null,
   "id": "95d73307-9202-4aab-81b3-f6cf4430e463",
   "metadata": {},
   "outputs": [],
   "source": [
    "clf = EnergyBasedFlowClassifier(n_bins=30, cutoff_quantile=0.95)"
   ]
  },
  {
   "cell_type": "code",
   "execution_count": null,
   "id": "af0d9069-940c-442f-9cbc-ab4277f6655f",
   "metadata": {},
   "outputs": [],
   "source": [
    "clf.fit(X_train, y_train, base_class=1)"
   ]
  },
  {
   "cell_type": "code",
   "execution_count": null,
   "id": "6c70b355-53a0-45c9-828b-6fe6a8093e24",
   "metadata": {},
   "outputs": [],
   "source": [
    "y_pred, y_energies = clf.predict(X_test, return_energies=True)"
   ]
  },
  {
   "cell_type": "code",
   "execution_count": null,
   "id": "0fcfe44b-0aed-4b37-9ba3-e4d7a4017186",
   "metadata": {},
   "outputs": [],
   "source": [
    "# ploting energies\n",
    "benign = np.where(y_test == 0)[0]\n",
    "malicious = np.where(y_test == 1)[0]\n",
    "\n",
    "benign_energies = y_energies[benign]\n",
    "malicious_energies = y_energies[malicious]\n",
    "cutoff = clf.estimators_[0].cutoff_\n",
    "\n",
    "bins = np.histogram(y_energies, bins=60)[1]\n",
    "\n",
    "plt.hist(\n",
    "    malicious_energies,\n",
    "    bins,\n",
    "    facecolor=\"#006680\",\n",
    "    alpha=0.7,\n",
    "    ec=\"white\",\n",
    "    linewidth=0.3,\n",
    "    label=\"malicious\",\n",
    ")\n",
    "plt.hist(\n",
    "    benign_energies,\n",
    "    bins,\n",
    "    facecolor=\"#b3b3b3\",\n",
    "    alpha=0.7,\n",
    "    ec=\"white\",\n",
    "    linewidth=0.3,\n",
    "    label=\"benign\",\n",
    ")\n",
    "plt.axvline(cutoff, color=\"r\", linestyle=\"dashed\", linewidth=1)\n",
    "plt.legend()\n",
    "\n",
    "plt.xlabel(\"Energy\", fontsize=12)\n",
    "plt.ylabel(\"Density\", fontsize=12)\n",
    "\n",
    "plt.show()"
   ]
  },
  {
   "cell_type": "code",
   "execution_count": null,
   "id": "8a13fc9a-c397-44da-a147-f00ab34ec20e",
   "metadata": {},
   "outputs": [],
   "source": [
    "metrics = calculate_model_score(y_true=y_test, y_pred=y_pred)"
   ]
  },
  {
   "cell_type": "code",
   "execution_count": null,
   "id": "6ed5d6b6-8471-4d5f-b552-7b9f87bf14d2",
   "metadata": {},
   "outputs": [],
   "source": [
    "metrics"
   ]
  },
  {
   "cell_type": "code",
   "execution_count": null,
   "id": "fbe36c7d-fe76-4d87-8847-6cbcbdc35772",
   "metadata": {},
   "outputs": [],
   "source": []
  },
  {
   "cell_type": "code",
   "execution_count": null,
   "id": "92b0193c-48fa-4da5-b41a-57268c90b430",
   "metadata": {},
   "outputs": [],
   "source": []
  },
  {
   "cell_type": "code",
   "execution_count": null,
   "id": "50cc4bb5-f26e-4fb5-9e53-ac5ddfd10b76",
   "metadata": {},
   "outputs": [],
   "source": [
    "# Select features and target variable\n",
    "X = data.drop(['hash','malicious'], axis=1)\n",
    "y = data['malicious']\n",
    "#z = data['hash']\n",
    "#z_list = z.values.tolist()\n",
    "y_list = y.values.tolist()"
   ]
  },
  {
   "cell_type": "code",
   "execution_count": null,
   "id": "7dc2119f-080f-4894-8508-5c79e04f11e7",
   "metadata": {},
   "outputs": [],
   "source": [
    "X_train, X_test, y_train, y_test = train_test_split(\n",
    "    X, y, random_state=139, stratify=y, shuffle=True, test_size=0.3\n",
    ")"
   ]
  },
  {
   "cell_type": "code",
   "execution_count": null,
   "id": "e1d0d60a-2536-4cc1-b719-c5e855410403",
   "metadata": {},
   "outputs": [],
   "source": [
    "idx_abnormal = np.where(y_train == 1.0)[0]  # find abnormal samples indexes in the training set"
   ]
  },
  {
   "cell_type": "code",
   "execution_count": null,
   "id": "9342dae9-655e-44f6-b3eb-34526f0a4b01",
   "metadata": {},
   "outputs": [],
   "source": [
    "idx_abnormal"
   ]
  },
  {
   "cell_type": "code",
   "execution_count": null,
   "id": "20da6034-2292-49af-872b-ce8e1e55b007",
   "metadata": {},
   "outputs": [],
   "source": [
    "X_train.drop(idx_abnormal, axis=0, inplace=True)  # remove abnormal samples from training (EFC trains with only benign instances)"
   ]
  },
  {
   "cell_type": "code",
   "execution_count": null,
   "id": "f803904e-34b3-4d60-ad34-b0f9c81df6bd",
   "metadata": {},
   "outputs": [],
   "source": [
    "y_train.drop(idx_abnormal, axis=0, inplace=True)  # remove the corresponding abonrmal training targets"
   ]
  },
  {
   "cell_type": "code",
   "execution_count": null,
   "id": "6d9b50cb-acd6-4fda-8ea2-6e2b7addc751",
   "metadata": {},
   "outputs": [],
   "source": [
    "y_train"
   ]
  },
  {
   "cell_type": "code",
   "execution_count": null,
   "id": "e2656c14-9f23-4069-99ac-a4e7a714329f",
   "metadata": {},
   "outputs": [],
   "source": [
    "clf = EnergyBasedFlowClassifier(n_bins=10, cutoff_quantile=0.95)"
   ]
  },
  {
   "cell_type": "code",
   "execution_count": null,
   "id": "9375d6bb-5d8a-4c46-a2bf-4835933b0c86",
   "metadata": {},
   "outputs": [],
   "source": [
    "clf.fit(X_train, y_train, base_class=1)"
   ]
  },
  {
   "cell_type": "code",
   "execution_count": null,
   "id": "0f3aaf94-867b-4bce-bdb5-f259552b10a3",
   "metadata": {},
   "outputs": [],
   "source": [
    "y_pred, y_energies = clf.predict(X_test, return_energies=True)"
   ]
  },
  {
   "cell_type": "code",
   "execution_count": null,
   "id": "89da6ce1-3edd-48c5-ae76-33b49bc88ea3",
   "metadata": {},
   "outputs": [],
   "source": [
    "# ploting energies\n",
    "benign = np.where(y_test == 0)[0]\n",
    "malicious = np.where(y_test == 1)[0]\n",
    "\n",
    "benign_energies = y_energies[benign]\n",
    "malicious_energies = y_energies[malicious]\n",
    "cutoff = clf.estimators_[0].cutoff_\n",
    "\n",
    "bins = np.histogram(y_energies, bins=60)[1]\n",
    "\n",
    "plt.hist(\n",
    "    malicious_energies,\n",
    "    bins,\n",
    "    facecolor=\"#006680\",\n",
    "    alpha=0.7,\n",
    "    ec=\"white\",\n",
    "    linewidth=0.3,\n",
    "    label=\"malicious\",\n",
    ")\n",
    "plt.hist(\n",
    "    benign_energies,\n",
    "    bins,\n",
    "    facecolor=\"#b3b3b3\",\n",
    "    alpha=0.7,\n",
    "    ec=\"white\",\n",
    "    linewidth=0.3,\n",
    "    label=\"benign\",\n",
    ")\n",
    "plt.axvline(cutoff, color=\"r\", linestyle=\"dashed\", linewidth=1)\n",
    "plt.legend()\n",
    "\n",
    "plt.xlabel(\"Energy\", fontsize=12)\n",
    "plt.ylabel(\"Density\", fontsize=12)\n",
    "\n",
    "plt.show()"
   ]
  },
  {
   "cell_type": "code",
   "execution_count": null,
   "id": "6d268caa-64c1-44c5-a4d2-be84d4495456",
   "metadata": {},
   "outputs": [],
   "source": [
    "metrics = calculate_model_score(y_true=y_test, y_pred=y_pred)"
   ]
  },
  {
   "cell_type": "code",
   "execution_count": null,
   "id": "c2d0378b-21f7-482e-b7fd-55fe0ef5e2b5",
   "metadata": {},
   "outputs": [],
   "source": [
    "metrics"
   ]
  },
  {
   "cell_type": "markdown",
   "id": "0d70659c-14cd-4151-8a80-d2f5389369ba",
   "metadata": {},
   "source": [
    "### Investigating f1_macro"
   ]
  },
  {
   "cell_type": "code",
   "execution_count": null,
   "id": "2cfa4ef4-097e-4f21-81d6-00d93013dc05",
   "metadata": {},
   "outputs": [],
   "source": [
    "f1_macro_weighted = f1_score(y_true=y_test.values, y_pred=y_pred, average=\"weighted\")"
   ]
  },
  {
   "cell_type": "code",
   "execution_count": null,
   "id": "ad976f87-5066-42e7-b476-97b6ca4e9bc7",
   "metadata": {},
   "outputs": [],
   "source": [
    "f1_macro_weighted"
   ]
  },
  {
   "cell_type": "code",
   "execution_count": null,
   "id": "38fc892c-8152-45ec-b26b-788aaa1a4462",
   "metadata": {},
   "outputs": [],
   "source": [
    "f1 = f1_score(y_true=y_test.values, y_pred=y_pred, average=\"weighted\")"
   ]
  },
  {
   "cell_type": "code",
   "execution_count": null,
   "id": "1f41bd75-600d-4157-8d71-c23fe2f8e89b",
   "metadata": {},
   "outputs": [],
   "source": [
    "f1"
   ]
  },
  {
   "cell_type": "code",
   "execution_count": null,
   "id": "ffb6364e-25a2-4b6e-83f3-156d6b654ad4",
   "metadata": {},
   "outputs": [],
   "source": [
    "f1_micro = f1_score(y_true=y_test.values, y_pred=y_pred, average=\"micro\")"
   ]
  },
  {
   "cell_type": "code",
   "execution_count": null,
   "id": "9e7be848-a7ad-4960-8bef-beb087eb80ac",
   "metadata": {},
   "outputs": [],
   "source": [
    "f1_micro"
   ]
  },
  {
   "cell_type": "code",
   "execution_count": null,
   "id": "713da02c-b3fd-489c-9388-2983aeff4694",
   "metadata": {},
   "outputs": [],
   "source": [
    "f1_macro = f1_score(y_true=y_test.values, y_pred=y_pred, average=\"macro\")"
   ]
  },
  {
   "cell_type": "code",
   "execution_count": null,
   "id": "534c9a66-873d-4ecf-b832-25d955d6c136",
   "metadata": {},
   "outputs": [],
   "source": [
    "f1_macro"
   ]
  },
  {
   "cell_type": "code",
   "execution_count": null,
   "id": "ed0380a5-9be9-48b6-a3b3-1f28a63275b9",
   "metadata": {},
   "outputs": [],
   "source": []
  }
 ],
 "metadata": {
  "kernelspec": {
   "display_name": "masters",
   "language": "python",
   "name": "masters"
  },
  "language_info": {
   "codemirror_mode": {
    "name": "ipython",
    "version": 3
   },
   "file_extension": ".py",
   "mimetype": "text/x-python",
   "name": "python",
   "nbconvert_exporter": "python",
   "pygments_lexer": "ipython3",
   "version": "3.12.1"
  }
 },
 "nbformat": 4,
 "nbformat_minor": 5
}
