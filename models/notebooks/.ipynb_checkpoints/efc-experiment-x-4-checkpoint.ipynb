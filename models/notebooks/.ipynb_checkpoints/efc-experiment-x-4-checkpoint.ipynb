{
 "cells": [
  {
   "cell_type": "markdown",
   "id": "c652b32d-e96f-4034-b7fd-76bf725503fc",
   "metadata": {},
   "source": [
    "# Unbalanced Dataset Techniques"
   ]
  },
  {
   "cell_type": "code",
   "execution_count": 1,
   "id": "d1be089d-1940-4e60-bc37-69ddd369f802",
   "metadata": {},
   "outputs": [
    {
     "ename": "ModuleNotFoundError",
     "evalue": "No module named 'unbalanced_techniques'",
     "output_type": "error",
     "traceback": [
      "\u001b[0;31m---------------------------------------------------------------------------\u001b[0m",
      "\u001b[0;31mModuleNotFoundError\u001b[0m                       Traceback (most recent call last)",
      "Cell \u001b[0;32mIn[1], line 1\u001b[0m\n\u001b[0;32m----> 1\u001b[0m \u001b[38;5;28;01mfrom\u001b[39;00m \u001b[38;5;21;01munbalanced_techniques\u001b[39;00m \u001b[38;5;28;01mimport\u001b[39;00m efc_baseline\n",
      "\u001b[0;31mModuleNotFoundError\u001b[0m: No module named 'unbalanced_techniques'"
     ]
    }
   ],
   "source": [
    "from unbalanced_techniques import efc_baseline"
   ]
  },
  {
   "cell_type": "code",
   "execution_count": null,
   "id": "4285231d-767f-49db-9b48-ab9faad8ecc8",
   "metadata": {},
   "outputs": [],
   "source": [
    "FIG_FOLDER = \"results/efc/experiment-x-4\""
   ]
  },
  {
   "cell_type": "code",
   "execution_count": null,
   "id": "fb0e884c-eb09-42a6-9dfb-521da5961932",
   "metadata": {},
   "outputs": [],
   "source": [
    "FIG_NAME = f\"{technique}/{figure}\""
   ]
  },
  {
   "cell_type": "markdown",
   "id": "4bab72e7-1f36-4e0e-a7d3-5cbffe3aa459",
   "metadata": {},
   "source": [
    "## Baseline: Unsupervised Elliptic Data Set With EFC"
   ]
  },
  {
   "cell_type": "code",
   "execution_count": null,
   "id": "691186f1-5e67-41c4-9ad3-41e94834e700",
   "metadata": {},
   "outputs": [],
   "source": [
    "efc_baseline"
   ]
  },
  {
   "cell_type": "code",
   "execution_count": null,
   "id": "e32e3997-7c18-4f4b-8470-a3c1f066595b",
   "metadata": {},
   "outputs": [],
   "source": [
    "df_efc_metrics = pd.DataFrame(data=metric_dict, columns=columns_metrics, index=[0])\n",
    "df_efc_metrics.insert(0, 'Technique', 'Unbalanced Dataset')\n",
    "df_efc_metrics"
   ]
  },
  {
   "cell_type": "code",
   "execution_count": null,
   "id": "4cd28ea4-4284-4fae-a1de-b48171bad730",
   "metadata": {},
   "outputs": [],
   "source": [
    "df_efc_confusion_matrix = pd.DataFrame(data=confusion_matrix_1,\n",
    "                                       columns=[\"Technique\", \"True Negative\", \"False positive\", \"False Negative\", \"True Positive\"],\n",
    "                                       index=[0]\n",
    ")"
   ]
  },
  {
   "cell_type": "code",
   "execution_count": null,
   "id": "57b00892-fde5-4cd0-807e-923ef4dea014",
   "metadata": {},
   "outputs": [],
   "source": []
  },
  {
   "cell_type": "code",
   "execution_count": null,
   "id": "e038ed2f-dce7-4cc5-944b-7bb21b9e8642",
   "metadata": {},
   "outputs": [],
   "source": []
  },
  {
   "cell_type": "code",
   "execution_count": null,
   "id": "55aa6024-55e9-4a08-a533-ae96da5f8ba3",
   "metadata": {},
   "outputs": [],
   "source": []
  },
  {
   "cell_type": "code",
   "execution_count": null,
   "id": "3cd7d937-56b9-4b64-9bc1-47186335fe29",
   "metadata": {},
   "outputs": [],
   "source": []
  }
 ],
 "metadata": {
  "kernelspec": {
   "display_name": "masters",
   "language": "python",
   "name": "masters"
  },
  "language_info": {
   "codemirror_mode": {
    "name": "ipython",
    "version": 3
   },
   "file_extension": ".py",
   "mimetype": "text/x-python",
   "name": "python",
   "nbconvert_exporter": "python",
   "pygments_lexer": "ipython3",
   "version": "3.12.1"
  }
 },
 "nbformat": 4,
 "nbformat_minor": 5
}
